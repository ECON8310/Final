{
 "cells": [
  {
   "cell_type": "code",
   "execution_count": 1,
   "metadata": {
    "state": "normal"
   },
   "outputs": [],
   "source": [
    "# Import our data, and separate our dependent variable\n",
    "import pandas as pd\n",
    "import numpy as np\n",
    "from sklearn.model_selection import train_test_split\n",
    "from sklearn.metrics import accuracy_score\n",
    "import patsy as pt\n",
    "data_path = r\".\\DATA\\pakistanClean.csv\"\n",
    "data = pd.read_csv(data_path)"
   ]
  },
  {
   "cell_type": "code",
   "execution_count": 2,
   "metadata": {},
   "outputs": [
    {
     "data": {
      "text/html": [
       "<div><div id=6e91219a-b8df-426f-bc7f-159e0be03752 style=\"display:none; background-color:#9D6CFF; color:white; width:200px; height:30px; padding-left:5px; border-radius:4px; flex-direction:row; justify-content:space-around; align-items:center;\" onmouseover=\"this.style.backgroundColor='#BA9BF8'\" onmouseout=\"this.style.backgroundColor='#9D6CFF'\" onclick=\"window.commands?.execute('create-mitosheet-from-dataframe-output');\">See Full Dataframe in Mito</div> <script> if (window.commands.hasCommand('create-mitosheet-from-dataframe-output')) document.getElementById('6e91219a-b8df-426f-bc7f-159e0be03752').style.display = 'flex' </script> <table border=\"1\" class=\"dataframe\">\n",
       "  <thead>\n",
       "    <tr style=\"text-align: right;\">\n",
       "      <th></th>\n",
       "      <th>Unnamed: 0</th>\n",
       "      <th>eventid</th>\n",
       "      <th>iyear</th>\n",
       "      <th>imonth</th>\n",
       "      <th>iday</th>\n",
       "      <th>region</th>\n",
       "      <th>region_txt</th>\n",
       "      <th>provstate</th>\n",
       "      <th>city</th>\n",
       "      <th>latitude</th>\n",
       "      <th>...</th>\n",
       "      <th>scite3</th>\n",
       "      <th>dbsource</th>\n",
       "      <th>INT_LOG</th>\n",
       "      <th>INT_IDEO</th>\n",
       "      <th>INT_MISC</th>\n",
       "      <th>INT_ANY</th>\n",
       "      <th>related</th>\n",
       "      <th>Date</th>\n",
       "      <th>Month</th>\n",
       "      <th>TTP</th>\n",
       "    </tr>\n",
       "  </thead>\n",
       "  <tbody>\n",
       "    <tr>\n",
       "      <th>0</th>\n",
       "      <td>1</td>\n",
       "      <td>200712030005</td>\n",
       "      <td>2007</td>\n",
       "      <td>12</td>\n",
       "      <td>3</td>\n",
       "      <td>6</td>\n",
       "      <td>South Asia</td>\n",
       "      <td>Balochistan</td>\n",
       "      <td>Qilla Abdullah district</td>\n",
       "      <td>30.803630</td>\n",
       "      <td>...</td>\n",
       "      <td>NaN</td>\n",
       "      <td>CETIS</td>\n",
       "      <td>-9</td>\n",
       "      <td>-9</td>\n",
       "      <td>0</td>\n",
       "      <td>-9</td>\n",
       "      <td>NaN</td>\n",
       "      <td>2007-12-03</td>\n",
       "      <td>Dec</td>\n",
       "      <td>NaN</td>\n",
       "    </tr>\n",
       "    <tr>\n",
       "      <th>1</th>\n",
       "      <td>2</td>\n",
       "      <td>200712040005</td>\n",
       "      <td>2007</td>\n",
       "      <td>12</td>\n",
       "      <td>4</td>\n",
       "      <td>6</td>\n",
       "      <td>South Asia</td>\n",
       "      <td>Khyber Pakhtunkhwa</td>\n",
       "      <td>Peshawar</td>\n",
       "      <td>34.006004</td>\n",
       "      <td>...</td>\n",
       "      <td>NaN</td>\n",
       "      <td>CETIS</td>\n",
       "      <td>-9</td>\n",
       "      <td>-9</td>\n",
       "      <td>0</td>\n",
       "      <td>-9</td>\n",
       "      <td>NaN</td>\n",
       "      <td>2007-12-04</td>\n",
       "      <td>Dec</td>\n",
       "      <td>NaN</td>\n",
       "    </tr>\n",
       "    <tr>\n",
       "      <th>2</th>\n",
       "      <td>3</td>\n",
       "      <td>200712060008</td>\n",
       "      <td>2007</td>\n",
       "      <td>12</td>\n",
       "      <td>6</td>\n",
       "      <td>6</td>\n",
       "      <td>South Asia</td>\n",
       "      <td>Balochistan</td>\n",
       "      <td>Dera Bugti</td>\n",
       "      <td>29.034412</td>\n",
       "      <td>...</td>\n",
       "      <td>NaN</td>\n",
       "      <td>CETIS</td>\n",
       "      <td>0</td>\n",
       "      <td>0</td>\n",
       "      <td>0</td>\n",
       "      <td>0</td>\n",
       "      <td>NaN</td>\n",
       "      <td>2007-12-06</td>\n",
       "      <td>Dec</td>\n",
       "      <td>0.0</td>\n",
       "    </tr>\n",
       "    <tr>\n",
       "      <th>3</th>\n",
       "      <td>4</td>\n",
       "      <td>200712080003</td>\n",
       "      <td>2007</td>\n",
       "      <td>12</td>\n",
       "      <td>8</td>\n",
       "      <td>6</td>\n",
       "      <td>South Asia</td>\n",
       "      <td>Balochistan</td>\n",
       "      <td>Khuzdar</td>\n",
       "      <td>27.809921</td>\n",
       "      <td>...</td>\n",
       "      <td>NaN</td>\n",
       "      <td>CETIS</td>\n",
       "      <td>-9</td>\n",
       "      <td>-9</td>\n",
       "      <td>0</td>\n",
       "      <td>-9</td>\n",
       "      <td>NaN</td>\n",
       "      <td>2007-12-08</td>\n",
       "      <td>Dec</td>\n",
       "      <td>NaN</td>\n",
       "    </tr>\n",
       "    <tr>\n",
       "      <th>4</th>\n",
       "      <td>5</td>\n",
       "      <td>200712090002</td>\n",
       "      <td>2007</td>\n",
       "      <td>12</td>\n",
       "      <td>9</td>\n",
       "      <td>6</td>\n",
       "      <td>South Asia</td>\n",
       "      <td>Balochistan</td>\n",
       "      <td>Nasirabad</td>\n",
       "      <td>28.458421</td>\n",
       "      <td>...</td>\n",
       "      <td>NaN</td>\n",
       "      <td>CETIS</td>\n",
       "      <td>-9</td>\n",
       "      <td>-9</td>\n",
       "      <td>0</td>\n",
       "      <td>-9</td>\n",
       "      <td>NaN</td>\n",
       "      <td>2007-12-09</td>\n",
       "      <td>Dec</td>\n",
       "      <td>NaN</td>\n",
       "    </tr>\n",
       "  </tbody>\n",
       "</table></div>"
      ],
      "text/plain": [
       "   Unnamed: 0       eventid  iyear  imonth  iday  region  region_txt  \\\n",
       "0           1  200712030005   2007      12     3       6  South Asia   \n",
       "1           2  200712040005   2007      12     4       6  South Asia   \n",
       "2           3  200712060008   2007      12     6       6  South Asia   \n",
       "3           4  200712080003   2007      12     8       6  South Asia   \n",
       "4           5  200712090002   2007      12     9       6  South Asia   \n",
       "\n",
       "            provstate                     city   latitude  ...  scite3  \\\n",
       "0         Balochistan  Qilla Abdullah district  30.803630  ...     NaN   \n",
       "1  Khyber Pakhtunkhwa                 Peshawar  34.006004  ...     NaN   \n",
       "2         Balochistan               Dera Bugti  29.034412  ...     NaN   \n",
       "3         Balochistan                  Khuzdar  27.809921  ...     NaN   \n",
       "4         Balochistan                Nasirabad  28.458421  ...     NaN   \n",
       "\n",
       "  dbsource INT_LOG  INT_IDEO  INT_MISC  INT_ANY  related        Date  Month  \\\n",
       "0    CETIS      -9        -9         0       -9      NaN  2007-12-03    Dec   \n",
       "1    CETIS      -9        -9         0       -9      NaN  2007-12-04    Dec   \n",
       "2    CETIS       0         0         0        0      NaN  2007-12-06    Dec   \n",
       "3    CETIS      -9        -9         0       -9      NaN  2007-12-08    Dec   \n",
       "4    CETIS      -9        -9         0       -9      NaN  2007-12-09    Dec   \n",
       "\n",
       "   TTP  \n",
       "0  NaN  \n",
       "1  NaN  \n",
       "2  0.0  \n",
       "3  NaN  \n",
       "4  NaN  \n",
       "\n",
       "[5 rows x 72 columns]"
      ]
     },
     "execution_count": 2,
     "metadata": {},
     "output_type": "execute_result"
    }
   ],
   "source": [
    "data.head()"
   ]
  },
  {
   "cell_type": "code",
   "execution_count": 3,
   "metadata": {},
   "outputs": [
    {
     "name": "stderr",
     "output_type": "stream",
     "text": [
      "Note: NumExpr detected 12 cores but \"NUMEXPR_MAX_THREADS\" not set, so enforcing safe limit of 8.\n",
      "NumExpr defaulting to 8 threads.\n",
      "<ipython-input-3-6b73c5ff7af5>:2: SettingWithCopyWarning: \n",
      "A value is trying to be set on a copy of a slice from a DataFrame.\n",
      "Try using .loc[row_indexer,col_indexer] = value instead\n",
      "\n",
      "See the caveats in the documentation: https://pandas.pydata.org/pandas-docs/stable/user_guide/indexing.html#returning-a-view-versus-a-copy\n",
      "  work_data['dMonth']= work_data.Month.astype('category').cat.codes\n"
     ]
    },
    {
     "data": {
      "text/html": [
       "<div><div id=65cf24a1-1e6f-4674-8b31-1409b2f0198d style=\"display:none; background-color:#9D6CFF; color:white; width:200px; height:30px; padding-left:5px; border-radius:4px; flex-direction:row; justify-content:space-around; align-items:center;\" onmouseover=\"this.style.backgroundColor='#BA9BF8'\" onmouseout=\"this.style.backgroundColor='#9D6CFF'\" onclick=\"window.commands?.execute('create-mitosheet-from-dataframe-output');\">See Full Dataframe in Mito</div> <script> if (window.commands.hasCommand('create-mitosheet-from-dataframe-output')) document.getElementById('65cf24a1-1e6f-4674-8b31-1409b2f0198d').style.display = 'flex' </script> <table border=\"1\" class=\"dataframe\">\n",
       "  <thead>\n",
       "    <tr style=\"text-align: right;\">\n",
       "      <th></th>\n",
       "      <th>Unnamed: 0</th>\n",
       "      <th>eventid</th>\n",
       "      <th>iyear</th>\n",
       "      <th>imonth</th>\n",
       "      <th>iday</th>\n",
       "      <th>region</th>\n",
       "      <th>region_txt</th>\n",
       "      <th>provstate</th>\n",
       "      <th>city</th>\n",
       "      <th>latitude</th>\n",
       "      <th>...</th>\n",
       "      <th>dbsource</th>\n",
       "      <th>INT_LOG</th>\n",
       "      <th>INT_IDEO</th>\n",
       "      <th>INT_MISC</th>\n",
       "      <th>INT_ANY</th>\n",
       "      <th>related</th>\n",
       "      <th>Date</th>\n",
       "      <th>Month</th>\n",
       "      <th>TTP</th>\n",
       "      <th>dMonth</th>\n",
       "    </tr>\n",
       "  </thead>\n",
       "  <tbody>\n",
       "    <tr>\n",
       "      <th>2</th>\n",
       "      <td>3</td>\n",
       "      <td>200712060008</td>\n",
       "      <td>2007</td>\n",
       "      <td>12</td>\n",
       "      <td>6</td>\n",
       "      <td>6</td>\n",
       "      <td>South Asia</td>\n",
       "      <td>Balochistan</td>\n",
       "      <td>Dera Bugti</td>\n",
       "      <td>29.034412</td>\n",
       "      <td>...</td>\n",
       "      <td>CETIS</td>\n",
       "      <td>0</td>\n",
       "      <td>0</td>\n",
       "      <td>0</td>\n",
       "      <td>0</td>\n",
       "      <td>NaN</td>\n",
       "      <td>2007-12-06</td>\n",
       "      <td>Dec</td>\n",
       "      <td>0.0</td>\n",
       "      <td>2</td>\n",
       "    </tr>\n",
       "    <tr>\n",
       "      <th>22</th>\n",
       "      <td>23</td>\n",
       "      <td>200712230005</td>\n",
       "      <td>2007</td>\n",
       "      <td>12</td>\n",
       "      <td>23</td>\n",
       "      <td>6</td>\n",
       "      <td>South Asia</td>\n",
       "      <td>Khyber Pakhtunkhwa</td>\n",
       "      <td>Mingora</td>\n",
       "      <td>34.774479</td>\n",
       "      <td>...</td>\n",
       "      <td>CETIS</td>\n",
       "      <td>0</td>\n",
       "      <td>0</td>\n",
       "      <td>0</td>\n",
       "      <td>0</td>\n",
       "      <td>NaN</td>\n",
       "      <td>2007-12-23</td>\n",
       "      <td>Dec</td>\n",
       "      <td>1.0</td>\n",
       "      <td>2</td>\n",
       "    </tr>\n",
       "    <tr>\n",
       "      <th>23</th>\n",
       "      <td>24</td>\n",
       "      <td>200712270001</td>\n",
       "      <td>2007</td>\n",
       "      <td>12</td>\n",
       "      <td>27</td>\n",
       "      <td>6</td>\n",
       "      <td>South Asia</td>\n",
       "      <td>Punjab</td>\n",
       "      <td>Rawalpindi</td>\n",
       "      <td>33.594013</td>\n",
       "      <td>...</td>\n",
       "      <td>CETIS</td>\n",
       "      <td>0</td>\n",
       "      <td>1</td>\n",
       "      <td>0</td>\n",
       "      <td>1</td>\n",
       "      <td>NaN</td>\n",
       "      <td>2007-12-27</td>\n",
       "      <td>Dec</td>\n",
       "      <td>0.0</td>\n",
       "      <td>2</td>\n",
       "    </tr>\n",
       "    <tr>\n",
       "      <th>24</th>\n",
       "      <td>25</td>\n",
       "      <td>200801010014</td>\n",
       "      <td>2008</td>\n",
       "      <td>1</td>\n",
       "      <td>1</td>\n",
       "      <td>6</td>\n",
       "      <td>South Asia</td>\n",
       "      <td>Federally Administered Tribal Areas</td>\n",
       "      <td>South Waziristan district</td>\n",
       "      <td>32.320237</td>\n",
       "      <td>...</td>\n",
       "      <td>CETIS</td>\n",
       "      <td>0</td>\n",
       "      <td>0</td>\n",
       "      <td>0</td>\n",
       "      <td>0</td>\n",
       "      <td>NaN</td>\n",
       "      <td>2008-01-01</td>\n",
       "      <td>Jan</td>\n",
       "      <td>1.0</td>\n",
       "      <td>4</td>\n",
       "    </tr>\n",
       "    <tr>\n",
       "      <th>25</th>\n",
       "      <td>26</td>\n",
       "      <td>200801050006</td>\n",
       "      <td>2008</td>\n",
       "      <td>1</td>\n",
       "      <td>5</td>\n",
       "      <td>6</td>\n",
       "      <td>South Asia</td>\n",
       "      <td>Federally Administered Tribal Areas</td>\n",
       "      <td>Jandola</td>\n",
       "      <td>32.333344</td>\n",
       "      <td>...</td>\n",
       "      <td>CETIS</td>\n",
       "      <td>0</td>\n",
       "      <td>0</td>\n",
       "      <td>0</td>\n",
       "      <td>0</td>\n",
       "      <td>NaN</td>\n",
       "      <td>2008-01-05</td>\n",
       "      <td>Jan</td>\n",
       "      <td>1.0</td>\n",
       "      <td>4</td>\n",
       "    </tr>\n",
       "  </tbody>\n",
       "</table></div>"
      ],
      "text/plain": [
       "    Unnamed: 0       eventid  iyear  imonth  iday  region  region_txt  \\\n",
       "2            3  200712060008   2007      12     6       6  South Asia   \n",
       "22          23  200712230005   2007      12    23       6  South Asia   \n",
       "23          24  200712270001   2007      12    27       6  South Asia   \n",
       "24          25  200801010014   2008       1     1       6  South Asia   \n",
       "25          26  200801050006   2008       1     5       6  South Asia   \n",
       "\n",
       "                              provstate                       city   latitude  \\\n",
       "2                           Balochistan                 Dera Bugti  29.034412   \n",
       "22                   Khyber Pakhtunkhwa                    Mingora  34.774479   \n",
       "23                               Punjab                 Rawalpindi  33.594013   \n",
       "24  Federally Administered Tribal Areas  South Waziristan district  32.320237   \n",
       "25  Federally Administered Tribal Areas                    Jandola  32.333344   \n",
       "\n",
       "    ...  dbsource INT_LOG INT_IDEO  INT_MISC  INT_ANY  related        Date  \\\n",
       "2   ...     CETIS       0        0         0        0      NaN  2007-12-06   \n",
       "22  ...     CETIS       0        0         0        0      NaN  2007-12-23   \n",
       "23  ...     CETIS       0        1         0        1      NaN  2007-12-27   \n",
       "24  ...     CETIS       0        0         0        0      NaN  2008-01-01   \n",
       "25  ...     CETIS       0        0         0        0      NaN  2008-01-05   \n",
       "\n",
       "   Month  TTP dMonth  \n",
       "2    Dec  0.0      2  \n",
       "22   Dec  1.0      2  \n",
       "23   Dec  0.0      2  \n",
       "24   Jan  1.0      4  \n",
       "25   Jan  1.0      4  \n",
       "\n",
       "[5 rows x 73 columns]"
      ]
     },
     "execution_count": 3,
     "metadata": {},
     "output_type": "execute_result"
    }
   ],
   "source": [
    "work_data = data[(data['TTP']==0) | (data['TTP'] ==1)]\n",
    "work_data['dMonth']= work_data.Month.astype('category').cat.codes\n",
    "work_data.head(5)"
   ]
  },
  {
   "cell_type": "code",
   "execution_count": 4,
   "metadata": {},
   "outputs": [],
   "source": [
    "test_data = data[pd.isna(data['TTP'])]"
   ]
  },
  {
   "cell_type": "code",
   "execution_count": 5,
   "metadata": {},
   "outputs": [],
   "source": [
    "# Create regression arrays\n",
    "Y, X = pt.dmatrices(\"TTP ~ C(iyear) + C(provstate) + multiple + success + suicide + attacktype1 + C(targtype1) + weaptype1 + weapsubtype1 + nkill + nkillus + nkillter + nwound + nwoundus + nwoundte + C(Month)\", data = work_data)\n",
    "#C(targsubtype1)\n",
    "#Began with - (\"TTP ~ C(iyear) + C(imonth) + C(provstate) + multiple + success + suicide + attacktype1 + C(targtype1) + C(targsubtype1) + weaptype1 + weapsubtype1 + nkill + nkillus + nkillter + nwound + nwoundus + nwoundte + Month\", data = work_data)\n",
    "\n",
    "    #removed targsubtype - increased accuracy from .799 to .809"
   ]
  },
  {
   "cell_type": "code",
   "execution_count": 6,
   "metadata": {},
   "outputs": [],
   "source": [
    "# Randomly create train and test data\n",
    "x, xt, y, yt = train_test_split(X, Y, test_size = 0.25,random_state=3)"
   ]
  },
  {
   "cell_type": "code",
   "execution_count": 7,
   "metadata": {},
   "outputs": [
    {
     "name": "stdout",
     "output_type": "stream",
     "text": [
      "\n",
      "Model accuracy is 0.809\n",
      "\n"
     ]
    }
   ],
   "source": [
    "# Import libraries, including the SVC classifier\n",
    "from sklearn.svm import SVC #support vector classifier\n",
    "\n",
    "y = np.ravel(y) # Reduce y to a 1-D array\n",
    "\n",
    "# Generate a model with a C value of 10.\n",
    "# C is our error penalty term.\n",
    "model = SVC(C=10, kernel='linear') # Linear, rbf, polynomial, and sigmoid kernels\n",
    "#kernel is how we dea with no linearities\n",
    "\n",
    "reg = model.fit(x, y) # Fit the mo del\n",
    "pred = reg.predict(xt) # Make predictions with test data\n",
    "print(\"\\nModel accuracy is %s\\n\" %\n",
    "      str(round(accuracy_score(pred, np.ravel(yt)), 3)))"
   ]
  },
  {
   "cell_type": "code",
   "execution_count": 8,
   "metadata": {
    "collapsed": false,
    "pycharm": {
     "name": "#%%\n"
    }
   },
   "outputs": [
    {
     "name": "stderr",
     "output_type": "stream",
     "text": [
      "<ipython-input-8-fc7fb0416aab>:2: SettingWithCopyWarning: \n",
      "A value is trying to be set on a copy of a slice from a DataFrame.\n",
      "Try using .loc[row_indexer,col_indexer] = value instead\n",
      "\n",
      "See the caveats in the documentation: https://pandas.pydata.org/pandas-docs/stable/user_guide/indexing.html#returning-a-view-versus-a-copy\n",
      "  test_data['TTP'] = 0\n"
     ]
    }
   ],
   "source": [
    "#model could not handle NAN values. Changed all values to 0 - representing not TTP attacks.\n",
    "test_data['TTP'] = 0"
   ]
  },
  {
   "cell_type": "code",
   "execution_count": 9,
   "metadata": {
    "collapsed": false,
    "pycharm": {
     "name": "#%%\n"
    }
   },
   "outputs": [],
   "source": [
    "pred_Y, pred_X = pt.dmatrices(\"TTP ~ C(iyear) + C(provstate) + multiple + success + suicide + attacktype1 + C(targtype1) + weaptype1 + weapsubtype1 + nkill + nkillus + nkillter + nwound + nwoundus + nwoundte + C(Month)\", data = test_data)\n",
    "#pred_X = test_data['TTP']"
   ]
  },
  {
   "cell_type": "code",
   "execution_count": 10,
   "metadata": {
    "collapsed": false,
    "pycharm": {
     "name": "#%%\n"
    }
   },
   "outputs": [
    {
     "data": {
      "text/plain": [
       "array([0., 1., 0., ..., 0., 1., 0.])"
      ]
     },
     "execution_count": 10,
     "metadata": {},
     "output_type": "execute_result"
    }
   ],
   "source": [
    "test_pred = reg.predict(pred_X)\n",
    "test_pred"
   ]
  },
  {
   "cell_type": "code",
   "execution_count": 11,
   "metadata": {
    "collapsed": false,
    "pycharm": {
     "name": "#%%\n"
    }
   },
   "outputs": [
    {
     "data": {
      "text/plain": [
       "0.5342545285647933"
      ]
     },
     "execution_count": 11,
     "metadata": {},
     "output_type": "execute_result"
    }
   ],
   "source": [
    "#pct TTP attacls\n",
    "TTP_attacks = test_pred.sum()/len(test_pred)\n",
    "TTP_attacks"
   ]
  },
  {
   "cell_type": "code",
   "execution_count": null,
   "metadata": {
    "collapsed": false,
    "pycharm": {
     "name": "#%%\n"
    }
   },
   "outputs": [],
   "source": []
  }
 ],
 "metadata": {
  "kernelspec": {
   "display_name": "Python 3",
   "language": "python",
   "name": "python3"
  },
  "language_info": {
   "codemirror_mode": {
    "name": "ipython",
    "version": 3
   },
   "file_extension": ".py",
   "mimetype": "text/x-python",
   "name": "python",
   "nbconvert_exporter": "python",
   "pygments_lexer": "ipython3",
   "version": "3.8.8"
  },
  "varInspector": {
   "cols": {
    "lenName": 16,
    "lenType": 16,
    "lenVar": 40
   },
   "kernels_config": {
    "python": {
     "delete_cmd_postfix": "",
     "delete_cmd_prefix": "del ",
     "library": "var_list.py",
     "varRefreshCmd": "print(var_dic_list())"
    },
    "r": {
     "delete_cmd_postfix": ") ",
     "delete_cmd_prefix": "rm(",
     "library": "var_list.r",
     "varRefreshCmd": "cat(var_dic_list()) "
    }
   },
   "types_to_exclude": [
    "module",
    "function",
    "builtin_function_or_method",
    "instance",
    "_Feature"
   ],
   "window_display": false
  }
 },
 "nbformat": 4,
 "nbformat_minor": 2
}
