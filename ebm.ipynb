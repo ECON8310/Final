{
 "cells": [
  {
   "cell_type": "code",
   "execution_count": 1,
   "metadata": {},
   "outputs": [],
   "source": [
    "import pandas as pd\n",
    "import numpy as np\n",
    "\n",
    "from sklearn.model_selection import train_test_split\n",
    "from sklearn.metrics import accuracy_score\n",
    "\n",
    "from interpret import show\n",
    "from interpret.glassbox import ExplainableBoostingClassifier\n"
   ]
  },
  {
   "cell_type": "markdown",
   "metadata": {},
   "source": [
    "### Data Prep"
   ]
  },
  {
   "cell_type": "code",
   "execution_count": 2,
   "metadata": {},
   "outputs": [],
   "source": [
    "data = pd.read_csv(\"./DATA/pakistanClean2.csv\")"
   ]
  },
  {
   "cell_type": "code",
   "execution_count": 3,
   "metadata": {},
   "outputs": [],
   "source": [
    "data.set_index('eventid', inplace=True)"
   ]
  },
  {
   "cell_type": "code",
   "execution_count": 4,
   "metadata": {},
   "outputs": [
    {
     "data": {
      "text/plain": [
       "Index(['iyear', 'iday', 'provstate', 'city', 'latitude', 'longitude',\n",
       "       'location', 'summary', 'multiple', 'success', 'suicide', 'attacktype1',\n",
       "       'attacktype1_txt', 'targtype1', 'targtype1_txt', 'targsubtype1',\n",
       "       'targsubtype1_txt', 'corp1', 'target1', 'gname', 'claimed', 'claimmode',\n",
       "       'claimmode_txt', 'weaptype1', 'weaptype1_txt', 'weapsubtype1',\n",
       "       'weapsubtype1_txt', 'nkill', 'nkillus', 'nkillter', 'nwound',\n",
       "       'nwoundus', 'nwoundte', 'Month', 'TTP', 'dayofweek'],\n",
       "      dtype='object')"
      ]
     },
     "execution_count": 4,
     "metadata": {},
     "output_type": "execute_result"
    }
   ],
   "source": [
    "data.columns"
   ]
  },
  {
   "cell_type": "code",
   "execution_count": 5,
   "metadata": {},
   "outputs": [],
   "source": [
    "exclude_cols = ['city','location','summary','attacktype1','targtype1','targsubtype1', 'corp1', 'target1', 'gname', 'claimed', 'claimmode',\n",
    "       'claimmode_txt','weaptype1','weapsubtype1']\n",
    "for col in exclude_cols:\n",
    "    del data[col]"
   ]
  },
  {
   "cell_type": "code",
   "execution_count": 6,
   "metadata": {},
   "outputs": [
    {
     "data": {
      "text/html": [
       "<div><div id=87ff484b-6dab-4ce6-9f0b-c7ed938455c7 style=\"display:none; background-color:#9D6CFF; color:white; width:200px; height:30px; padding-left:5px; border-radius:4px; flex-direction:row; justify-content:space-around; align-items:center;\" onmouseover=\"this.style.backgroundColor='#BA9BF8'\" onmouseout=\"this.style.backgroundColor='#9D6CFF'\" onclick=\"window.commands?.execute('create-mitosheet-from-dataframe-output');\">See Full Dataframe in Mito</div> <script> if (window.commands.hasCommand('create-mitosheet-from-dataframe-output')) document.getElementById('87ff484b-6dab-4ce6-9f0b-c7ed938455c7').style.display = 'flex' </script> <table border=\"1\" class=\"dataframe\">\n",
       "  <thead>\n",
       "    <tr style=\"text-align: right;\">\n",
       "      <th></th>\n",
       "      <th>iyear</th>\n",
       "      <th>iday</th>\n",
       "      <th>provstate</th>\n",
       "      <th>latitude</th>\n",
       "      <th>longitude</th>\n",
       "      <th>multiple</th>\n",
       "      <th>success</th>\n",
       "      <th>suicide</th>\n",
       "      <th>attacktype1_txt</th>\n",
       "      <th>targtype1_txt</th>\n",
       "      <th>...</th>\n",
       "      <th>weapsubtype1_txt</th>\n",
       "      <th>nkill</th>\n",
       "      <th>nkillus</th>\n",
       "      <th>nkillter</th>\n",
       "      <th>nwound</th>\n",
       "      <th>nwoundus</th>\n",
       "      <th>nwoundte</th>\n",
       "      <th>Month</th>\n",
       "      <th>TTP</th>\n",
       "      <th>dayofweek</th>\n",
       "    </tr>\n",
       "    <tr>\n",
       "      <th>eventid</th>\n",
       "      <th></th>\n",
       "      <th></th>\n",
       "      <th></th>\n",
       "      <th></th>\n",
       "      <th></th>\n",
       "      <th></th>\n",
       "      <th></th>\n",
       "      <th></th>\n",
       "      <th></th>\n",
       "      <th></th>\n",
       "      <th></th>\n",
       "      <th></th>\n",
       "      <th></th>\n",
       "      <th></th>\n",
       "      <th></th>\n",
       "      <th></th>\n",
       "      <th></th>\n",
       "      <th></th>\n",
       "      <th></th>\n",
       "      <th></th>\n",
       "      <th></th>\n",
       "    </tr>\n",
       "  </thead>\n",
       "  <tbody>\n",
       "    <tr>\n",
       "      <th>200712030005</th>\n",
       "      <td>2007</td>\n",
       "      <td>3</td>\n",
       "      <td>Balochistan</td>\n",
       "      <td>30.803630</td>\n",
       "      <td>66.711752</td>\n",
       "      <td>0</td>\n",
       "      <td>1</td>\n",
       "      <td>0</td>\n",
       "      <td>Bombing/Explosion</td>\n",
       "      <td>Educational Institution</td>\n",
       "      <td>...</td>\n",
       "      <td>Unknown Explosive Type</td>\n",
       "      <td>6.0</td>\n",
       "      <td>0.0</td>\n",
       "      <td>0.0</td>\n",
       "      <td>5.0</td>\n",
       "      <td>0.0</td>\n",
       "      <td>0.0</td>\n",
       "      <td>Dec</td>\n",
       "      <td>NaN</td>\n",
       "      <td>Monday</td>\n",
       "    </tr>\n",
       "    <tr>\n",
       "      <th>200712040005</th>\n",
       "      <td>2007</td>\n",
       "      <td>4</td>\n",
       "      <td>Khyber Pakhtunkhwa</td>\n",
       "      <td>34.006004</td>\n",
       "      <td>71.537430</td>\n",
       "      <td>0</td>\n",
       "      <td>1</td>\n",
       "      <td>1</td>\n",
       "      <td>Bombing/Explosion</td>\n",
       "      <td>Military</td>\n",
       "      <td>...</td>\n",
       "      <td>Suicide (carried bodily by human being)</td>\n",
       "      <td>1.0</td>\n",
       "      <td>0.0</td>\n",
       "      <td>1.0</td>\n",
       "      <td>0.0</td>\n",
       "      <td>0.0</td>\n",
       "      <td>0.0</td>\n",
       "      <td>Dec</td>\n",
       "      <td>NaN</td>\n",
       "      <td>Tuesday</td>\n",
       "    </tr>\n",
       "    <tr>\n",
       "      <th>200712060008</th>\n",
       "      <td>2007</td>\n",
       "      <td>6</td>\n",
       "      <td>Balochistan</td>\n",
       "      <td>29.034412</td>\n",
       "      <td>69.158661</td>\n",
       "      <td>0</td>\n",
       "      <td>1</td>\n",
       "      <td>0</td>\n",
       "      <td>Bombing/Explosion</td>\n",
       "      <td>Military</td>\n",
       "      <td>...</td>\n",
       "      <td>Remote Trigger</td>\n",
       "      <td>1.0</td>\n",
       "      <td>0.0</td>\n",
       "      <td>0.0</td>\n",
       "      <td>4.0</td>\n",
       "      <td>0.0</td>\n",
       "      <td>0.0</td>\n",
       "      <td>Dec</td>\n",
       "      <td>0.0</td>\n",
       "      <td>Thursday</td>\n",
       "    </tr>\n",
       "    <tr>\n",
       "      <th>200712080003</th>\n",
       "      <td>2007</td>\n",
       "      <td>8</td>\n",
       "      <td>Balochistan</td>\n",
       "      <td>27.809921</td>\n",
       "      <td>66.620956</td>\n",
       "      <td>0</td>\n",
       "      <td>0</td>\n",
       "      <td>0</td>\n",
       "      <td>Armed Assault</td>\n",
       "      <td>Police</td>\n",
       "      <td>...</td>\n",
       "      <td>Unknown Gun Type</td>\n",
       "      <td>0.0</td>\n",
       "      <td>0.0</td>\n",
       "      <td>0.0</td>\n",
       "      <td>0.0</td>\n",
       "      <td>0.0</td>\n",
       "      <td>0.0</td>\n",
       "      <td>Dec</td>\n",
       "      <td>NaN</td>\n",
       "      <td>Saturday</td>\n",
       "    </tr>\n",
       "    <tr>\n",
       "      <th>200712090002</th>\n",
       "      <td>2007</td>\n",
       "      <td>9</td>\n",
       "      <td>Balochistan</td>\n",
       "      <td>28.458421</td>\n",
       "      <td>68.133223</td>\n",
       "      <td>0</td>\n",
       "      <td>1</td>\n",
       "      <td>0</td>\n",
       "      <td>Armed Assault</td>\n",
       "      <td>Violent Political Party</td>\n",
       "      <td>...</td>\n",
       "      <td>Unknown Gun Type</td>\n",
       "      <td>4.0</td>\n",
       "      <td>0.0</td>\n",
       "      <td>0.0</td>\n",
       "      <td>1.0</td>\n",
       "      <td>0.0</td>\n",
       "      <td>0.0</td>\n",
       "      <td>Dec</td>\n",
       "      <td>NaN</td>\n",
       "      <td>Sunday</td>\n",
       "    </tr>\n",
       "  </tbody>\n",
       "</table></div>"
      ],
      "text/plain": [
       "              iyear  iday           provstate   latitude  longitude  multiple  \\\n",
       "eventid                                                                         \n",
       "200712030005   2007     3         Balochistan  30.803630  66.711752         0   \n",
       "200712040005   2007     4  Khyber Pakhtunkhwa  34.006004  71.537430         0   \n",
       "200712060008   2007     6         Balochistan  29.034412  69.158661         0   \n",
       "200712080003   2007     8         Balochistan  27.809921  66.620956         0   \n",
       "200712090002   2007     9         Balochistan  28.458421  68.133223         0   \n",
       "\n",
       "              success  suicide    attacktype1_txt            targtype1_txt  \\\n",
       "eventid                                                                      \n",
       "200712030005        1        0  Bombing/Explosion  Educational Institution   \n",
       "200712040005        1        1  Bombing/Explosion                 Military   \n",
       "200712060008        1        0  Bombing/Explosion                 Military   \n",
       "200712080003        0        0      Armed Assault                   Police   \n",
       "200712090002        1        0      Armed Assault  Violent Political Party   \n",
       "\n",
       "              ...                         weapsubtype1_txt nkill nkillus  \\\n",
       "eventid       ...                                                          \n",
       "200712030005  ...                   Unknown Explosive Type   6.0     0.0   \n",
       "200712040005  ...  Suicide (carried bodily by human being)   1.0     0.0   \n",
       "200712060008  ...                           Remote Trigger   1.0     0.0   \n",
       "200712080003  ...                         Unknown Gun Type   0.0     0.0   \n",
       "200712090002  ...                         Unknown Gun Type   4.0     0.0   \n",
       "\n",
       "              nkillter  nwound  nwoundus  nwoundte  Month  TTP dayofweek  \n",
       "eventid                                                                   \n",
       "200712030005       0.0     5.0       0.0       0.0    Dec  NaN    Monday  \n",
       "200712040005       1.0     0.0       0.0       0.0    Dec  NaN   Tuesday  \n",
       "200712060008       0.0     4.0       0.0       0.0    Dec  0.0  Thursday  \n",
       "200712080003       0.0     0.0       0.0       0.0    Dec  NaN  Saturday  \n",
       "200712090002       0.0     1.0       0.0       0.0    Dec  NaN    Sunday  \n",
       "\n",
       "[5 rows x 22 columns]"
      ]
     },
     "execution_count": 6,
     "metadata": {},
     "output_type": "execute_result"
    }
   ],
   "source": [
    "data.head()"
   ]
  },
  {
   "cell_type": "code",
   "execution_count": 7,
   "metadata": {},
   "outputs": [
    {
     "name": "stderr",
     "output_type": "stream",
     "text": [
      "Note: NumExpr detected 12 cores but \"NUMEXPR_MAX_THREADS\" not set, so enforcing safe limit of 8.\n",
      "NumExpr defaulting to 8 threads.\n"
     ]
    }
   ],
   "source": [
    "train_data = data[(data['TTP']==0) | (data['TTP'] ==1)].copy()\n",
    "test_data = data[pd.isna(data['TTP'])].copy()\n",
    "del test_data['TTP']"
   ]
  },
  {
   "cell_type": "code",
   "execution_count": 8,
   "metadata": {},
   "outputs": [],
   "source": [
    "train_data.fillna(0, inplace=True)\n",
    "test_data.fillna(0, inplace=True)"
   ]
  },
  {
   "cell_type": "code",
   "execution_count": 9,
   "metadata": {},
   "outputs": [],
   "source": [
    "ycol = 'TTP'\n",
    "X_data = train_data[[col for col in train_data.columns if col != 'TTP']]\n",
    "y_data = train_data[ycol]"
   ]
  },
  {
   "cell_type": "code",
   "execution_count": 10,
   "metadata": {},
   "outputs": [],
   "source": [
    "# killwoundratios = []\n",
    "# for row in X_data.itertuples():\n",
    "#     nk = row.nkill\n",
    "#     nw = row.nwound\n",
    "#     if nw == 0:\n",
    "#         if nk > 0:\n",
    "#             rat = 10\n",
    "#         else:\n",
    "#             rat = 0\n",
    "#     else:\n",
    "#         rat = min(nk / nw, 10)\n",
    "    \n",
    "#     killwoundratios.append(rat)\n",
    "# X_data['killwoundratio'] = killwoundratios"
   ]
  },
  {
   "cell_type": "code",
   "execution_count": 11,
   "metadata": {},
   "outputs": [],
   "source": [
    "## Training/test creation\n",
    "X_train, X_test, y_train, y_test = train_test_split(X_data, y_data, test_size = 0.25, random_state=35)"
   ]
  },
  {
   "cell_type": "markdown",
   "metadata": {},
   "source": [
    "### Model"
   ]
  },
  {
   "cell_type": "code",
   "execution_count": 12,
   "metadata": {},
   "outputs": [
    {
     "name": "stderr",
     "output_type": "stream",
     "text": [
      "EBM lib loading.\n",
      "Loading native on win32 | debug = False\n",
      "Passing a numpy array to schema autogen when it should be dataframe.\n",
      "Passing a numpy array to schema autogen when it should be dataframe.\n"
     ]
    },
    {
     "data": {
      "text/plain": [
       "ExplainableBoostingClassifier(feature_names=['iyear', 'iday', 'provstate',\n",
       "                                             'latitude', 'longitude',\n",
       "                                             'multiple', 'success', 'suicide',\n",
       "                                             'attacktype1_txt', 'targtype1_txt',\n",
       "                                             'targsubtype1_txt',\n",
       "                                             'weaptype1_txt',\n",
       "                                             'weapsubtype1_txt', 'nkill',\n",
       "                                             'nkillus', 'nkillter', 'nwound',\n",
       "                                             'nwoundus', 'nwoundte', 'Month',\n",
       "                                             'dayofweek', 'iyear x provstate',\n",
       "                                             'iyear x latitude',\n",
       "                                             'latitude x Month',\n",
       "                                             'lat...\n",
       "                                             'categorical', 'categorical',\n",
       "                                             'categorical', 'categorical',\n",
       "                                             'categorical', 'categorical',\n",
       "                                             'categorical', 'continuous',\n",
       "                                             'categorical', 'continuous',\n",
       "                                             'continuous', 'continuous',\n",
       "                                             'continuous', 'categorical',\n",
       "                                             'categorical', 'interaction',\n",
       "                                             'interaction', 'interaction',\n",
       "                                             'interaction', 'interaction',\n",
       "                                             'interaction', 'interaction',\n",
       "                                             'interaction', 'interaction', ...],\n",
       "                              min_samples_leaf=7)"
      ]
     },
     "execution_count": 12,
     "metadata": {},
     "output_type": "execute_result"
    }
   ],
   "source": [
    "model = ExplainableBoostingClassifier(min_samples_leaf=7)\n",
    "model.fit(X_train, y_train)"
   ]
  },
  {
   "cell_type": "markdown",
   "metadata": {},
   "source": [
    "### Generate predictions and evaluate"
   ]
  },
  {
   "cell_type": "code",
   "execution_count": 13,
   "metadata": {},
   "outputs": [],
   "source": [
    "y_preds = model.predict(X_test)"
   ]
  },
  {
   "cell_type": "code",
   "execution_count": 14,
   "metadata": {},
   "outputs": [
    {
     "name": "stdout",
     "output_type": "stream",
     "text": [
      "Accuracy: 0.8201811125485123\n"
     ]
    }
   ],
   "source": [
    "print(f\"Accuracy: {accuracy_score(y_test, y_preds)}\")"
   ]
  },
  {
   "cell_type": "code",
   "execution_count": 15,
   "metadata": {},
   "outputs": [
    {
     "name": "stdout",
     "output_type": "stream",
     "text": [
      "Predict 0 accuracy: 0.553686934023286\n"
     ]
    }
   ],
   "source": [
    "print(f\"Predict 0 accuracy: {accuracy_score(y_test, [0 for _ in range(len(y_preds))])}\")"
   ]
  },
  {
   "cell_type": "markdown",
   "metadata": {},
   "source": [
    "### Explain model and predictions"
   ]
  },
  {
   "cell_type": "code",
   "execution_count": 16,
   "metadata": {},
   "outputs": [
    {
     "name": "stderr",
     "output_type": "stream",
     "text": [
      "Detected non-cloud environment.\n",
      "C:\\Users\\thejj\\anaconda3\\lib\\site-packages\\interpret\\visual\\udash.py:5: UserWarning: \n",
      "The dash_html_components package is deprecated. Please replace\n",
      "`import dash_html_components as html` with `from dash import html`\n",
      "  import dash_html_components as html\n",
      "C:\\Users\\thejj\\anaconda3\\lib\\site-packages\\interpret\\visual\\udash.py:6: UserWarning: \n",
      "The dash_core_components package is deprecated. Please replace\n",
      "`import dash_core_components as dcc` with `from dash import dcc`\n",
      "  import dash_core_components as dcc\n",
      "C:\\Users\\thejj\\anaconda3\\lib\\site-packages\\interpret\\visual\\udash.py:7: UserWarning: \n",
      "The dash_table package is deprecated. Please replace\n",
      "`import dash_table` with `from dash import dash_table`\n",
      "\n",
      "Also, if you're using any of the table format helpers (e.g. Group), replace \n",
      "`from dash_table.Format import Group` with \n",
      "`from dash.dash_table.Format import Group`\n",
      "  import dash_table as dt\n",
      "Generating mini dash\n"
     ]
    },
    {
     "data": {
      "text/html": [
       "<!-- http://127.0.0.1:7227/2887979595568/ -->\n",
       "<iframe src=\"http://127.0.0.1:7227/2887979595568/\" width=100% height=800 frameBorder=\"0\"></iframe>"
      ]
     },
     "metadata": {},
     "output_type": "display_data"
    },
    {
     "name": "stderr",
     "output_type": "stream",
     "text": [
      "Generated mini dash\n"
     ]
    }
   ],
   "source": [
    "ebm_global = model.explain_global()\n",
    "show(ebm_global)"
   ]
  },
  {
   "cell_type": "code",
   "execution_count": 17,
   "metadata": {},
   "outputs": [
    {
     "name": "stderr",
     "output_type": "stream",
     "text": [
      "Generating mini dash\n",
      "Generated mini dash\n"
     ]
    },
    {
     "data": {
      "text/html": [
       "<!-- http://127.0.0.1:7227/2888018733616/ -->\n",
       "<iframe src=\"http://127.0.0.1:7227/2888018733616/\" width=100% height=800 frameBorder=\"0\"></iframe>"
      ]
     },
     "metadata": {},
     "output_type": "display_data"
    },
    {
     "name": "stderr",
     "output_type": "stream",
     "text": [
      "No overall plot to display: -1|ExplainableBoostingClassifier_1\n"
     ]
    }
   ],
   "source": [
    "ebm_local = model.explain_local(X_test[:10], y_test[:10])\n",
    "show(ebm_local)"
   ]
  },
  {
   "cell_type": "code",
   "execution_count": null,
   "metadata": {},
   "outputs": [],
   "source": []
  }
 ],
 "metadata": {
  "interpreter": {
   "hash": "456d2a7118d35350561e2a2cece57887a28d81f04d055278ed4a029d882f7171"
  },
  "kernelspec": {
   "display_name": "Python 3.8.8 64-bit ('base': conda)",
   "language": "python",
   "name": "python3"
  },
  "language_info": {
   "codemirror_mode": {
    "name": "ipython",
    "version": 3
   },
   "file_extension": ".py",
   "mimetype": "text/x-python",
   "name": "python",
   "nbconvert_exporter": "python",
   "pygments_lexer": "ipython3",
   "version": "3.8.8"
  },
  "orig_nbformat": 4
 },
 "nbformat": 4,
 "nbformat_minor": 2
}
