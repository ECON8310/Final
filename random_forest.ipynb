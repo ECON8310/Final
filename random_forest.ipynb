{
 "cells": [
  {
   "cell_type": "code",
   "execution_count": 29,
   "metadata": {},
   "outputs": [],
   "source": [
    "import pandas as pd\n",
    "import numpy as np\n",
    "\n",
    "import patsy as pt\n",
    "from sklearn.model_selection import train_test_split\n",
    "from sklearn.metrics import accuracy_score\n",
    "from sklearn.ensemble import RandomForestClassifier\n",
    "\n",
    "import plotly.express as px\n",
    "\n",
    "from interpret import show\n",
    "from interpret.blackbox import ShapKernel, PartialDependence\n",
    "\n"
   ]
  },
  {
   "cell_type": "markdown",
   "metadata": {},
   "source": [
    "### Data Prep"
   ]
  },
  {
   "cell_type": "code",
   "execution_count": 30,
   "metadata": {},
   "outputs": [],
   "source": [
    "data = pd.read_csv('./DATA/pakistanClean2.csv')"
   ]
  },
  {
   "cell_type": "code",
   "execution_count": 31,
   "metadata": {},
   "outputs": [],
   "source": [
    "#valid_train_Values = ['0','1']\n",
    "#work_data = data[data.TTP.isin(valid_train_Values)] \n",
    "work_data = data[(data['TTP']==0) | (data['TTP'] ==1)].copy()\n",
    "test_data = data[pd.isna(data['TTP'])].copy()\n",
    "work_data = work_data.fillna(-99)"
   ]
  },
  {
   "cell_type": "code",
   "execution_count": 32,
   "metadata": {},
   "outputs": [],
   "source": [
    "# Create regression arrays\n",
    "Y, X = pt.dmatrices(\"TTP ~ C(iyear) + C(provstate) + multiple + success + suicide + C(attacktype1_txt) + C(targtype1_txt) + C(targsubtype1_txt) + C(weaptype1_txt) + C(weapsubtype1_txt) + nkill + nkillus + nkillter + nwound + nwoundus + nwoundte + C(Month)\", data = work_data, return_type='dataframe')"
   ]
  },
  {
   "cell_type": "code",
   "execution_count": 33,
   "metadata": {},
   "outputs": [],
   "source": [
    "names = X.columns\n",
    "names = [i.replace('[', '').replace(']', '').replace(' ', '').replace(',', '') for i in names]"
   ]
  },
  {
   "cell_type": "code",
   "execution_count": 34,
   "metadata": {},
   "outputs": [],
   "source": [
    "# Randomly create train and test data\n",
    "x, xt, y, yt = train_test_split(X, Y, test_size = 0.25,random_state=35)"
   ]
  },
  {
   "cell_type": "markdown",
   "metadata": {},
   "source": [
    "### Model"
   ]
  },
  {
   "cell_type": "code",
   "execution_count": 35,
   "metadata": {},
   "outputs": [
    {
     "name": "stderr",
     "output_type": "stream",
     "text": [
      "A column-vector y was passed when a 1d array was expected. Please change the shape of y to (n_samples,), for example using ravel().\n"
     ]
    }
   ],
   "source": [
    "# Generate the random forest model\n",
    "writingForest = RandomForestClassifier(n_estimators=110, n_jobs = -1, random_state=35)\n",
    "# Fit the model to the training data\n",
    "fclf = writingForest.fit(x, y)"
   ]
  },
  {
   "cell_type": "markdown",
   "metadata": {},
   "source": [
    "### Generate predictions and evaluate"
   ]
  },
  {
   "cell_type": "code",
   "execution_count": 36,
   "metadata": {},
   "outputs": [
    {
     "name": "stdout",
     "output_type": "stream",
     "text": [
      "The random forest has an accuracy of : 0.8240620957309185\n",
      "\n"
     ]
    }
   ],
   "source": [
    "# Make predictions\n",
    "fpred = fclf.predict(xt)\n",
    "# Print the accuracy score of the fitted model\n",
    "print(\"The random forest has an accuracy of : %s\\n\" % str(accuracy_score(fpred, yt)))"
   ]
  },
  {
   "cell_type": "markdown",
   "metadata": {},
   "source": [
    "### Explain model"
   ]
  },
  {
   "cell_type": "markdown",
   "metadata": {},
   "source": [
    "#### Feature importances"
   ]
  },
  {
   "cell_type": "code",
   "execution_count": 37,
   "metadata": {},
   "outputs": [],
   "source": [
    "imp_df = pd.DataFrame({'Feature':names,'Importance':fclf.feature_importances_})\n",
    "imp_df.sort_values(by='Importance', ascending=False, inplace=True)"
   ]
  },
  {
   "cell_type": "code",
   "execution_count": 38,
   "metadata": {},
   "outputs": [
    {
     "data": {
      "application/vnd.plotly.v1+json": {
       "config": {
        "plotlyServerURL": "https://plot.ly"
       },
       "data": [
        {
         "alignmentgroup": "True",
         "hovertemplate": "Importance=%{x}<br>Feature=%{y}<extra></extra>",
         "legendgroup": "",
         "marker": {
          "color": "#636efa",
          "pattern": {
           "shape": ""
          }
         },
         "name": "",
         "offsetgroup": "",
         "orientation": "h",
         "showlegend": false,
         "textposition": "auto",
         "type": "bar",
         "x": [
          0.15392837967445994,
          0.055058600687378216,
          0.05410833583619788,
          0.05087886923307857,
          0.044471072002002746,
          0.02112666771013951,
          0.017157095284561826,
          0.016290469610933302,
          0.013188885201726832,
          0.012824659473407999,
          0.012537819343737919,
          0.011592806806144789,
          0.011229074697888227,
          0.011210426793908263,
          0.011197107187796875,
          0.011174282141512656,
          0.010886981686617402,
          0.01050293919446863,
          0.010242719638227022,
          0.010103417903684174
         ],
         "xaxis": "x",
         "y": [
          "C(provstate)T.Balochistan",
          "C(provstate)T.KhyberPakhtunkhwa",
          "nkill",
          "C(provstate)T.FederallyAdministeredTribalAreas",
          "nwound",
          "nkillter",
          "C(Month)T.Nov",
          "C(provstate)T.Sindh",
          "C(targsubtype1_txt)T.School/University/EducationalBuilding",
          "C(iyear)T.2010",
          "C(iyear)T.2014",
          "C(iyear)T.2013",
          "C(iyear)T.2015",
          "C(iyear)T.2016",
          "multiple",
          "C(Month)T.Jan",
          "C(iyear)T.2009",
          "C(targtype1_txt)T.Utilities",
          "C(Month)T.May",
          "C(iyear)T.2012"
         ],
         "yaxis": "y"
        }
       ],
       "layout": {
        "barmode": "relative",
        "legend": {
         "tracegroupgap": 0
        },
        "margin": {
         "t": 60
        },
        "template": {
         "data": {
          "bar": [
           {
            "error_x": {
             "color": "#2a3f5f"
            },
            "error_y": {
             "color": "#2a3f5f"
            },
            "marker": {
             "line": {
              "color": "#E5ECF6",
              "width": 0.5
             },
             "pattern": {
              "fillmode": "overlay",
              "size": 10,
              "solidity": 0.2
             }
            },
            "type": "bar"
           }
          ],
          "barpolar": [
           {
            "marker": {
             "line": {
              "color": "#E5ECF6",
              "width": 0.5
             },
             "pattern": {
              "fillmode": "overlay",
              "size": 10,
              "solidity": 0.2
             }
            },
            "type": "barpolar"
           }
          ],
          "carpet": [
           {
            "aaxis": {
             "endlinecolor": "#2a3f5f",
             "gridcolor": "white",
             "linecolor": "white",
             "minorgridcolor": "white",
             "startlinecolor": "#2a3f5f"
            },
            "baxis": {
             "endlinecolor": "#2a3f5f",
             "gridcolor": "white",
             "linecolor": "white",
             "minorgridcolor": "white",
             "startlinecolor": "#2a3f5f"
            },
            "type": "carpet"
           }
          ],
          "choropleth": [
           {
            "colorbar": {
             "outlinewidth": 0,
             "ticks": ""
            },
            "type": "choropleth"
           }
          ],
          "contour": [
           {
            "colorbar": {
             "outlinewidth": 0,
             "ticks": ""
            },
            "colorscale": [
             [
              0,
              "#0d0887"
             ],
             [
              0.1111111111111111,
              "#46039f"
             ],
             [
              0.2222222222222222,
              "#7201a8"
             ],
             [
              0.3333333333333333,
              "#9c179e"
             ],
             [
              0.4444444444444444,
              "#bd3786"
             ],
             [
              0.5555555555555556,
              "#d8576b"
             ],
             [
              0.6666666666666666,
              "#ed7953"
             ],
             [
              0.7777777777777778,
              "#fb9f3a"
             ],
             [
              0.8888888888888888,
              "#fdca26"
             ],
             [
              1,
              "#f0f921"
             ]
            ],
            "type": "contour"
           }
          ],
          "contourcarpet": [
           {
            "colorbar": {
             "outlinewidth": 0,
             "ticks": ""
            },
            "type": "contourcarpet"
           }
          ],
          "heatmap": [
           {
            "colorbar": {
             "outlinewidth": 0,
             "ticks": ""
            },
            "colorscale": [
             [
              0,
              "#0d0887"
             ],
             [
              0.1111111111111111,
              "#46039f"
             ],
             [
              0.2222222222222222,
              "#7201a8"
             ],
             [
              0.3333333333333333,
              "#9c179e"
             ],
             [
              0.4444444444444444,
              "#bd3786"
             ],
             [
              0.5555555555555556,
              "#d8576b"
             ],
             [
              0.6666666666666666,
              "#ed7953"
             ],
             [
              0.7777777777777778,
              "#fb9f3a"
             ],
             [
              0.8888888888888888,
              "#fdca26"
             ],
             [
              1,
              "#f0f921"
             ]
            ],
            "type": "heatmap"
           }
          ],
          "heatmapgl": [
           {
            "colorbar": {
             "outlinewidth": 0,
             "ticks": ""
            },
            "colorscale": [
             [
              0,
              "#0d0887"
             ],
             [
              0.1111111111111111,
              "#46039f"
             ],
             [
              0.2222222222222222,
              "#7201a8"
             ],
             [
              0.3333333333333333,
              "#9c179e"
             ],
             [
              0.4444444444444444,
              "#bd3786"
             ],
             [
              0.5555555555555556,
              "#d8576b"
             ],
             [
              0.6666666666666666,
              "#ed7953"
             ],
             [
              0.7777777777777778,
              "#fb9f3a"
             ],
             [
              0.8888888888888888,
              "#fdca26"
             ],
             [
              1,
              "#f0f921"
             ]
            ],
            "type": "heatmapgl"
           }
          ],
          "histogram": [
           {
            "marker": {
             "pattern": {
              "fillmode": "overlay",
              "size": 10,
              "solidity": 0.2
             }
            },
            "type": "histogram"
           }
          ],
          "histogram2d": [
           {
            "colorbar": {
             "outlinewidth": 0,
             "ticks": ""
            },
            "colorscale": [
             [
              0,
              "#0d0887"
             ],
             [
              0.1111111111111111,
              "#46039f"
             ],
             [
              0.2222222222222222,
              "#7201a8"
             ],
             [
              0.3333333333333333,
              "#9c179e"
             ],
             [
              0.4444444444444444,
              "#bd3786"
             ],
             [
              0.5555555555555556,
              "#d8576b"
             ],
             [
              0.6666666666666666,
              "#ed7953"
             ],
             [
              0.7777777777777778,
              "#fb9f3a"
             ],
             [
              0.8888888888888888,
              "#fdca26"
             ],
             [
              1,
              "#f0f921"
             ]
            ],
            "type": "histogram2d"
           }
          ],
          "histogram2dcontour": [
           {
            "colorbar": {
             "outlinewidth": 0,
             "ticks": ""
            },
            "colorscale": [
             [
              0,
              "#0d0887"
             ],
             [
              0.1111111111111111,
              "#46039f"
             ],
             [
              0.2222222222222222,
              "#7201a8"
             ],
             [
              0.3333333333333333,
              "#9c179e"
             ],
             [
              0.4444444444444444,
              "#bd3786"
             ],
             [
              0.5555555555555556,
              "#d8576b"
             ],
             [
              0.6666666666666666,
              "#ed7953"
             ],
             [
              0.7777777777777778,
              "#fb9f3a"
             ],
             [
              0.8888888888888888,
              "#fdca26"
             ],
             [
              1,
              "#f0f921"
             ]
            ],
            "type": "histogram2dcontour"
           }
          ],
          "mesh3d": [
           {
            "colorbar": {
             "outlinewidth": 0,
             "ticks": ""
            },
            "type": "mesh3d"
           }
          ],
          "parcoords": [
           {
            "line": {
             "colorbar": {
              "outlinewidth": 0,
              "ticks": ""
             }
            },
            "type": "parcoords"
           }
          ],
          "pie": [
           {
            "automargin": true,
            "type": "pie"
           }
          ],
          "scatter": [
           {
            "marker": {
             "colorbar": {
              "outlinewidth": 0,
              "ticks": ""
             }
            },
            "type": "scatter"
           }
          ],
          "scatter3d": [
           {
            "line": {
             "colorbar": {
              "outlinewidth": 0,
              "ticks": ""
             }
            },
            "marker": {
             "colorbar": {
              "outlinewidth": 0,
              "ticks": ""
             }
            },
            "type": "scatter3d"
           }
          ],
          "scattercarpet": [
           {
            "marker": {
             "colorbar": {
              "outlinewidth": 0,
              "ticks": ""
             }
            },
            "type": "scattercarpet"
           }
          ],
          "scattergeo": [
           {
            "marker": {
             "colorbar": {
              "outlinewidth": 0,
              "ticks": ""
             }
            },
            "type": "scattergeo"
           }
          ],
          "scattergl": [
           {
            "marker": {
             "colorbar": {
              "outlinewidth": 0,
              "ticks": ""
             }
            },
            "type": "scattergl"
           }
          ],
          "scattermapbox": [
           {
            "marker": {
             "colorbar": {
              "outlinewidth": 0,
              "ticks": ""
             }
            },
            "type": "scattermapbox"
           }
          ],
          "scatterpolar": [
           {
            "marker": {
             "colorbar": {
              "outlinewidth": 0,
              "ticks": ""
             }
            },
            "type": "scatterpolar"
           }
          ],
          "scatterpolargl": [
           {
            "marker": {
             "colorbar": {
              "outlinewidth": 0,
              "ticks": ""
             }
            },
            "type": "scatterpolargl"
           }
          ],
          "scatterternary": [
           {
            "marker": {
             "colorbar": {
              "outlinewidth": 0,
              "ticks": ""
             }
            },
            "type": "scatterternary"
           }
          ],
          "surface": [
           {
            "colorbar": {
             "outlinewidth": 0,
             "ticks": ""
            },
            "colorscale": [
             [
              0,
              "#0d0887"
             ],
             [
              0.1111111111111111,
              "#46039f"
             ],
             [
              0.2222222222222222,
              "#7201a8"
             ],
             [
              0.3333333333333333,
              "#9c179e"
             ],
             [
              0.4444444444444444,
              "#bd3786"
             ],
             [
              0.5555555555555556,
              "#d8576b"
             ],
             [
              0.6666666666666666,
              "#ed7953"
             ],
             [
              0.7777777777777778,
              "#fb9f3a"
             ],
             [
              0.8888888888888888,
              "#fdca26"
             ],
             [
              1,
              "#f0f921"
             ]
            ],
            "type": "surface"
           }
          ],
          "table": [
           {
            "cells": {
             "fill": {
              "color": "#EBF0F8"
             },
             "line": {
              "color": "white"
             }
            },
            "header": {
             "fill": {
              "color": "#C8D4E3"
             },
             "line": {
              "color": "white"
             }
            },
            "type": "table"
           }
          ]
         },
         "layout": {
          "annotationdefaults": {
           "arrowcolor": "#2a3f5f",
           "arrowhead": 0,
           "arrowwidth": 1
          },
          "autotypenumbers": "strict",
          "coloraxis": {
           "colorbar": {
            "outlinewidth": 0,
            "ticks": ""
           }
          },
          "colorscale": {
           "diverging": [
            [
             0,
             "#8e0152"
            ],
            [
             0.1,
             "#c51b7d"
            ],
            [
             0.2,
             "#de77ae"
            ],
            [
             0.3,
             "#f1b6da"
            ],
            [
             0.4,
             "#fde0ef"
            ],
            [
             0.5,
             "#f7f7f7"
            ],
            [
             0.6,
             "#e6f5d0"
            ],
            [
             0.7,
             "#b8e186"
            ],
            [
             0.8,
             "#7fbc41"
            ],
            [
             0.9,
             "#4d9221"
            ],
            [
             1,
             "#276419"
            ]
           ],
           "sequential": [
            [
             0,
             "#0d0887"
            ],
            [
             0.1111111111111111,
             "#46039f"
            ],
            [
             0.2222222222222222,
             "#7201a8"
            ],
            [
             0.3333333333333333,
             "#9c179e"
            ],
            [
             0.4444444444444444,
             "#bd3786"
            ],
            [
             0.5555555555555556,
             "#d8576b"
            ],
            [
             0.6666666666666666,
             "#ed7953"
            ],
            [
             0.7777777777777778,
             "#fb9f3a"
            ],
            [
             0.8888888888888888,
             "#fdca26"
            ],
            [
             1,
             "#f0f921"
            ]
           ],
           "sequentialminus": [
            [
             0,
             "#0d0887"
            ],
            [
             0.1111111111111111,
             "#46039f"
            ],
            [
             0.2222222222222222,
             "#7201a8"
            ],
            [
             0.3333333333333333,
             "#9c179e"
            ],
            [
             0.4444444444444444,
             "#bd3786"
            ],
            [
             0.5555555555555556,
             "#d8576b"
            ],
            [
             0.6666666666666666,
             "#ed7953"
            ],
            [
             0.7777777777777778,
             "#fb9f3a"
            ],
            [
             0.8888888888888888,
             "#fdca26"
            ],
            [
             1,
             "#f0f921"
            ]
           ]
          },
          "colorway": [
           "#636efa",
           "#EF553B",
           "#00cc96",
           "#ab63fa",
           "#FFA15A",
           "#19d3f3",
           "#FF6692",
           "#B6E880",
           "#FF97FF",
           "#FECB52"
          ],
          "font": {
           "color": "#2a3f5f"
          },
          "geo": {
           "bgcolor": "white",
           "lakecolor": "white",
           "landcolor": "#E5ECF6",
           "showlakes": true,
           "showland": true,
           "subunitcolor": "white"
          },
          "hoverlabel": {
           "align": "left"
          },
          "hovermode": "closest",
          "mapbox": {
           "style": "light"
          },
          "paper_bgcolor": "white",
          "plot_bgcolor": "#E5ECF6",
          "polar": {
           "angularaxis": {
            "gridcolor": "white",
            "linecolor": "white",
            "ticks": ""
           },
           "bgcolor": "#E5ECF6",
           "radialaxis": {
            "gridcolor": "white",
            "linecolor": "white",
            "ticks": ""
           }
          },
          "scene": {
           "xaxis": {
            "backgroundcolor": "#E5ECF6",
            "gridcolor": "white",
            "gridwidth": 2,
            "linecolor": "white",
            "showbackground": true,
            "ticks": "",
            "zerolinecolor": "white"
           },
           "yaxis": {
            "backgroundcolor": "#E5ECF6",
            "gridcolor": "white",
            "gridwidth": 2,
            "linecolor": "white",
            "showbackground": true,
            "ticks": "",
            "zerolinecolor": "white"
           },
           "zaxis": {
            "backgroundcolor": "#E5ECF6",
            "gridcolor": "white",
            "gridwidth": 2,
            "linecolor": "white",
            "showbackground": true,
            "ticks": "",
            "zerolinecolor": "white"
           }
          },
          "shapedefaults": {
           "line": {
            "color": "#2a3f5f"
           }
          },
          "ternary": {
           "aaxis": {
            "gridcolor": "white",
            "linecolor": "white",
            "ticks": ""
           },
           "baxis": {
            "gridcolor": "white",
            "linecolor": "white",
            "ticks": ""
           },
           "bgcolor": "#E5ECF6",
           "caxis": {
            "gridcolor": "white",
            "linecolor": "white",
            "ticks": ""
           }
          },
          "title": {
           "x": 0.05
          },
          "xaxis": {
           "automargin": true,
           "gridcolor": "white",
           "linecolor": "white",
           "ticks": "",
           "title": {
            "standoff": 15
           },
           "zerolinecolor": "white",
           "zerolinewidth": 2
          },
          "yaxis": {
           "automargin": true,
           "gridcolor": "white",
           "linecolor": "white",
           "ticks": "",
           "title": {
            "standoff": 15
           },
           "zerolinecolor": "white",
           "zerolinewidth": 2
          }
         }
        },
        "xaxis": {
         "anchor": "y",
         "domain": [
          0,
          1
         ],
         "title": {
          "text": "Importance"
         }
        },
        "yaxis": {
         "anchor": "x",
         "domain": [
          0,
          1
         ],
         "title": {
          "text": "Feature"
         }
        }
       }
      }
     },
     "metadata": {},
     "output_type": "display_data"
    }
   ],
   "source": [
    "px.bar(x='Importance', y='Feature', data_frame=imp_df.head(20), orientation='h')"
   ]
  },
  {
   "cell_type": "markdown",
   "metadata": {},
   "source": [
    "#### Shapley Values Intro\n",
    "\n",
    "Shapley values can help us understand what and how features contributed to our final prediction. The goal is to understand how a model got to the prediction it did. In the above plot we see that the number of terrorists killed, along with a couple location features, pushed our TTP probabibility over 50%. While there were other features that would lead us to believe it was not a TTP attack, they were not enough to bring us below 50%. "
   ]
  },
  {
   "cell_type": "code",
   "execution_count": 39,
   "metadata": {},
   "outputs": [],
   "source": [
    "shap = ShapKernel(predict_fn=writingForest.predict_proba, data=x[:100])"
   ]
  },
  {
   "cell_type": "code",
   "execution_count": 40,
   "metadata": {},
   "outputs": [
    {
     "name": "stderr",
     "output_type": "stream",
     "text": [
      "  0%|          | 0/25 [00:00<?, ?it/s]num_full_subsets = 1\n",
      "remaining_weight_vector = [0.12004298 0.08080563 0.06119838 0.04944344 0.0416149  0.03603022\n",
      " 0.03184814 0.0286013  0.02600931 0.02389372 0.02213558 0.02065256\n",
      " 0.01938582 0.01829226 0.01733954 0.01650293 0.01576322 0.01510523\n",
      " 0.01451683 0.0139882  0.01351133 0.01307959 0.01268747 0.01233034\n",
      " 0.0120043  0.01170602 0.01143266 0.01118179 0.01095129 0.01073933\n",
      " 0.01054432 0.01036486 0.01019973 0.01004786 0.00990831 0.00978023\n",
      " 0.0096629  0.00955566 0.00945793 0.00936921 0.00928904 0.00921703\n",
      " 0.00915284 0.00909615 0.00904672 0.00900431 0.00896873 0.00893983\n",
      " 0.00891748 0.00890158 0.00889207 0.00888891]\n",
      "num_paired_subset_sizes = 52\n",
      "weight_left = 0.8071930411864512\n",
      "np.sum(w_aug) = 106.00000000000003\n",
      "np.sum(self.kernelWeights) = 0.9999999999999999\n",
      "phi = [ 0.         -0.00679713 -0.00339947  0.          0.          0.\n",
      "  0.          0.          0.0081831   0.          0.          0.10757351\n",
      " -0.02888411  0.         -0.04078204  0.00646363  0.0053977  -0.00410936\n",
      "  0.          0.          0.          0.          0.          0.\n",
      "  0.          0.         -0.00811362  0.          0.01409196  0.00445911\n",
      "  0.          0.          0.          0.00614531  0.          0.\n",
      "  0.          0.          0.          0.          0.          0.\n",
      "  0.          0.          0.          0.          0.          0.\n",
      "  0.          0.          0.          0.          0.          0.\n",
      "  0.          0.          0.         -0.02253891  0.          0.\n",
      "  0.          0.          0.          0.          0.          0.\n",
      "  0.          0.          0.          0.         -0.00372193 -0.01412896\n",
      "  0.          0.          0.          0.          0.          0.\n",
      "  0.          0.          0.          0.          0.          0.\n",
      "  0.          0.00576595 -0.02578612  0.          0.          0.\n",
      "  0.          0.          0.          0.          0.          0.\n",
      "  0.00868097  0.          0.         -0.00644818  0.00770302  0.\n",
      "  0.05570817  0.07288026  0.          0.        ]\n",
      "  4%|▍         | 1/25 [00:03<01:26,  3.60s/it]num_full_subsets = 1\n",
      "remaining_weight_vector = [0.12004298 0.08080563 0.06119838 0.04944344 0.0416149  0.03603022\n",
      " 0.03184814 0.0286013  0.02600931 0.02389372 0.02213558 0.02065256\n",
      " 0.01938582 0.01829226 0.01733954 0.01650293 0.01576322 0.01510523\n",
      " 0.01451683 0.0139882  0.01351133 0.01307959 0.01268747 0.01233034\n",
      " 0.0120043  0.01170602 0.01143266 0.01118179 0.01095129 0.01073933\n",
      " 0.01054432 0.01036486 0.01019973 0.01004786 0.00990831 0.00978023\n",
      " 0.0096629  0.00955566 0.00945793 0.00936921 0.00928904 0.00921703\n",
      " 0.00915284 0.00909615 0.00904672 0.00900431 0.00896873 0.00893983\n",
      " 0.00891748 0.00890158 0.00889207 0.00888891]\n",
      "num_paired_subset_sizes = 52\n",
      "weight_left = 0.8071930411864512\n",
      "np.sum(w_aug) = 106.00000000000001\n",
      "np.sum(self.kernelWeights) = 1.0000000000000002\n",
      "phi = [0.         0.         0.         0.00125883 0.00327025 0.02254656\n",
      " 0.00729436 0.00432144 0.00568213 0.         0.         0.14066809\n",
      " 0.13934826 0.         0.         0.         0.00640485 0.\n",
      " 0.         0.         0.00143854 0.         0.         0.02702109\n",
      " 0.         0.         0.00243546 0.         0.         0.\n",
      " 0.         0.         0.         0.00790558 0.         0.\n",
      " 0.         0.         0.         0.         0.00425226 0.\n",
      " 0.         0.         0.         0.         0.         0.\n",
      " 0.         0.         0.         0.         0.         0.\n",
      " 0.00058271 0.         0.00178913 0.         0.         0.00148051\n",
      " 0.         0.         0.07753455 0.         0.         0.\n",
      " 0.00282161 0.         0.         0.00066717 0.00625704 0.01038974\n",
      " 0.         0.         0.         0.         0.         0.\n",
      " 0.         0.         0.         0.         0.         0.003622\n",
      " 0.         0.00751591 0.00345247 0.         0.         0.00189461\n",
      " 0.         0.         0.         0.         0.         0.\n",
      " 0.01099687 0.         0.00172644 0.01045148 0.         0.\n",
      " 0.         0.         0.0051311  0.        ]\n",
      "  8%|▊         | 2/25 [00:06<01:10,  3.07s/it]num_full_subsets = 1\n",
      "remaining_weight_vector = [0.12004298 0.08080563 0.06119838 0.04944344 0.0416149  0.03603022\n",
      " 0.03184814 0.0286013  0.02600931 0.02389372 0.02213558 0.02065256\n",
      " 0.01938582 0.01829226 0.01733954 0.01650293 0.01576322 0.01510523\n",
      " 0.01451683 0.0139882  0.01351133 0.01307959 0.01268747 0.01233034\n",
      " 0.0120043  0.01170602 0.01143266 0.01118179 0.01095129 0.01073933\n",
      " 0.01054432 0.01036486 0.01019973 0.01004786 0.00990831 0.00978023\n",
      " 0.0096629  0.00955566 0.00945793 0.00936921 0.00928904 0.00921703\n",
      " 0.00915284 0.00909615 0.00904672 0.00900431 0.00896873 0.00893983\n",
      " 0.00891748 0.00890158 0.00889207 0.00888891]\n",
      "num_paired_subset_sizes = 52\n",
      "weight_left = 0.8071930411864512\n",
      "np.sum(w_aug) = 106.00000000000003\n",
      "np.sum(self.kernelWeights) = 1.0000000000000002\n",
      "phi = [-3.95811447e-03 -5.62173180e-03 -9.71835251e-03 -4.08707179e-03\n",
      "  0.00000000e+00 -7.01050753e-03  0.00000000e+00  6.25361168e-05\n",
      "  0.00000000e+00  4.26307196e-05 -1.40246090e-02  9.16194359e-02\n",
      " -4.77012794e-02  0.00000000e+00 -4.39138092e-02 -1.10097858e-03\n",
      " -4.01245317e-02 -5.52262565e-03 -2.16432302e-02  0.00000000e+00\n",
      "  0.00000000e+00  0.00000000e+00 -1.09905681e-03 -1.32047282e-03\n",
      "  0.00000000e+00  0.00000000e+00 -2.16792706e-03  0.00000000e+00\n",
      " -6.71230066e-03 -1.28249355e-02  0.00000000e+00  0.00000000e+00\n",
      "  0.00000000e+00  6.38515967e-03  0.00000000e+00  0.00000000e+00\n",
      "  0.00000000e+00  0.00000000e+00  0.00000000e+00 -9.72450937e-04\n",
      "  0.00000000e+00 -1.31220045e-03  0.00000000e+00  0.00000000e+00\n",
      "  0.00000000e+00 -7.65151517e-04  0.00000000e+00 -1.28718808e-03\n",
      "  0.00000000e+00 -2.44085581e-03  0.00000000e+00  0.00000000e+00\n",
      "  0.00000000e+00  0.00000000e+00  0.00000000e+00  0.00000000e+00\n",
      "  0.00000000e+00  0.00000000e+00 -4.17380100e-03  0.00000000e+00\n",
      "  0.00000000e+00  0.00000000e+00 -4.24836892e-03 -9.34884412e-04\n",
      " -2.72528443e-03  0.00000000e+00  0.00000000e+00  4.42727425e-02\n",
      "  0.00000000e+00  0.00000000e+00  0.00000000e+00 -1.55466357e-03\n",
      " -1.26205905e-03 -9.76905829e-04  0.00000000e+00  0.00000000e+00\n",
      "  0.00000000e+00  0.00000000e+00  0.00000000e+00  0.00000000e+00\n",
      "  0.00000000e+00 -1.81851973e-03  0.00000000e+00  0.00000000e+00\n",
      "  0.00000000e+00 -7.80361193e-03  0.00000000e+00 -1.25496238e-03\n",
      "  0.00000000e+00  0.00000000e+00  0.00000000e+00  4.49204524e-02\n",
      "  0.00000000e+00 -1.82930674e-03  0.00000000e+00 -4.34633287e-03\n",
      "  5.33030693e-03  0.00000000e+00  0.00000000e+00 -8.36563206e-03\n",
      "  0.00000000e+00 -1.62551422e-03  5.58071371e-03 -5.16574018e-03\n",
      " -1.28197884e-02  0.00000000e+00]\n",
      " 12%|█▏        | 3/25 [00:09<01:08,  3.09s/it]num_full_subsets = 1\n",
      "remaining_weight_vector = [0.12004298 0.08080563 0.06119838 0.04944344 0.0416149  0.03603022\n",
      " 0.03184814 0.0286013  0.02600931 0.02389372 0.02213558 0.02065256\n",
      " 0.01938582 0.01829226 0.01733954 0.01650293 0.01576322 0.01510523\n",
      " 0.01451683 0.0139882  0.01351133 0.01307959 0.01268747 0.01233034\n",
      " 0.0120043  0.01170602 0.01143266 0.01118179 0.01095129 0.01073933\n",
      " 0.01054432 0.01036486 0.01019973 0.01004786 0.00990831 0.00978023\n",
      " 0.0096629  0.00955566 0.00945793 0.00936921 0.00928904 0.00921703\n",
      " 0.00915284 0.00909615 0.00904672 0.00900431 0.00896873 0.00893983\n",
      " 0.00891748 0.00890158 0.00889207 0.00888891]\n",
      "num_paired_subset_sizes = 52\n",
      "weight_left = 0.8071930411864512\n",
      "np.sum(w_aug) = 106.00000000000001\n",
      "np.sum(self.kernelWeights) = 0.9999999999999999\n",
      "phi = [ 0.          0.          0.          0.          0.         -0.01343255\n",
      "  0.00316932  0.          0.          0.          0.          0.12175877\n",
      " -0.01518616  0.          0.10719971  0.          0.00536028  0.01074445\n",
      "  0.          0.          0.          0.          0.          0.\n",
      "  0.          0.          0.          0.          0.          0.00143729\n",
      "  0.          0.          0.          0.00436497  0.          0.\n",
      "  0.          0.          0.          0.          0.00252328  0.\n",
      "  0.          0.          0.          0.          0.          0.\n",
      "  0.          0.          0.          0.          0.          0.\n",
      "  0.          0.          0.          0.          0.          0.\n",
      "  0.          0.          0.          0.          0.          0.\n",
      "  0.00257287  0.          0.          0.          0.          0.00637636\n",
      "  0.          0.          0.          0.          0.          0.\n",
      "  0.          0.          0.          0.          0.          0.\n",
      "  0.02314142  0.          0.          0.          0.          0.\n",
      "  0.          0.          0.          0.          0.          0.\n",
      "  0.00281297 -0.03821577  0.          0.          0.          0.02487891\n",
      "  0.04242998  0.01454007  0.00459397  0.        ]\n",
      " 16%|█▌        | 4/25 [00:12<01:02,  2.96s/it]num_full_subsets = 1\n",
      "remaining_weight_vector = [0.12004298 0.08080563 0.06119838 0.04944344 0.0416149  0.03603022\n",
      " 0.03184814 0.0286013  0.02600931 0.02389372 0.02213558 0.02065256\n",
      " 0.01938582 0.01829226 0.01733954 0.01650293 0.01576322 0.01510523\n",
      " 0.01451683 0.0139882  0.01351133 0.01307959 0.01268747 0.01233034\n",
      " 0.0120043  0.01170602 0.01143266 0.01118179 0.01095129 0.01073933\n",
      " 0.01054432 0.01036486 0.01019973 0.01004786 0.00990831 0.00978023\n",
      " 0.0096629  0.00955566 0.00945793 0.00936921 0.00928904 0.00921703\n",
      " 0.00915284 0.00909615 0.00904672 0.00900431 0.00896873 0.00893983\n",
      " 0.00891748 0.00890158 0.00889207 0.00888891]\n",
      "num_paired_subset_sizes = 52\n",
      "weight_left = 0.8071930411864512\n",
      "np.sum(w_aug) = 106.00000000000003\n",
      "np.sum(self.kernelWeights) = 1.0000000000000002\n",
      "phi = [ 0.          0.03627593 -0.00696378 -0.00269349  0.          0.\n",
      "  0.00863329  0.          0.00456021  0.          0.00349015  0.11813903\n",
      " -0.03113678  0.         -0.02421367  0.00634642  0.00537755  0.\n",
      "  0.          0.          0.          0.          0.          0.\n",
      "  0.          0.          0.          0.          0.          0.00525779\n",
      "  0.          0.00156623  0.          0.00732017  0.          0.\n",
      "  0.          0.          0.          0.          0.00532604  0.\n",
      "  0.          0.          0.          0.          0.          0.\n",
      "  0.          0.          0.          0.          0.          0.\n",
      "  0.          0.01155853  0.00189702  0.00521226  0.          0.\n",
      "  0.          0.          0.          0.          0.          0.\n",
      "  0.00321842  0.          0.          0.          0.          0.\n",
      "  0.          0.          0.          0.          0.          0.\n",
      "  0.          0.          0.         -0.01200238  0.          0.\n",
      " -0.00355004  0.0043112   0.00386432  0.          0.          0.\n",
      "  0.          0.          0.          0.         -0.0062509   0.\n",
      "  0.00533088  0.          0.         -0.00581342  0.         -0.00491097\n",
      "  0.04641355  0.         -0.02803054  0.00708255]\n",
      " 20%|██        | 5/25 [00:15<01:01,  3.07s/it]num_full_subsets = 1\n",
      "remaining_weight_vector = [0.12004298 0.08080563 0.06119838 0.04944344 0.0416149  0.03603022\n",
      " 0.03184814 0.0286013  0.02600931 0.02389372 0.02213558 0.02065256\n",
      " 0.01938582 0.01829226 0.01733954 0.01650293 0.01576322 0.01510523\n",
      " 0.01451683 0.0139882  0.01351133 0.01307959 0.01268747 0.01233034\n",
      " 0.0120043  0.01170602 0.01143266 0.01118179 0.01095129 0.01073933\n",
      " 0.01054432 0.01036486 0.01019973 0.01004786 0.00990831 0.00978023\n",
      " 0.0096629  0.00955566 0.00945793 0.00936921 0.00928904 0.00921703\n",
      " 0.00915284 0.00909615 0.00904672 0.00900431 0.00896873 0.00893983\n",
      " 0.00891748 0.00890158 0.00889207 0.00888891]\n",
      "num_paired_subset_sizes = 52\n",
      "weight_left = 0.8071930411864512\n",
      "np.sum(w_aug) = 106.00000000000001\n",
      "np.sum(self.kernelWeights) = 0.9999999999999999\n",
      "phi = [ 0.10405736 -0.00641845  0.          0.          0.          0.\n",
      "  0.00543952  0.          0.          0.          0.          0.09405955\n",
      " -0.02520591  0.          0.06712823  0.          0.0067975  -0.00400194\n",
      "  0.01181248  0.         -0.00696971  0.          0.          0.\n",
      "  0.          0.          0.          0.          0.          0.\n",
      " -0.0086214   0.          0.          0.00783159  0.          0.\n",
      "  0.          0.          0.         -0.00298318  0.00602359  0.\n",
      "  0.          0.          0.          0.          0.          0.\n",
      "  0.         -0.0033245   0.          0.          0.          0.\n",
      "  0.          0.          0.          0.00481218  0.          0.\n",
      "  0.          0.         -0.00533975  0.          0.         -0.02328908\n",
      "  0.          0.          0.          0.          0.          0.00512797\n",
      "  0.          0.         -0.01367255 -0.00340928  0.          0.\n",
      "  0.          0.          0.          0.          0.          0.\n",
      "  0.          0.00777603 -0.00292034  0.          0.          0.\n",
      "  0.          0.          0.          0.          0.         -0.00455345\n",
      "  0.0078952  -0.01380477  0.          0.          0.          0.\n",
      " -0.02044949  0.          0.          0.        ]\n",
      " 24%|██▍       | 6/25 [00:18<00:57,  3.05s/it]num_full_subsets = 1\n",
      "remaining_weight_vector = [0.12004298 0.08080563 0.06119838 0.04944344 0.0416149  0.03603022\n",
      " 0.03184814 0.0286013  0.02600931 0.02389372 0.02213558 0.02065256\n",
      " 0.01938582 0.01829226 0.01733954 0.01650293 0.01576322 0.01510523\n",
      " 0.01451683 0.0139882  0.01351133 0.01307959 0.01268747 0.01233034\n",
      " 0.0120043  0.01170602 0.01143266 0.01118179 0.01095129 0.01073933\n",
      " 0.01054432 0.01036486 0.01019973 0.01004786 0.00990831 0.00978023\n",
      " 0.0096629  0.00955566 0.00945793 0.00936921 0.00928904 0.00921703\n",
      " 0.00915284 0.00909615 0.00904672 0.00900431 0.00896873 0.00893983\n",
      " 0.00891748 0.00890158 0.00889207 0.00888891]\n",
      "num_paired_subset_sizes = 52\n",
      "weight_left = 0.8071930411864512\n",
      "np.sum(w_aug) = 106.0\n",
      "np.sum(self.kernelWeights) = 1.0\n",
      "phi = [-0.00194229 -0.00654743 -0.00826145  0.          0.          0.\n",
      "  0.         -0.00342024  0.          0.          0.         -0.22108946\n",
      " -0.0362478   0.         -0.04976139 -0.00253766 -0.00742115 -0.00431818\n",
      "  0.          0.         -0.00160096  0.          0.          0.\n",
      "  0.          0.         -0.00415791 -0.00188912 -0.00597856  0.\n",
      " -0.00156939  0.          0.          0.          0.          0.\n",
      "  0.          0.          0.          0.          0.          0.\n",
      "  0.          0.          0.         -0.00230704  0.          0.\n",
      " -0.00913169 -0.00333055  0.          0.          0.          0.\n",
      "  0.          0.         -0.00030097  0.         -0.00219308  0.\n",
      "  0.          0.          0.          0.          0.          0.\n",
      "  0.          0.          0.          0.          0.          0.\n",
      "  0.          0.          0.         -0.00055386  0.          0.\n",
      "  0.          0.          0.         -0.00276122  0.          0.\n",
      " -0.00699399  0.          0.          0.          0.          0.\n",
      " -0.00188911  0.          0.          0.         -0.00280407  0.\n",
      "  0.          0.          0.         -0.00497427  0.         -0.00607106\n",
      "  0.          0.03607106 -0.01070114 -0.00515498]\n",
      " 28%|██▊       | 7/25 [00:21<00:53,  2.98s/it]num_full_subsets = 1\n",
      "remaining_weight_vector = [0.12004298 0.08080563 0.06119838 0.04944344 0.0416149  0.03603022\n",
      " 0.03184814 0.0286013  0.02600931 0.02389372 0.02213558 0.02065256\n",
      " 0.01938582 0.01829226 0.01733954 0.01650293 0.01576322 0.01510523\n",
      " 0.01451683 0.0139882  0.01351133 0.01307959 0.01268747 0.01233034\n",
      " 0.0120043  0.01170602 0.01143266 0.01118179 0.01095129 0.01073933\n",
      " 0.01054432 0.01036486 0.01019973 0.01004786 0.00990831 0.00978023\n",
      " 0.0096629  0.00955566 0.00945793 0.00936921 0.00928904 0.00921703\n",
      " 0.00915284 0.00909615 0.00904672 0.00900431 0.00896873 0.00893983\n",
      " 0.00891748 0.00890158 0.00889207 0.00888891]\n",
      "num_paired_subset_sizes = 52\n",
      "weight_left = 0.8071930411864512\n",
      "np.sum(w_aug) = 106.00000000000001\n",
      "np.sum(self.kernelWeights) = 1.0000000000000002\n",
      "phi = [ 0.          0.06909286  0.          0.          0.          0.\n",
      "  0.          0.          0.00422431  0.00177419  0.          0.0959635\n",
      " -0.01649941  0.          0.09472076  0.          0.00654029  0.\n",
      "  0.00805221  0.          0.          0.          0.          0.\n",
      "  0.          0.          0.          0.07671403  0.          0.00740806\n",
      "  0.          0.          0.          0.0035627   0.          0.\n",
      "  0.          0.          0.          0.          0.00430455  0.\n",
      "  0.02225442  0.          0.          0.          0.          0.\n",
      "  0.          0.          0.          0.          0.          0.\n",
      "  0.          0.          0.          0.          0.          0.\n",
      "  0.          0.          0.          0.          0.          0.\n",
      "  0.          0.          0.          0.          0.         -0.00931455\n",
      "  0.          0.          0.          0.          0.          0.\n",
      "  0.          0.          0.          0.          0.          0.\n",
      "  0.          0.00871164  0.          0.          0.          0.\n",
      "  0.          0.          0.          0.          0.          0.\n",
      "  0.00876806  0.         -0.0226037   0.          0.          0.\n",
      " -0.03442198  0.          0.          0.        ]\n",
      " 32%|███▏      | 8/25 [00:24<00:51,  3.03s/it]num_full_subsets = 1\n",
      "remaining_weight_vector = [0.12004298 0.08080563 0.06119838 0.04944344 0.0416149  0.03603022\n",
      " 0.03184814 0.0286013  0.02600931 0.02389372 0.02213558 0.02065256\n",
      " 0.01938582 0.01829226 0.01733954 0.01650293 0.01576322 0.01510523\n",
      " 0.01451683 0.0139882  0.01351133 0.01307959 0.01268747 0.01233034\n",
      " 0.0120043  0.01170602 0.01143266 0.01118179 0.01095129 0.01073933\n",
      " 0.01054432 0.01036486 0.01019973 0.01004786 0.00990831 0.00978023\n",
      " 0.0096629  0.00955566 0.00945793 0.00936921 0.00928904 0.00921703\n",
      " 0.00915284 0.00909615 0.00904672 0.00900431 0.00896873 0.00893983\n",
      " 0.00891748 0.00890158 0.00889207 0.00888891]\n",
      "num_paired_subset_sizes = 52\n",
      "weight_left = 0.8071930411864512\n",
      "np.sum(w_aug) = 106.00000000000003\n",
      "np.sum(self.kernelWeights) = 1.0000000000000004\n",
      "phi = [-0.00733056 -0.00359938 -0.01916024 -0.12739288 -0.00447407  0.\n",
      "  0.         -0.00240444 -0.00597938  0.          0.          0.08693709\n",
      " -0.02037809  0.          0.05244169  0.          0.          0.\n",
      " -0.01882032  0.          0.         -0.00549448  0.          0.\n",
      "  0.          0.          0.          0.          0.          0.\n",
      "  0.          0.          0.          0.          0.         -0.00505907\n",
      "  0.          0.          0.          0.          0.          0.\n",
      "  0.          0.          0.          0.          0.          0.\n",
      "  0.          0.          0.         -0.00696113  0.          0.\n",
      "  0.          0.          0.          0.         -0.00751815 -0.00372863\n",
      "  0.          0.          0.03116593  0.          0.          0.\n",
      "  0.          0.         -0.00137697  0.         -0.00625486  0.\n",
      " -0.00399976  0.          0.          0.          0.          0.\n",
      "  0.          0.         -0.00341481 -0.00519268 -0.00398108 -0.00724145\n",
      "  0.         -0.07680791  0.          0.         -0.00338546 -0.00287805\n",
      "  0.          0.          0.          0.          0.         -0.00466979\n",
      " -0.18466976  0.          0.          0.02216219  0.          0.\n",
      " -0.01307455  0.         -0.00820701  0.        ]\n",
      " 36%|███▌      | 9/25 [00:26<00:45,  2.87s/it]num_full_subsets = 1\n",
      "remaining_weight_vector = [0.12004298 0.08080563 0.06119838 0.04944344 0.0416149  0.03603022\n",
      " 0.03184814 0.0286013  0.02600931 0.02389372 0.02213558 0.02065256\n",
      " 0.01938582 0.01829226 0.01733954 0.01650293 0.01576322 0.01510523\n",
      " 0.01451683 0.0139882  0.01351133 0.01307959 0.01268747 0.01233034\n",
      " 0.0120043  0.01170602 0.01143266 0.01118179 0.01095129 0.01073933\n",
      " 0.01054432 0.01036486 0.01019973 0.01004786 0.00990831 0.00978023\n",
      " 0.0096629  0.00955566 0.00945793 0.00936921 0.00928904 0.00921703\n",
      " 0.00915284 0.00909615 0.00904672 0.00900431 0.00896873 0.00893983\n",
      " 0.00891748 0.00890158 0.00889207 0.00888891]\n",
      "num_paired_subset_sizes = 52\n",
      "weight_left = 0.8071930411864512\n",
      "np.sum(w_aug) = 106.00000000000003\n",
      "np.sum(self.kernelWeights) = 1.0000000000000002\n",
      "phi = [-0.00420258 -0.00760185 -0.00866275 -0.00254277 -0.00211254  0.\n",
      " -0.01462007  0.         -0.00083627  0.          0.         -0.17618693\n",
      " -0.03762504  0.         -0.04054437 -0.00252459 -0.00218575 -0.00262613\n",
      " -0.01335786 -0.00139813 -0.00113802  0.          0.         -0.00224588\n",
      "  0.          0.          0.         -0.0027678  -0.00203051  0.\n",
      " -0.00193197  0.          0.          0.          0.          0.\n",
      "  0.          0.          0.          0.          0.          0.\n",
      "  0.          0.          0.          0.          0.          0.\n",
      "  0.         -0.00373226  0.          0.          0.          0.\n",
      "  0.          0.          0.          0.          0.          0.\n",
      "  0.          0.         -0.00484062  0.          0.          0.\n",
      "  0.          0.          0.          0.         -0.00414429 -0.00433737\n",
      " -0.00103509 -0.00049689  0.         -0.00132488  0.          0.\n",
      "  0.          0.          0.         -0.00125565 -0.00836021 -0.00035281\n",
      " -0.00642244  0.         -0.00558838  0.         -0.00133412 -0.00128288\n",
      " -0.00212855 -0.00186146 -0.00052803 -0.00151194  0.         -0.00310296\n",
      " -0.03174422  0.          0.         -0.00401732  0.         -0.00778985\n",
      " -0.0267271  -0.00854    -0.00205603  0.        ]\n",
      " 40%|████      | 10/25 [00:29<00:41,  2.77s/it]num_full_subsets = 1\n",
      "remaining_weight_vector = [0.12004298 0.08080563 0.06119838 0.04944344 0.0416149  0.03603022\n",
      " 0.03184814 0.0286013  0.02600931 0.02389372 0.02213558 0.02065256\n",
      " 0.01938582 0.01829226 0.01733954 0.01650293 0.01576322 0.01510523\n",
      " 0.01451683 0.0139882  0.01351133 0.01307959 0.01268747 0.01233034\n",
      " 0.0120043  0.01170602 0.01143266 0.01118179 0.01095129 0.01073933\n",
      " 0.01054432 0.01036486 0.01019973 0.01004786 0.00990831 0.00978023\n",
      " 0.0096629  0.00955566 0.00945793 0.00936921 0.00928904 0.00921703\n",
      " 0.00915284 0.00909615 0.00904672 0.00900431 0.00896873 0.00893983\n",
      " 0.00891748 0.00890158 0.00889207 0.00888891]\n",
      "num_paired_subset_sizes = 52\n",
      "weight_left = 0.8071930411864512\n",
      "np.sum(w_aug) = 106.00000000000003\n",
      "np.sum(self.kernelWeights) = 1.0000000000000002\n",
      "phi = [-8.81753142e-03 -1.01416889e-02 -2.82211456e-03 -9.15322472e-02\n",
      " -2.78460660e-03 -2.10535601e-03  0.00000000e+00 -2.07274664e-03\n",
      " -2.10520951e-03 -2.08206829e-05  0.00000000e+00  8.63666143e-02\n",
      " -1.89607237e-02  0.00000000e+00  7.97238197e-02  0.00000000e+00\n",
      "  0.00000000e+00 -7.71632024e-03  0.00000000e+00  0.00000000e+00\n",
      "  0.00000000e+00  0.00000000e+00  0.00000000e+00  0.00000000e+00\n",
      "  0.00000000e+00 -1.38520238e-03  0.00000000e+00  0.00000000e+00\n",
      " -3.63018663e-03  0.00000000e+00  0.00000000e+00  0.00000000e+00\n",
      "  0.00000000e+00  0.00000000e+00  0.00000000e+00  0.00000000e+00\n",
      "  0.00000000e+00  0.00000000e+00  0.00000000e+00  0.00000000e+00\n",
      "  0.00000000e+00  0.00000000e+00  0.00000000e+00 -3.19037246e-03\n",
      "  0.00000000e+00  0.00000000e+00  0.00000000e+00  0.00000000e+00\n",
      " -6.66435951e-04 -2.71203879e-03  0.00000000e+00  0.00000000e+00\n",
      "  0.00000000e+00  0.00000000e+00  0.00000000e+00  0.00000000e+00\n",
      "  3.26410472e-02  0.00000000e+00  0.00000000e+00 -8.58495706e-04\n",
      "  0.00000000e+00  0.00000000e+00  0.00000000e+00  0.00000000e+00\n",
      "  0.00000000e+00  0.00000000e+00  0.00000000e+00  0.00000000e+00\n",
      "  0.00000000e+00  0.00000000e+00  0.00000000e+00 -8.59475359e-03\n",
      "  0.00000000e+00  0.00000000e+00  0.00000000e+00  0.00000000e+00\n",
      "  0.00000000e+00  0.00000000e+00  0.00000000e+00 -2.72341843e-03\n",
      "  0.00000000e+00 -5.75209951e-03  0.00000000e+00  0.00000000e+00\n",
      "  0.00000000e+00  0.00000000e+00 -1.09623182e-02  0.00000000e+00\n",
      "  0.00000000e+00  0.00000000e+00  0.00000000e+00 -3.28155966e-03\n",
      " -5.05385786e-03 -3.52177531e-03 -2.06427455e-03 -7.34447431e-03\n",
      " -1.43830609e-01  0.00000000e+00  0.00000000e+00 -3.80543974e-03\n",
      " -1.07422153e-03 -6.19726526e-03 -4.46187178e-02 -9.00587733e-04\n",
      " -1.27775183e-02  0.00000000e+00]\n",
      " 44%|████▍     | 11/25 [00:32<00:39,  2.82s/it]num_full_subsets = 1\n",
      "remaining_weight_vector = [0.11947654 0.08040961 0.06088708 0.04918258 0.0413873  0.03582606\n",
      " 0.03166128 0.02842764 0.02584595 0.02373854 0.021987   0.02050933\n",
      " 0.01924698 0.01815701 0.01720722 0.016373   0.0156352  0.01497873\n",
      " 0.01439149 0.01386373 0.01338743 0.01295602 0.012564   0.01220676\n",
      " 0.01188041 0.01158163 0.0113076  0.01105588 0.01082437 0.01061124\n",
      " 0.0104149  0.01023395 0.01006718 0.00991351 0.009772   0.00964181\n",
      " 0.00952219 0.0094125  0.00931214 0.00922061 0.00913746 0.00906226\n",
      " 0.00899468 0.0089344  0.00888115 0.00883468 0.0087948  0.00876134\n",
      " 0.00873415 0.00871312 0.00869815 0.0086892  0.00868622]\n",
      "num_paired_subset_sizes = 53\n",
      "weight_left = 0.8079159893252132\n",
      "np.sum(w_aug) = 108.00000000000003\n",
      "np.sum(self.kernelWeights) = 1.0000000000000002\n",
      "phi = [ 0.         -0.01328479 -0.00730044  0.01356672  0.0037892   0.\n",
      "  0.01199939  0.00338317  0.0042335   0.          0.          0.10846691\n",
      " -0.03393515  0.          0.1285423   0.          0.00508221  0.\n",
      "  0.          0.          0.          0.          0.          0.\n",
      "  0.          0.          0.          0.          0.          0.00611032\n",
      " -0.03214642  0.          0.00285433  0.          0.00463935  0.\n",
      "  0.          0.          0.          0.          0.          0.00349146\n",
      "  0.          0.          0.          0.          0.          0.\n",
      "  0.          0.          0.          0.          0.          0.\n",
      "  0.          0.         -0.01769643  0.          0.          0.00345965\n",
      "  0.          0.          0.          0.          0.          0.\n",
      "  0.          0.          0.          0.          0.          0.\n",
      "  0.00909193  0.          0.          0.          0.          0.\n",
      "  0.          0.          0.          0.          0.          0.03890181\n",
      "  0.          0.          0.          0.01059751  0.          0.\n",
      "  0.          0.          0.          0.          0.          0.\n",
      " -0.01342867  0.          0.01284353  0.          0.          0.\n",
      "  0.         -0.00724889 -0.02585146  0.          0.          0.        ]\n",
      " 48%|████▊     | 12/25 [00:35<00:37,  2.91s/it]num_full_subsets = 1\n",
      "remaining_weight_vector = [0.12004298 0.08080563 0.06119838 0.04944344 0.0416149  0.03603022\n",
      " 0.03184814 0.0286013  0.02600931 0.02389372 0.02213558 0.02065256\n",
      " 0.01938582 0.01829226 0.01733954 0.01650293 0.01576322 0.01510523\n",
      " 0.01451683 0.0139882  0.01351133 0.01307959 0.01268747 0.01233034\n",
      " 0.0120043  0.01170602 0.01143266 0.01118179 0.01095129 0.01073933\n",
      " 0.01054432 0.01036486 0.01019973 0.01004786 0.00990831 0.00978023\n",
      " 0.0096629  0.00955566 0.00945793 0.00936921 0.00928904 0.00921703\n",
      " 0.00915284 0.00909615 0.00904672 0.00900431 0.00896873 0.00893983\n",
      " 0.00891748 0.00890158 0.00889207 0.00888891]\n",
      "num_paired_subset_sizes = 52\n",
      "weight_left = 0.8071930411864512\n",
      "np.sum(w_aug) = 106.00000000000001\n",
      "np.sum(self.kernelWeights) = 1.0\n",
      "phi = [0.         0.         0.         0.         0.         0.\n",
      " 0.00226622 0.         0.         0.         0.         0.11103762\n",
      " 0.         0.         0.1241356  0.         0.00251291 0.\n",
      " 0.         0.         0.         0.         0.         0.\n",
      " 0.         0.         0.         0.         0.02433802 0.\n",
      " 0.         0.0011219  0.         0.00520538 0.         0.\n",
      " 0.         0.         0.         0.         0.00210946 0.\n",
      " 0.         0.         0.         0.         0.         0.\n",
      " 0.         0.         0.         0.         0.         0.\n",
      " 0.         0.         0.         0.         0.         0.\n",
      " 0.         0.         0.         0.         0.         0.\n",
      " 0.00257029 0.         0.         0.         0.00654817 0.001125\n",
      " 0.         0.         0.         0.         0.         0.\n",
      " 0.         0.         0.         0.         0.         0.\n",
      " 0.         0.01347791 0.         0.         0.         0.00411895\n",
      " 0.         0.00154758 0.         0.         0.00099779 0.01120931\n",
      " 0.0033961  0.         0.         0.02164397 0.00166379 0.\n",
      " 0.00928446 0.         0.05166881 0.        ]\n",
      " 52%|█████▏    | 13/25 [00:38<00:35,  2.98s/it]num_full_subsets = 1\n",
      "remaining_weight_vector = [0.12004298 0.08080563 0.06119838 0.04944344 0.0416149  0.03603022\n",
      " 0.03184814 0.0286013  0.02600931 0.02389372 0.02213558 0.02065256\n",
      " 0.01938582 0.01829226 0.01733954 0.01650293 0.01576322 0.01510523\n",
      " 0.01451683 0.0139882  0.01351133 0.01307959 0.01268747 0.01233034\n",
      " 0.0120043  0.01170602 0.01143266 0.01118179 0.01095129 0.01073933\n",
      " 0.01054432 0.01036486 0.01019973 0.01004786 0.00990831 0.00978023\n",
      " 0.0096629  0.00955566 0.00945793 0.00936921 0.00928904 0.00921703\n",
      " 0.00915284 0.00909615 0.00904672 0.00900431 0.00896873 0.00893983\n",
      " 0.00891748 0.00890158 0.00889207 0.00888891]\n",
      "num_paired_subset_sizes = 52\n",
      "weight_left = 0.8071930411864512\n",
      "np.sum(w_aug) = 106.00000000000001\n",
      "np.sum(self.kernelWeights) = 0.9999999999999999\n",
      "phi = [-0.00248374  0.06104354 -0.00224366 -0.00134721  0.          0.\n",
      "  0.          0.          0.          0.         -0.0035869  -0.23482681\n",
      " -0.04835027  0.         -0.07005483  0.         -0.00543931  0.\n",
      "  0.          0.         -0.00356074  0.         -0.01952732  0.\n",
      " -0.0014421   0.         -0.00210042 -0.00301109 -0.00319038  0.\n",
      "  0.          0.          0.          0.          0.         -0.01845698\n",
      " -0.00176859  0.          0.          0.          0.          0.\n",
      " -0.0010091   0.          0.          0.          0.         -0.00099304\n",
      "  0.         -0.00296561  0.          0.          0.          0.\n",
      "  0.          0.          0.          0.          0.          0.\n",
      "  0.          0.          0.          0.          0.          0.\n",
      "  0.          0.          0.          0.         -0.00439144 -0.00413592\n",
      "  0.          0.          0.          0.          0.          0.\n",
      "  0.          0.          0.         -0.00355615  0.          0.\n",
      " -0.00415813  0.         -0.01123283  0.          0.          0.\n",
      "  0.          0.01754879  0.          0.          0.         -0.00302473\n",
      "  0.          0.          0.         -0.00197712  0.         -0.00283835\n",
      "  0.         -0.00584943  0.          0.        ]\n",
      " 56%|█████▌    | 14/25 [00:42<00:36,  3.35s/it]num_full_subsets = 1\n",
      "remaining_weight_vector = [0.12004298 0.08080563 0.06119838 0.04944344 0.0416149  0.03603022\n",
      " 0.03184814 0.0286013  0.02600931 0.02389372 0.02213558 0.02065256\n",
      " 0.01938582 0.01829226 0.01733954 0.01650293 0.01576322 0.01510523\n",
      " 0.01451683 0.0139882  0.01351133 0.01307959 0.01268747 0.01233034\n",
      " 0.0120043  0.01170602 0.01143266 0.01118179 0.01095129 0.01073933\n",
      " 0.01054432 0.01036486 0.01019973 0.01004786 0.00990831 0.00978023\n",
      " 0.0096629  0.00955566 0.00945793 0.00936921 0.00928904 0.00921703\n",
      " 0.00915284 0.00909615 0.00904672 0.00900431 0.00896873 0.00893983\n",
      " 0.00891748 0.00890158 0.00889207 0.00888891]\n",
      "num_paired_subset_sizes = 52\n",
      "weight_left = 0.8071930411864512\n",
      "np.sum(w_aug) = 106.00000000000001\n",
      "np.sum(self.kernelWeights) = 0.9999999999999999\n",
      "phi = [ 0.          0.1152092   0.          0.          0.          0.\n",
      "  0.          0.          0.          0.          0.          0.12882889\n",
      " -0.02708607  0.          0.10961733  0.          0.         -0.00525902\n",
      "  0.01244842  0.          0.          0.          0.          0.\n",
      "  0.          0.          0.          0.          0.         -0.01023255\n",
      "  0.          0.          0.          0.00575811  0.          0.\n",
      "  0.          0.          0.          0.          0.          0.\n",
      "  0.          0.          0.          0.          0.          0.\n",
      "  0.          0.          0.          0.          0.          0.\n",
      "  0.          0.          0.          0.          0.          0.\n",
      "  0.          0.          0.          0.          0.          0.\n",
      "  0.          0.          0.         -0.0092845   0.         -0.01356876\n",
      "  0.          0.          0.          0.          0.          0.\n",
      "  0.          0.          0.          0.          0.          0.\n",
      "  0.          0.01240369  0.          0.          0.          0.\n",
      "  0.          0.          0.          0.          0.          0.\n",
      "  0.01139638  0.          0.          0.         -0.02209752  0.\n",
      " -0.03342712  0.          0.          0.        ]\n",
      " 60%|██████    | 15/25 [00:46<00:33,  3.38s/it]num_full_subsets = 1\n",
      "remaining_weight_vector = [0.12004298 0.08080563 0.06119838 0.04944344 0.0416149  0.03603022\n",
      " 0.03184814 0.0286013  0.02600931 0.02389372 0.02213558 0.02065256\n",
      " 0.01938582 0.01829226 0.01733954 0.01650293 0.01576322 0.01510523\n",
      " 0.01451683 0.0139882  0.01351133 0.01307959 0.01268747 0.01233034\n",
      " 0.0120043  0.01170602 0.01143266 0.01118179 0.01095129 0.01073933\n",
      " 0.01054432 0.01036486 0.01019973 0.01004786 0.00990831 0.00978023\n",
      " 0.0096629  0.00955566 0.00945793 0.00936921 0.00928904 0.00921703\n",
      " 0.00915284 0.00909615 0.00904672 0.00900431 0.00896873 0.00893983\n",
      " 0.00891748 0.00890158 0.00889207 0.00888891]\n",
      "num_paired_subset_sizes = 52\n",
      "weight_left = 0.8071930411864512\n",
      "np.sum(w_aug) = 106.00000000000003\n",
      "np.sum(self.kernelWeights) = 1.0000000000000002\n",
      "phi = [ 0.          0.03599774  0.          0.          0.          0.\n",
      "  0.          0.          0.          0.          0.         -0.17745696\n",
      " -0.0439339   0.         -0.05089851  0.          0.          0.\n",
      " -0.00893094  0.         -0.00311923  0.          0.         -0.00480998\n",
      " -0.0016448   0.          0.         -0.00296433 -0.00421714  0.\n",
      "  0.          0.         -0.00194356 -0.06729841  0.          0.\n",
      "  0.          0.          0.          0.         -0.06483737  0.\n",
      " -0.00157372  0.          0.          0.          0.          0.\n",
      "  0.          0.          0.          0.          0.          0.\n",
      "  0.          0.          0.          0.          0.          0.\n",
      "  0.          0.         -0.00485301  0.          0.         -0.00178456\n",
      "  0.          0.          0.          0.         -0.00218442  0.\n",
      "  0.          0.          0.          0.          0.          0.\n",
      "  0.          0.          0.          0.          0.          0.\n",
      " -0.00576005 -0.01846718  0.          0.          0.         -0.00329255\n",
      "  0.          0.          0.          0.          0.          0.\n",
      "  0.          0.          0.          0.          0.         -0.00418589\n",
      " -0.02618548 -0.00640379  0.          0.        ]\n",
      " 64%|██████▍   | 16/25 [00:48<00:28,  3.15s/it]num_full_subsets = 1\n",
      "remaining_weight_vector = [0.12004298 0.08080563 0.06119838 0.04944344 0.0416149  0.03603022\n",
      " 0.03184814 0.0286013  0.02600931 0.02389372 0.02213558 0.02065256\n",
      " 0.01938582 0.01829226 0.01733954 0.01650293 0.01576322 0.01510523\n",
      " 0.01451683 0.0139882  0.01351133 0.01307959 0.01268747 0.01233034\n",
      " 0.0120043  0.01170602 0.01143266 0.01118179 0.01095129 0.01073933\n",
      " 0.01054432 0.01036486 0.01019973 0.01004786 0.00990831 0.00978023\n",
      " 0.0096629  0.00955566 0.00945793 0.00936921 0.00928904 0.00921703\n",
      " 0.00915284 0.00909615 0.00904672 0.00900431 0.00896873 0.00893983\n",
      " 0.00891748 0.00890158 0.00889207 0.00888891]\n",
      "num_paired_subset_sizes = 52\n",
      "weight_left = 0.8071930411864512\n",
      "np.sum(w_aug) = 106.00000000000003\n",
      "np.sum(self.kernelWeights) = 1.0000000000000002\n",
      "phi = [ 0.          0.          0.          0.          0.          0.\n",
      "  0.          0.         -0.03544807  0.00182977  0.00308007  0.13002541\n",
      "  0.1677104   0.          0.          0.          0.00518663  0.\n",
      "  0.00914725  0.          0.0105004   0.          0.          0.\n",
      "  0.00156011  0.          0.01315703  0.          0.          0.00587762\n",
      "  0.          0.          0.00052047  0.00587204  0.          0.\n",
      "  0.          0.          0.          0.          0.0043982   0.\n",
      "  0.          0.          0.          0.          0.          0.\n",
      "  0.          0.          0.          0.          0.          0.\n",
      "  0.          0.          0.          0.          0.          0.\n",
      "  0.          0.          0.          0.          0.00258619  0.\n",
      "  0.          0.          0.          0.          0.          0.\n",
      "  0.          0.          0.          0.          0.          0.\n",
      "  0.          0.          0.          0.          0.          0.\n",
      "  0.          0.          0.          0.          0.          0.\n",
      "  0.          0.          0.00108391  0.01962569  0.00364196  0.\n",
      "  0.01062583  0.00289526  0.          0.03977172  0.          0.\n",
      "  0.01089333  0.00509756  0.00961317  0.        ]\n",
      " 68%|██████▊   | 17/25 [00:51<00:24,  3.06s/it]num_full_subsets = 1\n",
      "remaining_weight_vector = [0.12004298 0.08080563 0.06119838 0.04944344 0.0416149  0.03603022\n",
      " 0.03184814 0.0286013  0.02600931 0.02389372 0.02213558 0.02065256\n",
      " 0.01938582 0.01829226 0.01733954 0.01650293 0.01576322 0.01510523\n",
      " 0.01451683 0.0139882  0.01351133 0.01307959 0.01268747 0.01233034\n",
      " 0.0120043  0.01170602 0.01143266 0.01118179 0.01095129 0.01073933\n",
      " 0.01054432 0.01036486 0.01019973 0.01004786 0.00990831 0.00978023\n",
      " 0.0096629  0.00955566 0.00945793 0.00936921 0.00928904 0.00921703\n",
      " 0.00915284 0.00909615 0.00904672 0.00900431 0.00896873 0.00893983\n",
      " 0.00891748 0.00890158 0.00889207 0.00888891]\n",
      "num_paired_subset_sizes = 52\n",
      "weight_left = 0.8071930411864512\n",
      "np.sum(w_aug) = 106.0\n",
      "np.sum(self.kernelWeights) = 1.0000000000000004\n",
      "phi = [-0.00187358 -0.00377469 -0.0056476   0.          0.          0.\n",
      "  0.          0.          0.         -0.01019257 -0.00293123 -0.19172861\n",
      " -0.05158568  0.         -0.06407681 -0.0029665   0.          0.\n",
      " -0.00349437  0.          0.          0.          0.         -0.00381173\n",
      "  0.          0.          0.          0.          0.01849597  0.\n",
      "  0.          0.          0.          0.          0.          0.\n",
      "  0.          0.          0.          0.          0.          0.\n",
      "  0.          0.          0.          0.          0.          0.\n",
      "  0.         -0.00315987  0.          0.          0.          0.\n",
      "  0.          0.          0.06379031  0.          0.          0.\n",
      "  0.          0.         -0.0044313   0.          0.          0.\n",
      "  0.          0.          0.          0.          0.          0.\n",
      "  0.          0.          0.          0.          0.          0.\n",
      "  0.          0.         -0.00278582  0.          0.          0.\n",
      "  0.          0.          0.          0.         -0.00357642  0.\n",
      "  0.          0.          0.          0.          0.          0.02922204\n",
      "  0.          0.          0.          0.          0.         -0.0030944\n",
      " -0.04583926 -0.00455867  0.          0.        ]\n",
      " 72%|███████▏  | 18/25 [00:54<00:20,  2.95s/it]num_full_subsets = 1\n",
      "remaining_weight_vector = [0.12004298 0.08080563 0.06119838 0.04944344 0.0416149  0.03603022\n",
      " 0.03184814 0.0286013  0.02600931 0.02389372 0.02213558 0.02065256\n",
      " 0.01938582 0.01829226 0.01733954 0.01650293 0.01576322 0.01510523\n",
      " 0.01451683 0.0139882  0.01351133 0.01307959 0.01268747 0.01233034\n",
      " 0.0120043  0.01170602 0.01143266 0.01118179 0.01095129 0.01073933\n",
      " 0.01054432 0.01036486 0.01019973 0.01004786 0.00990831 0.00978023\n",
      " 0.0096629  0.00955566 0.00945793 0.00936921 0.00928904 0.00921703\n",
      " 0.00915284 0.00909615 0.00904672 0.00900431 0.00896873 0.00893983\n",
      " 0.00891748 0.00890158 0.00889207 0.00888891]\n",
      "num_paired_subset_sizes = 52\n",
      "weight_left = 0.8071930411864512\n",
      "np.sum(w_aug) = 106.00000000000003\n",
      "np.sum(self.kernelWeights) = 1.0000000000000002\n",
      "phi = [0.06155059 0.         0.         0.         0.         0.\n",
      " 0.00706502 0.         0.00558747 0.         0.         0.13850572\n",
      " 0.17799615 0.         0.         0.         0.00780697 0.\n",
      " 0.00865798 0.         0.         0.         0.         0.\n",
      " 0.         0.         0.         0.         0.         0.\n",
      " 0.         0.00197131 0.         0.00366156 0.         0.\n",
      " 0.         0.         0.         0.         0.         0.\n",
      " 0.         0.         0.         0.         0.         0.\n",
      " 0.         0.         0.         0.         0.         0.\n",
      " 0.         0.         0.         0.         0.         0.\n",
      " 0.00296426 0.         0.         0.         0.         0.\n",
      " 0.         0.0220545  0.         0.         0.         0.\n",
      " 0.         0.         0.         0.         0.         0.\n",
      " 0.         0.         0.         0.         0.         0.\n",
      " 0.         0.         0.         0.         0.         0.0256292\n",
      " 0.00162862 0.00284694 0.         0.         0.         0.\n",
      " 0.01174868 0.         0.00476761 0.         0.         0.\n",
      " 0.01437352 0.00619343 0.         0.        ]\n",
      " 76%|███████▌  | 19/25 [00:56<00:16,  2.82s/it]num_full_subsets = 1\n",
      "remaining_weight_vector = [0.12004298 0.08080563 0.06119838 0.04944344 0.0416149  0.03603022\n",
      " 0.03184814 0.0286013  0.02600931 0.02389372 0.02213558 0.02065256\n",
      " 0.01938582 0.01829226 0.01733954 0.01650293 0.01576322 0.01510523\n",
      " 0.01451683 0.0139882  0.01351133 0.01307959 0.01268747 0.01233034\n",
      " 0.0120043  0.01170602 0.01143266 0.01118179 0.01095129 0.01073933\n",
      " 0.01054432 0.01036486 0.01019973 0.01004786 0.00990831 0.00978023\n",
      " 0.0096629  0.00955566 0.00945793 0.00936921 0.00928904 0.00921703\n",
      " 0.00915284 0.00909615 0.00904672 0.00900431 0.00896873 0.00893983\n",
      " 0.00891748 0.00890158 0.00889207 0.00888891]\n",
      "num_paired_subset_sizes = 52\n",
      "weight_left = 0.8071930411864512\n",
      "np.sum(w_aug) = 106.00000000000001\n",
      "np.sum(self.kernelWeights) = 1.0000000000000004\n",
      "phi = [-0.00261369 -0.00640892 -0.00806149  0.          0.         -0.00225356\n",
      " -0.01328164  0.         -0.00189161  0.          0.         -0.16794652\n",
      " -0.04871311  0.         -0.0514508  -0.00165213  0.         -0.00315927\n",
      " -0.01077122 -0.00109583 -0.00348312 -0.00145093  0.         -0.00339104\n",
      "  0.          0.         -0.00196008 -0.00204811  0.          0.\n",
      "  0.          0.          0.         -0.04565921  0.          0.\n",
      "  0.          0.         -0.0090562   0.          0.          0.\n",
      "  0.          0.          0.         -0.00235027  0.          0.\n",
      "  0.         -0.00280152  0.         -0.00085487  0.          0.\n",
      " -0.00056762  0.          0.          0.         -0.00074483  0.\n",
      "  0.          0.         -0.00321475  0.         -0.00042808  0.\n",
      "  0.          0.          0.          0.          0.         -0.00095369\n",
      " -0.00125595  0.          0.         -0.00087475  0.          0.\n",
      "  0.         -0.00092016  0.         -0.00072968 -0.0011714   0.\n",
      " -0.00151011 -0.01669517 -0.00367545  0.          0.          0.\n",
      " -0.00087942  0.         -0.00076524  0.         -0.00416109 -0.00125906\n",
      "  0.          0.          0.          0.          0.         -0.00459009\n",
      " -0.03021243 -0.00787321 -0.00500163  0.        ]\n",
      " 80%|████████  | 20/25 [00:59<00:13,  2.71s/it]num_full_subsets = 1\n",
      "remaining_weight_vector = [0.12004298 0.08080563 0.06119838 0.04944344 0.0416149  0.03603022\n",
      " 0.03184814 0.0286013  0.02600931 0.02389372 0.02213558 0.02065256\n",
      " 0.01938582 0.01829226 0.01733954 0.01650293 0.01576322 0.01510523\n",
      " 0.01451683 0.0139882  0.01351133 0.01307959 0.01268747 0.01233034\n",
      " 0.0120043  0.01170602 0.01143266 0.01118179 0.01095129 0.01073933\n",
      " 0.01054432 0.01036486 0.01019973 0.01004786 0.00990831 0.00978023\n",
      " 0.0096629  0.00955566 0.00945793 0.00936921 0.00928904 0.00921703\n",
      " 0.00915284 0.00909615 0.00904672 0.00900431 0.00896873 0.00893983\n",
      " 0.00891748 0.00890158 0.00889207 0.00888891]\n",
      "num_paired_subset_sizes = 52\n",
      "weight_left = 0.8071930411864512\n",
      "np.sum(w_aug) = 106.00000000000001\n",
      "np.sum(self.kernelWeights) = 1.0\n",
      "phi = [ 0.         -0.00585675 -0.00500556  0.         -0.0030267  -0.00846967\n",
      " -0.03052172  0.          0.          0.          0.          0.09256023\n",
      " -0.0436317   0.         -0.05519349  0.         -0.06588157 -0.0051918\n",
      "  0.01342007  0.          0.          0.          0.          0.\n",
      "  0.          0.         -0.01345297  0.         -0.00591626  0.\n",
      " -0.0009847   0.          0.          0.          0.          0.\n",
      "  0.         -0.00454325  0.          0.          0.          0.\n",
      " -0.00303136  0.          0.          0.          0.          0.\n",
      "  0.          0.          0.          0.          0.          0.\n",
      "  0.          0.          0.0082064  -0.02752803 -0.00368673  0.\n",
      "  0.         -0.0038493  -0.00104771  0.          0.          0.\n",
      "  0.          0.          0.          0.         -0.00871979 -0.0042055\n",
      " -0.00374979 -0.00415076  0.          0.          0.          0.\n",
      "  0.          0.          0.         -0.0022141   0.          0.\n",
      "  0.          0.          0.          0.         -0.00550721  0.\n",
      " -0.00512466 -0.00549565  0.          0.03001169  0.         -0.00322976\n",
      "  0.01013002  0.          0.         -0.01036152  0.          0.\n",
      " -0.01691442 -0.00589617  0.01003941  0.        ]\n",
      " 84%|████████▍ | 21/25 [01:02<00:11,  2.76s/it]num_full_subsets = 1\n",
      "remaining_weight_vector = [0.12028616 0.08096184 0.06131091 0.0495296  0.04168332 0.03608585\n",
      " 0.03189406 0.02863956 0.02604133 0.02392054 0.02215798 0.02067111\n",
      " 0.01940099 0.01830442 0.01734897 0.01650987 0.01576785 0.01510771\n",
      " 0.0145173  0.01398676 0.01350807 0.01307458 0.01268077 0.012322\n",
      " 0.01199435 0.01169449 0.01141957 0.01116715 0.01093511 0.0107216\n",
      " 0.01052504 0.01034402 0.01017731 0.01002385 0.00988267 0.00975293\n",
      " 0.0096339  0.00952492 0.00942541 0.00933485 0.00925278 0.00917881\n",
      " 0.00911259 0.0090538  0.00900217 0.00895748 0.00891952 0.00888814\n",
      " 0.00886319 0.00884457 0.0088322  0.00882603]\n",
      "num_paired_subset_sizes = 53\n",
      "weight_left = 0.8075569398054265\n",
      "np.sum(w_aug) = 107.00000000000001\n",
      "np.sum(self.kernelWeights) = 1.0\n",
      "phi = [ 0.          0.          0.06141129  0.          0.          0.\n",
      "  0.00549453  0.          0.00556261  0.          0.          0.12120193\n",
      "  0.08217045  0.         -0.01524633  0.          0.          0.\n",
      "  0.00243256  0.          0.          0.          0.          0.\n",
      "  0.          0.          0.          0.          0.          0.\n",
      "  0.          0.          0.          0.0039171   0.          0.\n",
      "  0.          0.          0.          0.          0.          0.\n",
      "  0.          0.          0.          0.          0.          0.\n",
      "  0.00056254  0.          0.          0.          0.00198124  0.\n",
      "  0.          0.          0.          0.00321627  0.          0.\n",
      " -0.1777374   0.          0.          0.          0.          0.\n",
      "  0.          0.          0.          0.          0.          0.\n",
      "  0.          0.          0.0290724   0.          0.          0.\n",
      "  0.          0.          0.03460922  0.          0.          0.\n",
      "  0.          0.          0.          0.          0.          0.\n",
      "  0.          0.          0.          0.          0.          0.\n",
      "  0.          0.00696717  0.          0.          0.          0.\n",
      "  0.          0.          0.          0.          0.        ]\n",
      " 88%|████████▊ | 22/25 [01:05<00:08,  2.78s/it]num_full_subsets = 1\n",
      "remaining_weight_vector = [0.11947654 0.08040961 0.06088708 0.04918258 0.0413873  0.03582606\n",
      " 0.03166128 0.02842764 0.02584595 0.02373854 0.021987   0.02050933\n",
      " 0.01924698 0.01815701 0.01720722 0.016373   0.0156352  0.01497873\n",
      " 0.01439149 0.01386373 0.01338743 0.01295602 0.012564   0.01220676\n",
      " 0.01188041 0.01158163 0.0113076  0.01105588 0.01082437 0.01061124\n",
      " 0.0104149  0.01023395 0.01006718 0.00991351 0.009772   0.00964181\n",
      " 0.00952219 0.0094125  0.00931214 0.00922061 0.00913746 0.00906226\n",
      " 0.00899468 0.0089344  0.00888115 0.00883468 0.0087948  0.00876134\n",
      " 0.00873415 0.00871312 0.00869815 0.0086892  0.00868622]\n",
      "num_paired_subset_sizes = 53\n",
      "weight_left = 0.8079159893252132\n",
      "np.sum(w_aug) = 108.00000000000003\n",
      "np.sum(self.kernelWeights) = 1.0000000000000002\n",
      "phi = [-0.00338832 -0.00401746 -0.00439662 -0.00354023  0.          0.\n",
      "  0.          0.          0.          0.         -0.00211257 -0.17411127\n",
      " -0.02748937  0.         -0.0437545   0.         -0.00438449 -0.00144424\n",
      "  0.         -0.01114055  0.          0.          0.          0.\n",
      "  0.          0.          0.01003667 -0.00235168  0.          0.\n",
      "  0.          0.          0.          0.          0.          0.\n",
      "  0.          0.          0.          0.          0.          0.\n",
      " -0.00097112  0.          0.          0.          0.          0.\n",
      "  0.          0.14583754  0.          0.          0.          0.\n",
      "  0.          0.          0.          0.          0.          0.\n",
      "  0.          0.         -0.00334868  0.          0.          0.\n",
      "  0.          0.          0.          0.         -0.0089272  -0.01331718\n",
      "  0.          0.          0.          0.          0.          0.\n",
      "  0.          0.          0.          0.         -0.00140685  0.\n",
      " -0.00340423  0.         -0.00788815  0.          0.          0.01266484\n",
      " -0.00183803 -0.00247562  0.          0.          0.         -0.00222113\n",
      "  0.01380527  0.          0.          0.          0.         -0.00265655\n",
      " -0.00461277  0.         -0.00333216 -0.00508437  0.00870478  0.        ]\n",
      " 92%|█████████▏| 23/25 [01:08<00:05,  2.99s/it]num_full_subsets = 1\n",
      "remaining_weight_vector = [0.12004298 0.08080563 0.06119838 0.04944344 0.0416149  0.03603022\n",
      " 0.03184814 0.0286013  0.02600931 0.02389372 0.02213558 0.02065256\n",
      " 0.01938582 0.01829226 0.01733954 0.01650293 0.01576322 0.01510523\n",
      " 0.01451683 0.0139882  0.01351133 0.01307959 0.01268747 0.01233034\n",
      " 0.0120043  0.01170602 0.01143266 0.01118179 0.01095129 0.01073933\n",
      " 0.01054432 0.01036486 0.01019973 0.01004786 0.00990831 0.00978023\n",
      " 0.0096629  0.00955566 0.00945793 0.00936921 0.00928904 0.00921703\n",
      " 0.00915284 0.00909615 0.00904672 0.00900431 0.00896873 0.00893983\n",
      " 0.00891748 0.00890158 0.00889207 0.00888891]\n",
      "num_paired_subset_sizes = 52\n",
      "weight_left = 0.8071930411864512\n",
      "np.sum(w_aug) = 106.00000000000001\n",
      "np.sum(self.kernelWeights) = 1.0\n",
      "phi = [ 0.         -0.00798837  0.04975014  0.          0.         -0.00136717\n",
      "  0.          0.          0.          0.          0.          0.06435307\n",
      " -0.03561413  0.         -0.04962032 -0.00069219 -0.08026333 -0.00597126\n",
      " -0.01505007  0.          0.          0.          0.         -0.00293928\n",
      "  0.          0.          0.          0.         -0.00293365  0.\n",
      "  0.         -0.10333976  0.          0.          0.          0.\n",
      "  0.          0.          0.          0.          0.          0.\n",
      " -0.00214157  0.          0.          0.          0.          0.\n",
      "  0.          0.          0.          0.          0.          0.\n",
      "  0.          0.          0.          0.         -0.00288896  0.\n",
      "  0.          0.         -0.00339233  0.          0.          0.\n",
      " -0.12904129 -0.00365869 -0.00155215  0.         -0.00254564 -0.00523398\n",
      "  0.          0.          0.         -0.00147546  0.          0.\n",
      "  0.         -0.00142818  0.          0.          0.          0.\n",
      "  0.          0.         -0.00847489  0.          0.         -0.00417437\n",
      "  0.          0.          0.         -0.00181323  0.00044347 -0.00393194\n",
      " -0.03707655  0.         -0.00284942 -0.00243106  0.         -0.00491741\n",
      " -0.03262946 -0.00967682  0.          0.        ]\n",
      " 96%|█████████▌| 24/25 [01:11<00:03,  3.06s/it]num_full_subsets = 1\n",
      "remaining_weight_vector = [0.12004298 0.08080563 0.06119838 0.04944344 0.0416149  0.03603022\n",
      " 0.03184814 0.0286013  0.02600931 0.02389372 0.02213558 0.02065256\n",
      " 0.01938582 0.01829226 0.01733954 0.01650293 0.01576322 0.01510523\n",
      " 0.01451683 0.0139882  0.01351133 0.01307959 0.01268747 0.01233034\n",
      " 0.0120043  0.01170602 0.01143266 0.01118179 0.01095129 0.01073933\n",
      " 0.01054432 0.01036486 0.01019973 0.01004786 0.00990831 0.00978023\n",
      " 0.0096629  0.00955566 0.00945793 0.00936921 0.00928904 0.00921703\n",
      " 0.00915284 0.00909615 0.00904672 0.00900431 0.00896873 0.00893983\n",
      " 0.00891748 0.00890158 0.00889207 0.00888891]\n",
      "num_paired_subset_sizes = 52\n",
      "weight_left = 0.8071930411864512\n",
      "np.sum(w_aug) = 106.00000000000001\n",
      "np.sum(self.kernelWeights) = 1.0\n",
      "phi = [0.0518377  0.         0.         0.         0.00137714 0.\n",
      " 0.00358061 0.         0.00656769 0.         0.00094906 0.12163888\n",
      " 0.13084333 0.         0.         0.         0.00198255 0.\n",
      " 0.00992509 0.         0.01082847 0.         0.         0.\n",
      " 0.00264656 0.00107635 0.         0.         0.         0.\n",
      " 0.         0.00169622 0.         0.00724718 0.         0.\n",
      " 0.         0.         0.         0.         0.001093   0.\n",
      " 0.         0.         0.         0.         0.         0.\n",
      " 0.         0.         0.         0.         0.         0.\n",
      " 0.         0.         0.         0.00192981 0.         0.00077535\n",
      " 0.         0.         0.         0.         0.         0.\n",
      " 0.00220535 0.         0.         0.         0.         0.00414853\n",
      " 0.         0.         0.         0.         0.         0.\n",
      " 0.         0.         0.         0.         0.         0.\n",
      " 0.         0.00342647 0.00407266 0.         0.         0.\n",
      " 0.00270827 0.         0.0022483  0.         0.00294707 0.01792376\n",
      " 0.00958942 0.00115862 0.0024144  0.         0.00145792 0.\n",
      " 0.         0.         0.00077437 0.        ]\n",
      "100%|██████████| 25/25 [01:16<00:00,  3.06s/it]\n",
      "Generating mini dash\n",
      "Generated mini dash\n"
     ]
    },
    {
     "data": {
      "text/html": [
       "<!-- http://127.0.0.1:7001/1500859085536/ -->\n",
       "<iframe src=\"http://127.0.0.1:7001/1500859085536/\" width=100% height=800 frameBorder=\"0\"></iframe>"
      ]
     },
     "metadata": {},
     "output_type": "display_data"
    }
   ],
   "source": [
    "shap_local = shap.explain_local(pd.DataFrame(xt)[:25], pd.DataFrame(yt)[:25])\n",
    "\n",
    "show(shap_local)"
   ]
  },
  {
   "cell_type": "markdown",
   "metadata": {},
   "source": [
    "#### Partial Dependence Plot Intro\n",
    "Partial dependence plots reveal the dependence between our target variable and any given feature.  "
   ]
  },
  {
   "cell_type": "code",
   "execution_count": 54,
   "metadata": {},
   "outputs": [],
   "source": [
    "pdp = PartialDependence(predict_fn=writingForest.predict_proba, data=x, num_points=200)"
   ]
  },
  {
   "cell_type": "code",
   "execution_count": 55,
   "metadata": {},
   "outputs": [
    {
     "name": "stderr",
     "output_type": "stream",
     "text": [
      "No overall plot to display: -1|ShapKernel_3\n",
      "Generating mini dash\n",
      "Generated mini dash\n"
     ]
    },
    {
     "data": {
      "text/html": [
       "<!-- http://127.0.0.1:7001/1500839767104/ -->\n",
       "<iframe src=\"http://127.0.0.1:7001/1500839767104/\" width=100% height=800 frameBorder=\"0\"></iframe>"
      ]
     },
     "metadata": {},
     "output_type": "display_data"
    },
    {
     "name": "stderr",
     "output_type": "stream",
     "text": [
      "No overall plot to display: -1|ShapKernel_3\n",
      "No overall plot to display: -1|PartialDependence_2\n"
     ]
    }
   ],
   "source": [
    "pdp_global = pdp.explain_global()\n",
    "\n",
    "show(pdp_global)"
   ]
  },
  {
   "cell_type": "markdown",
   "metadata": {},
   "source": [
    "### Generate predictions on true test dataset"
   ]
  },
  {
   "cell_type": "code",
   "execution_count": 43,
   "metadata": {},
   "outputs": [],
   "source": [
    "test_data.fillna(-99, inplace=True)"
   ]
  },
  {
   "cell_type": "code",
   "execution_count": 44,
   "metadata": {},
   "outputs": [],
   "source": [
    "# Create regression arrays\n",
    "_, Xtest = pt.dmatrices(\"TTP ~ C(iyear) + C(provstate) + multiple + success + suicide + attacktype1 + C(targtype1) + C(targsubtype1) + weaptype1 + weapsubtype1 + nkill + nkillus + nkillter + nwound + nwoundus + nwoundte + C(Month)\", data = test_data, return_type='dataframe')"
   ]
  },
  {
   "cell_type": "code",
   "execution_count": 47,
   "metadata": {},
   "outputs": [],
   "source": [
    "remove_cols = set(Xtest.columns) - set(X.columns)\n",
    "add_cols = set(X.columns) - set(Xtest.columns)"
   ]
  },
  {
   "cell_type": "code",
   "execution_count": 48,
   "metadata": {},
   "outputs": [],
   "source": [
    "for col in remove_cols:\n",
    "    del Xtest[col]\n",
    "for col in add_cols:\n",
    "    Xtest[col] = 0"
   ]
  },
  {
   "cell_type": "code",
   "execution_count": 49,
   "metadata": {},
   "outputs": [],
   "source": [
    "# Make predictions\n",
    "fpred = fclf.predict(Xtest)"
   ]
  },
  {
   "cell_type": "code",
   "execution_count": 50,
   "metadata": {},
   "outputs": [
    {
     "data": {
      "text/html": [
       "<div><div id=54e49343-f3c9-4e68-9072-d1999492eb5d style=\"display:none; background-color:#9D6CFF; color:white; width:200px; height:30px; padding-left:5px; border-radius:4px; flex-direction:row; justify-content:space-around; align-items:center;\" onmouseover=\"this.style.backgroundColor='#BA9BF8'\" onmouseout=\"this.style.backgroundColor='#9D6CFF'\" onclick=\"window.commands?.execute('create-mitosheet-from-dataframe-output');\">See Full Dataframe in Mito</div> <script> if (window.commands.hasCommand('create-mitosheet-from-dataframe-output')) document.getElementById('54e49343-f3c9-4e68-9072-d1999492eb5d').style.display = 'flex' </script> <table border=\"1\" class=\"dataframe\">\n",
       "  <thead>\n",
       "    <tr style=\"text-align: right;\">\n",
       "      <th></th>\n",
       "      <th>eventid</th>\n",
       "      <th>TTP</th>\n",
       "    </tr>\n",
       "  </thead>\n",
       "  <tbody>\n",
       "    <tr>\n",
       "      <th>0</th>\n",
       "      <td>200712030005</td>\n",
       "      <td>0.0</td>\n",
       "    </tr>\n",
       "    <tr>\n",
       "      <th>1</th>\n",
       "      <td>200712040005</td>\n",
       "      <td>0.0</td>\n",
       "    </tr>\n",
       "    <tr>\n",
       "      <th>3</th>\n",
       "      <td>200712080003</td>\n",
       "      <td>0.0</td>\n",
       "    </tr>\n",
       "    <tr>\n",
       "      <th>4</th>\n",
       "      <td>200712090002</td>\n",
       "      <td>0.0</td>\n",
       "    </tr>\n",
       "    <tr>\n",
       "      <th>5</th>\n",
       "      <td>200712090004</td>\n",
       "      <td>1.0</td>\n",
       "    </tr>\n",
       "  </tbody>\n",
       "</table></div>"
      ],
      "text/plain": [
       "        eventid  TTP\n",
       "0  200712030005  0.0\n",
       "1  200712040005  0.0\n",
       "3  200712080003  0.0\n",
       "4  200712090002  0.0\n",
       "5  200712090004  1.0"
      ]
     },
     "execution_count": 50,
     "metadata": {},
     "output_type": "execute_result"
    }
   ],
   "source": [
    "pred_df = pd.DataFrame({'eventid':test_data['eventid'], 'TTP':fpred})\n",
    "pred_df.head()"
   ]
  },
  {
   "cell_type": "code",
   "execution_count": 51,
   "metadata": {},
   "outputs": [],
   "source": [
    "pred_df.to_csv('test_preds.csv')"
   ]
  },
  {
   "cell_type": "code",
   "execution_count": 52,
   "metadata": {},
   "outputs": [
    {
     "data": {
      "text/plain": [
       "0.5810013117621338"
      ]
     },
     "execution_count": 52,
     "metadata": {},
     "output_type": "execute_result"
    }
   ],
   "source": [
    "pred_df['TTP'].mean()"
   ]
  },
  {
   "cell_type": "code",
   "execution_count": 53,
   "metadata": {},
   "outputs": [
    {
     "name": "stderr",
     "output_type": "stream",
     "text": [
      "  0%|          | 0/25 [00:00<?, ?it/s]num_full_subsets = 1\n",
      "remaining_weight_vector = [0.12004298 0.08080563 0.06119838 0.04944344 0.0416149  0.03603022\n",
      " 0.03184814 0.0286013  0.02600931 0.02389372 0.02213558 0.02065256\n",
      " 0.01938582 0.01829226 0.01733954 0.01650293 0.01576322 0.01510523\n",
      " 0.01451683 0.0139882  0.01351133 0.01307959 0.01268747 0.01233034\n",
      " 0.0120043  0.01170602 0.01143266 0.01118179 0.01095129 0.01073933\n",
      " 0.01054432 0.01036486 0.01019973 0.01004786 0.00990831 0.00978023\n",
      " 0.0096629  0.00955566 0.00945793 0.00936921 0.00928904 0.00921703\n",
      " 0.00915284 0.00909615 0.00904672 0.00900431 0.00896873 0.00893983\n",
      " 0.00891748 0.00890158 0.00889207 0.00888891]\n",
      "num_paired_subset_sizes = 52\n",
      "weight_left = 0.8071930411864512\n",
      "np.sum(w_aug) = 106.00000000000003\n",
      "np.sum(self.kernelWeights) = 1.0000000000000002\n",
      "phi = [-0.0019741  -0.00593282 -0.00739573 -0.00197189  0.         -0.00096431\n",
      "  0.          0.         -0.00177887  0.         -0.00078957 -0.21743892\n",
      " -0.04788072  0.         -0.04222991 -0.00443269 -0.00534377 -0.00297544\n",
      " -0.00501911  0.         -0.00157056  0.          0.         -0.00312174\n",
      "  0.         -0.00215253  0.         -0.00259396  0.          0.\n",
      " -0.00174949  0.          0.          0.          0.          0.\n",
      "  0.          0.          0.          0.          0.          0.\n",
      "  0.          0.          0.          0.          0.          0.\n",
      "  0.         -0.00408474  0.          0.          0.          0.\n",
      "  0.          0.          0.          0.         -0.00212567  0.\n",
      "  0.          0.         -0.00414769  0.          0.          0.\n",
      "  0.          0.          0.          0.          0.          0.\n",
      " -0.00105657  0.          0.          0.          0.          0.\n",
      "  0.         -0.00108057  0.          0.          0.          0.\n",
      " -0.00547644  0.         -0.00220459  0.          0.          0.\n",
      " -0.00150461 -0.00197637  0.          0.          0.         -0.00325023\n",
      "  0.          0.          0.         -0.00217038 -0.00367882 -0.00493925\n",
      " -0.02719463 -0.00704234 -0.00513539  0.        ]\n",
      "  4%|▍         | 1/25 [00:02<01:04,  2.67s/it]num_full_subsets = 1\n",
      "remaining_weight_vector = [0.11947654 0.08040961 0.06088708 0.04918258 0.0413873  0.03582606\n",
      " 0.03166128 0.02842764 0.02584595 0.02373854 0.021987   0.02050933\n",
      " 0.01924698 0.01815701 0.01720722 0.016373   0.0156352  0.01497873\n",
      " 0.01439149 0.01386373 0.01338743 0.01295602 0.012564   0.01220676\n",
      " 0.01188041 0.01158163 0.0113076  0.01105588 0.01082437 0.01061124\n",
      " 0.0104149  0.01023395 0.01006718 0.00991351 0.009772   0.00964181\n",
      " 0.00952219 0.0094125  0.00931214 0.00922061 0.00913746 0.00906226\n",
      " 0.00899468 0.0089344  0.00888115 0.00883468 0.0087948  0.00876134\n",
      " 0.00873415 0.00871312 0.00869815 0.0086892  0.00868622]\n",
      "num_paired_subset_sizes = 53\n",
      "weight_left = 0.8079159893252132\n",
      "np.sum(w_aug) = 108.00000000000003\n",
      "np.sum(self.kernelWeights) = 1.0000000000000002\n",
      "phi = [-0.00553418 -0.01093731 -0.00885931 -0.00255003  0.         -0.00121398\n",
      "  0.00610755 -0.0030581   0.00500066  0.          0.00485954  0.11131703\n",
      " -0.03002627  0.          0.08479179 -0.00243213  0.00372724 -0.00763313\n",
      " -0.0200563  -0.00273792  0.          0.         -0.00150288 -0.00173971\n",
      "  0.          0.0045974   0.         -0.02280129  0.          0.\n",
      "  0.          0.          0.          0.          0.          0.0053904\n",
      "  0.          0.          0.          0.          0.          0.\n",
      "  0.00397464 -0.0017263   0.          0.          0.          0.\n",
      "  0.          0.          0.          0.         -0.00146754 -0.00146881\n",
      "  0.          0.          0.          0.          0.          0.00631723\n",
      " -0.00292474  0.          0.          0.         -0.00460304  0.\n",
      "  0.          0.          0.          0.          0.          0.\n",
      "  0.00808889  0.00339809  0.          0.          0.         -0.00255592\n",
      " -0.00172484 -0.0017725   0.          0.          0.          0.\n",
      "  0.          0.         -0.0029869   0.01094295 -0.00440624  0.\n",
      "  0.          0.          0.          0.         -0.00282927  0.\n",
      "  0.          0.          0.00968214  0.00331836  0.         -0.00655391\n",
      " -0.04432052 -0.00603833 -0.04550819 -0.00156563 -0.00690857  0.        ]\n",
      "  8%|▊         | 2/25 [00:05<01:03,  2.78s/it]num_full_subsets = 1\n",
      "remaining_weight_vector = [0.12004298 0.08080563 0.06119838 0.04944344 0.0416149  0.03603022\n",
      " 0.03184814 0.0286013  0.02600931 0.02389372 0.02213558 0.02065256\n",
      " 0.01938582 0.01829226 0.01733954 0.01650293 0.01576322 0.01510523\n",
      " 0.01451683 0.0139882  0.01351133 0.01307959 0.01268747 0.01233034\n",
      " 0.0120043  0.01170602 0.01143266 0.01118179 0.01095129 0.01073933\n",
      " 0.01054432 0.01036486 0.01019973 0.01004786 0.00990831 0.00978023\n",
      " 0.0096629  0.00955566 0.00945793 0.00936921 0.00928904 0.00921703\n",
      " 0.00915284 0.00909615 0.00904672 0.00900431 0.00896873 0.00893983\n",
      " 0.00891748 0.00890158 0.00889207 0.00888891]\n",
      "num_paired_subset_sizes = 52\n",
      "weight_left = 0.8071930411864512\n",
      "np.sum(w_aug) = 106.00000000000001\n",
      "np.sum(self.kernelWeights) = 0.9999999999999999\n",
      "phi = [-0.00466037 -0.00807416 -0.00694182 -0.00329849  0.          0.\n",
      "  0.          0.          0.          0.          0.         -0.23340351\n",
      " -0.05126403  0.         -0.04942416 -0.00466566 -0.0025017  -0.00301215\n",
      " -0.00791057  0.         -0.00352764  0.          0.         -0.00260204\n",
      "  0.          0.          0.         -0.003096   -0.00444334  0.\n",
      " -0.00125388  0.          0.          0.          0.          0.\n",
      "  0.          0.          0.          0.          0.         -0.00071399\n",
      "  0.         -0.00076152  0.         -0.00132007  0.          0.\n",
      "  0.         -0.00394267  0.          0.          0.          0.\n",
      "  0.          0.          0.          0.         -0.00203075  0.\n",
      "  0.          0.         -0.00412578  0.         -0.00071673  0.\n",
      "  0.         -0.00048307  0.          0.          0.          0.\n",
      " -0.00129249  0.          0.          0.          0.          0.\n",
      " -0.00073664  0.          0.         -0.00282166  0.          0.\n",
      " -0.00512616  0.         -0.00172953  0.         -0.00241037  0.\n",
      " -0.00135034 -0.00354858  0.         -0.00085154 -0.0009663  -0.00336137\n",
      "  0.          0.          0.         -0.00148059 -0.00383242 -0.00457914\n",
      " -0.02194664 -0.00724684 -0.00329333  0.        ]\n",
      " 12%|█▏        | 3/25 [00:08<01:03,  2.86s/it]num_full_subsets = 1\n",
      "remaining_weight_vector = [0.12004298 0.08080563 0.06119838 0.04944344 0.0416149  0.03603022\n",
      " 0.03184814 0.0286013  0.02600931 0.02389372 0.02213558 0.02065256\n",
      " 0.01938582 0.01829226 0.01733954 0.01650293 0.01576322 0.01510523\n",
      " 0.01451683 0.0139882  0.01351133 0.01307959 0.01268747 0.01233034\n",
      " 0.0120043  0.01170602 0.01143266 0.01118179 0.01095129 0.01073933\n",
      " 0.01054432 0.01036486 0.01019973 0.01004786 0.00990831 0.00978023\n",
      " 0.0096629  0.00955566 0.00945793 0.00936921 0.00928904 0.00921703\n",
      " 0.00915284 0.00909615 0.00904672 0.00900431 0.00896873 0.00893983\n",
      " 0.00891748 0.00890158 0.00889207 0.00888891]\n",
      "num_paired_subset_sizes = 52\n",
      "weight_left = 0.8071930411864512\n",
      "np.sum(w_aug) = 106.00000000000003\n",
      "np.sum(self.kernelWeights) = 0.9999999999999999\n",
      "phi = [-0.0030529  -0.0064747  -0.00510971 -0.0023098   0.          0.\n",
      "  0.          0.         -0.00083422  0.         -0.00180322 -0.21771956\n",
      " -0.0474407   0.         -0.04364981 -0.00393939 -0.0061547  -0.00420573\n",
      " -0.00488643  0.         -0.00226512  0.          0.         -0.00287324\n",
      "  0.         -0.00196595 -0.00246412 -0.00238802  0.          0.\n",
      " -0.00138679  0.          0.          0.          0.          0.\n",
      " -0.00054289  0.          0.          0.          0.          0.\n",
      " -0.00115614 -0.00160143  0.          0.          0.          0.\n",
      "  0.         -0.00208386  0.          0.          0.          0.\n",
      "  0.          0.          0.          0.          0.          0.\n",
      "  0.          0.         -0.00524671  0.          0.          0.\n",
      "  0.          0.          0.          0.          0.          0.\n",
      " -0.00172182  0.          0.          0.          0.          0.\n",
      "  0.          0.          0.          0.          0.          0.\n",
      " -0.00418903  0.         -0.00156994  0.         -0.00112751  0.\n",
      " -0.0015481  -0.00114271  0.          0.          0.         -0.00180878\n",
      "  0.          0.          0.         -0.00185399 -0.00534815 -0.00493245\n",
      " -0.02622212 -0.00746431 -0.00390038  0.        ]\n",
      " 16%|█▌        | 4/25 [00:11<00:59,  2.83s/it]num_full_subsets = 1\n",
      "remaining_weight_vector = [0.12004298 0.08080563 0.06119838 0.04944344 0.0416149  0.03603022\n",
      " 0.03184814 0.0286013  0.02600931 0.02389372 0.02213558 0.02065256\n",
      " 0.01938582 0.01829226 0.01733954 0.01650293 0.01576322 0.01510523\n",
      " 0.01451683 0.0139882  0.01351133 0.01307959 0.01268747 0.01233034\n",
      " 0.0120043  0.01170602 0.01143266 0.01118179 0.01095129 0.01073933\n",
      " 0.01054432 0.01036486 0.01019973 0.01004786 0.00990831 0.00978023\n",
      " 0.0096629  0.00955566 0.00945793 0.00936921 0.00928904 0.00921703\n",
      " 0.00915284 0.00909615 0.00904672 0.00900431 0.00896873 0.00893983\n",
      " 0.00891748 0.00890158 0.00889207 0.00888891]\n",
      "num_paired_subset_sizes = 52\n",
      "weight_left = 0.8071930411864512\n",
      "np.sum(w_aug) = 106.00000000000001\n",
      "np.sum(self.kernelWeights) = 1.0000000000000002\n",
      "phi = [-0.00462717 -0.01072013 -0.01042875 -0.00341798  0.          0.\n",
      "  0.00698619  0.          0.00607075  0.          0.          0.11993589\n",
      " -0.02695842  0.          0.10203429 -0.00223662  0.0051765  -0.00663396\n",
      " -0.01945816  0.          0.          0.          0.         -0.00389237\n",
      "  0.          0.00451476  0.00482374  0.          0.          0.\n",
      "  0.          0.          0.          0.00535581  0.          0.\n",
      "  0.          0.          0.          0.          0.          0.\n",
      "  0.          0.          0.         -0.00300997  0.          0.\n",
      "  0.          0.          0.          0.          0.          0.\n",
      "  0.          0.          0.          0.00408208 -0.00330933  0.\n",
      "  0.00378064  0.         -0.00582629  0.          0.          0.\n",
      "  0.          0.          0.          0.          0.          0.00861328\n",
      " -0.00186645  0.          0.         -0.00189643  0.          0.\n",
      "  0.          0.          0.         -0.00337466  0.          0.\n",
      " -0.00342225  0.0123732  -0.00540541  0.          0.          0.\n",
      "  0.          0.          0.         -0.0037802   0.         -0.00300698\n",
      "  0.01084482  0.00400825  0.         -0.00386844 -0.05947268 -0.00538755\n",
      " -0.0416859   0.         -0.00838941  0.        ]\n",
      " 20%|██        | 5/25 [00:14<01:01,  3.05s/it]num_full_subsets = 1\n",
      "remaining_weight_vector = [0.11947654 0.08040961 0.06088708 0.04918258 0.0413873  0.03582606\n",
      " 0.03166128 0.02842764 0.02584595 0.02373854 0.021987   0.02050933\n",
      " 0.01924698 0.01815701 0.01720722 0.016373   0.0156352  0.01497873\n",
      " 0.01439149 0.01386373 0.01338743 0.01295602 0.012564   0.01220676\n",
      " 0.01188041 0.01158163 0.0113076  0.01105588 0.01082437 0.01061124\n",
      " 0.0104149  0.01023395 0.01006718 0.00991351 0.009772   0.00964181\n",
      " 0.00952219 0.0094125  0.00931214 0.00922061 0.00913746 0.00906226\n",
      " 0.00899468 0.0089344  0.00888115 0.00883468 0.0087948  0.00876134\n",
      " 0.00873415 0.00871312 0.00869815 0.0086892  0.00868622]\n",
      "num_paired_subset_sizes = 53\n",
      "weight_left = 0.8079159893252132\n",
      "np.sum(w_aug) = 108.00000000000003\n",
      "np.sum(self.kernelWeights) = 1.0000000000000002\n",
      "phi = [-0.00506073 -0.01028265 -0.00537237  0.          0.          0.\n",
      "  0.00674125 -0.00151859  0.00376529  0.          0.          0.10965412\n",
      " -0.03227089  0.          0.0824359   0.          0.         -0.00836015\n",
      " -0.01704683  0.          0.          0.          0.         -0.00247526\n",
      "  0.          0.00537974  0.         -0.02729402 -0.00250247  0.\n",
      "  0.          0.          0.          0.          0.          0.\n",
      "  0.          0.          0.          0.          0.          0.\n",
      "  0.          0.          0.          0.          0.          0.\n",
      "  0.          0.          0.          0.          0.          0.\n",
      "  0.          0.          0.         -0.00128824  0.          0.00549724\n",
      "  0.          0.          0.          0.         -0.00713343  0.\n",
      "  0.          0.          0.          0.          0.          0.\n",
      "  0.00490928  0.00497962 -0.00268956  0.          0.         -0.00257837\n",
      "  0.          0.          0.          0.          0.          0.\n",
      "  0.          0.          0.          0.01004903 -0.00676866  0.\n",
      "  0.          0.          0.          0.          0.          0.\n",
      "  0.         -0.00226332  0.00632728  0.0053957   0.         -0.00665849\n",
      " -0.04458881 -0.0023214  -0.05222406  0.         -0.01154785  0.        ]\n",
      " 24%|██▍       | 6/25 [00:17<00:57,  3.00s/it]num_full_subsets = 1\n",
      "remaining_weight_vector = [0.11947654 0.08040961 0.06088708 0.04918258 0.0413873  0.03582606\n",
      " 0.03166128 0.02842764 0.02584595 0.02373854 0.021987   0.02050933\n",
      " 0.01924698 0.01815701 0.01720722 0.016373   0.0156352  0.01497873\n",
      " 0.01439149 0.01386373 0.01338743 0.01295602 0.012564   0.01220676\n",
      " 0.01188041 0.01158163 0.0113076  0.01105588 0.01082437 0.01061124\n",
      " 0.0104149  0.01023395 0.01006718 0.00991351 0.009772   0.00964181\n",
      " 0.00952219 0.0094125  0.00931214 0.00922061 0.00913746 0.00906226\n",
      " 0.00899468 0.0089344  0.00888115 0.00883468 0.0087948  0.00876134\n",
      " 0.00873415 0.00871312 0.00869815 0.0086892  0.00868622]\n",
      "num_paired_subset_sizes = 53\n",
      "weight_left = 0.8079159893252132\n",
      "np.sum(w_aug) = 108.00000000000003\n",
      "np.sum(self.kernelWeights) = 1.0000000000000002\n",
      "phi = [-0.00434705 -0.00957047 -0.00797795  0.          0.          0.\n",
      "  0.00681217 -0.00261133  0.0041462   0.          0.          0.11180162\n",
      " -0.03113325  0.          0.08639252 -0.00230908  0.         -0.00672227\n",
      " -0.01869281  0.          0.          0.          0.         -0.00346637\n",
      "  0.          0.0067413   0.         -0.02268712 -0.00107254  0.\n",
      "  0.          0.          0.          0.          0.          0.00644531\n",
      "  0.          0.          0.          0.          0.          0.\n",
      "  0.00437024  0.          0.          0.          0.          0.\n",
      "  0.          0.          0.          0.          0.          0.\n",
      "  0.          0.         -0.00202962  0.          0.          0.00612679\n",
      " -0.00400226  0.          0.          0.         -0.00647141  0.\n",
      "  0.          0.          0.          0.          0.          0.\n",
      "  0.00657193  0.          0.          0.          0.         -0.00246497\n",
      "  0.          0.          0.          0.          0.         -0.00225864\n",
      "  0.          0.         -0.00390929  0.01375871 -0.00439757 -0.00182601\n",
      "  0.          0.          0.          0.         -0.00208778  0.\n",
      "  0.          0.          0.00847079  0.          0.         -0.00641035\n",
      " -0.04338495 -0.0030269  -0.04628556 -0.00312764 -0.00829427  0.        ]\n",
      " 28%|██▊       | 7/25 [00:20<00:51,  2.88s/it]num_full_subsets = 1\n",
      "remaining_weight_vector = [0.11947654 0.08040961 0.06088708 0.04918258 0.0413873  0.03582606\n",
      " 0.03166128 0.02842764 0.02584595 0.02373854 0.021987   0.02050933\n",
      " 0.01924698 0.01815701 0.01720722 0.016373   0.0156352  0.01497873\n",
      " 0.01439149 0.01386373 0.01338743 0.01295602 0.012564   0.01220676\n",
      " 0.01188041 0.01158163 0.0113076  0.01105588 0.01082437 0.01061124\n",
      " 0.0104149  0.01023395 0.01006718 0.00991351 0.009772   0.00964181\n",
      " 0.00952219 0.0094125  0.00931214 0.00922061 0.00913746 0.00906226\n",
      " 0.00899468 0.0089344  0.00888115 0.00883468 0.0087948  0.00876134\n",
      " 0.00873415 0.00871312 0.00869815 0.0086892  0.00868622]\n",
      "num_paired_subset_sizes = 53\n",
      "weight_left = 0.8079159893252132\n",
      "np.sum(w_aug) = 108.00000000000003\n",
      "np.sum(self.kernelWeights) = 1.0000000000000002\n",
      "phi = [ 0.         -0.00823524 -0.00889075  0.          0.          0.\n",
      "  0.00594581  0.          0.00443032  0.          0.          0.12527808\n",
      " -0.03123439  0.         -0.01769702  0.06883355  0.00508022 -0.00414748\n",
      " -0.01088268  0.          0.          0.          0.          0.\n",
      "  0.         -0.01780677  0.          0.          0.          0.\n",
      "  0.          0.          0.          0.00470112  0.          0.00730929\n",
      "  0.          0.          0.          0.          0.          0.\n",
      "  0.00444694  0.          0.          0.          0.          0.\n",
      "  0.          0.          0.          0.          0.          0.\n",
      "  0.          0.          0.          0.          0.          0.\n",
      "  0.          0.          0.          0.         -0.00579624  0.\n",
      "  0.          0.          0.          0.          0.          0.\n",
      "  0.          0.00571222  0.          0.          0.          0.\n",
      "  0.          0.          0.          0.          0.          0.\n",
      "  0.          0.         -0.0038545   0.00661731 -0.00617397  0.\n",
      "  0.          0.          0.          0.          0.          0.\n",
      "  0.          0.          0.01171723  0.00507692  0.          0.\n",
      "  0.0081744   0.         -0.01535942  0.          0.00509787  0.        ]\n",
      " 32%|███▏      | 8/25 [00:23<00:50,  2.99s/it]num_full_subsets = 1\n",
      "remaining_weight_vector = [0.11947654 0.08040961 0.06088708 0.04918258 0.0413873  0.03582606\n",
      " 0.03166128 0.02842764 0.02584595 0.02373854 0.021987   0.02050933\n",
      " 0.01924698 0.01815701 0.01720722 0.016373   0.0156352  0.01497873\n",
      " 0.01439149 0.01386373 0.01338743 0.01295602 0.012564   0.01220676\n",
      " 0.01188041 0.01158163 0.0113076  0.01105588 0.01082437 0.01061124\n",
      " 0.0104149  0.01023395 0.01006718 0.00991351 0.009772   0.00964181\n",
      " 0.00952219 0.0094125  0.00931214 0.00922061 0.00913746 0.00906226\n",
      " 0.00899468 0.0089344  0.00888115 0.00883468 0.0087948  0.00876134\n",
      " 0.00873415 0.00871312 0.00869815 0.0086892  0.00868622]\n",
      "num_paired_subset_sizes = 53\n",
      "weight_left = 0.8079159893252132\n",
      "np.sum(w_aug) = 108.00000000000003\n",
      "np.sum(self.kernelWeights) = 1.0000000000000002\n",
      "phi = [-0.00598975 -0.0116878  -0.00918086  0.          0.          0.\n",
      "  0.00790032  0.          0.00469012  0.          0.00436138  0.11088557\n",
      " -0.03117258  0.          0.0865065   0.          0.         -0.0093787\n",
      " -0.02122048  0.          0.          0.          0.         -0.00182926\n",
      "  0.          0.00421616  0.         -0.02378272 -0.00253765  0.\n",
      "  0.          0.          0.          0.          0.          0.00552038\n",
      "  0.          0.          0.          0.          0.          0.\n",
      "  0.0029626   0.          0.          0.          0.          0.\n",
      "  0.          0.          0.          0.          0.          0.\n",
      "  0.          0.          0.          0.          0.          0.00573957\n",
      " -0.0031652   0.          0.          0.         -0.006068    0.\n",
      "  0.          0.          0.          0.          0.          0.\n",
      "  0.00637375  0.          0.          0.          0.          0.\n",
      "  0.          0.          0.          0.          0.          0.\n",
      "  0.          0.         -0.00425421  0.01077539 -0.00376908 -0.00222338\n",
      "  0.          0.          0.          0.          0.          0.\n",
      "  0.         -0.00305268  0.01162677  0.          0.         -0.00853424\n",
      " -0.04500569 -0.00663116 -0.04565883  0.         -0.00534609  0.        ]\n",
      " 36%|███▌      | 9/25 [00:26<00:45,  2.87s/it]num_full_subsets = 1\n",
      "remaining_weight_vector = [0.11947654 0.08040961 0.06088708 0.04918258 0.0413873  0.03582606\n",
      " 0.03166128 0.02842764 0.02584595 0.02373854 0.021987   0.02050933\n",
      " 0.01924698 0.01815701 0.01720722 0.016373   0.0156352  0.01497873\n",
      " 0.01439149 0.01386373 0.01338743 0.01295602 0.012564   0.01220676\n",
      " 0.01188041 0.01158163 0.0113076  0.01105588 0.01082437 0.01061124\n",
      " 0.0104149  0.01023395 0.01006718 0.00991351 0.009772   0.00964181\n",
      " 0.00952219 0.0094125  0.00931214 0.00922061 0.00913746 0.00906226\n",
      " 0.00899468 0.0089344  0.00888115 0.00883468 0.0087948  0.00876134\n",
      " 0.00873415 0.00871312 0.00869815 0.0086892  0.00868622]\n",
      "num_paired_subset_sizes = 53\n",
      "weight_left = 0.8079159893252132\n",
      "np.sum(w_aug) = 108.00000000000003\n",
      "np.sum(self.kernelWeights) = 1.0000000000000002\n",
      "phi = [ 0.         -0.00789926 -0.00728621  0.          0.          0.\n",
      "  0.00515802  0.          0.          0.          0.          0.12501219\n",
      " -0.03304205  0.         -0.01874269  0.06444503  0.         -0.00434933\n",
      " -0.00918817  0.          0.          0.          0.          0.\n",
      "  0.         -0.01734361  0.          0.          0.          0.\n",
      "  0.          0.          0.          0.00251412  0.          0.00752562\n",
      "  0.          0.          0.          0.          0.          0.\n",
      "  0.          0.          0.          0.          0.          0.\n",
      "  0.          0.          0.          0.          0.          0.\n",
      "  0.          0.          0.          0.          0.          0.\n",
      "  0.          0.          0.          0.          0.          0.\n",
      "  0.          0.          0.          0.          0.          0.\n",
      "  0.          0.00620565  0.          0.          0.          0.\n",
      "  0.          0.          0.          0.          0.          0.\n",
      "  0.          0.          0.          0.0096977   0.          0.\n",
      "  0.          0.00467007  0.          0.          0.          0.\n",
      "  0.          0.          0.01339199  0.          0.          0.\n",
      "  0.00701566  0.         -0.01690146  0.          0.00745959  0.        ]\n",
      " 40%|████      | 10/25 [00:28<00:42,  2.83s/it]num_full_subsets = 1\n",
      "remaining_weight_vector = [0.12004298 0.08080563 0.06119838 0.04944344 0.0416149  0.03603022\n",
      " 0.03184814 0.0286013  0.02600931 0.02389372 0.02213558 0.02065256\n",
      " 0.01938582 0.01829226 0.01733954 0.01650293 0.01576322 0.01510523\n",
      " 0.01451683 0.0139882  0.01351133 0.01307959 0.01268747 0.01233034\n",
      " 0.0120043  0.01170602 0.01143266 0.01118179 0.01095129 0.01073933\n",
      " 0.01054432 0.01036486 0.01019973 0.01004786 0.00990831 0.00978023\n",
      " 0.0096629  0.00955566 0.00945793 0.00936921 0.00928904 0.00921703\n",
      " 0.00915284 0.00909615 0.00904672 0.00900431 0.00896873 0.00893983\n",
      " 0.00891748 0.00890158 0.00889207 0.00888891]\n",
      "num_paired_subset_sizes = 52\n",
      "weight_left = 0.8071930411864512\n",
      "np.sum(w_aug) = 106.00000000000001\n",
      "np.sum(self.kernelWeights) = 1.0\n",
      "phi = [-0.00595359 -0.01207156 -0.00689195 -0.00299188  0.          0.\n",
      "  0.00682935  0.          0.00399944 -0.00220647  0.00308695  0.11106873\n",
      " -0.03079166  0.          0.08611688 -0.00265698  0.0036561  -0.00868647\n",
      " -0.01797553  0.          0.         -0.00085146  0.         -0.00265601\n",
      "  0.          0.00715977 -0.02570971  0.          0.         -0.00210179\n",
      " -0.00147278  0.          0.          0.00546904  0.          0.\n",
      "  0.          0.          0.          0.          0.00432548  0.\n",
      "  0.          0.          0.          0.          0.         -0.00059007\n",
      "  0.         -0.00374378  0.          0.          0.          0.\n",
      "  0.          0.          0.          0.00612987 -0.00259332  0.\n",
      "  0.00310303  0.         -0.00498439  0.          0.          0.\n",
      "  0.          0.          0.          0.          0.00690655  0.00341834\n",
      " -0.00119308  0.          0.         -0.0022785   0.          0.\n",
      "  0.          0.          0.         -0.00201424  0.          0.\n",
      " -0.00250485  0.01254398 -0.00567054  0.          0.          0.\n",
      " -0.00195121  0.         -0.00209405 -0.00109395  0.         -0.00149226\n",
      "  0.00974294  0.00352152  0.         -0.0071246  -0.04268222 -0.0059385\n",
      " -0.04522058 -0.00188723 -0.00697171 -0.00096095]\n",
      " 44%|████▍     | 11/25 [00:31<00:38,  2.75s/it]num_full_subsets = 1\n",
      "remaining_weight_vector = [0.11947654 0.08040961 0.06088708 0.04918258 0.0413873  0.03582606\n",
      " 0.03166128 0.02842764 0.02584595 0.02373854 0.021987   0.02050933\n",
      " 0.01924698 0.01815701 0.01720722 0.016373   0.0156352  0.01497873\n",
      " 0.01439149 0.01386373 0.01338743 0.01295602 0.012564   0.01220676\n",
      " 0.01188041 0.01158163 0.0113076  0.01105588 0.01082437 0.01061124\n",
      " 0.0104149  0.01023395 0.01006718 0.00991351 0.009772   0.00964181\n",
      " 0.00952219 0.0094125  0.00931214 0.00922061 0.00913746 0.00906226\n",
      " 0.00899468 0.0089344  0.00888115 0.00883468 0.0087948  0.00876134\n",
      " 0.00873415 0.00871312 0.00869815 0.0086892  0.00868622]\n",
      "num_paired_subset_sizes = 53\n",
      "weight_left = 0.8079159893252132\n",
      "np.sum(w_aug) = 108.00000000000003\n",
      "np.sum(self.kernelWeights) = 1.0\n",
      "phi = [ 0.         -0.00943209 -0.0080688   0.          0.          0.\n",
      "  0.0138745   0.          0.          0.          0.          0.11411532\n",
      "  0.1591683   0.         -0.01410828  0.          0.          0.\n",
      " -0.01594917  0.          0.          0.          0.          0.\n",
      "  0.         -0.01656482 -0.00539369  0.          0.          0.\n",
      "  0.          0.          0.          0.          0.          0.00958307\n",
      "  0.          0.          0.          0.          0.          0.\n",
      "  0.          0.          0.          0.          0.          0.\n",
      "  0.          0.          0.          0.          0.          0.\n",
      "  0.          0.          0.          0.          0.          0.\n",
      "  0.          0.          0.          0.          0.          0.\n",
      "  0.          0.          0.          0.          0.          0.\n",
      "  0.          0.          0.          0.          0.          0.\n",
      "  0.          0.          0.          0.          0.          0.\n",
      "  0.          0.          0.          0.         -0.00425025  0.\n",
      "  0.          0.          0.          0.          0.          0.\n",
      "  0.          0.          0.01416775  0.          0.         -0.00774474\n",
      " -0.02101257  0.         -0.01549622  0.          0.          0.        ]\n",
      " 48%|████▊     | 12/25 [00:34<00:35,  2.75s/it]num_full_subsets = 1\n",
      "remaining_weight_vector = [0.12004298 0.08080563 0.06119838 0.04944344 0.0416149  0.03603022\n",
      " 0.03184814 0.0286013  0.02600931 0.02389372 0.02213558 0.02065256\n",
      " 0.01938582 0.01829226 0.01733954 0.01650293 0.01576322 0.01510523\n",
      " 0.01451683 0.0139882  0.01351133 0.01307959 0.01268747 0.01233034\n",
      " 0.0120043  0.01170602 0.01143266 0.01118179 0.01095129 0.01073933\n",
      " 0.01054432 0.01036486 0.01019973 0.01004786 0.00990831 0.00978023\n",
      " 0.0096629  0.00955566 0.00945793 0.00936921 0.00928904 0.00921703\n",
      " 0.00915284 0.00909615 0.00904672 0.00900431 0.00896873 0.00893983\n",
      " 0.00891748 0.00890158 0.00889207 0.00888891]\n",
      "num_paired_subset_sizes = 52\n",
      "weight_left = 0.8071930411864512\n",
      "np.sum(w_aug) = 106.00000000000001\n",
      "np.sum(self.kernelWeights) = 1.0000000000000002\n",
      "phi = [-0.00287844 -0.00815335 -0.00542194  0.          0.          0.\n",
      "  0.00962112  0.          0.00487165  0.          0.          0.11712164\n",
      "  0.15314013  0.         -0.01893225  0.          0.00464533 -0.00615156\n",
      " -0.01375739  0.          0.          0.          0.          0.\n",
      "  0.         -0.01963158  0.          0.          0.00632806  0.00435854\n",
      "  0.          0.          0.          0.00835743  0.          0.\n",
      "  0.          0.          0.          0.          0.          0.\n",
      "  0.          0.          0.          0.          0.          0.\n",
      "  0.          0.          0.          0.          0.          0.\n",
      "  0.          0.          0.          0.          0.          0.\n",
      "  0.          0.          0.          0.          0.          0.\n",
      "  0.          0.          0.          0.         -0.00467866  0.\n",
      "  0.          0.          0.          0.          0.          0.\n",
      "  0.          0.          0.         -0.00508436  0.          0.\n",
      "  0.          0.00511167  0.          0.          0.          0.\n",
      "  0.          0.          0.          0.          0.          0.\n",
      "  0.01481437  0.          0.         -0.00676788 -0.02862448  0.\n",
      " -0.01539972  0.          0.          0.        ]\n",
      " 52%|█████▏    | 13/25 [00:36<00:33,  2.76s/it]num_full_subsets = 1\n",
      "remaining_weight_vector = [0.12004298 0.08080563 0.06119838 0.04944344 0.0416149  0.03603022\n",
      " 0.03184814 0.0286013  0.02600931 0.02389372 0.02213558 0.02065256\n",
      " 0.01938582 0.01829226 0.01733954 0.01650293 0.01576322 0.01510523\n",
      " 0.01451683 0.0139882  0.01351133 0.01307959 0.01268747 0.01233034\n",
      " 0.0120043  0.01170602 0.01143266 0.01118179 0.01095129 0.01073933\n",
      " 0.01054432 0.01036486 0.01019973 0.01004786 0.00990831 0.00978023\n",
      " 0.0096629  0.00955566 0.00945793 0.00936921 0.00928904 0.00921703\n",
      " 0.00915284 0.00909615 0.00904672 0.00900431 0.00896873 0.00893983\n",
      " 0.00891748 0.00890158 0.00889207 0.00888891]\n",
      "num_paired_subset_sizes = 52\n",
      "weight_left = 0.8071930411864512\n",
      "np.sum(w_aug) = 106.00000000000001\n",
      "np.sum(self.kernelWeights) = 0.9999999999999999\n",
      "phi = [-0.00526055 -0.00738174 -0.01092062 -0.00223948 -0.00306504 -0.00511463\n",
      "  0.00761597  0.          0.          0.          0.          0.10716221\n",
      " -0.03983526  0.         -0.03152466 -0.00249791 -0.02733081 -0.00604712\n",
      " -0.03185803 -0.00116885  0.          0.          0.         -0.00378639\n",
      "  0.         -0.00197414  0.01028118  0.         -0.00404452  0.\n",
      "  0.          0.          0.          0.00656614  0.          0.\n",
      "  0.          0.          0.          0.          0.          0.\n",
      "  0.          0.          0.          0.          0.          0.\n",
      " -0.00090462  0.          0.          0.          0.          0.\n",
      "  0.          0.          0.          0.         -0.00293169  0.\n",
      "  0.          0.         -0.00379361  0.         -0.00103826  0.\n",
      "  0.          0.          0.          0.          0.         -0.00179825\n",
      " -0.00216272  0.          0.          0.          0.          0.\n",
      "  0.          0.         -0.00099295  0.          0.          0.\n",
      " -0.00284525  0.00800792 -0.00551182  0.          0.          0.\n",
      "  0.         -0.00238257  0.         -0.00206736  0.         -0.00355733\n",
      "  0.01000199  0.          0.         -0.0037748   0.00788306 -0.00239331\n",
      " -0.04845112 -0.00506564  0.          0.        ]\n",
      " 56%|█████▌    | 14/25 [00:39<00:30,  2.76s/it]num_full_subsets = 1\n",
      "remaining_weight_vector = [0.12004298 0.08080563 0.06119838 0.04944344 0.0416149  0.03603022\n",
      " 0.03184814 0.0286013  0.02600931 0.02389372 0.02213558 0.02065256\n",
      " 0.01938582 0.01829226 0.01733954 0.01650293 0.01576322 0.01510523\n",
      " 0.01451683 0.0139882  0.01351133 0.01307959 0.01268747 0.01233034\n",
      " 0.0120043  0.01170602 0.01143266 0.01118179 0.01095129 0.01073933\n",
      " 0.01054432 0.01036486 0.01019973 0.01004786 0.00990831 0.00978023\n",
      " 0.0096629  0.00955566 0.00945793 0.00936921 0.00928904 0.00921703\n",
      " 0.00915284 0.00909615 0.00904672 0.00900431 0.00896873 0.00893983\n",
      " 0.00891748 0.00890158 0.00889207 0.00888891]\n",
      "num_paired_subset_sizes = 52\n",
      "weight_left = 0.8071930411864512\n",
      "np.sum(w_aug) = 106.00000000000003\n",
      "np.sum(self.kernelWeights) = 1.0000000000000002\n",
      "phi = [-0.00388423 -0.00851587 -0.00794419 -0.00138435  0.          0.\n",
      "  0.00705486  0.          0.          0.          0.          0.13296009\n",
      " -0.04018485  0.         -0.03339566 -0.00247331  0.         -0.00564394\n",
      " -0.01315649  0.          0.          0.          0.         -0.00310563\n",
      " -0.00098764 -0.00747368  0.         -0.00156023  0.00748998  0.\n",
      "  0.          0.          0.          0.00607655  0.          0.\n",
      " -0.00142517  0.          0.          0.          0.00406476  0.\n",
      "  0.          0.          0.          0.          0.          0.\n",
      "  0.         -0.00253885  0.          0.          0.          0.\n",
      "  0.          0.          0.          0.00463221 -0.00342937  0.\n",
      "  0.          0.         -0.0059118   0.          0.          0.\n",
      "  0.          0.          0.          0.          0.          0.00374943\n",
      "  0.          0.          0.          0.          0.          0.\n",
      "  0.          0.          0.         -0.00483039  0.          0.\n",
      " -0.00262504  0.00596926 -0.00404857  0.          0.          0.\n",
      "  0.         -0.00207213  0.          0.          0.00363037  0.\n",
      "  0.00948916  0.          0.         -0.00480933 -0.00399513 -0.004118\n",
      " -0.0275323  -0.00427311  0.          0.        ]\n",
      " 60%|██████    | 15/25 [00:42<00:27,  2.80s/it]num_full_subsets = 1\n",
      "remaining_weight_vector = [0.11947654 0.08040961 0.06088708 0.04918258 0.0413873  0.03582606\n",
      " 0.03166128 0.02842764 0.02584595 0.02373854 0.021987   0.02050933\n",
      " 0.01924698 0.01815701 0.01720722 0.016373   0.0156352  0.01497873\n",
      " 0.01439149 0.01386373 0.01338743 0.01295602 0.012564   0.01220676\n",
      " 0.01188041 0.01158163 0.0113076  0.01105588 0.01082437 0.01061124\n",
      " 0.0104149  0.01023395 0.01006718 0.00991351 0.009772   0.00964181\n",
      " 0.00952219 0.0094125  0.00931214 0.00922061 0.00913746 0.00906226\n",
      " 0.00899468 0.0089344  0.00888115 0.00883468 0.0087948  0.00876134\n",
      " 0.00873415 0.00871312 0.00869815 0.0086892  0.00868622]\n",
      "num_paired_subset_sizes = 53\n",
      "weight_left = 0.8079159893252132\n",
      "np.sum(w_aug) = 108.00000000000003\n",
      "np.sum(self.kernelWeights) = 1.0\n",
      "phi = [-0.00344064 -0.00557521 -0.00432781 -0.00197127  0.          0.\n",
      "  0.          0.         -0.00103878  0.         -0.00210968 -0.21821585\n",
      " -0.0479628   0.         -0.0443589  -0.00327512 -0.00557655 -0.00264184\n",
      " -0.00387429  0.         -0.00186615  0.          0.         -0.00274945\n",
      "  0.         -0.00251421  0.          0.         -0.00309605  0.\n",
      "  0.          0.         -0.00181607  0.          0.          0.\n",
      "  0.          0.          0.          0.          0.          0.\n",
      "  0.          0.          0.         -0.00052779  0.         -0.00179641\n",
      "  0.          0.          0.         -0.00313902  0.          0.\n",
      "  0.          0.          0.          0.          0.          0.\n",
      " -0.00124475  0.          0.          0.         -0.00397827  0.\n",
      "  0.          0.          0.          0.          0.          0.\n",
      "  0.          0.         -0.00124156  0.          0.          0.\n",
      "  0.          0.          0.          0.          0.         -0.00143125\n",
      "  0.          0.         -0.00424417  0.         -0.00146791 -0.00035558\n",
      " -0.0015524   0.         -0.00182011 -0.00267203  0.          0.\n",
      "  0.         -0.0010302   0.          0.          0.         -0.00267491\n",
      " -0.00519057 -0.00419324 -0.02822774 -0.00707286 -0.00411297  0.        ]\n",
      " 64%|██████▍   | 16/25 [00:45<00:25,  2.85s/it]num_full_subsets = 1\n",
      "remaining_weight_vector = [0.11947654 0.08040961 0.06088708 0.04918258 0.0413873  0.03582606\n",
      " 0.03166128 0.02842764 0.02584595 0.02373854 0.021987   0.02050933\n",
      " 0.01924698 0.01815701 0.01720722 0.016373   0.0156352  0.01497873\n",
      " 0.01439149 0.01386373 0.01338743 0.01295602 0.012564   0.01220676\n",
      " 0.01188041 0.01158163 0.0113076  0.01105588 0.01082437 0.01061124\n",
      " 0.0104149  0.01023395 0.01006718 0.00991351 0.009772   0.00964181\n",
      " 0.00952219 0.0094125  0.00931214 0.00922061 0.00913746 0.00906226\n",
      " 0.00899468 0.0089344  0.00888115 0.00883468 0.0087948  0.00876134\n",
      " 0.00873415 0.00871312 0.00869815 0.0086892  0.00868622]\n",
      "num_paired_subset_sizes = 53\n",
      "weight_left = 0.8079159893252132\n",
      "np.sum(w_aug) = 108.00000000000003\n",
      "np.sum(self.kernelWeights) = 1.0000000000000002\n",
      "phi = [-0.00687451 -0.01166897 -0.0091611   0.          0.          0.\n",
      "  0.00547375 -0.00135822  0.00441534 -0.00239358  0.00287568  0.11309553\n",
      " -0.03051863  0.          0.08603391  0.          0.         -0.00752339\n",
      " -0.01802313  0.          0.          0.          0.         -0.00326668\n",
      "  0.          0.00475639  0.         -0.02370375 -0.00258798  0.\n",
      "  0.          0.          0.          0.          0.          0.004832\n",
      "  0.          0.         -0.00102534  0.          0.          0.\n",
      "  0.          0.          0.          0.          0.          0.\n",
      "  0.          0.          0.         -0.00272569  0.          0.\n",
      "  0.          0.          0.          0.         -0.0011324   0.00659008\n",
      " -0.00290241  0.          0.          0.         -0.00483829  0.\n",
      "  0.          0.          0.          0.          0.          0.\n",
      "  0.00636712  0.          0.          0.          0.          0.\n",
      "  0.          0.          0.          0.          0.         -0.00322239\n",
      "  0.00250459  0.         -0.00367991  0.01030734 -0.00386597 -0.00152474\n",
      "  0.          0.          0.          0.          0.          0.\n",
      "  0.          0.          0.00911503  0.00430539  0.         -0.00487219\n",
      " -0.04418048 -0.00525728 -0.04704309  0.         -0.0062519   0.        ]\n",
      " 68%|██████▊   | 17/25 [00:48<00:22,  2.84s/it]num_full_subsets = 1\n",
      "remaining_weight_vector = [0.11947654 0.08040961 0.06088708 0.04918258 0.0413873  0.03582606\n",
      " 0.03166128 0.02842764 0.02584595 0.02373854 0.021987   0.02050933\n",
      " 0.01924698 0.01815701 0.01720722 0.016373   0.0156352  0.01497873\n",
      " 0.01439149 0.01386373 0.01338743 0.01295602 0.012564   0.01220676\n",
      " 0.01188041 0.01158163 0.0113076  0.01105588 0.01082437 0.01061124\n",
      " 0.0104149  0.01023395 0.01006718 0.00991351 0.009772   0.00964181\n",
      " 0.00952219 0.0094125  0.00931214 0.00922061 0.00913746 0.00906226\n",
      " 0.00899468 0.0089344  0.00888115 0.00883468 0.0087948  0.00876134\n",
      " 0.00873415 0.00871312 0.00869815 0.0086892  0.00868622]\n",
      "num_paired_subset_sizes = 53\n",
      "weight_left = 0.8079159893252132\n",
      "np.sum(w_aug) = 108.00000000000003\n",
      "np.sum(self.kernelWeights) = 1.0000000000000002\n",
      "phi = [-0.00565381 -0.01157153 -0.00872603 -0.00304516  0.         -0.00133323\n",
      "  0.00646596  0.          0.00554776  0.          0.00371908  0.1121085\n",
      " -0.03093705  0.          0.08705937  0.          0.         -0.00883055\n",
      " -0.01888161  0.          0.          0.         -0.00187811 -0.0032888\n",
      "  0.          0.00363093  0.         -0.02350467 -0.00112165  0.\n",
      "  0.          0.          0.          0.          0.          0.00491948\n",
      "  0.          0.          0.          0.          0.          0.\n",
      "  0.00364445  0.         -0.00084978  0.          0.          0.\n",
      "  0.          0.          0.         -0.00386267  0.          0.\n",
      "  0.          0.          0.          0.          0.          0.00513048\n",
      " -0.00387726  0.          0.00435184  0.         -0.00510801  0.\n",
      "  0.          0.          0.          0.          0.          0.\n",
      "  0.00709343  0.00315466  0.          0.          0.          0.\n",
      "  0.          0.          0.          0.          0.          0.\n",
      "  0.          0.         -0.00351124  0.01233848 -0.00493821  0.\n",
      "  0.          0.          0.          0.          0.          0.\n",
      "  0.         -0.00304967  0.01006224  0.          0.         -0.00631042\n",
      " -0.04586177 -0.00514099 -0.04698136 -0.00198829 -0.00790467  0.        ]\n",
      " 72%|███████▏  | 18/25 [00:51<00:19,  2.81s/it]num_full_subsets = 1\n",
      "remaining_weight_vector = [0.12004298 0.08080563 0.06119838 0.04944344 0.0416149  0.03603022\n",
      " 0.03184814 0.0286013  0.02600931 0.02389372 0.02213558 0.02065256\n",
      " 0.01938582 0.01829226 0.01733954 0.01650293 0.01576322 0.01510523\n",
      " 0.01451683 0.0139882  0.01351133 0.01307959 0.01268747 0.01233034\n",
      " 0.0120043  0.01170602 0.01143266 0.01118179 0.01095129 0.01073933\n",
      " 0.01054432 0.01036486 0.01019973 0.01004786 0.00990831 0.00978023\n",
      " 0.0096629  0.00955566 0.00945793 0.00936921 0.00928904 0.00921703\n",
      " 0.00915284 0.00909615 0.00904672 0.00900431 0.00896873 0.00893983\n",
      " 0.00891748 0.00890158 0.00889207 0.00888891]\n",
      "num_paired_subset_sizes = 52\n",
      "weight_left = 0.8071930411864512\n",
      "np.sum(w_aug) = 106.00000000000001\n",
      "np.sum(self.kernelWeights) = 1.0\n",
      "phi = [ 0.         -0.00840645 -0.01043218  0.          0.          0.\n",
      "  0.01438574  0.          0.          0.          0.          0.12182588\n",
      "  0.15497604  0.         -0.01871288  0.          0.         -0.00490023\n",
      " -0.01253371  0.          0.          0.          0.          0.\n",
      "  0.         -0.01798771  0.          0.          0.          0.\n",
      "  0.          0.          0.          0.01011275  0.          0.\n",
      "  0.          0.          0.          0.          0.          0.\n",
      "  0.          0.          0.          0.          0.          0.\n",
      "  0.          0.          0.          0.          0.          0.\n",
      "  0.          0.          0.          0.          0.          0.\n",
      "  0.          0.         -0.00355256  0.          0.          0.\n",
      "  0.          0.          0.          0.          0.          0.\n",
      "  0.          0.          0.          0.          0.          0.\n",
      "  0.          0.          0.         -0.00437271  0.          0.\n",
      "  0.          0.          0.          0.          0.          0.\n",
      "  0.          0.          0.          0.          0.          0.\n",
      "  0.01374558  0.          0.         -0.00714678 -0.02268089  0.\n",
      " -0.02052251  0.          0.          0.        ]\n",
      " 76%|███████▌  | 19/25 [00:53<00:16,  2.79s/it]num_full_subsets = 1\n",
      "remaining_weight_vector = [0.11947654 0.08040961 0.06088708 0.04918258 0.0413873  0.03582606\n",
      " 0.03166128 0.02842764 0.02584595 0.02373854 0.021987   0.02050933\n",
      " 0.01924698 0.01815701 0.01720722 0.016373   0.0156352  0.01497873\n",
      " 0.01439149 0.01386373 0.01338743 0.01295602 0.012564   0.01220676\n",
      " 0.01188041 0.01158163 0.0113076  0.01105588 0.01082437 0.01061124\n",
      " 0.0104149  0.01023395 0.01006718 0.00991351 0.009772   0.00964181\n",
      " 0.00952219 0.0094125  0.00931214 0.00922061 0.00913746 0.00906226\n",
      " 0.00899468 0.0089344  0.00888115 0.00883468 0.0087948  0.00876134\n",
      " 0.00873415 0.00871312 0.00869815 0.0086892  0.00868622]\n",
      "num_paired_subset_sizes = 53\n",
      "weight_left = 0.8079159893252132\n",
      "No overall plot to display: -1|ShapKernel_2\n",
      "np.sum(w_aug) = 108.00000000000003\n",
      "np.sum(self.kernelWeights) = 1.0000000000000002\n",
      "phi = [-0.00562583 -0.01103296 -0.00508473  0.          0.00411435  0.\n",
      "  0.00691176  0.          0.00355887 -0.00172569  0.          0.10999547\n",
      " -0.03197527  0.          0.08271229 -0.00224554  0.         -0.00569634\n",
      " -0.01666265  0.          0.          0.          0.         -0.00384288\n",
      "  0.          0.00435155  0.         -0.02613562 -0.0015757   0.\n",
      "  0.          0.          0.          0.          0.          0.0055\n",
      "  0.          0.          0.          0.          0.          0.\n",
      "  0.00221643  0.          0.          0.          0.          0.\n",
      "  0.          0.          0.         -0.0015513   0.          0.\n",
      "  0.          0.         -0.0020158   0.         -0.00243777  0.00641754\n",
      " -0.00237863  0.          0.          0.         -0.00659958  0.\n",
      "  0.          0.          0.          0.          0.          0.\n",
      "  0.00490525  0.00439189  0.          0.          0.          0.\n",
      "  0.          0.          0.          0.         -0.00240341  0.\n",
      "  0.          0.         -0.00342765  0.00908192 -0.00890416  0.\n",
      "  0.          0.         -0.00307377  0.          0.          0.\n",
      "  0.          0.          0.00943426  0.          0.         -0.00627276\n",
      " -0.04255966 -0.00656226 -0.0492714   0.         -0.01164189  0.        ]\n",
      " 80%|████████  | 20/25 [00:56<00:13,  2.76s/it]num_full_subsets = 1\n",
      "remaining_weight_vector = [0.11947654 0.08040961 0.06088708 0.04918258 0.0413873  0.03582606\n",
      " 0.03166128 0.02842764 0.02584595 0.02373854 0.021987   0.02050933\n",
      " 0.01924698 0.01815701 0.01720722 0.016373   0.0156352  0.01497873\n",
      " 0.01439149 0.01386373 0.01338743 0.01295602 0.012564   0.01220676\n",
      " 0.01188041 0.01158163 0.0113076  0.01105588 0.01082437 0.01061124\n",
      " 0.0104149  0.01023395 0.01006718 0.00991351 0.009772   0.00964181\n",
      " 0.00952219 0.0094125  0.00931214 0.00922061 0.00913746 0.00906226\n",
      " 0.00899468 0.0089344  0.00888115 0.00883468 0.0087948  0.00876134\n",
      " 0.00873415 0.00871312 0.00869815 0.0086892  0.00868622]\n",
      "num_paired_subset_sizes = 53\n",
      "weight_left = 0.8079159893252132\n",
      "np.sum(w_aug) = 108.00000000000003\n",
      "np.sum(self.kernelWeights) = 1.0000000000000002\n",
      "No overall plot to display: -1|PartialDependence_1\n",
      "phi = [-0.00539805 -0.0113104  -0.00435406  0.          0.          0.\n",
      "  0.00868123 -0.00237544  0.          0.          0.          0.10995199\n",
      " -0.03165397  0.          0.08394518 -0.00242917  0.         -0.0077231\n",
      " -0.0158679   0.          0.          0.         -0.00315517  0.\n",
      "  0.          0.          0.         -0.02490263  0.          0.\n",
      "  0.         -0.00155907  0.          0.          0.          0.\n",
      "  0.          0.          0.          0.          0.          0.\n",
      "  0.          0.          0.          0.         -0.00312568  0.\n",
      "  0.          0.          0.          0.          0.          0.\n",
      "  0.          0.          0.          0.00284911  0.          0.00628444\n",
      "  0.          0.          0.          0.         -0.00563917  0.\n",
      "  0.          0.          0.          0.          0.          0.\n",
      "  0.00661701  0.          0.          0.          0.          0.\n",
      "  0.          0.          0.          0.          0.          0.\n",
      "  0.          0.          0.          0.00892013 -0.0079396   0.\n",
      "  0.          0.          0.          0.          0.          0.\n",
      "  0.          0.          0.01160079  0.          0.         -0.00572717\n",
      " -0.04341946 -0.0044444  -0.05289489  0.         -0.01204228  0.        ]\n",
      " 84%|████████▍ | 21/25 [01:00<00:11,  3.00s/it]num_full_subsets = 1\n",
      "remaining_weight_vector = [0.12028616 0.08096184 0.06131091 0.0495296  0.04168332 0.03608585\n",
      " 0.03189406 0.02863956 0.02604133 0.02392054 0.02215798 0.02067111\n",
      " 0.01940099 0.01830442 0.01734897 0.01650987 0.01576785 0.01510771\n",
      " 0.0145173  0.01398676 0.01350807 0.01307458 0.01268077 0.012322\n",
      " 0.01199435 0.01169449 0.01141957 0.01116715 0.01093511 0.0107216\n",
      " 0.01052504 0.01034402 0.01017731 0.01002385 0.00988267 0.00975293\n",
      " 0.0096339  0.00952492 0.00942541 0.00933485 0.00925278 0.00917881\n",
      " 0.00911259 0.0090538  0.00900217 0.00895748 0.00891952 0.00888814\n",
      " 0.00886319 0.00884457 0.0088322  0.00882603]\n",
      "num_paired_subset_sizes = 53\n",
      "weight_left = 0.8075569398054265\n",
      "np.sum(w_aug) = 107.00000000000003\n",
      "np.sum(self.kernelWeights) = 1.0000000000000002\n",
      "phi = [ 0.04747504  0.         -0.0073387   0.          0.          0.\n",
      "  0.00757691  0.          0.          0.          0.          0.12160032\n",
      "  0.12692821  0.         -0.02251489  0.          0.          0.\n",
      "  0.          0.          0.          0.          0.          0.\n",
      "  0.          0.         -0.03918884  0.          0.          0.\n",
      "  0.          0.          0.          0.          0.00806909  0.\n",
      "  0.          0.          0.          0.          0.          0.\n",
      "  0.          0.          0.          0.          0.          0.\n",
      "  0.          0.          0.          0.          0.          0.\n",
      "  0.          0.          0.          0.          0.          0.\n",
      "  0.          0.          0.          0.          0.          0.\n",
      "  0.          0.          0.          0.          0.          0.\n",
      "  0.          0.          0.          0.          0.          0.\n",
      "  0.          0.          0.          0.          0.          0.\n",
      "  0.          0.          0.00517877  0.          0.          0.\n",
      "  0.          0.          0.          0.          0.          0.\n",
      "  0.          0.00691203  0.          0.          0.         -0.01250304\n",
      "  0.         -0.01748839  0.          0.          0.        ]\n",
      " 88%|████████▊ | 22/25 [01:03<00:09,  3.03s/it]num_full_subsets = 1\n",
      "remaining_weight_vector = [0.12028616 0.08096184 0.06131091 0.0495296  0.04168332 0.03608585\n",
      " 0.03189406 0.02863956 0.02604133 0.02392054 0.02215798 0.02067111\n",
      " 0.01940099 0.01830442 0.01734897 0.01650987 0.01576785 0.01510771\n",
      " 0.0145173  0.01398676 0.01350807 0.01307458 0.01268077 0.012322\n",
      " 0.01199435 0.01169449 0.01141957 0.01116715 0.01093511 0.0107216\n",
      " 0.01052504 0.01034402 0.01017731 0.01002385 0.00988267 0.00975293\n",
      " 0.0096339  0.00952492 0.00942541 0.00933485 0.00925278 0.00917881\n",
      " 0.00911259 0.0090538  0.00900217 0.00895748 0.00891952 0.00888814\n",
      " 0.00886319 0.00884457 0.0088322  0.00882603]\n",
      "num_paired_subset_sizes = 53\n",
      "weight_left = 0.8075569398054265\n",
      "np.sum(w_aug) = 107.00000000000001\n",
      "np.sum(self.kernelWeights) = 1.0\n",
      "phi = [ 0.11102286  0.          0.          0.          0.          0.\n",
      "  0.00702938  0.          0.00456547  0.          0.          0.12711141\n",
      " -0.02165331  0.          0.13004293  0.          0.          0.\n",
      "  0.01380035  0.          0.          0.          0.          0.\n",
      "  0.          0.         -0.01060943  0.0052338   0.          0.\n",
      "  0.00514684  0.          0.          0.          0.0063725   0.\n",
      "  0.          0.          0.          0.          0.          0.\n",
      "  0.          0.          0.          0.          0.          0.\n",
      "  0.          0.          0.          0.          0.          0.\n",
      "  0.          0.          0.          0.          0.00659205  0.\n",
      "  0.          0.          0.          0.          0.          0.\n",
      "  0.          0.          0.          0.          0.          0.\n",
      "  0.009312    0.          0.          0.          0.          0.\n",
      "  0.          0.          0.          0.          0.          0.\n",
      "  0.          0.          0.00851897  0.          0.          0.\n",
      "  0.          0.          0.          0.          0.          0.\n",
      "  0.          0.00680523  0.          0.          0.         -0.02404567\n",
      "  0.         -0.01962979  0.          0.          0.        ]\n",
      " 92%|█████████▏| 23/25 [01:06<00:05,  2.99s/it]num_full_subsets = 1\n",
      "remaining_weight_vector = [0.12028616 0.08096184 0.06131091 0.0495296  0.04168332 0.03608585\n",
      " 0.03189406 0.02863956 0.02604133 0.02392054 0.02215798 0.02067111\n",
      " 0.01940099 0.01830442 0.01734897 0.01650987 0.01576785 0.01510771\n",
      " 0.0145173  0.01398676 0.01350807 0.01307458 0.01268077 0.012322\n",
      " 0.01199435 0.01169449 0.01141957 0.01116715 0.01093511 0.0107216\n",
      " 0.01052504 0.01034402 0.01017731 0.01002385 0.00988267 0.00975293\n",
      " 0.0096339  0.00952492 0.00942541 0.00933485 0.00925278 0.00917881\n",
      " 0.00911259 0.0090538  0.00900217 0.00895748 0.00891952 0.00888814\n",
      " 0.00886319 0.00884457 0.0088322  0.00882603]\n",
      "num_paired_subset_sizes = 53\n",
      "weight_left = 0.8075569398054265\n",
      "np.sum(w_aug) = 107.00000000000001\n",
      "np.sum(self.kernelWeights) = 1.0\n",
      "phi = [ 0.11453873  0.          0.          0.          0.          0.\n",
      "  0.00829346  0.          0.          0.          0.          0.12530997\n",
      " -0.02007536  0.          0.12971071  0.          0.          0.\n",
      "  0.01486707  0.          0.          0.          0.          0.\n",
      "  0.          0.          0.          0.          0.          0.\n",
      "  0.00619709  0.          0.          0.          0.          0.\n",
      "  0.          0.          0.          0.          0.          0.\n",
      "  0.          0.          0.          0.          0.          0.\n",
      "  0.          0.          0.          0.          0.          0.\n",
      "  0.          0.          0.          0.          0.          0.\n",
      "  0.          0.          0.          0.          0.          0.\n",
      "  0.          0.          0.          0.          0.          0.\n",
      "  0.01240758  0.          0.          0.          0.          0.\n",
      "  0.          0.          0.          0.          0.          0.\n",
      "  0.          0.          0.00868449  0.          0.          0.\n",
      "  0.          0.          0.          0.          0.          0.\n",
      "  0.          0.00862057  0.          0.          0.         -0.02339594\n",
      "  0.         -0.01954279  0.          0.          0.        ]\n",
      " 96%|█████████▌| 24/25 [01:08<00:02,  2.91s/it]num_full_subsets = 1\n",
      "remaining_weight_vector = [0.12028616 0.08096184 0.06131091 0.0495296  0.04168332 0.03608585\n",
      " 0.03189406 0.02863956 0.02604133 0.02392054 0.02215798 0.02067111\n",
      " 0.01940099 0.01830442 0.01734897 0.01650987 0.01576785 0.01510771\n",
      " 0.0145173  0.01398676 0.01350807 0.01307458 0.01268077 0.012322\n",
      " 0.01199435 0.01169449 0.01141957 0.01116715 0.01093511 0.0107216\n",
      " 0.01052504 0.01034402 0.01017731 0.01002385 0.00988267 0.00975293\n",
      " 0.0096339  0.00952492 0.00942541 0.00933485 0.00925278 0.00917881\n",
      " 0.00911259 0.0090538  0.00900217 0.00895748 0.00891952 0.00888814\n",
      " 0.00886319 0.00884457 0.0088322  0.00882603]\n",
      "num_paired_subset_sizes = 53\n",
      "weight_left = 0.8075569398054265\n",
      "np.sum(w_aug) = 107.0\n",
      "np.sum(self.kernelWeights) = 1.0\n",
      "phi = [ 0.04474586 -0.00604959  0.          0.          0.          0.\n",
      "  0.00723864  0.          0.          0.          0.          0.12287679\n",
      "  0.12296809  0.         -0.02337592  0.          0.          0.\n",
      "  0.          0.          0.          0.          0.          0.\n",
      "  0.          0.         -0.04123729 -0.00753574  0.          0.\n",
      "  0.00375248  0.          0.          0.          0.00656152  0.\n",
      "  0.          0.          0.          0.          0.          0.\n",
      "  0.          0.          0.          0.          0.          0.\n",
      "  0.          0.          0.          0.          0.          0.\n",
      "  0.          0.          0.          0.          0.          0.\n",
      "  0.          0.          0.          0.          0.          0.\n",
      "  0.          0.          0.          0.          0.          0.\n",
      "  0.          0.          0.          0.          0.          0.\n",
      "  0.          0.          0.          0.          0.          0.\n",
      "  0.          0.          0.          0.          0.          0.\n",
      "  0.          0.          0.          0.          0.          0.\n",
      "  0.          0.00753079  0.          0.          0.         -0.01084732\n",
      "  0.         -0.0172387   0.          0.00622597  0.        ]\n",
      "100%|██████████| 25/25 [01:11<00:00,  2.85s/it]\n",
      "Generating mini dash\n",
      "Generated mini dash\n"
     ]
    },
    {
     "data": {
      "text/html": [
       "<!-- http://127.0.0.1:7001/1500838923088/ -->\n",
       "<iframe src=\"http://127.0.0.1:7001/1500838923088/\" width=100% height=800 frameBorder=\"0\"></iframe>"
      ]
     },
     "metadata": {},
     "output_type": "display_data"
    }
   ],
   "source": [
    "shap_local = shap.explain_local(pd.DataFrame(Xtest)[:25])\n",
    "\n",
    "show(shap_local)"
   ]
  },
  {
   "cell_type": "code",
   "execution_count": null,
   "metadata": {},
   "outputs": [],
   "source": []
  }
 ],
 "metadata": {
  "interpreter": {
   "hash": "456d2a7118d35350561e2a2cece57887a28d81f04d055278ed4a029d882f7171"
  },
  "kernelspec": {
   "display_name": "Python 3.8.8 64-bit ('base': conda)",
   "language": "python",
   "name": "python3"
  },
  "language_info": {
   "codemirror_mode": {
    "name": "ipython",
    "version": 3
   },
   "file_extension": ".py",
   "mimetype": "text/x-python",
   "name": "python",
   "nbconvert_exporter": "python",
   "pygments_lexer": "ipython3",
   "version": "3.8.8"
  },
  "orig_nbformat": 4
 },
 "nbformat": 4,
 "nbformat_minor": 2
}
