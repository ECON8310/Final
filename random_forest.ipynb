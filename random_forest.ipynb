{
 "cells": [
  {
   "cell_type": "code",
   "execution_count": 1,
   "metadata": {},
   "outputs": [],
   "source": [
    "import pandas as pd\n",
    "import numpy as np\n",
    "\n",
    "import patsy as pt\n",
    "from sklearn.model_selection import train_test_split\n",
    "from sklearn.metrics import accuracy_score\n",
    "from sklearn.ensemble import RandomForestClassifier\n",
    "\n",
    "import plotly.express as px\n",
    "\n",
    "from interpret import show\n",
    "from interpret.blackbox import ShapKernel, PartialDependence\n",
    "\n"
   ]
  },
  {
   "cell_type": "markdown",
   "metadata": {},
   "source": [
    "### Data Prep"
   ]
  },
  {
   "cell_type": "code",
   "execution_count": 2,
   "metadata": {},
   "outputs": [],
   "source": [
    "data = pd.read_csv('./DATA/pakistanClean2.csv')"
   ]
  },
  {
   "cell_type": "code",
   "execution_count": 3,
   "metadata": {},
   "outputs": [
    {
     "name": "stderr",
     "output_type": "stream",
     "text": [
      "Note: NumExpr detected 12 cores but \"NUMEXPR_MAX_THREADS\" not set, so enforcing safe limit of 8.\n",
      "NumExpr defaulting to 8 threads.\n"
     ]
    }
   ],
   "source": [
    "#valid_train_Values = ['0','1']\n",
    "#work_data = data[data.TTP.isin(valid_train_Values)] \n",
    "work_data = data[(data['TTP']==0) | (data['TTP'] ==1)].copy()\n",
    "test_data = data[pd.isna(data['TTP'])].copy()\n",
    "work_data = work_data.fillna(-99)"
   ]
  },
  {
   "cell_type": "code",
   "execution_count": 4,
   "metadata": {},
   "outputs": [],
   "source": [
    "# Create regression arrays\n",
    "Y, X = pt.dmatrices(\"TTP ~ C(iyear) + C(provstate) + multiple + success + suicide + attacktype1 + C(targtype1) + C(targsubtype1) + weaptype1 + weapsubtype1 + nkill + nkillus + nkillter + nwound + nwoundus + nwoundte + C(Month)\", data = work_data, return_type='dataframe')"
   ]
  },
  {
   "cell_type": "code",
   "execution_count": 5,
   "metadata": {},
   "outputs": [],
   "source": [
    "names = X.columns\n",
    "names = [i.replace('[', '').replace(']', '').replace(' ', '').replace(',', '') for i in names]"
   ]
  },
  {
   "cell_type": "code",
   "execution_count": 6,
   "metadata": {},
   "outputs": [],
   "source": [
    "# Randomly create train and test data\n",
    "x, xt, y, yt = train_test_split(X, Y, test_size = 0.25,random_state=35)"
   ]
  },
  {
   "cell_type": "markdown",
   "metadata": {},
   "source": [
    "### Model"
   ]
  },
  {
   "cell_type": "code",
   "execution_count": 7,
   "metadata": {},
   "outputs": [
    {
     "name": "stderr",
     "output_type": "stream",
     "text": [
      "<ipython-input-7-4e61eff9e664>:4: DataConversionWarning: A column-vector y was passed when a 1d array was expected. Please change the shape of y to (n_samples,), for example using ravel().\n",
      "  fclf = writingForest.fit(x, y)\n"
     ]
    }
   ],
   "source": [
    "# Generate the random forest model\n",
    "writingForest = RandomForestClassifier(n_estimators=110, n_jobs = -1, random_state=35)\n",
    "# Fit the model to the training data\n",
    "fclf = writingForest.fit(x, y)"
   ]
  },
  {
   "cell_type": "markdown",
   "metadata": {},
   "source": [
    "### Generate predictions and evaluate"
   ]
  },
  {
   "cell_type": "code",
   "execution_count": 8,
   "metadata": {},
   "outputs": [
    {
     "name": "stdout",
     "output_type": "stream",
     "text": [
      "The random forest has an accuracy of : 0.8175937904269082\n",
      "\n"
     ]
    }
   ],
   "source": [
    "# Make predictions\n",
    "fpred = fclf.predict(xt)\n",
    "# Print the accuracy score of the fitted model\n",
    "print(\"The random forest has an accuracy of : %s\\n\" % str(accuracy_score(fpred, yt)))"
   ]
  },
  {
   "cell_type": "markdown",
   "metadata": {},
   "source": [
    "### Explain model"
   ]
  },
  {
   "cell_type": "markdown",
   "metadata": {},
   "source": [
    "#### Feature importances"
   ]
  },
  {
   "cell_type": "code",
   "execution_count": 9,
   "metadata": {},
   "outputs": [],
   "source": [
    "imp_df = pd.DataFrame({'Feature':names,'Importance':fclf.feature_importances_})\n",
    "imp_df.sort_values(by='Importance', ascending=False, inplace=True)"
   ]
  },
  {
   "cell_type": "code",
   "execution_count": 10,
   "metadata": {},
   "outputs": [
    {
     "data": {
      "application/vnd.plotly.v1+json": {
       "config": {
        "plotlyServerURL": "https://plot.ly"
       },
       "data": [
        {
         "alignmentgroup": "True",
         "hovertemplate": "Importance=%{x}<br>Feature=%{y}<extra></extra>",
         "legendgroup": "",
         "marker": {
          "color": "#636efa",
          "pattern": {
           "shape": ""
          }
         },
         "name": "",
         "offsetgroup": "",
         "orientation": "h",
         "showlegend": false,
         "textposition": "auto",
         "type": "bar",
         "x": [
          0.16377936375055643,
          0.0542827248775175,
          0.053622755066064114,
          0.04938046938714151,
          0.047827857908150945,
          0.04629584006315441,
          0.026302645706037898,
          0.022626389707813346,
          0.01692459838018845,
          0.016170994238882425,
          0.01513583939606882,
          0.01497812990542885,
          0.014579739687051415,
          0.01325555583678348,
          0.01170738287148765,
          0.011654787399047005,
          0.011649075704447636,
          0.011577623151503104,
          0.011172347121384945,
          0.010933383475958592
         ],
         "xaxis": "x",
         "y": [
          "C(provstate)T.Balochistan",
          "nkill",
          "C(provstate)T.KhyberPakhtunkhwa",
          "C(provstate)T.FederallyAdministeredTribalAreas",
          "weapsubtype1",
          "nwound",
          "attacktype1",
          "nkillter",
          "C(Month)T.Nov",
          "weaptype1",
          "C(targsubtype1)T.49.0",
          "C(provstate)T.Sindh",
          "C(iyear)T.2010",
          "C(iyear)T.2014",
          "C(iyear)T.2013",
          "C(iyear)T.2015",
          "multiple",
          "C(iyear)T.2016",
          "C(targtype1)T.21",
          "C(Month)T.Jan"
         ],
         "yaxis": "y"
        }
       ],
       "layout": {
        "barmode": "relative",
        "legend": {
         "tracegroupgap": 0
        },
        "margin": {
         "t": 60
        },
        "template": {
         "data": {
          "bar": [
           {
            "error_x": {
             "color": "#2a3f5f"
            },
            "error_y": {
             "color": "#2a3f5f"
            },
            "marker": {
             "line": {
              "color": "#E5ECF6",
              "width": 0.5
             },
             "pattern": {
              "fillmode": "overlay",
              "size": 10,
              "solidity": 0.2
             }
            },
            "type": "bar"
           }
          ],
          "barpolar": [
           {
            "marker": {
             "line": {
              "color": "#E5ECF6",
              "width": 0.5
             },
             "pattern": {
              "fillmode": "overlay",
              "size": 10,
              "solidity": 0.2
             }
            },
            "type": "barpolar"
           }
          ],
          "carpet": [
           {
            "aaxis": {
             "endlinecolor": "#2a3f5f",
             "gridcolor": "white",
             "linecolor": "white",
             "minorgridcolor": "white",
             "startlinecolor": "#2a3f5f"
            },
            "baxis": {
             "endlinecolor": "#2a3f5f",
             "gridcolor": "white",
             "linecolor": "white",
             "minorgridcolor": "white",
             "startlinecolor": "#2a3f5f"
            },
            "type": "carpet"
           }
          ],
          "choropleth": [
           {
            "colorbar": {
             "outlinewidth": 0,
             "ticks": ""
            },
            "type": "choropleth"
           }
          ],
          "contour": [
           {
            "colorbar": {
             "outlinewidth": 0,
             "ticks": ""
            },
            "colorscale": [
             [
              0,
              "#0d0887"
             ],
             [
              0.1111111111111111,
              "#46039f"
             ],
             [
              0.2222222222222222,
              "#7201a8"
             ],
             [
              0.3333333333333333,
              "#9c179e"
             ],
             [
              0.4444444444444444,
              "#bd3786"
             ],
             [
              0.5555555555555556,
              "#d8576b"
             ],
             [
              0.6666666666666666,
              "#ed7953"
             ],
             [
              0.7777777777777778,
              "#fb9f3a"
             ],
             [
              0.8888888888888888,
              "#fdca26"
             ],
             [
              1,
              "#f0f921"
             ]
            ],
            "type": "contour"
           }
          ],
          "contourcarpet": [
           {
            "colorbar": {
             "outlinewidth": 0,
             "ticks": ""
            },
            "type": "contourcarpet"
           }
          ],
          "heatmap": [
           {
            "colorbar": {
             "outlinewidth": 0,
             "ticks": ""
            },
            "colorscale": [
             [
              0,
              "#0d0887"
             ],
             [
              0.1111111111111111,
              "#46039f"
             ],
             [
              0.2222222222222222,
              "#7201a8"
             ],
             [
              0.3333333333333333,
              "#9c179e"
             ],
             [
              0.4444444444444444,
              "#bd3786"
             ],
             [
              0.5555555555555556,
              "#d8576b"
             ],
             [
              0.6666666666666666,
              "#ed7953"
             ],
             [
              0.7777777777777778,
              "#fb9f3a"
             ],
             [
              0.8888888888888888,
              "#fdca26"
             ],
             [
              1,
              "#f0f921"
             ]
            ],
            "type": "heatmap"
           }
          ],
          "heatmapgl": [
           {
            "colorbar": {
             "outlinewidth": 0,
             "ticks": ""
            },
            "colorscale": [
             [
              0,
              "#0d0887"
             ],
             [
              0.1111111111111111,
              "#46039f"
             ],
             [
              0.2222222222222222,
              "#7201a8"
             ],
             [
              0.3333333333333333,
              "#9c179e"
             ],
             [
              0.4444444444444444,
              "#bd3786"
             ],
             [
              0.5555555555555556,
              "#d8576b"
             ],
             [
              0.6666666666666666,
              "#ed7953"
             ],
             [
              0.7777777777777778,
              "#fb9f3a"
             ],
             [
              0.8888888888888888,
              "#fdca26"
             ],
             [
              1,
              "#f0f921"
             ]
            ],
            "type": "heatmapgl"
           }
          ],
          "histogram": [
           {
            "marker": {
             "pattern": {
              "fillmode": "overlay",
              "size": 10,
              "solidity": 0.2
             }
            },
            "type": "histogram"
           }
          ],
          "histogram2d": [
           {
            "colorbar": {
             "outlinewidth": 0,
             "ticks": ""
            },
            "colorscale": [
             [
              0,
              "#0d0887"
             ],
             [
              0.1111111111111111,
              "#46039f"
             ],
             [
              0.2222222222222222,
              "#7201a8"
             ],
             [
              0.3333333333333333,
              "#9c179e"
             ],
             [
              0.4444444444444444,
              "#bd3786"
             ],
             [
              0.5555555555555556,
              "#d8576b"
             ],
             [
              0.6666666666666666,
              "#ed7953"
             ],
             [
              0.7777777777777778,
              "#fb9f3a"
             ],
             [
              0.8888888888888888,
              "#fdca26"
             ],
             [
              1,
              "#f0f921"
             ]
            ],
            "type": "histogram2d"
           }
          ],
          "histogram2dcontour": [
           {
            "colorbar": {
             "outlinewidth": 0,
             "ticks": ""
            },
            "colorscale": [
             [
              0,
              "#0d0887"
             ],
             [
              0.1111111111111111,
              "#46039f"
             ],
             [
              0.2222222222222222,
              "#7201a8"
             ],
             [
              0.3333333333333333,
              "#9c179e"
             ],
             [
              0.4444444444444444,
              "#bd3786"
             ],
             [
              0.5555555555555556,
              "#d8576b"
             ],
             [
              0.6666666666666666,
              "#ed7953"
             ],
             [
              0.7777777777777778,
              "#fb9f3a"
             ],
             [
              0.8888888888888888,
              "#fdca26"
             ],
             [
              1,
              "#f0f921"
             ]
            ],
            "type": "histogram2dcontour"
           }
          ],
          "mesh3d": [
           {
            "colorbar": {
             "outlinewidth": 0,
             "ticks": ""
            },
            "type": "mesh3d"
           }
          ],
          "parcoords": [
           {
            "line": {
             "colorbar": {
              "outlinewidth": 0,
              "ticks": ""
             }
            },
            "type": "parcoords"
           }
          ],
          "pie": [
           {
            "automargin": true,
            "type": "pie"
           }
          ],
          "scatter": [
           {
            "marker": {
             "colorbar": {
              "outlinewidth": 0,
              "ticks": ""
             }
            },
            "type": "scatter"
           }
          ],
          "scatter3d": [
           {
            "line": {
             "colorbar": {
              "outlinewidth": 0,
              "ticks": ""
             }
            },
            "marker": {
             "colorbar": {
              "outlinewidth": 0,
              "ticks": ""
             }
            },
            "type": "scatter3d"
           }
          ],
          "scattercarpet": [
           {
            "marker": {
             "colorbar": {
              "outlinewidth": 0,
              "ticks": ""
             }
            },
            "type": "scattercarpet"
           }
          ],
          "scattergeo": [
           {
            "marker": {
             "colorbar": {
              "outlinewidth": 0,
              "ticks": ""
             }
            },
            "type": "scattergeo"
           }
          ],
          "scattergl": [
           {
            "marker": {
             "colorbar": {
              "outlinewidth": 0,
              "ticks": ""
             }
            },
            "type": "scattergl"
           }
          ],
          "scattermapbox": [
           {
            "marker": {
             "colorbar": {
              "outlinewidth": 0,
              "ticks": ""
             }
            },
            "type": "scattermapbox"
           }
          ],
          "scatterpolar": [
           {
            "marker": {
             "colorbar": {
              "outlinewidth": 0,
              "ticks": ""
             }
            },
            "type": "scatterpolar"
           }
          ],
          "scatterpolargl": [
           {
            "marker": {
             "colorbar": {
              "outlinewidth": 0,
              "ticks": ""
             }
            },
            "type": "scatterpolargl"
           }
          ],
          "scatterternary": [
           {
            "marker": {
             "colorbar": {
              "outlinewidth": 0,
              "ticks": ""
             }
            },
            "type": "scatterternary"
           }
          ],
          "surface": [
           {
            "colorbar": {
             "outlinewidth": 0,
             "ticks": ""
            },
            "colorscale": [
             [
              0,
              "#0d0887"
             ],
             [
              0.1111111111111111,
              "#46039f"
             ],
             [
              0.2222222222222222,
              "#7201a8"
             ],
             [
              0.3333333333333333,
              "#9c179e"
             ],
             [
              0.4444444444444444,
              "#bd3786"
             ],
             [
              0.5555555555555556,
              "#d8576b"
             ],
             [
              0.6666666666666666,
              "#ed7953"
             ],
             [
              0.7777777777777778,
              "#fb9f3a"
             ],
             [
              0.8888888888888888,
              "#fdca26"
             ],
             [
              1,
              "#f0f921"
             ]
            ],
            "type": "surface"
           }
          ],
          "table": [
           {
            "cells": {
             "fill": {
              "color": "#EBF0F8"
             },
             "line": {
              "color": "white"
             }
            },
            "header": {
             "fill": {
              "color": "#C8D4E3"
             },
             "line": {
              "color": "white"
             }
            },
            "type": "table"
           }
          ]
         },
         "layout": {
          "annotationdefaults": {
           "arrowcolor": "#2a3f5f",
           "arrowhead": 0,
           "arrowwidth": 1
          },
          "autotypenumbers": "strict",
          "coloraxis": {
           "colorbar": {
            "outlinewidth": 0,
            "ticks": ""
           }
          },
          "colorscale": {
           "diverging": [
            [
             0,
             "#8e0152"
            ],
            [
             0.1,
             "#c51b7d"
            ],
            [
             0.2,
             "#de77ae"
            ],
            [
             0.3,
             "#f1b6da"
            ],
            [
             0.4,
             "#fde0ef"
            ],
            [
             0.5,
             "#f7f7f7"
            ],
            [
             0.6,
             "#e6f5d0"
            ],
            [
             0.7,
             "#b8e186"
            ],
            [
             0.8,
             "#7fbc41"
            ],
            [
             0.9,
             "#4d9221"
            ],
            [
             1,
             "#276419"
            ]
           ],
           "sequential": [
            [
             0,
             "#0d0887"
            ],
            [
             0.1111111111111111,
             "#46039f"
            ],
            [
             0.2222222222222222,
             "#7201a8"
            ],
            [
             0.3333333333333333,
             "#9c179e"
            ],
            [
             0.4444444444444444,
             "#bd3786"
            ],
            [
             0.5555555555555556,
             "#d8576b"
            ],
            [
             0.6666666666666666,
             "#ed7953"
            ],
            [
             0.7777777777777778,
             "#fb9f3a"
            ],
            [
             0.8888888888888888,
             "#fdca26"
            ],
            [
             1,
             "#f0f921"
            ]
           ],
           "sequentialminus": [
            [
             0,
             "#0d0887"
            ],
            [
             0.1111111111111111,
             "#46039f"
            ],
            [
             0.2222222222222222,
             "#7201a8"
            ],
            [
             0.3333333333333333,
             "#9c179e"
            ],
            [
             0.4444444444444444,
             "#bd3786"
            ],
            [
             0.5555555555555556,
             "#d8576b"
            ],
            [
             0.6666666666666666,
             "#ed7953"
            ],
            [
             0.7777777777777778,
             "#fb9f3a"
            ],
            [
             0.8888888888888888,
             "#fdca26"
            ],
            [
             1,
             "#f0f921"
            ]
           ]
          },
          "colorway": [
           "#636efa",
           "#EF553B",
           "#00cc96",
           "#ab63fa",
           "#FFA15A",
           "#19d3f3",
           "#FF6692",
           "#B6E880",
           "#FF97FF",
           "#FECB52"
          ],
          "font": {
           "color": "#2a3f5f"
          },
          "geo": {
           "bgcolor": "white",
           "lakecolor": "white",
           "landcolor": "#E5ECF6",
           "showlakes": true,
           "showland": true,
           "subunitcolor": "white"
          },
          "hoverlabel": {
           "align": "left"
          },
          "hovermode": "closest",
          "mapbox": {
           "style": "light"
          },
          "paper_bgcolor": "white",
          "plot_bgcolor": "#E5ECF6",
          "polar": {
           "angularaxis": {
            "gridcolor": "white",
            "linecolor": "white",
            "ticks": ""
           },
           "bgcolor": "#E5ECF6",
           "radialaxis": {
            "gridcolor": "white",
            "linecolor": "white",
            "ticks": ""
           }
          },
          "scene": {
           "xaxis": {
            "backgroundcolor": "#E5ECF6",
            "gridcolor": "white",
            "gridwidth": 2,
            "linecolor": "white",
            "showbackground": true,
            "ticks": "",
            "zerolinecolor": "white"
           },
           "yaxis": {
            "backgroundcolor": "#E5ECF6",
            "gridcolor": "white",
            "gridwidth": 2,
            "linecolor": "white",
            "showbackground": true,
            "ticks": "",
            "zerolinecolor": "white"
           },
           "zaxis": {
            "backgroundcolor": "#E5ECF6",
            "gridcolor": "white",
            "gridwidth": 2,
            "linecolor": "white",
            "showbackground": true,
            "ticks": "",
            "zerolinecolor": "white"
           }
          },
          "shapedefaults": {
           "line": {
            "color": "#2a3f5f"
           }
          },
          "ternary": {
           "aaxis": {
            "gridcolor": "white",
            "linecolor": "white",
            "ticks": ""
           },
           "baxis": {
            "gridcolor": "white",
            "linecolor": "white",
            "ticks": ""
           },
           "bgcolor": "#E5ECF6",
           "caxis": {
            "gridcolor": "white",
            "linecolor": "white",
            "ticks": ""
           }
          },
          "title": {
           "x": 0.05
          },
          "xaxis": {
           "automargin": true,
           "gridcolor": "white",
           "linecolor": "white",
           "ticks": "",
           "title": {
            "standoff": 15
           },
           "zerolinecolor": "white",
           "zerolinewidth": 2
          },
          "yaxis": {
           "automargin": true,
           "gridcolor": "white",
           "linecolor": "white",
           "ticks": "",
           "title": {
            "standoff": 15
           },
           "zerolinecolor": "white",
           "zerolinewidth": 2
          }
         }
        },
        "xaxis": {
         "anchor": "y",
         "domain": [
          0,
          1
         ],
         "title": {
          "text": "Importance"
         }
        },
        "yaxis": {
         "anchor": "x",
         "domain": [
          0,
          1
         ],
         "title": {
          "text": "Feature"
         }
        }
       }
      }
     },
     "metadata": {},
     "output_type": "display_data"
    }
   ],
   "source": [
    "px.bar(x='Importance', y='Feature', data_frame=imp_df.head(20), orientation='h')"
   ]
  },
  {
   "cell_type": "markdown",
   "metadata": {},
   "source": [
    "#### Shapley Values Intro\n",
    "\n",
    "Shapley values can help us understand what and how features contributed to our final prediction. The goal is to understand how a model got to the prediction it did. In the above plot we see that the number of terrorists killed, along with a couple location features, pushed our TTP probabibility over 50%. While there were other features that would lead us to believe it was not a TTP attack, they were not enough to bring us below 50%. "
   ]
  },
  {
   "cell_type": "code",
   "execution_count": 11,
   "metadata": {},
   "outputs": [],
   "source": [
    "shap = ShapKernel(predict_fn=writingForest.predict_proba, data=x[:100])"
   ]
  },
  {
   "cell_type": "code",
   "execution_count": 12,
   "metadata": {},
   "outputs": [
    {
     "name": "stderr",
     "output_type": "stream",
     "text": [
      "  0%|          | 0/25 [00:00<?, ?it/s]num_full_subsets = 1\n",
      "remaining_weight_vector = [0.12794589 0.08633747 0.06555252 0.05309754 0.04480805 0.0388993\n",
      " 0.03447893 0.0310512  0.02831869 0.02609216 0.02424545 0.02269126\n",
      " 0.02136722 0.02022764 0.01923824 0.01837285 0.01761113 0.01693702\n",
      " 0.01633771 0.01580284 0.01532397 0.01489412 0.01450753 0.01415935\n",
      " 0.01384551 0.01356259 0.01330766 0.01307821 0.01287213 0.01268759\n",
      " 0.01252301 0.01237705 0.01224857 0.01213658 0.01204026 0.01195891\n",
      " 0.01189195 0.01183892 0.01179945 0.01177329 0.01176025]\n",
      "num_paired_subset_sizes = 42\n",
      "weight_left = 0.7981830466727807\n",
      "np.sum(w_aug) = 85.0\n",
      "np.sum(self.kernelWeights) = 1.0\n",
      "phi = [-0.00291031 -0.00471585 -0.00286226  0.          0.          0.\n",
      "  0.00666694  0.          0.0047356  -0.0101411   0.          0.11185225\n",
      " -0.02815481  0.         -0.03486732  0.          0.          0.\n",
      "  0.00914059 -0.00738744  0.          0.          0.          0.00323748\n",
      "  0.          0.00371935  0.          0.0086892   0.          0.\n",
      "  0.          0.          0.          0.         -0.01073313  0.\n",
      "  0.          0.          0.         -0.00299781  0.          0.\n",
      " -0.00279569  0.          0.          0.          0.          0.\n",
      "  0.          0.          0.          0.          0.          0.\n",
      "  0.          0.          0.          0.          0.          0.\n",
      "  0.          0.          0.          0.          0.          0.\n",
      "  0.          0.          0.          0.          0.         -0.0030155\n",
      "  0.00923437  0.00480958  0.         -0.0066124  -0.00787504 -0.00336837\n",
      " -0.00920787 -0.0234842  -0.01799685  0.05804171  0.0639898   0.\n",
      "  0.        ]\n",
      "  4%|▍         | 1/25 [00:02<01:05,  2.71s/it]num_full_subsets = 1\n",
      "remaining_weight_vector = [0.12794589 0.08633747 0.06555252 0.05309754 0.04480805 0.0388993\n",
      " 0.03447893 0.0310512  0.02831869 0.02609216 0.02424545 0.02269126\n",
      " 0.02136722 0.02022764 0.01923824 0.01837285 0.01761113 0.01693702\n",
      " 0.01633771 0.01580284 0.01532397 0.01489412 0.01450753 0.01415935\n",
      " 0.01384551 0.01356259 0.01330766 0.01307821 0.01287213 0.01268759\n",
      " 0.01252301 0.01237705 0.01224857 0.01213658 0.01204026 0.01195891\n",
      " 0.01189195 0.01183892 0.01179945 0.01177329 0.01176025]\n",
      "num_paired_subset_sizes = 42\n",
      "weight_left = 0.7981830466727807\n",
      "np.sum(w_aug) = 85.0\n",
      "np.sum(self.kernelWeights) = 1.0\n",
      "phi = [0.         0.         0.         0.         0.00404432 0.03716368\n",
      " 0.0134803  0.0085535  0.00528631 0.         0.00143877 0.14456432\n",
      " 0.1519854  0.         0.         0.         0.00762536 0.\n",
      " 0.         0.00165217 0.00458423 0.         0.         0.00343441\n",
      " 0.         0.00332812 0.         0.00669923 0.         0.\n",
      " 0.         0.         0.         0.         0.         0.\n",
      " 0.         0.         0.         0.         0.         0.\n",
      " 0.06105283 0.         0.         0.         0.         0.\n",
      " 0.         0.         0.         0.         0.         0.\n",
      " 0.         0.         0.         0.         0.00127642 0.0032988\n",
      " 0.         0.00245345 0.         0.         0.         0.\n",
      " 0.         0.         0.         0.         0.         0.\n",
      " 0.01163069 0.00274323 0.         0.02256093 0.         0.\n",
      " 0.         0.         0.00560132 0.00937649 0.         0.00933846\n",
      " 0.        ]\n",
      "  8%|▊         | 2/25 [00:05<01:05,  2.86s/it]num_full_subsets = 1\n",
      "remaining_weight_vector = [0.12794589 0.08633747 0.06555252 0.05309754 0.04480805 0.0388993\n",
      " 0.03447893 0.0310512  0.02831869 0.02609216 0.02424545 0.02269126\n",
      " 0.02136722 0.02022764 0.01923824 0.01837285 0.01761113 0.01693702\n",
      " 0.01633771 0.01580284 0.01532397 0.01489412 0.01450753 0.01415935\n",
      " 0.01384551 0.01356259 0.01330766 0.01307821 0.01287213 0.01268759\n",
      " 0.01252301 0.01237705 0.01224857 0.01213658 0.01204026 0.01195891\n",
      " 0.01189195 0.01183892 0.01179945 0.01177329 0.01176025]\n",
      "num_paired_subset_sizes = 42\n",
      "weight_left = 0.7981830466727807\n",
      "np.sum(w_aug) = 85.0\n",
      "np.sum(self.kernelWeights) = 1.0\n",
      "phi = [-0.00321632 -0.00509297 -0.01390871  0.          0.         -0.00419642\n",
      "  0.00717504  0.          0.0053912   0.0040315  -0.02588089  0.11288087\n",
      " -0.03485239  0.         -0.03667542  0.         -0.04880608  0.\n",
      " -0.00424443  0.          0.          0.          0.         -0.01255178\n",
      "  0.          0.00467712  0.          0.00757677  0.          0.\n",
      "  0.          0.          0.          0.          0.          0.\n",
      "  0.          0.          0.         -0.00216989  0.          0.\n",
      " -0.00175249  0.          0.          0.          0.          0.02821712\n",
      "  0.          0.          0.          0.          0.          0.\n",
      "  0.          0.         -0.00154793  0.          0.          0.\n",
      "  0.          0.          0.          0.         -0.00134759  0.\n",
      " -0.00149353  0.06092274  0.         -0.00244636  0.         -0.00230912\n",
      "  0.004545    0.          0.         -0.0045552   0.         -0.00255699\n",
      " -0.01755328  0.          0.01489635  0.01796325  0.         -0.00249191\n",
      "  0.        ]\n",
      " 12%|█▏        | 3/25 [00:08<01:02,  2.82s/it]num_full_subsets = 1\n",
      "remaining_weight_vector = [0.12794589 0.08633747 0.06555252 0.05309754 0.04480805 0.0388993\n",
      " 0.03447893 0.0310512  0.02831869 0.02609216 0.02424545 0.02269126\n",
      " 0.02136722 0.02022764 0.01923824 0.01837285 0.01761113 0.01693702\n",
      " 0.01633771 0.01580284 0.01532397 0.01489412 0.01450753 0.01415935\n",
      " 0.01384551 0.01356259 0.01330766 0.01307821 0.01287213 0.01268759\n",
      " 0.01252301 0.01237705 0.01224857 0.01213658 0.01204026 0.01195891\n",
      " 0.01189195 0.01183892 0.01179945 0.01177329 0.01176025]\n",
      "num_paired_subset_sizes = 42\n",
      "weight_left = 0.7981830466727807\n",
      "np.sum(w_aug) = 85.0\n",
      "np.sum(self.kernelWeights) = 0.9999999999999999\n",
      "phi = [ 0.          0.          0.          0.          0.          0.\n",
      "  0.00697856  0.          0.0042848   0.          0.00156972  0.12380375\n",
      "  0.          0.          0.14307046  0.          0.          0.\n",
      "  0.          0.          0.          0.          0.          0.00315639\n",
      "  0.          0.00241904  0.          0.          0.          0.\n",
      "  0.          0.          0.          0.          0.          0.\n",
      "  0.          0.          0.          0.          0.          0.\n",
      "  0.          0.          0.          0.          0.          0.\n",
      "  0.          0.          0.          0.00088047  0.          0.\n",
      "  0.          0.          0.          0.          0.          0.\n",
      "  0.          0.          0.          0.          0.          0.\n",
      "  0.          0.          0.          0.          0.          0.\n",
      "  0.         -0.03379655  0.          0.          0.          0.03463258\n",
      "  0.01406871  0.00261313  0.01631256  0.03635339  0.01508189  0.01538019\n",
      "  0.        ]\n",
      " 16%|█▌        | 4/25 [00:11<00:59,  2.83s/it]num_full_subsets = 1\n",
      "remaining_weight_vector = [0.12794589 0.08633747 0.06555252 0.05309754 0.04480805 0.0388993\n",
      " 0.03447893 0.0310512  0.02831869 0.02609216 0.02424545 0.02269126\n",
      " 0.02136722 0.02022764 0.01923824 0.01837285 0.01761113 0.01693702\n",
      " 0.01633771 0.01580284 0.01532397 0.01489412 0.01450753 0.01415935\n",
      " 0.01384551 0.01356259 0.01330766 0.01307821 0.01287213 0.01268759\n",
      " 0.01252301 0.01237705 0.01224857 0.01213658 0.01204026 0.01195891\n",
      " 0.01189195 0.01183892 0.01179945 0.01177329 0.01176025]\n",
      "num_paired_subset_sizes = 42\n",
      "weight_left = 0.7981830466727807\n",
      "np.sum(w_aug) = 85.0\n",
      "np.sum(self.kernelWeights) = 1.0\n",
      "phi = [ 0.          0.05165592  0.          0.          0.          0.00234321\n",
      "  0.00834008  0.          0.00379265  0.          0.          0.13385868\n",
      " -0.01945269  0.         -0.02217354  0.01745711  0.00173476  0.\n",
      "  0.00938554  0.          0.          0.          0.          0.00366491\n",
      "  0.          0.00556558  0.          0.00822198  0.          0.\n",
      "  0.          0.          0.01267281  0.          0.00237583  0.\n",
      "  0.          0.          0.          0.          0.          0.\n",
      "  0.          0.          0.          0.          0.          0.\n",
      "  0.          0.          0.          0.          0.          0.\n",
      "  0.          0.          0.          0.          0.          0.\n",
      "  0.          0.00214981  0.          0.          0.          0.\n",
      "  0.          0.          0.          0.         -0.01694827  0.\n",
      "  0.00272342  0.          0.          0.          0.          0.\n",
      "  0.00744825  0.01115264  0.01989738  0.06931188  0.00366457 -0.0138516\n",
      "  0.        ]\n",
      " 20%|██        | 5/25 [00:13<00:54,  2.74s/it]num_full_subsets = 1\n",
      "remaining_weight_vector = [0.12794589 0.08633747 0.06555252 0.05309754 0.04480805 0.0388993\n",
      " 0.03447893 0.0310512  0.02831869 0.02609216 0.02424545 0.02269126\n",
      " 0.02136722 0.02022764 0.01923824 0.01837285 0.01761113 0.01693702\n",
      " 0.01633771 0.01580284 0.01532397 0.01489412 0.01450753 0.01415935\n",
      " 0.01384551 0.01356259 0.01330766 0.01307821 0.01287213 0.01268759\n",
      " 0.01252301 0.01237705 0.01224857 0.01213658 0.01204026 0.01195891\n",
      " 0.01189195 0.01183892 0.01179945 0.01177329 0.01176025]\n",
      "num_paired_subset_sizes = 42\n",
      "weight_left = 0.7981830466727807\n",
      "np.sum(w_aug) = 85.0\n",
      "np.sum(self.kernelWeights) = 1.0\n",
      "phi = [ 0.13245989  0.          0.00599603  0.          0.00353099  0.00098624\n",
      "  0.00990411  0.          0.00351525  0.00143554  0.00316227  0.1024392\n",
      " -0.02334678  0.          0.06877684  0.          0.00404754  0.\n",
      "  0.          0.          0.          0.          0.          0.00474633\n",
      "  0.          0.00151808  0.          0.00748918  0.          0.\n",
      "  0.          0.          0.          0.          0.00530705  0.\n",
      "  0.          0.          0.          0.          0.          0.\n",
      "  0.          0.          0.          0.          0.          0.\n",
      "  0.          0.          0.          0.          0.          0.\n",
      "  0.          0.          0.         -0.01068759  0.          0.\n",
      "  0.          0.00373178  0.          0.          0.          0.0038504\n",
      "  0.          0.          0.          0.          0.00336908  0.\n",
      "  0.00857294 -0.01300663  0.          0.00590047  0.00253274  0.\n",
      "  0.00299699  0.02109269 -0.02293567 -0.01421225  0.          0.\n",
      "  0.        ]\n",
      " 24%|██▍       | 6/25 [00:16<00:51,  2.69s/it]num_full_subsets = 1\n",
      "remaining_weight_vector = [0.12794589 0.08633747 0.06555252 0.05309754 0.04480805 0.0388993\n",
      " 0.03447893 0.0310512  0.02831869 0.02609216 0.02424545 0.02269126\n",
      " 0.02136722 0.02022764 0.01923824 0.01837285 0.01761113 0.01693702\n",
      " 0.01633771 0.01580284 0.01532397 0.01489412 0.01450753 0.01415935\n",
      " 0.01384551 0.01356259 0.01330766 0.01307821 0.01287213 0.01268759\n",
      " 0.01252301 0.01237705 0.01224857 0.01213658 0.01204026 0.01195891\n",
      " 0.01189195 0.01183892 0.01179945 0.01177329 0.01176025]\n",
      "num_paired_subset_sizes = 42\n",
      "weight_left = 0.7981830466727807\n",
      "np.sum(w_aug) = 85.0\n",
      "np.sum(self.kernelWeights) = 1.0\n",
      "phi = [-0.00214613 -0.00408708 -0.01035458  0.          0.          0.\n",
      "  0.         -0.00687344  0.          0.          0.         -0.24016982\n",
      " -0.02982632  0.         -0.05203725  0.         -0.0020704   0.\n",
      " -0.0027902  -0.00105771  0.          0.          0.         -0.00134064\n",
      "  0.          0.          0.          0.          0.          0.\n",
      "  0.          0.          0.          0.          0.          0.\n",
      " -0.00915244 -0.00324528  0.         -0.00138474  0.          0.\n",
      " -0.00104835  0.          0.          0.         -0.00192535  0.\n",
      "  0.          0.          0.          0.          0.          0.\n",
      "  0.          0.          0.          0.          0.          0.\n",
      " -0.00067303  0.          0.          0.         -0.00135873  0.\n",
      " -0.00289047  0.         -0.00190848  0.          0.         -0.00197682\n",
      "  0.          0.          0.         -0.00291894  0.         -0.00987312\n",
      "  0.          0.         -0.0029069   0.          0.         -0.01248096\n",
      " -0.00669374]\n",
      " 28%|██▊       | 7/25 [00:19<00:48,  2.70s/it]num_full_subsets = 1\n",
      "remaining_weight_vector = [0.12794589 0.08633747 0.06555252 0.05309754 0.04480805 0.0388993\n",
      " 0.03447893 0.0310512  0.02831869 0.02609216 0.02424545 0.02269126\n",
      " 0.02136722 0.02022764 0.01923824 0.01837285 0.01761113 0.01693702\n",
      " 0.01633771 0.01580284 0.01532397 0.01489412 0.01450753 0.01415935\n",
      " 0.01384551 0.01356259 0.01330766 0.01307821 0.01287213 0.01268759\n",
      " 0.01252301 0.01237705 0.01224857 0.01213658 0.01204026 0.01195891\n",
      " 0.01189195 0.01183892 0.01179945 0.01177329 0.01176025]\n",
      "num_paired_subset_sizes = 42\n",
      "weight_left = 0.7981830466727807\n",
      "np.sum(w_aug) = 85.0\n",
      "np.sum(self.kernelWeights) = 1.0\n",
      "phi = [ 0.          0.06599111  0.          0.          0.00389237  0.\n",
      "  0.00974574  0.          0.          0.          0.          0.10123604\n",
      " -0.01741212  0.          0.1266916   0.          0.00730515  0.\n",
      "  0.          0.00407886  0.          0.          0.05391974  0.00736687\n",
      "  0.          0.          0.          0.00426573  0.          0.\n",
      "  0.          0.          0.          0.          0.00568967  0.\n",
      "  0.          0.          0.          0.          0.          0.\n",
      "  0.          0.          0.          0.          0.02322304  0.00325537\n",
      "  0.          0.00164832  0.          0.          0.          0.\n",
      "  0.          0.          0.          0.          0.          0.00191046\n",
      "  0.          0.00550285  0.          0.          0.          0.\n",
      "  0.          0.          0.          0.          0.          0.\n",
      "  0.00952561  0.         -0.04336356  0.          0.00316991  0.\n",
      "  0.          0.          0.         -0.02968321  0.          0.00248589\n",
      "  0.        ]\n",
      " 32%|███▏      | 8/25 [00:22<00:47,  2.77s/it]num_full_subsets = 1\n",
      "remaining_weight_vector = [0.12794589 0.08633747 0.06555252 0.05309754 0.04480805 0.0388993\n",
      " 0.03447893 0.0310512  0.02831869 0.02609216 0.02424545 0.02269126\n",
      " 0.02136722 0.02022764 0.01923824 0.01837285 0.01761113 0.01693702\n",
      " 0.01633771 0.01580284 0.01532397 0.01489412 0.01450753 0.01415935\n",
      " 0.01384551 0.01356259 0.01330766 0.01307821 0.01287213 0.01268759\n",
      " 0.01252301 0.01237705 0.01224857 0.01213658 0.01204026 0.01195891\n",
      " 0.01189195 0.01183892 0.01179945 0.01177329 0.01176025]\n",
      "num_paired_subset_sizes = 42\n",
      "weight_left = 0.7981830466727807\n",
      "np.sum(w_aug) = 85.0\n",
      "np.sum(self.kernelWeights) = 1.0\n",
      "phi = [-0.00766516 -0.01789353 -0.00574937 -0.12647835  0.          0.\n",
      "  0.          0.          0.          0.          0.          0.09344309\n",
      " -0.02164714 -0.00486375  0.05114178 -0.00364343  0.         -0.00247917\n",
      "  0.          0.          0.          0.          0.          0.\n",
      "  0.          0.          0.          0.          0.          0.\n",
      "  0.          0.          0.          0.          0.          0.\n",
      "  0.          0.          0.          0.          0.         -0.0056122\n",
      "  0.          0.          0.          0.          0.          0.\n",
      "  0.          0.          0.          0.         -0.00357291 -0.00511332\n",
      "  0.          0.          0.          0.          0.          0.\n",
      "  0.          0.          0.          0.         -0.00454927  0.\n",
      " -0.00317777  0.          0.         -0.0042754  -0.0018717   0.\n",
      " -0.20113012  0.         -0.00368448  0.02684808  0.          0.\n",
      " -0.01562789  0.         -0.02490535 -0.0278137  -0.00658857 -0.00446309\n",
      "  0.        ]\n",
      " 36%|███▌      | 9/25 [00:24<00:44,  2.77s/it]num_full_subsets = 1\n",
      "remaining_weight_vector = [0.12794589 0.08633747 0.06555252 0.05309754 0.04480805 0.0388993\n",
      " 0.03447893 0.0310512  0.02831869 0.02609216 0.02424545 0.02269126\n",
      " 0.02136722 0.02022764 0.01923824 0.01837285 0.01761113 0.01693702\n",
      " 0.01633771 0.01580284 0.01532397 0.01489412 0.01450753 0.01415935\n",
      " 0.01384551 0.01356259 0.01330766 0.01307821 0.01287213 0.01268759\n",
      " 0.01252301 0.01237705 0.01224857 0.01213658 0.01204026 0.01195891\n",
      " 0.01189195 0.01183892 0.01179945 0.01177329 0.01176025]\n",
      "num_paired_subset_sizes = 42\n",
      "weight_left = 0.7981830466727807\n",
      "np.sum(w_aug) = 85.0\n",
      "np.sum(self.kernelWeights) = 0.9999999999999999\n",
      "phi = [-0.00375769 -0.00630213 -0.01082821 -0.00114524 -0.00106466  0.\n",
      " -0.01988558  0.          0.          0.          0.         -0.18697397\n",
      " -0.03709745  0.         -0.03204227 -0.00159901 -0.00095964  0.\n",
      " -0.00371393  0.         -0.00214597  0.         -0.00220793  0.\n",
      "  0.          0.          0.          0.          0.          0.\n",
      "  0.         -0.00172091  0.          0.          0.          0.\n",
      "  0.          0.          0.         -0.00278423 -0.0009096   0.\n",
      " -0.00308503  0.          0.          0.         -0.00182857  0.\n",
      "  0.          0.          0.          0.          0.          0.\n",
      " -0.00154423 -0.00078444 -0.00138018 -0.00098984  0.          0.\n",
      "  0.          0.          0.          0.          0.          0.\n",
      " -0.0028636  -0.00246921 -0.00125364 -0.00231935  0.         -0.00221842\n",
      " -0.03810812  0.          0.         -0.00378024  0.         -0.01122127\n",
      " -0.01705011 -0.0057624  -0.015265   -0.03513965 -0.01026298 -0.00436257\n",
      "  0.        ]\n",
      " 40%|████      | 10/25 [00:27<00:41,  2.74s/it]num_full_subsets = 1\n",
      "remaining_weight_vector = [0.12794589 0.08633747 0.06555252 0.05309754 0.04480805 0.0388993\n",
      " 0.03447893 0.0310512  0.02831869 0.02609216 0.02424545 0.02269126\n",
      " 0.02136722 0.02022764 0.01923824 0.01837285 0.01761113 0.01693702\n",
      " 0.01633771 0.01580284 0.01532397 0.01489412 0.01450753 0.01415935\n",
      " 0.01384551 0.01356259 0.01330766 0.01307821 0.01287213 0.01268759\n",
      " 0.01252301 0.01237705 0.01224857 0.01213658 0.01204026 0.01195891\n",
      " 0.01189195 0.01183892 0.01179945 0.01177329 0.01176025]\n",
      "num_paired_subset_sizes = 42\n",
      "weight_left = 0.7981830466727807\n",
      "np.sum(w_aug) = 85.0\n",
      "np.sum(self.kernelWeights) = 1.0\n",
      "phi = [-0.00702363 -0.01050142 -0.00790144 -0.08679588  0.          0.\n",
      "  0.          0.          0.          0.          0.          0.08855131\n",
      " -0.01752617  0.          0.08162721 -0.00271016  0.          0.\n",
      "  0.         -0.00348545  0.          0.         -0.00316241  0.\n",
      "  0.          0.          0.          0.          0.          0.\n",
      "  0.          0.          0.          0.0245764   0.          0.\n",
      "  0.          0.          0.          0.          0.          0.\n",
      "  0.          0.          0.          0.          0.          0.\n",
      "  0.          0.          0.          0.          0.          0.\n",
      "  0.          0.          0.          0.          0.          0.\n",
      "  0.          0.          0.         -0.00120861 -0.00317456  0.\n",
      " -0.00317996 -0.00508334  0.          0.          0.         -0.00283462\n",
      " -0.1658736   0.          0.         -0.00681105  0.         -0.00632941\n",
      "  0.          0.         -0.01924936 -0.03840833 -0.00291699 -0.01376945\n",
      "  0.        ]\n",
      " 44%|████▍     | 11/25 [00:30<00:37,  2.70s/it]num_full_subsets = 1\n",
      "remaining_weight_vector = [0.12712321 0.08575772 0.06509321 0.05270962 0.04446697 0.03859097\n",
      " 0.03419453 0.03078482 0.02806616 0.02585041 0.02401216 0.0224646\n",
      " 0.02114574 0.02001013 0.01902372 0.01816046 0.01740012 0.01672674\n",
      " 0.01612757 0.01559231 0.01511255 0.01468135 0.01429295 0.01394255\n",
      " 0.01362607 0.01334009 0.01308169 0.01284836 0.01263798 0.0124487\n",
      " 0.01227895 0.01212735 0.01199276 0.01187415 0.01177067 0.01168159\n",
      " 0.01160631 0.01154431 0.01149518 0.01145861 0.01143436 0.01142228]\n",
      "num_paired_subset_sizes = 43\n",
      "weight_left = 0.7991752082777535\n",
      "np.sum(w_aug) = 86.99999999999996\n",
      "np.sum(self.kernelWeights) = 0.9999999999999996\n",
      "phi = [ 0.         -0.00948971  0.          0.          0.00564351  0.\n",
      "  0.02346879  0.          0.          0.          0.          0.11758266\n",
      " -0.0283136   0.          0.11770725  0.          0.00855744  0.\n",
      "  0.          0.00580136  0.          0.          0.          0.\n",
      " -0.03051423  0.          0.          0.          0.00553685  0.\n",
      "  0.          0.          0.          0.          0.          0.\n",
      "  0.          0.          0.          0.          0.          0.\n",
      "  0.          0.          0.          0.          0.          0.\n",
      "  0.          0.          0.          0.          0.          0.\n",
      "  0.          0.          0.          0.         -0.01315713  0.\n",
      "  0.          0.          0.          0.          0.          0.\n",
      "  0.          0.          0.          0.          0.          0.\n",
      "  0.          0.          0.01403266  0.          0.          0.\n",
      "  0.         -0.00591163 -0.00596514  0.00458902  0.05734171 -0.0384826\n",
      "  0.          0.00383643  0.        ]\n",
      " 48%|████▊     | 12/25 [00:33<00:37,  2.89s/it]num_full_subsets = 1\n",
      "remaining_weight_vector = [0.12794589 0.08633747 0.06555252 0.05309754 0.04480805 0.0388993\n",
      " 0.03447893 0.0310512  0.02831869 0.02609216 0.02424545 0.02269126\n",
      " 0.02136722 0.02022764 0.01923824 0.01837285 0.01761113 0.01693702\n",
      " 0.01633771 0.01580284 0.01532397 0.01489412 0.01450753 0.01415935\n",
      " 0.01384551 0.01356259 0.01330766 0.01307821 0.01287213 0.01268759\n",
      " 0.01252301 0.01237705 0.01224857 0.01213658 0.01204026 0.01195891\n",
      " 0.01189195 0.01183892 0.01179945 0.01177329 0.01176025]\n",
      "num_paired_subset_sizes = 42\n",
      "weight_left = 0.7981830466727807\n",
      "np.sum(w_aug) = 85.0\n",
      "np.sum(self.kernelWeights) = 1.0\n",
      "phi = [ 0.          0.          0.          0.          0.          0.\n",
      "  0.00766006  0.         -0.03861963  0.          0.00259821  0.12284926\n",
      " -0.0263684   0.          0.10376335  0.          0.00180935  0.\n",
      "  0.01711977  0.00179817  0.          0.          0.          0.\n",
      "  0.00451983  0.0039847   0.          0.00364804  0.00259396  0.\n",
      "  0.          0.00392908  0.          0.          0.          0.\n",
      "  0.00173623  0.          0.          0.          0.          0.\n",
      "  0.          0.          0.          0.          0.          0.\n",
      "  0.          0.          0.          0.          0.          0.\n",
      "  0.          0.          0.          0.00215302  0.          0.\n",
      "  0.          0.          0.          0.          0.          0.\n",
      "  0.          0.          0.          0.          0.          0.02202479\n",
      "  0.          0.          0.          0.0168524   0.          0.\n",
      "  0.          0.00676279  0.00781228  0.          0.          0.\n",
      "  0.        ]\n",
      " 52%|█████▏    | 13/25 [00:36<00:34,  2.91s/it]num_full_subsets = 1\n",
      "remaining_weight_vector = [0.12794589 0.08633747 0.06555252 0.05309754 0.04480805 0.0388993\n",
      " 0.03447893 0.0310512  0.02831869 0.02609216 0.02424545 0.02269126\n",
      " 0.02136722 0.02022764 0.01923824 0.01837285 0.01761113 0.01693702\n",
      " 0.01633771 0.01580284 0.01532397 0.01489412 0.01450753 0.01415935\n",
      " 0.01384551 0.01356259 0.01330766 0.01307821 0.01287213 0.01268759\n",
      " 0.01252301 0.01237705 0.01224857 0.01213658 0.01204026 0.01195891\n",
      " 0.01189195 0.01183892 0.01179945 0.01177329 0.01176025]\n",
      "num_paired_subset_sizes = 42\n",
      "weight_left = 0.7981830466727807\n",
      "np.sum(w_aug) = 85.0\n",
      "np.sum(self.kernelWeights) = 0.9999999999999999\n",
      "phi = [-0.00266236  0.04495831 -0.00725634  0.          0.          0.\n",
      "  0.          0.          0.          0.          0.         -0.25476281\n",
      " -0.04442262  0.         -0.06879219 -0.00179343  0.          0.\n",
      " -0.00568279 -0.00704179  0.          0.          0.          0.\n",
      "  0.          0.          0.          0.         -0.01844472  0.\n",
      "  0.         -0.00158861  0.          0.          0.          0.\n",
      "  0.          0.          0.          0.          0.          0.\n",
      "  0.          0.          0.          0.          0.          0.\n",
      "  0.          0.          0.          0.          0.          0.\n",
      "  0.          0.         -0.00292835  0.          0.          0.\n",
      "  0.          0.          0.          0.          0.          0.\n",
      " -0.00357295  0.02601773  0.          0.          0.          0.\n",
      "  0.          0.          0.          0.          0.         -0.00474127\n",
      "  0.         -0.01171522 -0.00592357  0.         -0.0064743   0.\n",
      "  0.        ]\n",
      " 56%|█████▌    | 14/25 [00:39<00:32,  2.96s/it]num_full_subsets = 1\n",
      "remaining_weight_vector = [0.12794589 0.08633747 0.06555252 0.05309754 0.04480805 0.0388993\n",
      " 0.03447893 0.0310512  0.02831869 0.02609216 0.02424545 0.02269126\n",
      " 0.02136722 0.02022764 0.01923824 0.01837285 0.01761113 0.01693702\n",
      " 0.01633771 0.01580284 0.01532397 0.01489412 0.01450753 0.01415935\n",
      " 0.01384551 0.01356259 0.01330766 0.01307821 0.01287213 0.01268759\n",
      " 0.01252301 0.01237705 0.01224857 0.01213658 0.01204026 0.01195891\n",
      " 0.01189195 0.01183892 0.01179945 0.01177329 0.01176025]\n",
      "num_paired_subset_sizes = 42\n",
      "weight_left = 0.7981830466727807\n",
      "np.sum(w_aug) = 85.0\n",
      "np.sum(self.kernelWeights) = 1.0\n",
      "phi = [ 0.          0.10012626  0.          0.          0.          0.\n",
      "  0.01347605  0.          0.00520049  0.          0.00228488  0.14348806\n",
      " -0.01978943  0.          0.12129151  0.          0.00482232  0.\n",
      "  0.          0.00475785  0.          0.          0.          0.0035608\n",
      "  0.          0.          0.          0.004631    0.          0.\n",
      "  0.          0.          0.          0.          0.00346357  0.\n",
      "  0.          0.          0.          0.          0.          0.\n",
      "  0.          0.          0.          0.          0.          0.00306091\n",
      "  0.          0.          0.          0.         -0.0140988   0.\n",
      "  0.          0.          0.          0.          0.          0.00186515\n",
      "  0.          0.00392887  0.          0.          0.          0.00413564\n",
      "  0.          0.          0.          0.          0.          0.\n",
      "  0.00978561  0.          0.          0.         -0.02714073  0.\n",
      "  0.00826129  0.          0.00165548 -0.0283213   0.          0.\n",
      "  0.        ]\n",
      " 60%|██████    | 15/25 [00:42<00:30,  3.05s/it]num_full_subsets = 1\n",
      "remaining_weight_vector = [0.12794589 0.08633747 0.06555252 0.05309754 0.04480805 0.0388993\n",
      " 0.03447893 0.0310512  0.02831869 0.02609216 0.02424545 0.02269126\n",
      " 0.02136722 0.02022764 0.01923824 0.01837285 0.01761113 0.01693702\n",
      " 0.01633771 0.01580284 0.01532397 0.01489412 0.01450753 0.01415935\n",
      " 0.01384551 0.01356259 0.01330766 0.01307821 0.01287213 0.01268759\n",
      " 0.01252301 0.01237705 0.01224857 0.01213658 0.01204026 0.01195891\n",
      " 0.01189195 0.01183892 0.01179945 0.01177329 0.01176025]\n",
      "num_paired_subset_sizes = 42\n",
      "weight_left = 0.7981830466727807\n",
      "np.sum(w_aug) = 85.0\n",
      "np.sum(self.kernelWeights) = 0.9999999999999999\n",
      "phi = [ 0.          0.03501644 -0.00519149  0.          0.         -0.00131159\n",
      "  0.          0.          0.          0.          0.         -0.1909321\n",
      " -0.0444335   0.         -0.0654984   0.          0.          0.\n",
      " -0.00442938 -0.00437147 -0.00296345  0.          0.          0.\n",
      "  0.          0.          0.         -0.06570783  0.          0.\n",
      "  0.         -0.0012314   0.          0.          0.          0.\n",
      "  0.          0.          0.         -0.00211486  0.          0.\n",
      " -0.0045597   0.          0.          0.          0.          0.\n",
      "  0.          0.          0.          0.          0.          0.\n",
      "  0.          0.          0.          0.          0.          0.\n",
      "  0.         -0.05528363  0.          0.          0.          0.\n",
      " -0.00212784  0.          0.          0.          0.          0.\n",
      "  0.          0.          0.          0.          0.         -0.00499323\n",
      " -0.00849566  0.         -0.00983775 -0.02115915 -0.00428769 -0.00382269\n",
      "  0.        ]\n",
      " 64%|██████▍   | 16/25 [00:45<00:26,  2.99s/it]num_full_subsets = 1\n",
      "remaining_weight_vector = [0.12794589 0.08633747 0.06555252 0.05309754 0.04480805 0.0388993\n",
      " 0.03447893 0.0310512  0.02831869 0.02609216 0.02424545 0.02269126\n",
      " 0.02136722 0.02022764 0.01923824 0.01837285 0.01761113 0.01693702\n",
      " 0.01633771 0.01580284 0.01532397 0.01489412 0.01450753 0.01415935\n",
      " 0.01384551 0.01356259 0.01330766 0.01307821 0.01287213 0.01268759\n",
      " 0.01252301 0.01237705 0.01224857 0.01213658 0.01204026 0.01195891\n",
      " 0.01189195 0.01183892 0.01179945 0.01177329 0.01176025]\n",
      "num_paired_subset_sizes = 42\n",
      "weight_left = 0.7981830466727807\n",
      "np.sum(w_aug) = 85.0\n",
      "np.sum(self.kernelWeights) = 1.0\n",
      "phi = [0.         0.         0.         0.00415335 0.         0.\n",
      " 0.00488677 0.00490549 0.         0.         0.00310115 0.14637874\n",
      " 0.15643223 0.         0.         0.         0.00796415 0.\n",
      " 0.         0.01870318 0.         0.         0.         0.01377906\n",
      " 0.         0.0033069  0.         0.00954209 0.         0.\n",
      " 0.         0.00096671 0.         0.         0.         0.\n",
      " 0.         0.         0.         0.         0.         0.\n",
      " 0.         0.         0.         0.         0.         0.\n",
      " 0.         0.         0.         0.         0.         0.\n",
      " 0.         0.         0.         0.         0.         0.\n",
      " 0.         0.00151008 0.         0.         0.         0.\n",
      " 0.         0.         0.         0.02311588 0.         0.\n",
      " 0.01562551 0.         0.         0.04338972 0.         0.\n",
      " 0.00259961 0.0037592  0.         0.01107393 0.00455881 0.00705654\n",
      " 0.        ]\n",
      " 68%|██████▊   | 17/25 [00:48<00:23,  3.00s/it]num_full_subsets = 1\n",
      "remaining_weight_vector = [0.12794589 0.08633747 0.06555252 0.05309754 0.04480805 0.0388993\n",
      " 0.03447893 0.0310512  0.02831869 0.02609216 0.02424545 0.02269126\n",
      " 0.02136722 0.02022764 0.01923824 0.01837285 0.01761113 0.01693702\n",
      " 0.01633771 0.01580284 0.01532397 0.01489412 0.01450753 0.01415935\n",
      " 0.01384551 0.01356259 0.01330766 0.01307821 0.01287213 0.01268759\n",
      " 0.01252301 0.01237705 0.01224857 0.01213658 0.01204026 0.01195891\n",
      " 0.01189195 0.01183892 0.01179945 0.01177329 0.01176025]\n",
      "num_paired_subset_sizes = 42\n",
      "weight_left = 0.7981830466727807\n",
      "np.sum(w_aug) = 85.0\n",
      "np.sum(self.kernelWeights) = 1.0\n",
      "phi = [ 0.         -0.00543495 -0.00473367  0.          0.          0.\n",
      "  0.01062794  0.          0.         -0.00773901  0.         -0.20455748\n",
      " -0.04559653  0.         -0.04945472  0.          0.          0.\n",
      "  0.03684245  0.          0.          0.          0.          0.\n",
      "  0.          0.          0.          0.          0.          0.\n",
      "  0.          0.          0.          0.06666059  0.          0.\n",
      "  0.          0.          0.          0.          0.          0.\n",
      "  0.          0.          0.          0.          0.          0.\n",
      "  0.          0.          0.          0.          0.          0.\n",
      "  0.          0.          0.          0.          0.          0.\n",
      "  0.          0.          0.          0.          0.          0.\n",
      "  0.          0.          0.          0.          0.          0.04465303\n",
      "  0.          0.          0.          0.          0.         -0.00625106\n",
      " -0.00714887  0.          0.         -0.04168595  0.         -0.0084636\n",
      "  0.        ]\n",
      " 72%|███████▏  | 18/25 [00:52<00:21,  3.11s/it]num_full_subsets = 1\n",
      "remaining_weight_vector = [0.12794589 0.08633747 0.06555252 0.05309754 0.04480805 0.0388993\n",
      " 0.03447893 0.0310512  0.02831869 0.02609216 0.02424545 0.02269126\n",
      " 0.02136722 0.02022764 0.01923824 0.01837285 0.01761113 0.01693702\n",
      " 0.01633771 0.01580284 0.01532397 0.01489412 0.01450753 0.01415935\n",
      " 0.01384551 0.01356259 0.01330766 0.01307821 0.01287213 0.01268759\n",
      " 0.01252301 0.01237705 0.01224857 0.01213658 0.01204026 0.01195891\n",
      " 0.01189195 0.01183892 0.01179945 0.01177329 0.01176025]\n",
      "num_paired_subset_sizes = 42\n",
      "weight_left = 0.7981830466727807\n",
      "np.sum(w_aug) = 85.0\n",
      "np.sum(self.kernelWeights) = 0.9999999999999999\n",
      "phi = [0.04810033 0.         0.         0.         0.         0.\n",
      " 0.0139973  0.00583941 0.00779522 0.         0.00302954 0.14876593\n",
      " 0.15837944 0.         0.         0.         0.00413984 0.\n",
      " 0.         0.         0.         0.         0.         0.\n",
      " 0.         0.         0.         0.00969577 0.         0.\n",
      " 0.         0.         0.         0.         0.         0.\n",
      " 0.         0.         0.         0.         0.         0.\n",
      " 0.         0.         0.         0.         0.         0.0363624\n",
      " 0.         0.         0.         0.         0.         0.00156983\n",
      " 0.         0.         0.         0.         0.         0.\n",
      " 0.         0.         0.         0.         0.         0.02328423\n",
      " 0.         0.         0.         0.         0.00159766 0.\n",
      " 0.00897786 0.00258073 0.         0.         0.         0.\n",
      " 0.         0.         0.         0.01121648 0.00479169 0.0042612\n",
      " 0.        ]\n",
      " 76%|███████▌  | 19/25 [00:55<00:18,  3.08s/it]num_full_subsets = 1\n",
      "remaining_weight_vector = [0.12794589 0.08633747 0.06555252 0.05309754 0.04480805 0.0388993\n",
      " 0.03447893 0.0310512  0.02831869 0.02609216 0.02424545 0.02269126\n",
      " 0.02136722 0.02022764 0.01923824 0.01837285 0.01761113 0.01693702\n",
      " 0.01633771 0.01580284 0.01532397 0.01489412 0.01450753 0.01415935\n",
      " 0.01384551 0.01356259 0.01330766 0.01307821 0.01287213 0.01268759\n",
      " 0.01252301 0.01237705 0.01224857 0.01213658 0.01204026 0.01195891\n",
      " 0.01189195 0.01183892 0.01179945 0.01177329 0.01176025]\n",
      "num_paired_subset_sizes = 42\n",
      "weight_left = 0.7981830466727807\n",
      "np.sum(w_aug) = 85.0\n",
      "np.sum(self.kernelWeights) = 1.0\n",
      "phi = [-0.00280564 -0.00624284 -0.00878953 -0.00172282  0.          0.\n",
      " -0.02009394  0.          0.          0.          0.         -0.16851011\n",
      " -0.04465995  0.         -0.05960745 -0.00093248  0.          0.\n",
      " -0.00318535 -0.00211508 -0.00097335  0.         -0.00104262  0.\n",
      "  0.          0.          0.         -0.05741293  0.          0.\n",
      "  0.          0.         -0.00058205  0.          0.         -0.00171112\n",
      "  0.          0.         -0.00047917 -0.00315882  0.          0.\n",
      " -0.00371058  0.          0.          0.          0.          0.\n",
      "  0.          0.          0.          0.          0.          0.\n",
      "  0.          0.         -0.0009321   0.          0.          0.\n",
      "  0.          0.         -0.0071532   0.         -0.00131191  0.\n",
      " -0.00108215 -0.00097718  0.         -0.00141559 -0.00445883  0.\n",
      "  0.          0.         -0.00104494  0.          0.         -0.00648145\n",
      " -0.0120374  -0.0026954  -0.00967167 -0.02888465 -0.00687797 -0.00406699\n",
      "  0.        ]\n",
      " 80%|████████  | 20/25 [00:57<00:15,  3.03s/it]num_full_subsets = 1\n",
      "remaining_weight_vector = [0.12794589 0.08633747 0.06555252 0.05309754 0.04480805 0.0388993\n",
      " 0.03447893 0.0310512  0.02831869 0.02609216 0.02424545 0.02269126\n",
      " 0.02136722 0.02022764 0.01923824 0.01837285 0.01761113 0.01693702\n",
      " 0.01633771 0.01580284 0.01532397 0.01489412 0.01450753 0.01415935\n",
      " 0.01384551 0.01356259 0.01330766 0.01307821 0.01287213 0.01268759\n",
      " 0.01252301 0.01237705 0.01224857 0.01213658 0.01204026 0.01195891\n",
      " 0.01189195 0.01183892 0.01179945 0.01177329 0.01176025]\n",
      "num_paired_subset_sizes = 42\n",
      "weight_left = 0.7981830466727807\n",
      "np.sum(w_aug) = 85.0\n",
      "np.sum(self.kernelWeights) = 1.0\n",
      "phi = [-0.0050316  -0.00632658 -0.00451962  0.          0.         -0.00476961\n",
      " -0.05513723  0.          0.          0.          0.          0.10909212\n",
      " -0.04464746  0.         -0.05751683 -0.00119808 -0.04482954  0.\n",
      " -0.0194637  -0.01135312  0.         -0.00516304  0.         -0.00188689\n",
      "  0.          0.          0.          0.          0.          0.\n",
      " -0.0004913   0.          0.          0.         -0.03642729  0.\n",
      "  0.          0.          0.         -0.00305114  0.          0.\n",
      "  0.         -0.00046363  0.          0.          0.          0.\n",
      "  0.          0.          0.          0.          0.          0.\n",
      "  0.          0.          0.          0.          0.          0.\n",
      "  0.          0.          0.          0.         -0.00496089 -0.00205138\n",
      "  0.         -0.00721863  0.          0.03579374  0.          0.\n",
      "  0.          0.          0.         -0.00580791 -0.00251739 -0.00407561\n",
      "  0.         -0.02890611 -0.0078395  -0.01609398 -0.00360146  0.\n",
      "  0.        ]\n",
      " 84%|████████▍ | 21/25 [01:01<00:12,  3.14s/it]num_full_subsets = 1\n",
      "remaining_weight_vector = [0.12679607 0.08554916 0.06494433 0.05259689 0.04437863 0.03852033\n",
      " 0.0341374  0.03073844 0.02802861 0.02582029 0.02398845 0.02244651\n",
      " 0.02113268 0.02000163 0.01901941 0.01816005 0.01740338 0.0167335\n",
      " 0.01613768 0.01560567 0.01512908 0.01470099 0.01431569 0.01396835\n",
      " 0.01365496 0.01337209 0.01311684 0.01288672 0.01267961 0.01249369\n",
      " 0.0123274  0.01217938 0.0120485  0.01193375 0.0118343  0.01174944\n",
      " 0.01167859 0.01162124 0.01157703 0.01154566 0.01152692 0.01152068]\n",
      "num_paired_subset_sizes = 42\n",
      "weight_left = 0.7986833459821002\n",
      "np.sum(w_aug) = 86.0\n",
      "np.sum(self.kernelWeights) = 1.0\n",
      "phi = [ 0.          0.          0.06210433  0.          0.00308303  0.\n",
      "  0.00314972  0.          0.00259284  0.          0.          0.11090044\n",
      "  0.07193261  0.         -0.01896425  0.          0.00174471  0.\n",
      "  0.          0.          0.          0.00177954  0.          0.\n",
      "  0.          0.          0.          0.00601898  0.          0.\n",
      "  0.          0.          0.          0.          0.00407691  0.\n",
      "  0.          0.          0.          0.          0.          0.\n",
      "  0.          0.          0.          0.          0.          0.\n",
      "  0.          0.         -0.19189283  0.          0.          0.\n",
      "  0.          0.          0.          0.          0.          0.\n",
      "  0.          0.          0.          0.          0.          0.\n",
      "  0.          0.          0.          0.          0.          0.\n",
      "  0.          0.00436724  0.          0.          0.          0.\n",
      "  0.          0.00936485  0.00710638  0.061271    0.00271902  0.\n",
      "  0.          0.        ]\n",
      " 88%|████████▊ | 22/25 [01:04<00:09,  3.13s/it]num_full_subsets = 1\n",
      "remaining_weight_vector = [0.12712321 0.08575772 0.06509321 0.05270962 0.04446697 0.03859097\n",
      " 0.03419453 0.03078482 0.02806616 0.02585041 0.02401216 0.0224646\n",
      " 0.02114574 0.02001013 0.01902372 0.01816046 0.01740012 0.01672674\n",
      " 0.01612757 0.01559231 0.01511255 0.01468135 0.01429295 0.01394255\n",
      " 0.01362607 0.01334009 0.01308169 0.01284836 0.01263798 0.0124487\n",
      " 0.01227895 0.01212735 0.01199276 0.01187415 0.01177067 0.01168159\n",
      " 0.01160631 0.01154431 0.01149518 0.01145861 0.01143436 0.01142228]\n",
      "num_paired_subset_sizes = 43\n",
      "weight_left = 0.7991752082777535\n",
      "np.sum(w_aug) = 86.99999999999996\n",
      "np.sum(self.kernelWeights) = 0.9999999999999997\n",
      "phi = [-0.00351174  0.         -0.00875559  0.          0.          0.\n",
      "  0.          0.          0.          0.          0.         -0.19384406\n",
      " -0.02665825  0.         -0.03556694  0.          0.          0.\n",
      "  0.          0.01428777  0.          0.          0.          0.\n",
      "  0.          0.          0.          0.          0.          0.\n",
      "  0.          0.          0.          0.          0.          0.\n",
      "  0.          0.          0.          0.12170772  0.          0.\n",
      "  0.          0.          0.          0.          0.          0.\n",
      "  0.          0.          0.          0.          0.          0.\n",
      "  0.          0.          0.          0.          0.          0.\n",
      "  0.          0.          0.          0.          0.          0.01847915\n",
      "  0.          0.          0.          0.          0.          0.\n",
      "  0.01327019  0.          0.          0.          0.         -0.00476827\n",
      "  0.         -0.02034238 -0.00742105 -0.01028283  0.          0.\n",
      " -0.00614826  0.          0.        ]\n",
      " 92%|█████████▏| 23/25 [01:07<00:06,  3.12s/it]num_full_subsets = 1\n",
      "remaining_weight_vector = [0.12794589 0.08633747 0.06555252 0.05309754 0.04480805 0.0388993\n",
      " 0.03447893 0.0310512  0.02831869 0.02609216 0.02424545 0.02269126\n",
      " 0.02136722 0.02022764 0.01923824 0.01837285 0.01761113 0.01693702\n",
      " 0.01633771 0.01580284 0.01532397 0.01489412 0.01450753 0.01415935\n",
      " 0.01384551 0.01356259 0.01330766 0.01307821 0.01287213 0.01268759\n",
      " 0.01252301 0.01237705 0.01224857 0.01213658 0.01204026 0.01195891\n",
      " 0.01189195 0.01183892 0.01179945 0.01177329 0.01176025]\n",
      "num_paired_subset_sizes = 42\n",
      "weight_left = 0.7981830466727807\n",
      "np.sum(w_aug) = 85.0\n",
      "np.sum(self.kernelWeights) = 1.0\n",
      "phi = [-0.00015161 -0.00696778  0.08562193 -0.00227808  0.          0.\n",
      "  0.          0.          0.          0.          0.          0.07526326\n",
      " -0.03876085  0.         -0.04493611  0.         -0.07585233  0.\n",
      "  0.          0.         -0.005247    0.          0.          0.\n",
      "  0.         -0.10437993  0.          0.          0.          0.\n",
      "  0.          0.          0.          0.          0.          0.\n",
      "  0.          0.          0.         -0.00534883 -0.00486222  0.\n",
      "  0.          0.          0.          0.          0.          0.\n",
      "  0.          0.          0.         -0.00355906  0.          0.\n",
      "  0.          0.          0.          0.         -0.00306575 -0.14339877\n",
      "  0.          0.          0.          0.          0.          0.\n",
      "  0.          0.          0.          0.          0.         -0.0035276\n",
      " -0.04215438  0.          0.          0.          0.          0.\n",
      " -0.01546765 -0.0042912   0.         -0.03632308 -0.00623116  0.\n",
      "  0.        ]\n",
      " 96%|█████████▌| 24/25 [01:10<00:03,  3.13s/it]num_full_subsets = 1\n",
      "remaining_weight_vector = [0.12794589 0.08633747 0.06555252 0.05309754 0.04480805 0.0388993\n",
      " 0.03447893 0.0310512  0.02831869 0.02609216 0.02424545 0.02269126\n",
      " 0.02136722 0.02022764 0.01923824 0.01837285 0.01761113 0.01693702\n",
      " 0.01633771 0.01580284 0.01532397 0.01489412 0.01450753 0.01415935\n",
      " 0.01384551 0.01356259 0.01330766 0.01307821 0.01287213 0.01268759\n",
      " 0.01252301 0.01237705 0.01224857 0.01213658 0.01204026 0.01195891\n",
      " 0.01189195 0.01183892 0.01179945 0.01177329 0.01176025]\n",
      "num_paired_subset_sizes = 42\n",
      "weight_left = 0.7981830466727807\n",
      "np.sum(w_aug) = 85.0\n",
      "np.sum(self.kernelWeights) = 1.0\n",
      "phi = [ 0.05898944  0.          0.          0.          0.00238663  0.\n",
      "  0.00354852  0.00251771  0.004597    0.00191118  0.00188897  0.11934992\n",
      "  0.11813491  0.         -0.02071672  0.          0.00388628  0.\n",
      "  0.          0.          0.          0.          0.          0.0019259\n",
      "  0.          0.0015337   0.          0.00922346  0.          0.\n",
      "  0.          0.0080285   0.          0.          0.00282482  0.\n",
      "  0.          0.          0.          0.          0.          0.\n",
      "  0.          0.          0.          0.          0.          0.\n",
      "  0.          0.          0.          0.          0.          0.\n",
      "  0.          0.          0.          0.          0.          0.0020839\n",
      "  0.          0.00357062  0.          0.          0.          0.\n",
      "  0.          0.          0.          0.          0.          0.02517431\n",
      "  0.00748974  0.00189277  0.00117047  0.          0.00198216  0.\n",
      "  0.01647469  0.02293133  0.          0.          0.          0.0021907\n",
      "  0.        ]\n",
      "100%|██████████| 25/25 [01:13<00:00,  2.95s/it]\n",
      "Detected non-cloud environment.\n",
      "\n",
      "The dash_html_components package is deprecated. Please replace\n",
      "`import dash_html_components as html` with `from dash import html`\n",
      "\n",
      "The dash_core_components package is deprecated. Please replace\n",
      "`import dash_core_components as dcc` with `from dash import dcc`\n",
      "\n",
      "The dash_table package is deprecated. Please replace\n",
      "`import dash_table` with `from dash import dash_table`\n",
      "\n",
      "Also, if you're using any of the table format helpers (e.g. Group), replace \n",
      "`from dash_table.Format import Group` with \n",
      "`from dash.dash_table.Format import Group`\n",
      "Generating mini dash\n",
      "Generated mini dash\n"
     ]
    },
    {
     "data": {
      "text/html": [
       "<!-- http://127.0.0.1:7001/1500870105504/ -->\n",
       "<iframe src=\"http://127.0.0.1:7001/1500870105504/\" width=100% height=800 frameBorder=\"0\"></iframe>"
      ]
     },
     "metadata": {},
     "output_type": "display_data"
    }
   ],
   "source": [
    "shap_local = shap.explain_local(pd.DataFrame(xt)[:25], pd.DataFrame(yt)[:25])\n",
    "\n",
    "show(shap_local)"
   ]
  },
  {
   "cell_type": "markdown",
   "metadata": {},
   "source": [
    "#### Partial Dependence Plot Intro\n",
    "Partial dependence plots reveal the dependence between our target variable and any given feature.  "
   ]
  },
  {
   "cell_type": "code",
   "execution_count": 14,
   "metadata": {},
   "outputs": [],
   "source": [
    "pdp = PartialDependence(predict_fn=writingForest.predict_proba, data=x, num_points=100)"
   ]
  },
  {
   "cell_type": "code",
   "execution_count": 15,
   "metadata": {},
   "outputs": [
    {
     "name": "stderr",
     "output_type": "stream",
     "text": [
      "Generating mini dash\n",
      "Generated mini dash\n"
     ]
    },
    {
     "data": {
      "text/html": [
       "<!-- http://127.0.0.1:7001/1498994969472/ -->\n",
       "<iframe src=\"http://127.0.0.1:7001/1498994969472/\" width=100% height=800 frameBorder=\"0\"></iframe>"
      ]
     },
     "metadata": {},
     "output_type": "display_data"
    }
   ],
   "source": [
    "pdp_global = pdp.explain_global()\n",
    "\n",
    "show(pdp_global)"
   ]
  },
  {
   "cell_type": "markdown",
   "metadata": {},
   "source": [
    "### Generate predictions on true test dataset"
   ]
  },
  {
   "cell_type": "code",
   "execution_count": 16,
   "metadata": {},
   "outputs": [],
   "source": [
    "test_data.fillna(-99, inplace=True)"
   ]
  },
  {
   "cell_type": "code",
   "execution_count": 17,
   "metadata": {},
   "outputs": [],
   "source": [
    "# Create regression arrays\n",
    "_, Xtest = pt.dmatrices(\"TTP ~ C(iyear) + C(provstate) + multiple + success + suicide + attacktype1 + C(targtype1) + C(targsubtype1) + weaptype1 + weapsubtype1 + nkill + nkillus + nkillter + nwound + nwoundus + nwoundte + C(Month)\", data = test_data, return_type='dataframe')"
   ]
  },
  {
   "cell_type": "code",
   "execution_count": 18,
   "metadata": {},
   "outputs": [
    {
     "data": {
      "text/plain": [
       "0.34833279378439624"
      ]
     },
     "execution_count": 18,
     "metadata": {},
     "output_type": "execute_result"
    }
   ],
   "source": [
    "X['C(provstate)[T.Balochistan]'].mean()"
   ]
  },
  {
   "cell_type": "code",
   "execution_count": 19,
   "metadata": {},
   "outputs": [
    {
     "data": {
      "text/plain": [
       "0.28115435067774375"
      ]
     },
     "execution_count": 19,
     "metadata": {},
     "output_type": "execute_result"
    }
   ],
   "source": [
    "Xtest['C(provstate)[T.Balochistan]'].mean()"
   ]
  },
  {
   "cell_type": "code",
   "execution_count": 20,
   "metadata": {},
   "outputs": [
    {
     "name": "stderr",
     "output_type": "stream",
     "text": [
      "No overall plot to display: -1|PartialDependence_0\n"
     ]
    }
   ],
   "source": [
    "remove_cols = set(Xtest.columns) - set(X.columns)\n",
    "add_cols = set(X.columns) - set(Xtest.columns)"
   ]
  },
  {
   "cell_type": "code",
   "execution_count": 21,
   "metadata": {},
   "outputs": [],
   "source": [
    "for col in remove_cols:\n",
    "    del Xtest[col]\n",
    "for col in add_cols:\n",
    "    Xtest[col] = 0"
   ]
  },
  {
   "cell_type": "code",
   "execution_count": 22,
   "metadata": {},
   "outputs": [],
   "source": [
    "# Make predictions\n",
    "fpred = fclf.predict(Xtest)"
   ]
  },
  {
   "cell_type": "code",
   "execution_count": 23,
   "metadata": {},
   "outputs": [
    {
     "data": {
      "text/html": [
       "<div><div id=05e94df2-600f-4d35-8ca2-137985cd91fa style=\"display:none; background-color:#9D6CFF; color:white; width:200px; height:30px; padding-left:5px; border-radius:4px; flex-direction:row; justify-content:space-around; align-items:center;\" onmouseover=\"this.style.backgroundColor='#BA9BF8'\" onmouseout=\"this.style.backgroundColor='#9D6CFF'\" onclick=\"window.commands?.execute('create-mitosheet-from-dataframe-output');\">See Full Dataframe in Mito</div> <script> if (window.commands.hasCommand('create-mitosheet-from-dataframe-output')) document.getElementById('05e94df2-600f-4d35-8ca2-137985cd91fa').style.display = 'flex' </script> <table border=\"1\" class=\"dataframe\">\n",
       "  <thead>\n",
       "    <tr style=\"text-align: right;\">\n",
       "      <th></th>\n",
       "      <th>eventid</th>\n",
       "      <th>TTP</th>\n",
       "    </tr>\n",
       "  </thead>\n",
       "  <tbody>\n",
       "    <tr>\n",
       "      <th>0</th>\n",
       "      <td>200712030005</td>\n",
       "      <td>0.0</td>\n",
       "    </tr>\n",
       "    <tr>\n",
       "      <th>1</th>\n",
       "      <td>200712040005</td>\n",
       "      <td>0.0</td>\n",
       "    </tr>\n",
       "    <tr>\n",
       "      <th>3</th>\n",
       "      <td>200712080003</td>\n",
       "      <td>0.0</td>\n",
       "    </tr>\n",
       "    <tr>\n",
       "      <th>4</th>\n",
       "      <td>200712090002</td>\n",
       "      <td>0.0</td>\n",
       "    </tr>\n",
       "    <tr>\n",
       "      <th>5</th>\n",
       "      <td>200712090004</td>\n",
       "      <td>0.0</td>\n",
       "    </tr>\n",
       "  </tbody>\n",
       "</table></div>"
      ],
      "text/plain": [
       "        eventid  TTP\n",
       "0  200712030005  0.0\n",
       "1  200712040005  0.0\n",
       "3  200712080003  0.0\n",
       "4  200712090002  0.0\n",
       "5  200712090004  0.0"
      ]
     },
     "execution_count": 23,
     "metadata": {},
     "output_type": "execute_result"
    }
   ],
   "source": [
    "pred_df = pd.DataFrame({'eventid':test_data['eventid'], 'TTP':fpred})\n",
    "pred_df.head()"
   ]
  },
  {
   "cell_type": "code",
   "execution_count": 24,
   "metadata": {},
   "outputs": [],
   "source": [
    "pred_df.to_csv('test_preds.csv')"
   ]
  },
  {
   "cell_type": "code",
   "execution_count": 25,
   "metadata": {},
   "outputs": [
    {
     "data": {
      "text/plain": [
       "0.5124617402710975"
      ]
     },
     "execution_count": 25,
     "metadata": {},
     "output_type": "execute_result"
    }
   ],
   "source": [
    "pred_df['TTP'].mean()"
   ]
  },
  {
   "cell_type": "code",
   "execution_count": 26,
   "metadata": {},
   "outputs": [
    {
     "name": "stderr",
     "output_type": "stream",
     "text": [
      "  0%|          | 0/25 [00:00<?, ?it/s]num_full_subsets = 1\n",
      "remaining_weight_vector = [0.12679607 0.08554916 0.06494433 0.05259689 0.04437863 0.03852033\n",
      " 0.0341374  0.03073844 0.02802861 0.02582029 0.02398845 0.02244651\n",
      " 0.02113268 0.02000163 0.01901941 0.01816005 0.01740338 0.0167335\n",
      " 0.01613768 0.01560567 0.01512908 0.01470099 0.01431569 0.01396835\n",
      " 0.01365496 0.01337209 0.01311684 0.01288672 0.01267961 0.01249369\n",
      " 0.0123274  0.01217938 0.0120485  0.01193375 0.0118343  0.01174944\n",
      " 0.01167859 0.01162124 0.01157703 0.01154566 0.01152692 0.01152068]\n",
      "num_paired_subset_sizes = 42\n",
      "weight_left = 0.7986833459821002\n",
      "np.sum(w_aug) = 86.0\n",
      "np.sum(self.kernelWeights) = 1.0\n",
      "phi = [-0.00389437 -0.00525297 -0.00818692  0.          0.          0.\n",
      "  0.          0.          0.          0.          0.         -0.23063017\n",
      " -0.04021534  0.         -0.03396033 -0.00304347  0.          0.\n",
      " -0.00276195 -0.00275979  0.          0.          0.          0.\n",
      "  0.          0.          0.          0.          0.          0.\n",
      "  0.          0.          0.          0.          0.          0.\n",
      "  0.          0.          0.          0.          0.         -0.01871425\n",
      " -0.00357625  0.          0.          0.          0.          0.\n",
      "  0.          0.          0.          0.          0.          0.\n",
      "  0.          0.          0.          0.          0.          0.\n",
      "  0.          0.          0.          0.          0.          0.\n",
      "  0.          0.          0.          0.         -0.00131687  0.\n",
      "  0.          0.         -0.00486284 -0.0044178   0.          0.\n",
      " -0.00372674  0.         -0.00473722 -0.01175906 -0.01561972 -0.00466395\n",
      "  0.          0.        ]\n",
      "  4%|▍         | 1/25 [00:03<01:13,  3.05s/it]num_full_subsets = 1\n",
      "remaining_weight_vector = [0.12712321 0.08575772 0.06509321 0.05270962 0.04446697 0.03859097\n",
      " 0.03419453 0.03078482 0.02806616 0.02585041 0.02401216 0.0224646\n",
      " 0.02114574 0.02001013 0.01902372 0.01816046 0.01740012 0.01672674\n",
      " 0.01612757 0.01559231 0.01511255 0.01468135 0.01429295 0.01394255\n",
      " 0.01362607 0.01334009 0.01308169 0.01284836 0.01263798 0.0124487\n",
      " 0.01227895 0.01212735 0.01199276 0.01187415 0.01177067 0.01168159\n",
      " 0.01160631 0.01154431 0.01149518 0.01145861 0.01143436 0.01142228]\n",
      "num_paired_subset_sizes = 43\n",
      "weight_left = 0.7991752082777535\n",
      "np.sum(w_aug) = 86.99999999999996\n",
      "np.sum(self.kernelWeights) = 0.9999999999999997\n",
      "phi = [-0.00560469 -0.01000551 -0.00704891  0.00390588  0.          0.\n",
      "  0.00671833  0.         -0.00224453  0.          0.          0.11349934\n",
      " -0.02112528  0.          0.03961692 -0.00197755  0.00591971  0.\n",
      "  0.         -0.02036564  0.          0.          0.          0.\n",
      "  0.          0.          0.          0.          0.         -0.00149183\n",
      "  0.          0.         -0.00155667  0.          0.         -0.00215637\n",
      "  0.          0.         -0.02937467  0.         -0.00287626  0.\n",
      "  0.          0.          0.          0.          0.          0.\n",
      "  0.          0.          0.          0.          0.          0.\n",
      " -0.00229918 -0.00100341  0.         -0.00419444 -0.00121759  0.\n",
      "  0.          0.          0.          0.          0.          0.00386824\n",
      "  0.          0.          0.          0.          0.         -0.00273274\n",
      " -0.00205796  0.         -0.04007169 -0.01220447 -0.01544096  0.02534752\n",
      "  0.         -0.00207263  0.04717362  0.         -0.04114774 -0.05294504\n",
      " -0.00541727 -0.00697109  0.        ]\n",
      "  8%|▊         | 2/25 [00:05<01:07,  2.95s/it]num_full_subsets = 1\n",
      "remaining_weight_vector = [0.12679607 0.08554916 0.06494433 0.05259689 0.04437863 0.03852033\n",
      " 0.0341374  0.03073844 0.02802861 0.02582029 0.02398845 0.02244651\n",
      " 0.02113268 0.02000163 0.01901941 0.01816005 0.01740338 0.0167335\n",
      " 0.01613768 0.01560567 0.01512908 0.01470099 0.01431569 0.01396835\n",
      " 0.01365496 0.01337209 0.01311684 0.01288672 0.01267961 0.01249369\n",
      " 0.0123274  0.01217938 0.0120485  0.01193375 0.0118343  0.01174944\n",
      " 0.01167859 0.01162124 0.01157703 0.01154566 0.01152692 0.01152068]\n",
      "num_paired_subset_sizes = 42\n",
      "weight_left = 0.7986833459821002\n",
      "np.sum(w_aug) = 86.0\n",
      "np.sum(self.kernelWeights) = 1.0\n",
      "phi = [ 0.         -0.00331761  0.          0.          0.          0.\n",
      "  0.          0.          0.          0.          0.         -0.20669491\n",
      " -0.04046013  0.         -0.03260634  0.          0.          0.\n",
      "  0.          0.          0.          0.          0.          0.\n",
      "  0.          0.          0.          0.          0.          0.\n",
      "  0.          0.          0.          0.          0.          0.\n",
      "  0.          0.          0.          0.          0.          0.\n",
      " -0.00167383  0.          0.          0.          0.          0.\n",
      "  0.          0.          0.          0.          0.          0.\n",
      "  0.          0.          0.          0.          0.          0.\n",
      "  0.          0.          0.          0.          0.          0.\n",
      "  0.          0.          0.          0.         -0.00187578  0.\n",
      "  0.          0.         -0.01094044  0.          0.         -0.00427932\n",
      " -0.0024987   0.          0.          0.         -0.01547592 -0.00245885\n",
      "  0.          0.        ]\n",
      " 12%|█▏        | 3/25 [00:08<01:04,  2.93s/it]num_full_subsets = 1\n",
      "remaining_weight_vector = [0.12601384 0.08499757 0.06450709 0.05222742 0.04405362 0.03822642\n",
      " 0.03386622 0.03048436 0.02778767 0.02558959 0.02376577 0.02223013\n",
      " 0.02092122 0.01979396 0.01881457 0.01795723 0.01720189 0.01653271\n",
      " 0.01593704 0.01540468 0.01492726 0.01449791 0.01411092 0.01376151\n",
      " 0.01344565 0.01315992 0.01290142 0.01266767 0.01245654 0.0122662\n",
      " 0.01209508 0.01194181 0.01180522 0.0116843  0.01157819 0.01148616\n",
      " 0.01140757 0.01134191 0.01128874 0.01124773 0.01121862 0.01120123\n",
      " 0.01119544]\n",
      "num_paired_subset_sizes = 43\n",
      "weight_left = 0.7996588788669027\n",
      "np.sum(w_aug) = 88.0\n",
      "np.sum(self.kernelWeights) = 0.9999999999999998\n",
      "phi = [-0.00314072 -0.00248776 -0.00612474 -0.00126745  0.          0.\n",
      "  0.          0.          0.          0.         -0.00217756 -0.23968724\n",
      " -0.04189374  0.         -0.04031224  0.          0.          0.\n",
      " -0.00432622  0.          0.         -0.00130346  0.          0.\n",
      " -0.00162986  0.          0.          0.          0.          0.\n",
      "  0.          0.          0.          0.          0.          0.\n",
      "  0.          0.          0.          0.          0.          0.\n",
      "  0.         -0.00335337  0.          0.          0.         -0.00205031\n",
      "  0.          0.          0.          0.          0.          0.\n",
      "  0.          0.          0.          0.          0.          0.\n",
      "  0.          0.          0.          0.          0.          0.\n",
      "  0.          0.          0.          0.         -0.00190168  0.\n",
      "  0.          0.          0.          0.         -0.00969411 -0.00665858\n",
      "  0.          0.         -0.00439065  0.         -0.00363768 -0.0036172\n",
      " -0.01919036 -0.00401127 -0.00124381  0.        ]\n",
      " 16%|█▌        | 4/25 [00:12<01:03,  3.03s/it]num_full_subsets = 1\n",
      "remaining_weight_vector = [0.12679607 0.08554916 0.06494433 0.05259689 0.04437863 0.03852033\n",
      " 0.0341374  0.03073844 0.02802861 0.02582029 0.02398845 0.02244651\n",
      " 0.02113268 0.02000163 0.01901941 0.01816005 0.01740338 0.0167335\n",
      " 0.01613768 0.01560567 0.01512908 0.01470099 0.01431569 0.01396835\n",
      " 0.01365496 0.01337209 0.01311684 0.01288672 0.01267961 0.01249369\n",
      " 0.0123274  0.01217938 0.0120485  0.01193375 0.0118343  0.01174944\n",
      " 0.01167859 0.01162124 0.01157703 0.01154566 0.01152692 0.01152068]\n",
      "num_paired_subset_sizes = 42\n",
      "weight_left = 0.7986833459821002\n",
      "np.sum(w_aug) = 86.0\n",
      "np.sum(self.kernelWeights) = 1.0\n",
      "phi = [-0.00488324 -0.00733452 -0.00589391 -0.00472635  0.          0.\n",
      "  0.00561024 -0.00134792  0.          0.          0.          0.11856963\n",
      " -0.02577686  0.          0.03547487 -0.00230169  0.00611979  0.\n",
      "  0.         -0.02225023  0.          0.         -0.00254143 -0.00442041\n",
      "  0.          0.          0.          0.00401878  0.          0.\n",
      "  0.          0.         -0.00225242  0.          0.00327872 -0.00791748\n",
      "  0.          0.          0.          0.          0.          0.\n",
      " -0.00461723  0.          0.          0.          0.          0.\n",
      " -0.00073664  0.          0.          0.          0.          0.\n",
      "  0.         -0.0027642  -0.00324926  0.          0.          0.\n",
      "  0.          0.00391934  0.          0.          0.          0.\n",
      "  0.         -0.00369709  0.         -0.00289991 -0.00288984  0.\n",
      "  0.00417849  0.00653785 -0.00751806 -0.02270154  0.01112859 -0.00921389\n",
      " -0.00510886  0.03272385 -0.002798   -0.03888838 -0.04514798 -0.00455699\n",
      " -0.00540765  0.        ]\n",
      " 20%|██        | 5/25 [00:15<01:00,  3.03s/it]num_full_subsets = 1\n",
      "remaining_weight_vector = [0.12712321 0.08575772 0.06509321 0.05270962 0.04446697 0.03859097\n",
      " 0.03419453 0.03078482 0.02806616 0.02585041 0.02401216 0.0224646\n",
      " 0.02114574 0.02001013 0.01902372 0.01816046 0.01740012 0.01672674\n",
      " 0.01612757 0.01559231 0.01511255 0.01468135 0.01429295 0.01394255\n",
      " 0.01362607 0.01334009 0.01308169 0.01284836 0.01263798 0.0124487\n",
      " 0.01227895 0.01212735 0.01199276 0.01187415 0.01177067 0.01168159\n",
      " 0.01160631 0.01154431 0.01149518 0.01145861 0.01143436 0.01142228]\n",
      "num_paired_subset_sizes = 43\n",
      "weight_left = 0.7991752082777535\n",
      "np.sum(w_aug) = 86.99999999999996\n",
      "np.sum(self.kernelWeights) = 0.9999999999999996\n",
      "phi = [-0.00735237 -0.00910988 -0.00487118  0.00448258  0.00180459  0.\n",
      "  0.00918521  0.         -0.0032219   0.          0.          0.11357931\n",
      " -0.01975551  0.          0.0732953   0.          0.00525303  0.\n",
      "  0.00273668  0.          0.          0.         -0.00294494  0.00355997\n",
      "  0.          0.0029576   0.          0.          0.          0.\n",
      "  0.          0.          0.          0.00274003  0.01489251  0.0028335\n",
      "  0.          0.          0.          0.          0.          0.\n",
      "  0.         -0.00334338  0.          0.          0.          0.\n",
      "  0.          0.          0.          0.          0.          0.\n",
      "  0.          0.          0.          0.          0.          0.\n",
      "  0.          0.          0.00333599  0.          0.          0.\n",
      "  0.          0.         -0.00326502 -0.00353402  0.          0.\n",
      "  0.          0.         -0.05890905 -0.01030284 -0.01118939  0.02594842\n",
      "  0.          0.          0.03295021 -0.00669664 -0.04604793 -0.03779991\n",
      " -0.00321972 -0.0084549   0.        ]\n",
      " 24%|██▍       | 6/25 [00:17<00:54,  2.89s/it]num_full_subsets = 1\n",
      "remaining_weight_vector = [0.12679607 0.08554916 0.06494433 0.05259689 0.04437863 0.03852033\n",
      " 0.0341374  0.03073844 0.02802861 0.02582029 0.02398845 0.02244651\n",
      " 0.02113268 0.02000163 0.01901941 0.01816005 0.01740338 0.0167335\n",
      " 0.01613768 0.01560567 0.01512908 0.01470099 0.01431569 0.01396835\n",
      " 0.01365496 0.01337209 0.01311684 0.01288672 0.01267961 0.01249369\n",
      " 0.0123274  0.01217938 0.0120485  0.01193375 0.0118343  0.01174944\n",
      " 0.01167859 0.01162124 0.01157703 0.01154566 0.01152692 0.01152068]\n",
      "num_paired_subset_sizes = 42\n",
      "weight_left = 0.7986833459821002\n",
      "np.sum(w_aug) = 86.0\n",
      "np.sum(self.kernelWeights) = 1.0\n",
      "phi = [-0.00771575 -0.01002368 -0.00288233  0.00495835  0.          0.\n",
      "  0.01082593  0.         -0.00215509  0.          0.          0.10762634\n",
      " -0.02127593  0.          0.0691552   0.          0.          0.\n",
      "  0.          0.         -0.0012874   0.         -0.00090875  0.\n",
      "  0.          0.          0.          0.          0.          0.\n",
      "  0.          0.          0.          0.         -0.01395219  0.\n",
      "  0.          0.          0.          0.          0.          0.\n",
      " -0.00265261  0.          0.          0.          0.          0.\n",
      "  0.          0.          0.          0.          0.          0.\n",
      "  0.          0.         -0.00273563  0.          0.          0.\n",
      "  0.          0.          0.          0.          0.         -0.00326827\n",
      "  0.         -0.0034051  -0.00093055  0.         -0.00074416  0.\n",
      " -0.00550418 -0.0354254  -0.00807078 -0.01281806  0.02237335  0.\n",
      "  0.          0.02899957 -0.00889496 -0.04875272 -0.03914484 -0.00302448\n",
      " -0.00943557  0.        ]\n",
      " 28%|██▊       | 7/25 [00:20<00:49,  2.77s/it]num_full_subsets = 1\n",
      "remaining_weight_vector = [0.12679607 0.08554916 0.06494433 0.05259689 0.04437863 0.03852033\n",
      " 0.0341374  0.03073844 0.02802861 0.02582029 0.02398845 0.02244651\n",
      " 0.02113268 0.02000163 0.01901941 0.01816005 0.01740338 0.0167335\n",
      " 0.01613768 0.01560567 0.01512908 0.01470099 0.01431569 0.01396835\n",
      " 0.01365496 0.01337209 0.01311684 0.01288672 0.01267961 0.01249369\n",
      " 0.0123274  0.01217938 0.0120485  0.01193375 0.0118343  0.01174944\n",
      " 0.01167859 0.01162124 0.01157703 0.01154566 0.01152692 0.01152068]\n",
      "num_paired_subset_sizes = 42\n",
      "weight_left = 0.7986833459821002\n",
      "np.sum(w_aug) = 86.0\n",
      "np.sum(self.kernelWeights) = 1.0\n",
      "phi = [ 0.         -0.0080848  -0.01283889  0.00649543  0.          0.\n",
      "  0.01109178  0.          0.          0.          0.          0.12084918\n",
      " -0.02749908  0.         -0.022383    0.00442317  0.0070507   0.\n",
      "  0.          0.          0.01637888  0.          0.          0.\n",
      "  0.          0.          0.          0.00598811  0.          0.\n",
      "  0.          0.          0.          0.          0.          0.\n",
      "  0.          0.          0.          0.          0.          0.\n",
      "  0.05926907  0.          0.          0.          0.          0.\n",
      "  0.          0.          0.          0.          0.          0.\n",
      "  0.          0.          0.          0.          0.          0.\n",
      "  0.          0.00387572  0.          0.          0.         -0.0045153\n",
      "  0.          0.          0.          0.          0.          0.\n",
      "  0.01294867 -0.05745104  0.          0.01095877  0.          0.\n",
      "  0.          0.02037878  0.         -0.02785825 -0.00886407 -0.00522291\n",
      "  0.          0.        ]\n",
      " 32%|███▏      | 8/25 [00:22<00:46,  2.71s/it]num_full_subsets = 1\n",
      "remaining_weight_vector = [0.12712321 0.08575772 0.06509321 0.05270962 0.04446697 0.03859097\n",
      " 0.03419453 0.03078482 0.02806616 0.02585041 0.02401216 0.0224646\n",
      " 0.02114574 0.02001013 0.01902372 0.01816046 0.01740012 0.01672674\n",
      " 0.01612757 0.01559231 0.01511255 0.01468135 0.01429295 0.01394255\n",
      " 0.01362607 0.01334009 0.01308169 0.01284836 0.01263798 0.0124487\n",
      " 0.01227895 0.01212735 0.01199276 0.01187415 0.01177067 0.01168159\n",
      " 0.01160631 0.01154431 0.01149518 0.01145861 0.01143436 0.01142228]\n",
      "num_paired_subset_sizes = 43\n",
      "weight_left = 0.7991752082777535\n",
      "np.sum(w_aug) = 86.99999999999996\n",
      "np.sum(self.kernelWeights) = 0.9999999999999994\n",
      "phi = [-0.00609352 -0.01077697 -0.00847823  0.          0.          0.\n",
      "  0.00658605  0.         -0.00415541  0.          0.          0.11209864\n",
      " -0.02206834  0.          0.0413681   0.          0.          0.\n",
      "  0.         -0.01787666  0.          0.          0.         -0.00060839\n",
      " -0.00142717  0.          0.          0.          0.          0.\n",
      "  0.          0.          0.          0.          0.         -0.00167575\n",
      "  0.          0.         -0.02990496  0.          0.          0.\n",
      "  0.         -0.0038577   0.          0.          0.          0.\n",
      "  0.          0.          0.          0.          0.          0.\n",
      "  0.          0.          0.         -0.00221655  0.          0.\n",
      "  0.          0.          0.00515419  0.          0.          0.\n",
      "  0.          0.         -0.00317413 -0.00113024  0.         -0.0019837\n",
      "  0.          0.         -0.03668093 -0.0116176  -0.01747493  0.024839\n",
      "  0.         -0.00311968  0.04880494  0.         -0.03743028 -0.05289315\n",
      " -0.0061741  -0.00758707  0.        ]\n",
      " 36%|███▌      | 9/25 [00:25<00:41,  2.60s/it]num_full_subsets = 1\n",
      "remaining_weight_vector = [0.12679607 0.08554916 0.06494433 0.05259689 0.04437863 0.03852033\n",
      " 0.0341374  0.03073844 0.02802861 0.02582029 0.02398845 0.02244651\n",
      " 0.02113268 0.02000163 0.01901941 0.01816005 0.01740338 0.0167335\n",
      " 0.01613768 0.01560567 0.01512908 0.01470099 0.01431569 0.01396835\n",
      " 0.01365496 0.01337209 0.01311684 0.01288672 0.01267961 0.01249369\n",
      " 0.0123274  0.01217938 0.0120485  0.01193375 0.0118343  0.01174944\n",
      " 0.01167859 0.01162124 0.01157703 0.01154566 0.01152692 0.01152068]\n",
      "num_paired_subset_sizes = 42\n",
      "weight_left = 0.7986833459821002\n",
      "np.sum(w_aug) = 86.0\n",
      "np.sum(self.kernelWeights) = 1.0\n",
      "phi = [-0.00422536 -0.00859345 -0.01175977  0.         -0.00193372 -0.00174417\n",
      "  0.00791647  0.          0.          0.          0.          0.11850366\n",
      " -0.03431827  0.         -0.02571266  0.0137888   0.00429238 -0.00164404\n",
      " -0.00252491 -0.00650567  0.          0.          0.         -0.0128131\n",
      " -0.00241412  0.00402508  0.          0.00564114  0.          0.\n",
      "  0.         -0.00085159  0.          0.          0.         -0.00165138\n",
      " -0.00182416  0.          0.         -0.00095825  0.          0.\n",
      " -0.00328036  0.          0.          0.          0.          0.\n",
      "  0.          0.          0.          0.          0.          0.\n",
      "  0.          0.         -0.00240781  0.          0.          0.\n",
      "  0.          0.00464407  0.          0.          0.         -0.00252613\n",
      "  0.          0.         -0.00316477  0.         -0.0011486   0.\n",
      "  0.01682905 -0.06345988 -0.01117964 -0.00313458  0.01823013  0.\n",
      " -0.00400905  0.037604   -0.00324238 -0.03011673 -0.02171544 -0.00371872\n",
      " -0.00390518  0.        ]\n",
      " 40%|████      | 10/25 [00:27<00:37,  2.53s/it]num_full_subsets = 1\n",
      "remaining_weight_vector = [0.12679607 0.08554916 0.06494433 0.05259689 0.04437863 0.03852033\n",
      " 0.0341374  0.03073844 0.02802861 0.02582029 0.02398845 0.02244651\n",
      " 0.02113268 0.02000163 0.01901941 0.01816005 0.01740338 0.0167335\n",
      " 0.01613768 0.01560567 0.01512908 0.01470099 0.01431569 0.01396835\n",
      " 0.01365496 0.01337209 0.01311684 0.01288672 0.01267961 0.01249369\n",
      " 0.0123274  0.01217938 0.0120485  0.01193375 0.0118343  0.01174944\n",
      " 0.01167859 0.01162124 0.01157703 0.01154566 0.01152692 0.01152068]\n",
      "num_paired_subset_sizes = 42\n",
      "weight_left = 0.7986833459821002\n",
      "np.sum(w_aug) = 86.0\n",
      "np.sum(self.kernelWeights) = 1.0\n",
      "phi = [-0.00600528 -0.01019602 -0.00529282  0.          0.          0.\n",
      "  0.00662327  0.          0.          0.          0.          0.10791197\n",
      " -0.02861862  0.          0.06198142 -0.00407652  0.         -0.00328067\n",
      " -0.00300933  0.0031115   0.          0.         -0.00413196 -0.00230144\n",
      "  0.          0.          0.          0.00701218  0.          0.\n",
      "  0.          0.          0.          0.         -0.02972382 -0.00161962\n",
      "  0.00453617  0.          0.          0.          0.          0.\n",
      " -0.00248192 -0.00261822  0.          0.          0.          0.\n",
      "  0.          0.          0.          0.          0.          0.\n",
      "  0.00622266 -0.00182211 -0.00145008  0.          0.          0.\n",
      " -0.00190151  0.00581469  0.          0.          0.         -0.00406953\n",
      "  0.         -0.00469327 -0.00265463  0.         -0.00383749  0.\n",
      " -0.00637398  0.00435508 -0.01154845 -0.00901573  0.01504905  0.\n",
      " -0.00473078  0.00761696 -0.01836587 -0.06802458 -0.02790447 -0.00262366\n",
      " -0.01030591 -0.00317179]\n",
      " 44%|████▍     | 11/25 [00:30<00:35,  2.53s/it]num_full_subsets = 1\n",
      "remaining_weight_vector = [0.12679607 0.08554916 0.06494433 0.05259689 0.04437863 0.03852033\n",
      " 0.0341374  0.03073844 0.02802861 0.02582029 0.02398845 0.02244651\n",
      " 0.02113268 0.02000163 0.01901941 0.01816005 0.01740338 0.0167335\n",
      " 0.01613768 0.01560567 0.01512908 0.01470099 0.01431569 0.01396835\n",
      " 0.01365496 0.01337209 0.01311684 0.01288672 0.01267961 0.01249369\n",
      " 0.0123274  0.01217938 0.0120485  0.01193375 0.0118343  0.01174944\n",
      " 0.01167859 0.01162124 0.01157703 0.01154566 0.01152692 0.01152068]\n",
      "num_paired_subset_sizes = 42\n",
      "weight_left = 0.7986833459821002\n",
      "np.sum(w_aug) = 86.0\n",
      "np.sum(self.kernelWeights) = 1.0\n",
      "phi = [ 0.         -0.00626756 -0.00590783  0.          0.          0.\n",
      "  0.0087391   0.00290824  0.          0.          0.00387525  0.13029316\n",
      "  0.12706124  0.          0.          0.          0.          0.\n",
      "  0.          0.          0.          0.          0.          0.\n",
      "  0.          0.0042524   0.          0.00964284  0.          0.\n",
      "  0.          0.          0.          0.          0.          0.\n",
      " -0.02520604  0.          0.          0.          0.          0.\n",
      "  0.          0.          0.          0.          0.          0.\n",
      "  0.          0.          0.          0.          0.          0.\n",
      "  0.          0.          0.          0.          0.          0.\n",
      "  0.          0.00280813  0.          0.          0.00322779  0.\n",
      "  0.          0.          0.          0.          0.          0.\n",
      "  0.0259936   0.01669207 -0.00753333 -0.0478837   0.03173581  0.\n",
      "  0.         -0.01220595 -0.00728918 -0.01228434 -0.02856989  0.\n",
      "  0.          0.        ]\n",
      " 48%|████▊     | 12/25 [00:33<00:35,  2.69s/it]num_full_subsets = 1\n",
      "remaining_weight_vector = [0.12679607 0.08554916 0.06494433 0.05259689 0.04437863 0.03852033\n",
      " 0.0341374  0.03073844 0.02802861 0.02582029 0.02398845 0.02244651\n",
      " 0.02113268 0.02000163 0.01901941 0.01816005 0.01740338 0.0167335\n",
      " 0.01613768 0.01560567 0.01512908 0.01470099 0.01431569 0.01396835\n",
      " 0.01365496 0.01337209 0.01311684 0.01288672 0.01267961 0.01249369\n",
      " 0.0123274  0.01217938 0.0120485  0.01193375 0.0118343  0.01174944\n",
      " 0.01167859 0.01162124 0.01157703 0.01154566 0.01152692 0.01152068]\n",
      "num_paired_subset_sizes = 42\n",
      "weight_left = 0.7986833459821002\n",
      "np.sum(w_aug) = 86.0\n",
      "np.sum(self.kernelWeights) = 1.0\n",
      "phi = [ 0.          0.          0.          0.          0.          0.\n",
      "  0.01107447  0.          0.          0.          0.00422119  0.13240263\n",
      "  0.13505945  0.          0.          0.          0.00408006  0.\n",
      "  0.          0.          0.          0.          0.          0.\n",
      "  0.          0.          0.          0.00938049  0.          0.\n",
      "  0.          0.          0.          0.          0.          0.\n",
      " -0.02257509  0.          0.          0.          0.          0.\n",
      "  0.          0.          0.          0.          0.          0.\n",
      "  0.          0.          0.          0.          0.          0.\n",
      "  0.          0.          0.          0.          0.          0.\n",
      "  0.          0.          0.          0.          0.          0.\n",
      "  0.          0.          0.          0.          0.          0.\n",
      "  0.          0.00972698 -0.01704677 -0.03737267  0.03353314 -0.01412601\n",
      "  0.          0.0158629  -0.01036764 -0.00813671 -0.00922672  0.\n",
      "  0.00486484  0.        ]\n",
      " 52%|█████▏    | 13/25 [00:35<00:31,  2.65s/it]num_full_subsets = 1\n",
      "remaining_weight_vector = [0.12679607 0.08554916 0.06494433 0.05259689 0.04437863 0.03852033\n",
      " 0.0341374  0.03073844 0.02802861 0.02582029 0.02398845 0.02244651\n",
      " 0.02113268 0.02000163 0.01901941 0.01816005 0.01740338 0.0167335\n",
      " 0.01613768 0.01560567 0.01512908 0.01470099 0.01431569 0.01396835\n",
      " 0.01365496 0.01337209 0.01311684 0.01288672 0.01267961 0.01249369\n",
      " 0.0123274  0.01217938 0.0120485  0.01193375 0.0118343  0.01174944\n",
      " 0.01167859 0.01162124 0.01157703 0.01154566 0.01152692 0.01152068]\n",
      "num_paired_subset_sizes = 42\n",
      "weight_left = 0.7986833459821002\n",
      "np.sum(w_aug) = 86.0\n",
      "np.sum(self.kernelWeights) = 1.0\n",
      "phi = [-0.00400972 -0.0042461  -0.00343661  0.          0.         -0.00333109\n",
      "  0.01715433  0.          0.          0.          0.          0.11682372\n",
      " -0.03802019  0.         -0.01906604  0.         -0.02964204  0.\n",
      "  0.01183754 -0.00398521  0.          0.          0.          0.\n",
      "  0.          0.          0.          0.00790492  0.          0.\n",
      "  0.          0.          0.          0.         -0.00710733  0.\n",
      "  0.          0.          0.          0.          0.          0.\n",
      " -0.00375317  0.          0.          0.          0.          0.\n",
      "  0.          0.          0.          0.          0.          0.\n",
      "  0.          0.          0.          0.          0.          0.00301897\n",
      "  0.          0.00311013  0.00256429  0.0046691   0.         -0.00189214\n",
      "  0.          0.         -0.00202104  0.         -0.00245965  0.\n",
      "  0.01473908  0.00482445 -0.0347333  -0.01783937  0.02755441  0.\n",
      " -0.00333997  0.02655993 -0.01626589 -0.01539263 -0.02798716 -0.00633222\n",
      "  0.          0.        ]\n",
      " 56%|█████▌    | 14/25 [00:38<00:28,  2.59s/it]num_full_subsets = 1\n",
      "remaining_weight_vector = [0.12679607 0.08554916 0.06494433 0.05259689 0.04437863 0.03852033\n",
      " 0.0341374  0.03073844 0.02802861 0.02582029 0.02398845 0.02244651\n",
      " 0.02113268 0.02000163 0.01901941 0.01816005 0.01740338 0.0167335\n",
      " 0.01613768 0.01560567 0.01512908 0.01470099 0.01431569 0.01396835\n",
      " 0.01365496 0.01337209 0.01311684 0.01288672 0.01267961 0.01249369\n",
      " 0.0123274  0.01217938 0.0120485  0.01193375 0.0118343  0.01174944\n",
      " 0.01167859 0.01162124 0.01157703 0.01154566 0.01152692 0.01152068]\n",
      "num_paired_subset_sizes = 42\n",
      "weight_left = 0.7986833459821002\n",
      "np.sum(w_aug) = 86.0\n",
      "np.sum(self.kernelWeights) = 1.0\n",
      "phi = [-0.00396862 -0.00436116 -0.00210777 -0.0011729   0.         -0.00251414\n",
      "  0.01761759  0.          0.          0.          0.          0.13271278\n",
      " -0.03788088  0.         -0.01713431  0.          0.          0.\n",
      "  0.         -0.00357466  0.          0.         -0.00107309  0.\n",
      "  0.          0.00319006  0.          0.00789663  0.          0.\n",
      "  0.          0.          0.          0.         -0.01436212  0.\n",
      "  0.          0.          0.         -0.00176874  0.          0.\n",
      " -0.00435281  0.          0.          0.          0.          0.\n",
      "  0.          0.          0.          0.          0.         -0.00168288\n",
      "  0.          0.         -0.00189969  0.          0.          0.\n",
      "  0.          0.00453832  0.          0.00434309  0.         -0.0019128\n",
      "  0.          0.         -0.00196615  0.         -0.00191166  0.\n",
      "  0.00915124  0.00580187 -0.02420304 -0.00889067  0.03278564 -0.00729928\n",
      "  0.          0.02757724 -0.00850955 -0.03139216 -0.02118398 -0.00438322\n",
      " -0.00384455  0.        ]\n",
      " 60%|██████    | 15/25 [00:40<00:25,  2.58s/it]num_full_subsets = 1\n",
      "remaining_weight_vector = [0.12679607 0.08554916 0.06494433 0.05259689 0.04437863 0.03852033\n",
      " 0.0341374  0.03073844 0.02802861 0.02582029 0.02398845 0.02244651\n",
      " 0.02113268 0.02000163 0.01901941 0.01816005 0.01740338 0.0167335\n",
      " 0.01613768 0.01560567 0.01512908 0.01470099 0.01431569 0.01396835\n",
      " 0.01365496 0.01337209 0.01311684 0.01288672 0.01267961 0.01249369\n",
      " 0.0123274  0.01217938 0.0120485  0.01193375 0.0118343  0.01174944\n",
      " 0.01167859 0.01162124 0.01157703 0.01154566 0.01152692 0.01152068]\n",
      "num_paired_subset_sizes = 42\n",
      "weight_left = 0.7986833459821002\n",
      "np.sum(w_aug) = 86.0\n",
      "np.sum(self.kernelWeights) = 1.0\n",
      "phi = [-5.27833394e-03 -3.90212692e-03 -8.46785658e-03  0.00000000e+00\n",
      "  0.00000000e+00  0.00000000e+00  0.00000000e+00  0.00000000e+00\n",
      " -2.52617683e-03  0.00000000e+00  0.00000000e+00 -2.05698135e-01\n",
      " -3.60102902e-02  0.00000000e+00 -2.78724825e-02 -3.22798988e-03\n",
      "  0.00000000e+00  0.00000000e+00 -3.13040292e-03 -5.22841042e-03\n",
      "  0.00000000e+00  0.00000000e+00  0.00000000e+00 -3.06109720e-03\n",
      "  0.00000000e+00  0.00000000e+00 -6.03738563e-05  0.00000000e+00\n",
      "  0.00000000e+00  0.00000000e+00  0.00000000e+00  0.00000000e+00\n",
      "  0.00000000e+00  0.00000000e+00  0.00000000e+00  0.00000000e+00\n",
      "  0.00000000e+00  0.00000000e+00  0.00000000e+00 -2.92020047e-03\n",
      "  0.00000000e+00  0.00000000e+00 -4.04727002e-03  0.00000000e+00\n",
      "  0.00000000e+00  0.00000000e+00  0.00000000e+00  0.00000000e+00\n",
      " -8.51811432e-04  0.00000000e+00  0.00000000e+00  0.00000000e+00\n",
      "  0.00000000e+00  0.00000000e+00  0.00000000e+00  0.00000000e+00\n",
      "  0.00000000e+00  0.00000000e+00  0.00000000e+00  0.00000000e+00\n",
      "  0.00000000e+00  0.00000000e+00  0.00000000e+00  0.00000000e+00\n",
      "  0.00000000e+00  0.00000000e+00  0.00000000e+00  0.00000000e+00\n",
      "  0.00000000e+00  0.00000000e+00  0.00000000e+00  0.00000000e+00\n",
      "  0.00000000e+00 -4.23334734e-02 -8.41171944e-03 -8.78693983e-03\n",
      "  0.00000000e+00  0.00000000e+00 -6.45826553e-03  0.00000000e+00\n",
      "  2.39106117e-02 -1.25963572e-02 -2.10392616e-02 -1.05287453e-02\n",
      " -5.57289161e-03  0.00000000e+00]\n",
      " 64%|██████▍   | 16/25 [00:43<00:24,  2.70s/it]num_full_subsets = 1\n",
      "remaining_weight_vector = [0.12679607 0.08554916 0.06494433 0.05259689 0.04437863 0.03852033\n",
      " 0.0341374  0.03073844 0.02802861 0.02582029 0.02398845 0.02244651\n",
      " 0.02113268 0.02000163 0.01901941 0.01816005 0.01740338 0.0167335\n",
      " 0.01613768 0.01560567 0.01512908 0.01470099 0.01431569 0.01396835\n",
      " 0.01365496 0.01337209 0.01311684 0.01288672 0.01267961 0.01249369\n",
      " 0.0123274  0.01217938 0.0120485  0.01193375 0.0118343  0.01174944\n",
      " 0.01167859 0.01162124 0.01157703 0.01154566 0.01152692 0.01152068]\n",
      "num_paired_subset_sizes = 42\n",
      "weight_left = 0.7986833459821002\n",
      "np.sum(w_aug) = 86.0\n",
      "np.sum(self.kernelWeights) = 1.0\n",
      "phi = [-0.00569271 -0.01006575 -0.00758044  0.         -0.0017305   0.\n",
      "  0.00772238  0.         -0.00280647  0.          0.          0.11301174\n",
      " -0.02259816  0.          0.04792242 -0.00303774  0.00764866  0.\n",
      "  0.         -0.01586839  0.          0.          0.          0.\n",
      "  0.          0.          0.          0.          0.          0.\n",
      "  0.          0.          0.          0.          0.00426843 -0.00345613\n",
      "  0.          0.          0.          0.          0.          0.\n",
      " -0.00309985  0.          0.          0.          0.          0.\n",
      "  0.          0.00400316  0.          0.          0.          0.\n",
      " -0.00127439  0.         -0.00168223  0.          0.          0.\n",
      "  0.          0.          0.          0.          0.          0.\n",
      "  0.         -0.00237428  0.          0.         -0.0020685   0.\n",
      "  0.006243   -0.0410452  -0.00671344 -0.01752092  0.02198465  0.\n",
      " -0.00283157  0.04959925 -0.0028242  -0.03322516 -0.04532882 -0.0062651\n",
      " -0.00923192  0.        ]\n",
      " 68%|██████▊   | 17/25 [00:46<00:21,  2.73s/it]num_full_subsets = 1\n",
      "remaining_weight_vector = [0.12679607 0.08554916 0.06494433 0.05259689 0.04437863 0.03852033\n",
      " 0.0341374  0.03073844 0.02802861 0.02582029 0.02398845 0.02244651\n",
      " 0.02113268 0.02000163 0.01901941 0.01816005 0.01740338 0.0167335\n",
      " 0.01613768 0.01560567 0.01512908 0.01470099 0.01431569 0.01396835\n",
      " 0.01365496 0.01337209 0.01311684 0.01288672 0.01267961 0.01249369\n",
      " 0.0123274  0.01217938 0.0120485  0.01193375 0.0118343  0.01174944\n",
      " 0.01167859 0.01162124 0.01157703 0.01154566 0.01152692 0.01152068]\n",
      "num_paired_subset_sizes = 42\n",
      "weight_left = 0.7986833459821002\n",
      "np.sum(w_aug) = 86.0\n",
      "np.sum(self.kernelWeights) = 1.0\n",
      "phi = [-0.00614782 -0.01035473 -0.00723267  0.00532624  0.          0.\n",
      "  0.00817089  0.          0.          0.          0.          0.11804263\n",
      " -0.02395231  0.          0.07502613  0.          0.00512161  0.\n",
      "  0.          0.          0.          0.         -0.0016683   0.\n",
      "  0.          0.          0.          0.          0.          0.\n",
      "  0.          0.          0.          0.          0.00429848  0.\n",
      "  0.          0.          0.          0.          0.          0.\n",
      "  0.          0.          0.          0.         -0.00278162  0.\n",
      "  0.          0.          0.          0.          0.          0.\n",
      "  0.          0.          0.          0.          0.          0.\n",
      "  0.          0.00417746  0.          0.          0.          0.\n",
      "  0.         -0.00497478  0.          0.          0.          0.\n",
      "  0.         -0.05853051 -0.00818476 -0.01147861  0.02435011  0.\n",
      " -0.00321638  0.04466078 -0.00607415 -0.04214    -0.04493824 -0.00407872\n",
      " -0.00752073  0.        ]\n",
      " 72%|███████▏  | 18/25 [00:48<00:18,  2.67s/it]num_full_subsets = 1\n",
      "remaining_weight_vector = [0.12712321 0.08575772 0.06509321 0.05270962 0.04446697 0.03859097\n",
      " 0.03419453 0.03078482 0.02806616 0.02585041 0.02401216 0.0224646\n",
      " 0.02114574 0.02001013 0.01902372 0.01816046 0.01740012 0.01672674\n",
      " 0.01612757 0.01559231 0.01511255 0.01468135 0.01429295 0.01394255\n",
      " 0.01362607 0.01334009 0.01308169 0.01284836 0.01263798 0.0124487\n",
      " 0.01227895 0.01212735 0.01199276 0.01187415 0.01177067 0.01168159\n",
      " 0.01160631 0.01154431 0.01149518 0.01145861 0.01143436 0.01142228]\n",
      "num_paired_subset_sizes = 43\n",
      "weight_left = 0.7991752082777535\n",
      "np.sum(w_aug) = 86.99999999999997\n",
      "np.sum(self.kernelWeights) = 0.9999999999999996\n",
      "phi = [ 0.         -0.0069451  -0.00672198  0.          0.          0.\n",
      "  0.01298291  0.00430309  0.          0.          0.          0.12678786\n",
      "  0.13899626  0.          0.          0.          0.00723456  0.\n",
      "  0.          0.          0.          0.          0.          0.\n",
      "  0.          0.00371816  0.          0.01044211  0.          0.\n",
      "  0.          0.          0.          0.          0.          0.\n",
      "  0.          0.         -0.02531101  0.          0.          0.\n",
      "  0.          0.          0.          0.          0.          0.\n",
      "  0.          0.          0.          0.          0.          0.\n",
      "  0.          0.          0.          0.          0.          0.\n",
      "  0.          0.          0.00259761  0.          0.          0.\n",
      "  0.          0.          0.          0.          0.          0.\n",
      "  0.         -0.00493421  0.00920998 -0.01656192 -0.03610508  0.0296468\n",
      " -0.01623017  0.          0.01480578 -0.00963361 -0.01576597 -0.0208749\n",
      "  0.          0.00334975  0.        ]\n",
      " 76%|███████▌  | 19/25 [00:51<00:15,  2.61s/it]num_full_subsets = 1\n",
      "remaining_weight_vector = [0.12712321 0.08575772 0.06509321 0.05270962 0.04446697 0.03859097\n",
      " 0.03419453 0.03078482 0.02806616 0.02585041 0.02401216 0.0224646\n",
      " 0.02114574 0.02001013 0.01902372 0.01816046 0.01740012 0.01672674\n",
      " 0.01612757 0.01559231 0.01511255 0.01468135 0.01429295 0.01394255\n",
      " 0.01362607 0.01334009 0.01308169 0.01284836 0.01263798 0.0124487\n",
      " 0.01227895 0.01212735 0.01199276 0.01187415 0.01177067 0.01168159\n",
      " 0.01160631 0.01154431 0.01149518 0.01145861 0.01143436 0.01142228]\n",
      "num_paired_subset_sizes = 43\n",
      "weight_left = 0.7991752082777535\n",
      "np.sum(w_aug) = 86.99999999999996\n",
      "np.sum(self.kernelWeights) = 0.9999999999999997\n",
      "phi = [-0.00664157 -0.00939191 -0.00750055  0.00422714  0.          0.\n",
      "  0.00774186  0.         -0.00279004  0.          0.          0.11622775\n",
      " -0.02284938  0.          0.05162341 -0.00154809  0.00565044  0.\n",
      "  0.         -0.0202716  -0.00183538  0.          0.          0.\n",
      "  0.          0.          0.          0.          0.          0.\n",
      "  0.          0.          0.          0.          0.00477312 -0.00183384\n",
      "  0.         -0.00406497  0.          0.          0.          0.\n",
      "  0.         -0.00462224  0.          0.          0.         -0.0008256\n",
      "  0.          0.          0.          0.          0.          0.\n",
      " -0.00146547  0.          0.          0.          0.         -0.00113229\n",
      "  0.          0.          0.00325119  0.          0.          0.\n",
      "  0.          0.         -0.00313448 -0.00156906  0.         -0.00356616\n",
      "  0.          0.00589743 -0.05094942 -0.00649532 -0.01555694  0.02373848\n",
      "  0.00275277 -0.00308314  0.04944429 -0.00303369 -0.04050845 -0.04400209\n",
      " -0.00397086 -0.00769444  0.        ]\n",
      " 80%|████████  | 20/25 [00:53<00:12,  2.55s/it]num_full_subsets = 1\n",
      "remaining_weight_vector = [0.12712321 0.08575772 0.06509321 0.05270962 0.04446697 0.03859097\n",
      " 0.03419453 0.03078482 0.02806616 0.02585041 0.02401216 0.0224646\n",
      " 0.02114574 0.02001013 0.01902372 0.01816046 0.01740012 0.01672674\n",
      " 0.01612757 0.01559231 0.01511255 0.01468135 0.01429295 0.01394255\n",
      " 0.01362607 0.01334009 0.01308169 0.01284836 0.01263798 0.0124487\n",
      " 0.01227895 0.01212735 0.01199276 0.01187415 0.01177067 0.01168159\n",
      " 0.01160631 0.01154431 0.01149518 0.01145861 0.01143436 0.01142228]\n",
      "num_paired_subset_sizes = 43\n",
      "weight_left = 0.7991752082777535\n",
      "np.sum(w_aug) = 86.99999999999997\n",
      "np.sum(self.kernelWeights) = 0.9999999999999997\n",
      "phi = [-0.0053101  -0.01021659 -0.00514828  0.00248238  0.          0.\n",
      "  0.00887251  0.          0.          0.          0.          0.11318804\n",
      " -0.02065087  0.          0.06298145  0.          0.00399688  0.\n",
      "  0.          0.         -0.00151069  0.          0.          0.\n",
      " -0.01035186  0.          0.00395145  0.          0.00354405  0.\n",
      "  0.          0.          0.         -0.00109843  0.          0.\n",
      "  0.          0.          0.          0.          0.          0.\n",
      "  0.         -0.00502341  0.          0.          0.          0.\n",
      "  0.          0.          0.          0.          0.          0.\n",
      "  0.          0.          0.          0.00586458  0.          0.\n",
      "  0.          0.          0.          0.          0.          0.\n",
      "  0.          0.         -0.00316226 -0.00138611  0.         -0.00253153\n",
      "  0.          0.00803847 -0.07135565 -0.01310887 -0.01186066  0.02775519\n",
      "  0.         -0.00472027  0.03522333 -0.00811538 -0.03200729 -0.03460402\n",
      " -0.00401949 -0.00654383  0.        ]\n",
      " 84%|████████▍ | 21/25 [00:56<00:09,  2.47s/it]num_full_subsets = 1\n",
      "remaining_weight_vector = [0.12712321 0.08575772 0.06509321 0.05270962 0.04446697 0.03859097\n",
      " 0.03419453 0.03078482 0.02806616 0.02585041 0.02401216 0.0224646\n",
      " 0.02114574 0.02001013 0.01902372 0.01816046 0.01740012 0.01672674\n",
      " 0.01612757 0.01559231 0.01511255 0.01468135 0.01429295 0.01394255\n",
      " 0.01362607 0.01334009 0.01308169 0.01284836 0.01263798 0.0124487\n",
      " 0.01227895 0.01212735 0.01199276 0.01187415 0.01177067 0.01168159\n",
      " 0.01160631 0.01154431 0.01149518 0.01145861 0.01143436 0.01142228]\n",
      "num_paired_subset_sizes = 43\n",
      "weight_left = 0.7991752082777535\n",
      "np.sum(w_aug) = 86.99999999999997\n",
      "np.sum(self.kernelWeights) = 0.9999999999999994\n",
      "phi = [ 0.02222173  0.          0.          0.          0.          0.\n",
      "  0.00689459  0.00275888  0.00516248  0.          0.00322601  0.12262944\n",
      "  0.12022458  0.         -0.01476794  0.          0.00628762  0.\n",
      "  0.          0.          0.          0.          0.         -0.01498182\n",
      "  0.          0.          0.          0.01052572  0.          0.\n",
      "  0.          0.          0.          0.          0.00247699  0.\n",
      "  0.          0.          0.          0.          0.          0.\n",
      "  0.          0.          0.          0.          0.          0.\n",
      "  0.          0.          0.          0.          0.          0.\n",
      "  0.          0.          0.          0.          0.          0.\n",
      "  0.          0.          0.00412947  0.          0.          0.\n",
      "  0.          0.          0.          0.          0.          0.\n",
      " -0.02167018  0.00856164  0.00793419 -0.0087396  -0.04714175  0.02478146\n",
      "  0.          0.          0.02463281  0.         -0.0172143  -0.00657749\n",
      "  0.          0.          0.        ]\n",
      " 88%|████████▊ | 22/25 [00:58<00:07,  2.46s/it]num_full_subsets = 1\n",
      "remaining_weight_vector = [0.12679607 0.08554916 0.06494433 0.05259689 0.04437863 0.03852033\n",
      " 0.0341374  0.03073844 0.02802861 0.02582029 0.02398845 0.02244651\n",
      " 0.02113268 0.02000163 0.01901941 0.01816005 0.01740338 0.0167335\n",
      " 0.01613768 0.01560567 0.01512908 0.01470099 0.01431569 0.01396835\n",
      " 0.01365496 0.01337209 0.01311684 0.01288672 0.01267961 0.01249369\n",
      " 0.0123274  0.01217938 0.0120485  0.01193375 0.0118343  0.01174944\n",
      " 0.01167859 0.01162124 0.01157703 0.01154566 0.01152692 0.01152068]\n",
      "num_paired_subset_sizes = 42\n",
      "weight_left = 0.7986833459821002\n",
      "np.sum(w_aug) = 86.0\n",
      "np.sum(self.kernelWeights) = 0.9999999999999999\n",
      "phi = [ 0.07053519 -0.00697398  0.          0.          0.          0.\n",
      "  0.00901458  0.          0.          0.          0.          0.11500644\n",
      " -0.01940136  0.          0.11927806  0.          0.00415734  0.\n",
      "  0.          0.          0.          0.          0.          0.\n",
      "  0.          0.          0.         -0.08579581  0.          0.\n",
      "  0.          0.          0.          0.          0.          0.\n",
      "  0.          0.          0.          0.          0.          0.\n",
      "  0.          0.          0.          0.          0.          0.\n",
      "  0.          0.          0.          0.          0.          0.\n",
      "  0.          0.          0.          0.          0.          0.\n",
      "  0.          0.00574452  0.          0.          0.          0.\n",
      "  0.          0.          0.          0.          0.          0.\n",
      "  0.00995619  0.         -0.00662221 -0.0199922   0.00530489 -0.01155812\n",
      "  0.          0.0199311  -0.00623309 -0.03038601 -0.02475281  0.\n",
      " -0.00585818  0.        ]\n",
      " 92%|█████████▏| 23/25 [01:00<00:04,  2.41s/it]num_full_subsets = 1\n",
      "remaining_weight_vector = [0.12679607 0.08554916 0.06494433 0.05259689 0.04437863 0.03852033\n",
      " 0.0341374  0.03073844 0.02802861 0.02582029 0.02398845 0.02244651\n",
      " 0.02113268 0.02000163 0.01901941 0.01816005 0.01740338 0.0167335\n",
      " 0.01613768 0.01560567 0.01512908 0.01470099 0.01431569 0.01396835\n",
      " 0.01365496 0.01337209 0.01311684 0.01288672 0.01267961 0.01249369\n",
      " 0.0123274  0.01217938 0.0120485  0.01193375 0.0118343  0.01174944\n",
      " 0.01167859 0.01162124 0.01157703 0.01154566 0.01152692 0.01152068]\n",
      "num_paired_subset_sizes = 42\n",
      "weight_left = 0.7986833459821002\n",
      "np.sum(w_aug) = 86.0\n",
      "np.sum(self.kernelWeights) = 1.0\n",
      "phi = [ 0.08983919  0.          0.          0.          0.          0.\n",
      "  0.00814289  0.          0.          0.          0.          0.13821114\n",
      " -0.0193024   0.          0.08876494  0.          0.00662617  0.\n",
      "  0.          0.          0.          0.          0.          0.\n",
      "  0.          0.          0.          0.00619418  0.          0.00955352\n",
      "  0.          0.          0.          0.          0.00681788  0.\n",
      "  0.          0.          0.          0.          0.          0.\n",
      "  0.          0.          0.          0.          0.          0.\n",
      "  0.          0.          0.          0.          0.          0.\n",
      "  0.          0.          0.          0.          0.          0.\n",
      "  0.          0.00393728  0.          0.          0.          0.\n",
      "  0.          0.          0.          0.          0.          0.\n",
      "  0.          0.         -0.00659968 -0.0165766   0.01346797 -0.0220837\n",
      "  0.          0.02665058 -0.00538947 -0.03380365 -0.02011158  0.\n",
      " -0.00571138  0.        ]\n",
      " 96%|█████████▌| 24/25 [01:03<00:02,  2.40s/it]num_full_subsets = 1\n",
      "remaining_weight_vector = [0.12712321 0.08575772 0.06509321 0.05270962 0.04446697 0.03859097\n",
      " 0.03419453 0.03078482 0.02806616 0.02585041 0.02401216 0.0224646\n",
      " 0.02114574 0.02001013 0.01902372 0.01816046 0.01740012 0.01672674\n",
      " 0.01612757 0.01559231 0.01511255 0.01468135 0.01429295 0.01394255\n",
      " 0.01362607 0.01334009 0.01308169 0.01284836 0.01263798 0.0124487\n",
      " 0.01227895 0.01212735 0.01199276 0.01187415 0.01177067 0.01168159\n",
      " 0.01160631 0.01154431 0.01149518 0.01145861 0.01143436 0.01142228]\n",
      "num_paired_subset_sizes = 43\n",
      "weight_left = 0.7991752082777535\n",
      "np.sum(w_aug) = 86.99999999999997\n",
      "np.sum(self.kernelWeights) = 0.9999999999999996\n",
      "phi = [ 0.04328134  0.          0.          0.          0.          0.\n",
      "  0.00514662  0.          0.00640738  0.          0.00326205  0.12920208\n",
      "  0.12018101  0.         -0.01942675  0.          0.00619925  0.\n",
      "  0.          0.          0.          0.          0.         -0.01341658\n",
      "  0.          0.          0.          0.01042185  0.          0.\n",
      "  0.          0.          0.          0.          0.          0.\n",
      "  0.          0.          0.          0.          0.          0.\n",
      "  0.          0.          0.          0.          0.          0.\n",
      "  0.          0.          0.          0.          0.          0.\n",
      "  0.          0.          0.          0.          0.          0.\n",
      "  0.          0.          0.          0.          0.          0.\n",
      "  0.          0.          0.          0.          0.          0.\n",
      "  0.          0.01006901  0.00907506 -0.00948254 -0.05238376  0.02904472\n",
      "  0.          0.          0.02539645  0.         -0.01539326 -0.00683543\n",
      "  0.          0.          0.        ]\n",
      "100%|██████████| 25/25 [01:05<00:00,  2.63s/it]\n",
      "Generating mini dash\n",
      "Generated mini dash\n"
     ]
    },
    {
     "data": {
      "text/html": [
       "<!-- http://127.0.0.1:7001/1498995046864/ -->\n",
       "<iframe src=\"http://127.0.0.1:7001/1498995046864/\" width=100% height=800 frameBorder=\"0\"></iframe>"
      ]
     },
     "metadata": {},
     "output_type": "display_data"
    },
    {
     "name": "stderr",
     "output_type": "stream",
     "text": [
      "No overall plot to display: -1|ShapKernel_1\n"
     ]
    }
   ],
   "source": [
    "shap_local = shap.explain_local(pd.DataFrame(Xtest)[:25])\n",
    "\n",
    "show(shap_local)"
   ]
  },
  {
   "cell_type": "code",
   "execution_count": null,
   "metadata": {},
   "outputs": [],
   "source": []
  }
 ],
 "metadata": {
  "interpreter": {
   "hash": "456d2a7118d35350561e2a2cece57887a28d81f04d055278ed4a029d882f7171"
  },
  "kernelspec": {
   "display_name": "Python 3.8.8 64-bit ('base': conda)",
   "language": "python",
   "name": "python3"
  },
  "language_info": {
   "codemirror_mode": {
    "name": "ipython",
    "version": 3
   },
   "file_extension": ".py",
   "mimetype": "text/x-python",
   "name": "python",
   "nbconvert_exporter": "python",
   "pygments_lexer": "ipython3",
   "version": "3.8.8"
  },
  "orig_nbformat": 4
 },
 "nbformat": 4,
 "nbformat_minor": 2
}
