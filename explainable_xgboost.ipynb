{
 "cells": [
  {
   "cell_type": "code",
   "execution_count": 2,
   "metadata": {},
   "outputs": [],
   "source": [
    "import pandas as pd\n",
    "import numpy as np\n",
    "\n",
    "from sklearn.model_selection import train_test_split\n",
    "from sklearn.metrics import accuracy_score\n",
    "\n",
    "import xgboost as xgb\n",
    "from interpret import show\n",
    "from interpret.blackbox import ShapKernel, PartialDependence\n",
    "\n"
   ]
  },
  {
   "cell_type": "markdown",
   "metadata": {},
   "source": [
    "### Data Prep"
   ]
  },
  {
   "cell_type": "code",
   "execution_count": 3,
   "metadata": {},
   "outputs": [],
   "source": [
    "data = pd.read_csv(\"./DATA/pakistanCleanOneHot.csv\")"
   ]
  },
  {
   "cell_type": "code",
   "execution_count": 4,
   "metadata": {},
   "outputs": [],
   "source": [
    "data.set_index('eventid', inplace=True)"
   ]
  },
  {
   "cell_type": "code",
   "execution_count": 5,
   "metadata": {},
   "outputs": [
    {
     "data": {
      "text/plain": [
       "Index(['city', 'latitude', 'longitude', 'location', 'summary', 'multiple',\n",
       "       'success', 'suicide', 'attacktype1', 'targtype1',\n",
       "       ...\n",
       "       'targtype1_txt_Other', 'targtype1_txt_Maritime',\n",
       "       'weaptype1_txt_Explosives', 'weaptype1_txt_Firearms',\n",
       "       'weaptype1_txt_Unknown', 'weaptype1_txt_Melee',\n",
       "       'weaptype1_txt_Incendiary', 'weaptype1_txt_Chemical',\n",
       "       'weaptype1_txt_Other',\n",
       "       'weaptype1_txt_Vehicle (not to include vehicle-borne explosives, i.e., car or truck bombs)'],\n",
       "      dtype='object', length=135)"
      ]
     },
     "execution_count": 5,
     "metadata": {},
     "output_type": "execute_result"
    }
   ],
   "source": [
    "data.columns"
   ]
  },
  {
   "cell_type": "markdown",
   "metadata": {},
   "source": [
    "Removing columns that have too many categories or too much text data, or won't be in our test data."
   ]
  },
  {
   "cell_type": "code",
   "execution_count": 6,
   "metadata": {},
   "outputs": [],
   "source": [
    "exclude_cols = ['city','location','summary','attacktype1','targtype1','targsubtype1','targsubtype1_txt', 'corp1', 'target1', 'gname', 'claimed', 'claimmode',\n",
    "       'claimmode_txt','weaptype1','weapsubtype1','weapsubtype1_txt']\n",
    "for col in exclude_cols:\n",
    "    del data[col]"
   ]
  },
  {
   "cell_type": "code",
   "execution_count": 7,
   "metadata": {},
   "outputs": [
    {
     "data": {
      "text/html": [
       "<div><div id=aeb715e3-a401-4210-89cb-6be61bc240a9 style=\"display:none; background-color:#9D6CFF; color:white; width:200px; height:30px; padding-left:5px; border-radius:4px; flex-direction:row; justify-content:space-around; align-items:center;\" onmouseover=\"this.style.backgroundColor='#BA9BF8'\" onmouseout=\"this.style.backgroundColor='#9D6CFF'\" onclick=\"window.commands?.execute('create-mitosheet-from-dataframe-output');\">See Full Dataframe in Mito</div> <script> if (window.commands.hasCommand('create-mitosheet-from-dataframe-output')) document.getElementById('aeb715e3-a401-4210-89cb-6be61bc240a9').style.display = 'flex' </script> <table border=\"1\" class=\"dataframe\">\n",
       "  <thead>\n",
       "    <tr style=\"text-align: right;\">\n",
       "      <th></th>\n",
       "      <th>latitude</th>\n",
       "      <th>longitude</th>\n",
       "      <th>multiple</th>\n",
       "      <th>success</th>\n",
       "      <th>suicide</th>\n",
       "      <th>nkill</th>\n",
       "      <th>nkillus</th>\n",
       "      <th>nkillter</th>\n",
       "      <th>nwound</th>\n",
       "      <th>nwoundus</th>\n",
       "      <th>...</th>\n",
       "      <th>targtype1_txt_Other</th>\n",
       "      <th>targtype1_txt_Maritime</th>\n",
       "      <th>weaptype1_txt_Explosives</th>\n",
       "      <th>weaptype1_txt_Firearms</th>\n",
       "      <th>weaptype1_txt_Unknown</th>\n",
       "      <th>weaptype1_txt_Melee</th>\n",
       "      <th>weaptype1_txt_Incendiary</th>\n",
       "      <th>weaptype1_txt_Chemical</th>\n",
       "      <th>weaptype1_txt_Other</th>\n",
       "      <th>weaptype1_txt_Vehicle (not to include vehicle-borne explosives, i.e., car or truck bombs)</th>\n",
       "    </tr>\n",
       "    <tr>\n",
       "      <th>eventid</th>\n",
       "      <th></th>\n",
       "      <th></th>\n",
       "      <th></th>\n",
       "      <th></th>\n",
       "      <th></th>\n",
       "      <th></th>\n",
       "      <th></th>\n",
       "      <th></th>\n",
       "      <th></th>\n",
       "      <th></th>\n",
       "      <th></th>\n",
       "      <th></th>\n",
       "      <th></th>\n",
       "      <th></th>\n",
       "      <th></th>\n",
       "      <th></th>\n",
       "      <th></th>\n",
       "      <th></th>\n",
       "      <th></th>\n",
       "      <th></th>\n",
       "      <th></th>\n",
       "    </tr>\n",
       "  </thead>\n",
       "  <tbody>\n",
       "    <tr>\n",
       "      <th>200712030005</th>\n",
       "      <td>30.803630</td>\n",
       "      <td>66.711752</td>\n",
       "      <td>0</td>\n",
       "      <td>1</td>\n",
       "      <td>0</td>\n",
       "      <td>6.0</td>\n",
       "      <td>0.0</td>\n",
       "      <td>0.0</td>\n",
       "      <td>5.0</td>\n",
       "      <td>0.0</td>\n",
       "      <td>...</td>\n",
       "      <td>0</td>\n",
       "      <td>0</td>\n",
       "      <td>1</td>\n",
       "      <td>0</td>\n",
       "      <td>0</td>\n",
       "      <td>0</td>\n",
       "      <td>0</td>\n",
       "      <td>0</td>\n",
       "      <td>0</td>\n",
       "      <td>0</td>\n",
       "    </tr>\n",
       "    <tr>\n",
       "      <th>200712040005</th>\n",
       "      <td>34.006004</td>\n",
       "      <td>71.537430</td>\n",
       "      <td>0</td>\n",
       "      <td>1</td>\n",
       "      <td>1</td>\n",
       "      <td>1.0</td>\n",
       "      <td>0.0</td>\n",
       "      <td>1.0</td>\n",
       "      <td>0.0</td>\n",
       "      <td>0.0</td>\n",
       "      <td>...</td>\n",
       "      <td>0</td>\n",
       "      <td>0</td>\n",
       "      <td>1</td>\n",
       "      <td>0</td>\n",
       "      <td>0</td>\n",
       "      <td>0</td>\n",
       "      <td>0</td>\n",
       "      <td>0</td>\n",
       "      <td>0</td>\n",
       "      <td>0</td>\n",
       "    </tr>\n",
       "    <tr>\n",
       "      <th>200712060008</th>\n",
       "      <td>29.034412</td>\n",
       "      <td>69.158661</td>\n",
       "      <td>0</td>\n",
       "      <td>1</td>\n",
       "      <td>0</td>\n",
       "      <td>1.0</td>\n",
       "      <td>0.0</td>\n",
       "      <td>0.0</td>\n",
       "      <td>4.0</td>\n",
       "      <td>0.0</td>\n",
       "      <td>...</td>\n",
       "      <td>0</td>\n",
       "      <td>0</td>\n",
       "      <td>1</td>\n",
       "      <td>0</td>\n",
       "      <td>0</td>\n",
       "      <td>0</td>\n",
       "      <td>0</td>\n",
       "      <td>0</td>\n",
       "      <td>0</td>\n",
       "      <td>0</td>\n",
       "    </tr>\n",
       "    <tr>\n",
       "      <th>200712080003</th>\n",
       "      <td>27.809921</td>\n",
       "      <td>66.620956</td>\n",
       "      <td>0</td>\n",
       "      <td>0</td>\n",
       "      <td>0</td>\n",
       "      <td>0.0</td>\n",
       "      <td>0.0</td>\n",
       "      <td>0.0</td>\n",
       "      <td>0.0</td>\n",
       "      <td>0.0</td>\n",
       "      <td>...</td>\n",
       "      <td>0</td>\n",
       "      <td>0</td>\n",
       "      <td>0</td>\n",
       "      <td>1</td>\n",
       "      <td>0</td>\n",
       "      <td>0</td>\n",
       "      <td>0</td>\n",
       "      <td>0</td>\n",
       "      <td>0</td>\n",
       "      <td>0</td>\n",
       "    </tr>\n",
       "    <tr>\n",
       "      <th>200712090002</th>\n",
       "      <td>28.458421</td>\n",
       "      <td>68.133223</td>\n",
       "      <td>0</td>\n",
       "      <td>1</td>\n",
       "      <td>0</td>\n",
       "      <td>4.0</td>\n",
       "      <td>0.0</td>\n",
       "      <td>0.0</td>\n",
       "      <td>1.0</td>\n",
       "      <td>0.0</td>\n",
       "      <td>...</td>\n",
       "      <td>0</td>\n",
       "      <td>0</td>\n",
       "      <td>0</td>\n",
       "      <td>1</td>\n",
       "      <td>0</td>\n",
       "      <td>0</td>\n",
       "      <td>0</td>\n",
       "      <td>0</td>\n",
       "      <td>0</td>\n",
       "      <td>0</td>\n",
       "    </tr>\n",
       "  </tbody>\n",
       "</table></div>"
      ],
      "text/plain": [
       "               latitude  longitude  multiple  success  suicide  nkill  \\\n",
       "eventid                                                                 \n",
       "200712030005  30.803630  66.711752         0        1        0    6.0   \n",
       "200712040005  34.006004  71.537430         0        1        1    1.0   \n",
       "200712060008  29.034412  69.158661         0        1        0    1.0   \n",
       "200712080003  27.809921  66.620956         0        0        0    0.0   \n",
       "200712090002  28.458421  68.133223         0        1        0    4.0   \n",
       "\n",
       "              nkillus  nkillter  nwound  nwoundus  ...  targtype1_txt_Other  \\\n",
       "eventid                                            ...                        \n",
       "200712030005      0.0       0.0     5.0       0.0  ...                    0   \n",
       "200712040005      0.0       1.0     0.0       0.0  ...                    0   \n",
       "200712060008      0.0       0.0     4.0       0.0  ...                    0   \n",
       "200712080003      0.0       0.0     0.0       0.0  ...                    0   \n",
       "200712090002      0.0       0.0     1.0       0.0  ...                    0   \n",
       "\n",
       "              targtype1_txt_Maritime  weaptype1_txt_Explosives  \\\n",
       "eventid                                                          \n",
       "200712030005                       0                         1   \n",
       "200712040005                       0                         1   \n",
       "200712060008                       0                         1   \n",
       "200712080003                       0                         0   \n",
       "200712090002                       0                         0   \n",
       "\n",
       "              weaptype1_txt_Firearms  weaptype1_txt_Unknown  \\\n",
       "eventid                                                       \n",
       "200712030005                       0                      0   \n",
       "200712040005                       0                      0   \n",
       "200712060008                       0                      0   \n",
       "200712080003                       1                      0   \n",
       "200712090002                       1                      0   \n",
       "\n",
       "              weaptype1_txt_Melee  weaptype1_txt_Incendiary  \\\n",
       "eventid                                                       \n",
       "200712030005                    0                         0   \n",
       "200712040005                    0                         0   \n",
       "200712060008                    0                         0   \n",
       "200712080003                    0                         0   \n",
       "200712090002                    0                         0   \n",
       "\n",
       "              weaptype1_txt_Chemical  weaptype1_txt_Other  \\\n",
       "eventid                                                     \n",
       "200712030005                       0                    0   \n",
       "200712040005                       0                    0   \n",
       "200712060008                       0                    0   \n",
       "200712080003                       0                    0   \n",
       "200712090002                       0                    0   \n",
       "\n",
       "              weaptype1_txt_Vehicle (not to include vehicle-borne explosives, i.e., car or truck bombs)  \n",
       "eventid                                                                                                  \n",
       "200712030005                                                  0                                          \n",
       "200712040005                                                  0                                          \n",
       "200712060008                                                  0                                          \n",
       "200712080003                                                  0                                          \n",
       "200712090002                                                  0                                          \n",
       "\n",
       "[5 rows x 119 columns]"
      ]
     },
     "execution_count": 7,
     "metadata": {},
     "output_type": "execute_result"
    }
   ],
   "source": [
    "data.head()"
   ]
  },
  {
   "cell_type": "markdown",
   "metadata": {},
   "source": [
    "Creating train and test data"
   ]
  },
  {
   "cell_type": "code",
   "execution_count": 8,
   "metadata": {},
   "outputs": [
    {
     "name": "stderr",
     "output_type": "stream",
     "text": [
      "Note: NumExpr detected 12 cores but \"NUMEXPR_MAX_THREADS\" not set, so enforcing safe limit of 8.\n",
      "NumExpr defaulting to 8 threads.\n"
     ]
    }
   ],
   "source": [
    "train_data = data[(data['TTP']==0) | (data['TTP'] ==1)].copy()\n",
    "test_data = data[pd.isna(data['TTP'])].copy()\n",
    "del test_data['TTP']"
   ]
  },
  {
   "cell_type": "code",
   "execution_count": 9,
   "metadata": {},
   "outputs": [],
   "source": [
    "train_data.fillna(0, inplace=True)\n",
    "test_data.fillna(0, inplace=True)"
   ]
  },
  {
   "cell_type": "code",
   "execution_count": 10,
   "metadata": {},
   "outputs": [],
   "source": [
    "ycol = 'TTP'\n",
    "X_data = train_data[[col for col in train_data.columns if col != 'TTP']]\n",
    "y_data = train_data[ycol]"
   ]
  },
  {
   "cell_type": "code",
   "execution_count": 11,
   "metadata": {},
   "outputs": [],
   "source": [
    "## Training/test creation\n",
    "X_train, X_test, y_train, y_test = train_test_split(X_data, y_data, test_size = 0.25, random_state=35)"
   ]
  },
  {
   "cell_type": "markdown",
   "metadata": {},
   "source": [
    "### Model"
   ]
  },
  {
   "cell_type": "code",
   "execution_count": 12,
   "metadata": {},
   "outputs": [
    {
     "name": "stdout",
     "output_type": "stream",
     "text": [
      "[19:38:29] WARNING: C:/Users/Administrator/workspace/xgboost-win64_release_1.4.0/src/learner.cc:1095: Starting in XGBoost 1.3.0, the default evaluation metric used with the objective 'binary:logistic' was changed from 'error' to 'logloss'. Explicitly set eval_metric if you'd like to restore the old behavior.\n"
     ]
    },
    {
     "data": {
      "text/plain": [
       "XGBRegressor(base_score=0.5, booster='gbtree', colsample_bylevel=1,\n",
       "             colsample_bynode=1, colsample_bytree=1, eta=0.5, gamma=0,\n",
       "             gpu_id=-1, importance_type='gain', interaction_constraints='',\n",
       "             learning_rate=0.5, max_delta_step=0, max_depth=10,\n",
       "             min_child_weight=1, missing=nan, monotone_constraints='()',\n",
       "             n_estimators=100, n_jobs=12, num_parallel_tree=1,\n",
       "             objective='binary:logistic', random_state=0, reg_alpha=0,\n",
       "             reg_lambda=1, scale_pos_weight=1, subsample=1, tree_method='exact',\n",
       "             validate_parameters=1, verbosity=None)"
      ]
     },
     "execution_count": 12,
     "metadata": {},
     "output_type": "execute_result"
    }
   ],
   "source": [
    "model = xgb.XGBRegressor(objective='binary:logistic', max_depth=10, eta=.5)\n",
    "model.fit(X_train, y_train)"
   ]
  },
  {
   "cell_type": "markdown",
   "metadata": {},
   "source": [
    "### Generate predictions and evaluate"
   ]
  },
  {
   "cell_type": "code",
   "execution_count": 13,
   "metadata": {},
   "outputs": [],
   "source": [
    "y_preds = model.predict(X_test)"
   ]
  },
  {
   "cell_type": "code",
   "execution_count": 14,
   "metadata": {},
   "outputs": [
    {
     "name": "stdout",
     "output_type": "stream",
     "text": [
      "Accuracy: 0.8266494178525227\n"
     ]
    }
   ],
   "source": [
    "preds_bin = [int(i>0.5) for i in y_preds]\n",
    "print(f\"Accuracy: {accuracy_score(y_test, preds_bin)}\")"
   ]
  },
  {
   "cell_type": "code",
   "execution_count": 15,
   "metadata": {},
   "outputs": [
    {
     "name": "stdout",
     "output_type": "stream",
     "text": [
      "Predict 0 accuracy: 0.553686934023286\n"
     ]
    }
   ],
   "source": [
    "print(f\"Predict 0 accuracy: {accuracy_score(y_test, [0 for _ in range(len(y_preds))])}\")"
   ]
  },
  {
   "cell_type": "markdown",
   "metadata": {},
   "source": [
    "### Explain model"
   ]
  },
  {
   "cell_type": "code",
   "execution_count": 16,
   "metadata": {},
   "outputs": [
    {
     "data": {
      "image/png": "[encoded data removed]",
      "text/plain": [
       "<Figure size 432x288 with 1 Axes>"
      ]
     },
     "metadata": {
      "needs_background": "light"
     },
     "output_type": "display_data"
    }
   ],
   "source": [
    "from xgboost import plot_importance\n",
    "from matplotlib import pyplot\n",
    "\n",
    "# plot feature importance\n",
    "plot_importance(model, max_num_features=20)\n",
    "pyplot.show()"
   ]
  },
  {
   "cell_type": "code",
   "execution_count": 17,
   "metadata": {},
   "outputs": [],
   "source": [
    "shap = ShapKernel(predict_fn=model.predict, data=X_train[:100])"
   ]
  },
  {
   "cell_type": "code",
   "execution_count": 18,
   "metadata": {},
   "outputs": [
    {
     "name": "stderr",
     "output_type": "stream",
     "text": [
      "  0%|          | 0/10 [00:00<?, ?it/s]num_full_subsets = 1\n",
      "remaining_weight_vector = [0.12248517 0.08251632 0.06254562 0.05057452 0.04260354 0.03691861\n",
      " 0.03266271 0.02935974 0.02672404 0.02457383 0.02278794 0.02128249\n",
      " 0.01999758 0.01888928 0.01792466 0.01707854 0.01633136 0.01566766\n",
      " 0.0150751  0.01454369 0.01406528 0.01363313 0.01324164 0.01288611\n",
      " 0.01256258 0.01226768 0.01199855 0.0117527  0.01152802 0.01132265\n",
      " 0.01113502 0.01096371 0.01080751 0.01066537 0.01053636 0.01041965\n",
      " 0.01031454 0.0102204  0.0101367  0.01006297 0.00999879 0.00994383\n",
      " 0.00989779 0.00986044 0.00983159 0.00981108 0.00979881 0.00979473]\n",
      "num_paired_subset_sizes = 48\n",
      "weight_left = 0.8040924782682237\n",
      "np.sum(w_aug) = 98.0\n",
      "np.sum(self.kernelWeights) = 1.0\n",
      "phi = [ 0.10982088 -0.08919982 -0.01395054 -0.01059723  0.          0.05847551\n",
      "  0.14731875  0.00924793  0.00495503  0.         -0.00798075 -0.01144286\n",
      "  0.          0.          0.         -0.02559465  0.          0.02636205\n",
      " -0.06021261  0.          0.          0.00594008  0.01108878  0.00904532\n",
      "  0.         -0.01653189  0.          0.          0.         -0.0052065\n",
      "  0.01124252  0.02295896  0.          0.          0.          0.02249783\n",
      "  0.          0.          0.          0.          0.          0.\n",
      " -0.00842896  0.          0.          0.          0.          0.\n",
      "  0.          0.          0.          0.          0.          0.\n",
      "  0.          0.          0.00543651  0.          0.          0.\n",
      "  0.          0.         -0.01285313  0.         -0.0128651  -0.07556057\n",
      " -0.00609013  0.00927493 -0.01801187  0.0901209  -0.00763389  0.0035065\n",
      "  0.          0.          0.          0.01429085  0.0082875  -0.01080783\n",
      " -0.00797702  0.          0.          0.         -0.0182017   0.03132\n",
      "  0.01235228  0.          0.0080023   0.00637763  0.          0.00632312\n",
      " -0.00467508  0.          0.         -0.04767007 -0.08067776  0.0075958\n",
      "  0.          0.        ]\n",
      " 10%|█         | 1/10 [00:01<00:12,  1.37s/it]num_full_subsets = 1\n",
      "remaining_weight_vector = [0.12248517 0.08251632 0.06254562 0.05057452 0.04260354 0.03691861\n",
      " 0.03266271 0.02935974 0.02672404 0.02457383 0.02278794 0.02128249\n",
      " 0.01999758 0.01888928 0.01792466 0.01707854 0.01633136 0.01566766\n",
      " 0.0150751  0.01454369 0.01406528 0.01363313 0.01324164 0.01288611\n",
      " 0.01256258 0.01226768 0.01199855 0.0117527  0.01152802 0.01132265\n",
      " 0.01113502 0.01096371 0.01080751 0.01066537 0.01053636 0.01041965\n",
      " 0.01031454 0.0102204  0.0101367  0.01006297 0.00999879 0.00994383\n",
      " 0.00989779 0.00986044 0.00983159 0.00981108 0.00979881 0.00979473]\n",
      "num_paired_subset_sizes = 48\n",
      "weight_left = 0.8040924782682237\n",
      "np.sum(w_aug) = 98.0\n",
      "np.sum(self.kernelWeights) = 0.9999999999999998\n",
      "phi = [ 0.15730799  0.03691241  0.02021335  0.          0.         -0.0371069\n",
      "  0.          0.0101127   0.          0.          0.          0.\n",
      "  0.          0.          0.03414866  0.          0.00313866  0.\n",
      "  0.          0.          0.          0.          0.          0.\n",
      "  0.          0.          0.          0.          0.          0.0024006\n",
      "  0.          0.01066106  0.          0.          0.          0.\n",
      "  0.          0.          0.00064429  0.          0.          0.\n",
      "  0.          0.          0.          0.          0.          0.\n",
      "  0.          0.          0.          0.          0.          0.\n",
      "  0.00489618  0.          0.          0.00535085  0.          0.\n",
      "  0.          0.          0.00237955  0.          0.          0.\n",
      "  0.          0.          0.00654866  0.15940135  0.00759873  0.\n",
      "  0.01512796  0.          0.          0.          0.          0.00315664\n",
      "  0.          0.          0.00481878  0.03985167  0.          0.\n",
      "  0.00589898  0.          0.          0.          0.          0.\n",
      "  0.          0.          0.          0.01060999  0.          0.\n",
      "  0.          0.        ]\n",
      " 20%|██        | 2/10 [00:02<00:10,  1.36s/it]num_full_subsets = 1\n",
      "remaining_weight_vector = [0.12248517 0.08251632 0.06254562 0.05057452 0.04260354 0.03691861\n",
      " 0.03266271 0.02935974 0.02672404 0.02457383 0.02278794 0.02128249\n",
      " 0.01999758 0.01888928 0.01792466 0.01707854 0.01633136 0.01566766\n",
      " 0.0150751  0.01454369 0.01406528 0.01363313 0.01324164 0.01288611\n",
      " 0.01256258 0.01226768 0.01199855 0.0117527  0.01152802 0.01132265\n",
      " 0.01113502 0.01096371 0.01080751 0.01066537 0.01053636 0.01041965\n",
      " 0.01031454 0.0102204  0.0101367  0.01006297 0.00999879 0.00994383\n",
      " 0.00989779 0.00986044 0.00983159 0.00981108 0.00979881 0.00979473]\n",
      "num_paired_subset_sizes = 48\n",
      "weight_left = 0.8040924782682237\n",
      "np.sum(w_aug) = 98.0\n",
      "np.sum(self.kernelWeights) = 0.9999999999999997\n",
      "phi = [-0.19272564 -0.08055924 -0.00494574  0.         -0.00387878 -0.01328321\n",
      "  0.         -0.01624833  0.          0.          0.          0.\n",
      "  0.          0.          0.          0.          0.          0.\n",
      " -0.00235669 -0.0810828  -0.00293932  0.0323332   0.          0.\n",
      "  0.         -0.00468181 -0.00250321  0.         -0.00209544  0.\n",
      "  0.          0.          0.         -0.00348662  0.         -0.00376224\n",
      "  0.          0.          0.          0.          0.          0.\n",
      "  0.          0.          0.          0.          0.          0.\n",
      "  0.         -0.00195208  0.          0.          0.          0.\n",
      "  0.         -0.0133021   0.          0.         -0.00206436  0.\n",
      "  0.          0.         -0.00714236  0.         -0.01146922  0.\n",
      " -0.00939875 -0.00182607 -0.00337127  0.02945689 -0.00247222  0.\n",
      "  0.          0.          0.         -0.02865627 -0.00784891  0.\n",
      "  0.          0.          0.          0.         -0.00574384 -0.00763999\n",
      " -0.02880522 -0.00185655  0.          0.          0.          0.\n",
      "  0.          0.         -0.00432948  0.          0.         -0.00191361\n",
      "  0.          0.        ]\n",
      " 30%|███       | 3/10 [00:04<00:09,  1.35s/it]num_full_subsets = 1\n",
      "remaining_weight_vector = [0.12248517 0.08251632 0.06254562 0.05057452 0.04260354 0.03691861\n",
      " 0.03266271 0.02935974 0.02672404 0.02457383 0.02278794 0.02128249\n",
      " 0.01999758 0.01888928 0.01792466 0.01707854 0.01633136 0.01566766\n",
      " 0.0150751  0.01454369 0.01406528 0.01363313 0.01324164 0.01288611\n",
      " 0.01256258 0.01226768 0.01199855 0.0117527  0.01152802 0.01132265\n",
      " 0.01113502 0.01096371 0.01080751 0.01066537 0.01053636 0.01041965\n",
      " 0.01031454 0.0102204  0.0101367  0.01006297 0.00999879 0.00994383\n",
      " 0.00989779 0.00986044 0.00983159 0.00981108 0.00979881 0.00979473]\n",
      "num_paired_subset_sizes = 48\n",
      "weight_left = 0.8040924782682237\n",
      "np.sum(w_aug) = 98.0\n",
      "np.sum(self.kernelWeights) = 0.9999999999999997\n",
      "phi = [ 0.15373569  0.1780756   0.          0.00388269  0.020551    0.05830546\n",
      "  0.         -0.0249931   0.          0.          0.          0.\n",
      "  0.          0.          0.0096008   0.          0.          0.00489841\n",
      "  0.          0.00949318  0.          0.          0.          0.\n",
      "  0.          0.          0.          0.          0.          0.\n",
      " -0.04909363  0.          0.          0.          0.          0.\n",
      "  0.          0.          0.          0.          0.          0.\n",
      "  0.          0.          0.          0.          0.          0.\n",
      "  0.          0.02004898  0.          0.          0.          0.\n",
      "  0.          0.          0.          0.          0.          0.\n",
      "  0.          0.          0.          0.          0.          0.00916102\n",
      "  0.          0.          0.          0.07634884  0.01159815  0.\n",
      "  0.          0.          0.          0.01559418  0.          0.\n",
      "  0.00903616  0.          0.          0.          0.          0.\n",
      "  0.00314378  0.          0.         -0.03139003  0.          0.\n",
      "  0.00327917  0.00426501  0.00202097  0.          0.00820699  0.\n",
      "  0.          0.        ]\n",
      " 40%|████      | 4/10 [00:05<00:08,  1.34s/it]num_full_subsets = 1\n",
      "remaining_weight_vector = [0.12275689 0.0826904  0.06267062 0.05066986 0.04267892 0.03697956\n",
      " 0.03271269 0.02940103 0.02675824 0.0246021  0.02281115 0.02130128\n",
      " 0.02001247 0.01890066 0.01793286 0.01708381 0.01633391 0.01566766\n",
      " 0.01507268 0.01453897 0.01405835 0.01362405 0.01323046 0.01287288\n",
      " 0.01254733 0.01225043 0.01197929 0.01173145 0.01150475 0.01129736\n",
      " 0.01110767 0.01093427 0.01077594 0.01063162 0.01050037 0.01038136\n",
      " 0.01027387 0.01017728 0.01009103 0.01001465 0.00994772 0.00988988\n",
      " 0.00984084 0.00980034 0.00976819 0.0097442  0.00972828 0.00972034]\n",
      "num_paired_subset_sizes = 49\n",
      "weight_left = 0.8044997049879463\n",
      "np.sum(w_aug) = 99.00000000000001\n",
      "np.sum(self.kernelWeights) = 0.9999999999999999\n",
      "phi = [ 0.11319372  0.06067983  0.          0.          0.          0.14986041\n",
      "  0.         -0.10870901  0.          0.          0.02877503  0.\n",
      "  0.          0.          0.          0.          0.00298091  0.\n",
      "  0.          0.00694629  0.          0.          0.         -0.01912651\n",
      "  0.          0.          0.          0.          0.          0.\n",
      "  0.          0.          0.          0.          0.          0.\n",
      "  0.00419433  0.          0.          0.          0.          0.\n",
      "  0.          0.          0.          0.          0.          0.\n",
      "  0.          0.          0.          0.          0.          0.\n",
      "  0.          0.          0.0110553   0.          0.          0.\n",
      "  0.          0.          0.          0.03859794  0.          0.\n",
      "  0.00716526  0.          0.          0.          0.09991683  0.\n",
      "  0.          0.          0.          0.          0.01118742  0.010321\n",
      "  0.          0.          0.          0.          0.          0.\n",
      "  0.01908354  0.0085776   0.          0.00456188  0.          0.\n",
      "  0.          0.          0.          0.00099605  0.02436445  0.01626242\n",
      "  0.          0.          0.        ]\n",
      " 50%|█████     | 5/10 [00:06<00:06,  1.34s/it]num_full_subsets = 1\n",
      "remaining_weight_vector = [0.12248517 0.08251632 0.06254562 0.05057452 0.04260354 0.03691861\n",
      " 0.03266271 0.02935974 0.02672404 0.02457383 0.02278794 0.02128249\n",
      " 0.01999758 0.01888928 0.01792466 0.01707854 0.01633136 0.01566766\n",
      " 0.0150751  0.01454369 0.01406528 0.01363313 0.01324164 0.01288611\n",
      " 0.01256258 0.01226768 0.01199855 0.0117527  0.01152802 0.01132265\n",
      " 0.01113502 0.01096371 0.01080751 0.01066537 0.01053636 0.01041965\n",
      " 0.01031454 0.0102204  0.0101367  0.01006297 0.00999879 0.00994383\n",
      " 0.00989779 0.00986044 0.00983159 0.00981108 0.00979881 0.00979473]\n",
      "num_paired_subset_sizes = 48\n",
      "weight_left = 0.8040924782682237\n",
      "np.sum(w_aug) = 98.0\n",
      "np.sum(self.kernelWeights) = 1.0\n",
      "phi = [ 0.25288692  0.19124858  0.03990308  0.          0.         -0.02227241\n",
      "  0.          0.          0.          0.          0.          0.\n",
      "  0.          0.          0.          0.          0.          0.\n",
      "  0.          0.          0.          0.          0.          0.\n",
      "  0.          0.          0.          0.          0.          0.\n",
      " -0.02726797  0.          0.          0.          0.          0.\n",
      "  0.          0.          0.          0.          0.          0.\n",
      "  0.          0.          0.          0.          0.          0.\n",
      "  0.          0.          0.          0.          0.         -0.02512892\n",
      "  0.          0.          0.          0.          0.          0.\n",
      "  0.          0.          0.          0.          0.          0.\n",
      "  0.          0.          0.          0.07139112  0.          0.\n",
      "  0.          0.          0.          0.01596097  0.          0.\n",
      "  0.          0.          0.          0.          0.          0.\n",
      "  0.          0.          0.00717323  0.          0.          0.\n",
      "  0.          0.          0.          0.          0.          0.\n",
      "  0.          0.        ]\n",
      " 60%|██████    | 6/10 [00:08<00:05,  1.35s/it]num_full_subsets = 1\n",
      "remaining_weight_vector = [0.12248517 0.08251632 0.06254562 0.05057452 0.04260354 0.03691861\n",
      " 0.03266271 0.02935974 0.02672404 0.02457383 0.02278794 0.02128249\n",
      " 0.01999758 0.01888928 0.01792466 0.01707854 0.01633136 0.01566766\n",
      " 0.0150751  0.01454369 0.01406528 0.01363313 0.01324164 0.01288611\n",
      " 0.01256258 0.01226768 0.01199855 0.0117527  0.01152802 0.01132265\n",
      " 0.01113502 0.01096371 0.01080751 0.01066537 0.01053636 0.01041965\n",
      " 0.01031454 0.0102204  0.0101367  0.01006297 0.00999879 0.00994383\n",
      " 0.00989779 0.00986044 0.00983159 0.00981108 0.00979881 0.00979473]\n",
      "num_paired_subset_sizes = 48\n",
      "weight_left = 0.8040924782682237\n",
      "np.sum(w_aug) = 98.0\n",
      "np.sum(self.kernelWeights) = 1.0000000000000002\n",
      "phi = [-0.1586617  -0.03844705  0.          0.          0.         -0.00995939\n",
      "  0.         -0.0182473  -0.00885295  0.          0.         -0.00871201\n",
      "  0.          0.          0.          0.         -0.01758191  0.\n",
      "  0.          0.          0.          0.          0.          0.\n",
      "  0.          0.          0.         -0.00571008 -0.00488376  0.\n",
      "  0.          0.          0.          0.          0.         -0.00512606\n",
      "  0.          0.          0.          0.          0.          0.\n",
      "  0.          0.          0.          0.         -0.00346031  0.\n",
      "  0.          0.          0.          0.          0.          0.\n",
      "  0.          0.          0.          0.          0.          0.\n",
      "  0.          0.          0.          0.         -0.00600949 -0.00372207\n",
      "  0.          0.          0.         -0.2293744  -0.01171737  0.\n",
      "  0.          0.          0.          0.          0.          0.\n",
      " -0.0061237   0.          0.          0.          0.02314761  0.\n",
      "  0.          0.          0.          0.          0.          0.\n",
      "  0.          0.          0.          0.01961457  0.          0.\n",
      "  0.          0.        ]\n",
      " 70%|███████   | 7/10 [00:09<00:04,  1.34s/it]num_full_subsets = 1\n",
      "remaining_weight_vector = [0.12248517 0.08251632 0.06254562 0.05057452 0.04260354 0.03691861\n",
      " 0.03266271 0.02935974 0.02672404 0.02457383 0.02278794 0.02128249\n",
      " 0.01999758 0.01888928 0.01792466 0.01707854 0.01633136 0.01566766\n",
      " 0.0150751  0.01454369 0.01406528 0.01363313 0.01324164 0.01288611\n",
      " 0.01256258 0.01226768 0.01199855 0.0117527  0.01152802 0.01132265\n",
      " 0.01113502 0.01096371 0.01080751 0.01066537 0.01053636 0.01041965\n",
      " 0.01031454 0.0102204  0.0101367  0.01006297 0.00999879 0.00994383\n",
      " 0.00989779 0.00986044 0.00983159 0.00981108 0.00979881 0.00979473]\n",
      "num_paired_subset_sizes = 48\n",
      "weight_left = 0.8040924782682237\n",
      "np.sum(w_aug) = 98.0\n",
      "np.sum(self.kernelWeights) = 0.9999999999999998\n",
      "phi = [0.14808743 0.14431526 0.         0.00234593 0.         0.\n",
      " 0.         0.         0.         0.         0.06483049 0.\n",
      " 0.         0.         0.         0.00326038 0.         0.00220208\n",
      " 0.         0.         0.         0.         0.         0.\n",
      " 0.         0.         0.         0.         0.         0.\n",
      " 0.00444478 0.00604984 0.         0.00142951 0.         0.00256056\n",
      " 0.00055203 0.00363002 0.         0.         0.         0.\n",
      " 0.         0.         0.         0.         0.         0.\n",
      " 0.         0.         0.         0.         0.         0.\n",
      " 0.         0.         0.         0.         0.         0.\n",
      " 0.00134676 0.         0.         0.00453789 0.         0.\n",
      " 0.         0.         0.00289547 0.05587673 0.         0.\n",
      " 0.         0.         0.         0.01241183 0.         0.00154987\n",
      " 0.         0.         0.00042451 0.         0.         0.\n",
      " 0.0096992  0.         0.         0.00044692 0.         0.\n",
      " 0.02480423 0.         0.         0.         0.         0.\n",
      " 0.         0.        ]\n",
      " 80%|████████  | 8/10 [00:11<00:02,  1.44s/it]num_full_subsets = 1\n",
      "remaining_weight_vector = [0.12248517 0.08251632 0.06254562 0.05057452 0.04260354 0.03691861\n",
      " 0.03266271 0.02935974 0.02672404 0.02457383 0.02278794 0.02128249\n",
      " 0.01999758 0.01888928 0.01792466 0.01707854 0.01633136 0.01566766\n",
      " 0.0150751  0.01454369 0.01406528 0.01363313 0.01324164 0.01288611\n",
      " 0.01256258 0.01226768 0.01199855 0.0117527  0.01152802 0.01132265\n",
      " 0.01113502 0.01096371 0.01080751 0.01066537 0.01053636 0.01041965\n",
      " 0.01031454 0.0102204  0.0101367  0.01006297 0.00999879 0.00994383\n",
      " 0.00989779 0.00986044 0.00983159 0.00981108 0.00979881 0.00979473]\n",
      "num_paired_subset_sizes = 48\n",
      "weight_left = 0.8040924782682237\n",
      "np.sum(w_aug) = 98.0\n",
      "np.sum(self.kernelWeights) = 1.0\n",
      "phi = [ 0.          0.0830674   0.04956082  0.          0.         -0.03498073\n",
      "  0.         -0.01181654  0.          0.          0.          0.\n",
      " -0.26270152  0.          0.          0.          0.          0.\n",
      "  0.          0.          0.          0.          0.          0.\n",
      "  0.          0.          0.         -0.01111576  0.          0.\n",
      "  0.         -0.36339647  0.          0.          0.          0.\n",
      "  0.          0.          0.          0.          0.          0.\n",
      "  0.          0.          0.          0.          0.          0.\n",
      "  0.          0.          0.          0.01954274  0.          0.\n",
      "  0.          0.          0.         -0.01329978  0.          0.\n",
      "  0.          0.          0.          0.          0.          0.\n",
      "  0.          0.          0.          0.07457014  0.          0.\n",
      "  0.          0.         -0.00881094 -0.02020557  0.          0.\n",
      "  0.          0.          0.          0.03347105  0.          0.\n",
      "  0.          0.          0.          0.          0.          0.\n",
      "  0.          0.          0.          0.          0.          0.\n",
      "  0.          0.        ]\n",
      " 90%|█████████ | 9/10 [00:12<00:01,  1.48s/it]num_full_subsets = 1\n",
      "remaining_weight_vector = [0.12248517 0.08251632 0.06254562 0.05057452 0.04260354 0.03691861\n",
      " 0.03266271 0.02935974 0.02672404 0.02457383 0.02278794 0.02128249\n",
      " 0.01999758 0.01888928 0.01792466 0.01707854 0.01633136 0.01566766\n",
      " 0.0150751  0.01454369 0.01406528 0.01363313 0.01324164 0.01288611\n",
      " 0.01256258 0.01226768 0.01199855 0.0117527  0.01152802 0.01132265\n",
      " 0.01113502 0.01096371 0.01080751 0.01066537 0.01053636 0.01041965\n",
      " 0.01031454 0.0102204  0.0101367  0.01006297 0.00999879 0.00994383\n",
      " 0.00989779 0.00986044 0.00983159 0.00981108 0.00979881 0.00979473]\n",
      "num_paired_subset_sizes = 48\n",
      "weight_left = 0.8040924782682237\n",
      "np.sum(w_aug) = 98.00000000000001\n",
      "np.sum(self.kernelWeights) = 0.9999999999999998\n",
      "phi = [-0.12188557 -0.04560597  0.          0.         -0.00394189 -0.0416411\n",
      "  0.          0.          0.          0.         -0.00285648 -0.00847902\n",
      "  0.          0.         -0.00254995 -0.02109015  0.          0.\n",
      "  0.          0.          0.          0.          0.          0.\n",
      "  0.          0.          0.          0.          0.          0.\n",
      "  0.         -0.08104598  0.          0.          0.          0.\n",
      "  0.          0.          0.          0.          0.          0.\n",
      "  0.          0.          0.          0.         -0.00389372  0.\n",
      "  0.          0.          0.         -0.00317095  0.          0.\n",
      "  0.          0.          0.          0.          0.         -0.00278112\n",
      "  0.          0.         -0.00371627 -0.00186498  0.          0.\n",
      "  0.          0.          0.         -0.14787436 -0.00227567  0.\n",
      "  0.         -0.00130537  0.         -0.0123189  -0.00433389 -0.00844164\n",
      "  0.          0.          0.          0.          0.03037826  0.\n",
      "  0.          0.          0.          0.          0.          0.\n",
      "  0.          0.          0.          0.          0.          0.\n",
      "  0.          0.        ]\n",
      "100%|██████████| 10/10 [00:14<00:00,  1.41s/it]\n",
      "Detected non-cloud environment.\n",
      "\n",
      "The dash_html_components package is deprecated. Please replace\n",
      "`import dash_html_components as html` with `from dash import html`\n",
      "\n",
      "The dash_core_components package is deprecated. Please replace\n",
      "`import dash_core_components as dcc` with `from dash import dcc`\n",
      "\n",
      "The dash_table package is deprecated. Please replace\n",
      "`import dash_table` with `from dash import dash_table`\n",
      "\n",
      "Also, if you're using any of the table format helpers (e.g. Group), replace \n",
      "`from dash_table.Format import Group` with \n",
      "`from dash.dash_table.Format import Group`\n",
      "Generating mini dash\n",
      "Generated mini dash\n"
     ]
    },
    {
     "data": {
      "text/html": [
       "<!-- http://127.0.0.1:7001/2340310754016/ -->\n",
       "<iframe src=\"http://127.0.0.1:7001/2340310754016/\" width=100% height=800 frameBorder=\"0\"></iframe>"
      ]
     },
     "metadata": {},
     "output_type": "display_data"
    }
   ],
   "source": [
    "shap_local = shap.explain_local(X_test.head(10), y_test.head(10))\n",
    "\n",
    "show(shap_local)"
   ]
  },
  {
   "cell_type": "markdown",
   "metadata": {},
   "source": [
    "### Shapley Values Intro\n",
    "\n",
    "Shapley values can help us understand what and how features contributed to our final prediction. The goal is to understand how a model got to the prediction it did. In the above plot we see that the number of terrorists killed, along with a couple location features, pushed our TTP probabibility over 50%. While there were other features that would lead us to believe it was not a TTP attack, they were not enough to bring us below 50%. "
   ]
  },
  {
   "cell_type": "code",
   "execution_count": 19,
   "metadata": {},
   "outputs": [],
   "source": [
    "pdp = PartialDependence(predict_fn=model.predict, data=X_train, num_points=50)"
   ]
  },
  {
   "cell_type": "code",
   "execution_count": 20,
   "metadata": {},
   "outputs": [
    {
     "name": "stderr",
     "output_type": "stream",
     "text": [
      "No overall plot to display: -1|ShapKernel_0\n",
      "Generating mini dash\n",
      "Generated mini dash\n"
     ]
    },
    {
     "data": {
      "text/html": [
       "<!-- http://127.0.0.1:7001/2338841010912/ -->\n",
       "<iframe src=\"http://127.0.0.1:7001/2338841010912/\" width=100% height=800 frameBorder=\"0\"></iframe>"
      ]
     },
     "metadata": {},
     "output_type": "display_data"
    },
    {
     "name": "stderr",
     "output_type": "stream",
     "text": [
      "No overall plot to display: -1|ShapKernel_0\n",
      "No overall plot to display: -1|PartialDependence_0\n"
     ]
    }
   ],
   "source": [
    "pdp_global = pdp.explain_global()\n",
    "\n",
    "show(pdp_global)"
   ]
  },
  {
   "cell_type": "code",
   "execution_count": null,
   "metadata": {},
   "outputs": [],
   "source": []
  }
 ],
 "metadata": {
  "interpreter": {
   "hash": "456d2a7118d35350561e2a2cece57887a28d81f04d055278ed4a029d882f7171"
  },
  "kernelspec": {
   "display_name": "Python 3.8.8 64-bit ('base': conda)",
   "language": "python",
   "name": "python3"
  },
  "language_info": {
   "codemirror_mode": {
    "name": "ipython",
    "version": 3
   },
   "file_extension": ".py",
   "mimetype": "text/x-python",
   "name": "python",
   "nbconvert_exporter": "python",
   "pygments_lexer": "ipython3",
   "version": "3.8.8"
  },
  "orig_nbformat": 4
 },
 "nbformat": 4,
 "nbformat_minor": 2
}
