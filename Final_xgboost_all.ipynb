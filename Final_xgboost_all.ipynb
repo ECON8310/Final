{
 "cells": [
  {
   "cell_type": "code",
   "execution_count": 36,
   "metadata": {
    "state": "normal"
   },
   "outputs": [],
   "source": [
    "import pandas as pd\n",
    "from sklearn.ensemble import RandomForestClassifier as RF\n",
    "from sklearn.model_selection import train_test_split\n",
    "from sklearn.metrics import accuracy_score\n",
    "import numpy as np\n",
    "import patsy as pt\n",
    "\n",
    "from interpret import show\n",
    "from interpret.blackbox import ShapKernel, PartialDependence"
   ]
  },
  {
   "cell_type": "code",
   "execution_count": 4,
   "metadata": {},
   "outputs": [],
   "source": [
    "data = pd.read_csv('./DATA/pakistanClean2.csv')"
   ]
  },
  {
   "cell_type": "code",
   "execution_count": 5,
   "metadata": {},
   "outputs": [
    {
     "name": "stderr",
     "output_type": "stream",
     "text": [
      "Note: NumExpr detected 12 cores but \"NUMEXPR_MAX_THREADS\" not set, so enforcing safe limit of 8.\n",
      "NumExpr defaulting to 8 threads.\n"
     ]
    }
   ],
   "source": [
    "#valid_train_Values = ['0','1']\n",
    "#work_data = data[data.TTP.isin(valid_train_Values)] \n",
    "work_data = data[(data['TTP']==0) | (data['TTP'] ==1)]\n",
    "test_data = data[pd.isna(data['TTP'])]\n",
    "work_data = work_data.fillna(-99)"
   ]
  },
  {
   "cell_type": "code",
   "execution_count": 6,
   "metadata": {},
   "outputs": [],
   "source": [
    "# Create regression arrays\n",
    "Y, X = pt.dmatrices(\"TTP ~ C(iyear) + C(provstate) + multiple + success + suicide + attacktype1 + C(targtype1) + C(targsubtype1) + weaptype1 + weapsubtype1 + nkill + nkillus + nkillter + nwound + nwoundus + nwoundte + C(Month)\", data = work_data)"
   ]
  },
  {
   "cell_type": "code",
   "execution_count": 33,
   "metadata": {},
   "outputs": [],
   "source": [
    "names = X.design_info.column_names\n",
    "names = [i.replace('[', '').replace(']', '').replace(' ', '').replace(',', '') for i in names]"
   ]
  },
  {
   "cell_type": "code",
   "execution_count": 7,
   "metadata": {},
   "outputs": [],
   "source": [
    "# Randomly create train and test data\n",
    "x, xt, y, yt = train_test_split(X, Y, test_size = 0.25,random_state=35)"
   ]
  },
  {
   "cell_type": "code",
   "execution_count": 8,
   "metadata": {},
   "outputs": [
    {
     "name": "stderr",
     "output_type": "stream",
     "text": [
      "<ipython-input-8-56219351c414>:6: DataConversionWarning: A column-vector y was passed when a 1d array was expected. Please change the shape of y to (n_samples,), for example using ravel().\n",
      "  fclf = writingForest.fit(x, y)\n"
     ]
    },
    {
     "name": "stdout",
     "output_type": "stream",
     "text": [
      "The random forest has an accuracy of : 0.8175937904269082\n",
      "\n"
     ]
    }
   ],
   "source": [
    "from sklearn.ensemble import RandomForestClassifier\n",
    "\n",
    "# Generate the random forest model\n",
    "writingForest = RandomForestClassifier(n_estimators=110, n_jobs = -1, random_state=35)\n",
    "# Fit the model to the training data\n",
    "fclf = writingForest.fit(x, y)\n",
    "# Make predictions\n",
    "fpred = fclf.predict(xt)\n",
    "# Print the accuracy score of the fitted model\n",
    "print(\"The random forest has an accuracy of : %s\\n\" % str(accuracy_score(fpred, yt)))"
   ]
  },
  {
   "cell_type": "code",
   "execution_count": 34,
   "metadata": {},
   "outputs": [],
   "source": [
    "shap = ShapKernel(predict_fn=writingForest.predict_proba, data=pd.DataFrame(x, columns=names)[:100])"
   ]
  },
  {
   "cell_type": "code",
   "execution_count": 35,
   "metadata": {},
   "outputs": [
    {
     "name": "stderr",
     "output_type": "stream",
     "text": [
      "  0%|          | 0/5 [00:00<?, ?it/s]num_full_subsets = 1\n",
      "remaining_weight_vector = [0.12794589 0.08633747 0.06555252 0.05309754 0.04480805 0.0388993\n",
      " 0.03447893 0.0310512  0.02831869 0.02609216 0.02424545 0.02269126\n",
      " 0.02136722 0.02022764 0.01923824 0.01837285 0.01761113 0.01693702\n",
      " 0.01633771 0.01580284 0.01532397 0.01489412 0.01450753 0.01415935\n",
      " 0.01384551 0.01356259 0.01330766 0.01307821 0.01287213 0.01268759\n",
      " 0.01252301 0.01237705 0.01224857 0.01213658 0.01204026 0.01195891\n",
      " 0.01189195 0.01183892 0.01179945 0.01177329 0.01176025]\n",
      "num_paired_subset_sizes = 42\n",
      "weight_left = 0.7981830466727807\n",
      "np.sum(w_aug) = 85.0\n",
      "np.sum(self.kernelWeights) = 0.9999999999999999\n",
      "phi = [ 0.         -0.00579026  0.          0.          0.          0.\n",
      "  0.00473505  0.          0.00516009 -0.00941601  0.          0.11164327\n",
      " -0.02978955  0.         -0.03691195  0.          0.          0.\n",
      "  0.00987303 -0.00838209  0.          0.          0.          0.\n",
      "  0.          0.          0.          0.0069706   0.          0.\n",
      "  0.          0.          0.          0.         -0.01075454  0.\n",
      "  0.          0.          0.          0.          0.          0.\n",
      "  0.          0.          0.          0.          0.          0.\n",
      "  0.          0.00248695  0.          0.          0.          0.\n",
      "  0.          0.          0.          0.          0.          0.00333303\n",
      "  0.          0.00322844  0.          0.          0.          0.\n",
      "  0.          0.          0.          0.          0.         -0.00354808\n",
      "  0.00913353  0.00442955  0.         -0.00514321 -0.00682261 -0.00426274\n",
      " -0.00941538 -0.02637307 -0.02043288  0.05532415  0.0631432   0.0025724\n",
      "  0.        ]\n",
      " 20%|██        | 1/5 [00:02<00:10,  2.51s/it]num_full_subsets = 1\n",
      "remaining_weight_vector = [0.12794589 0.08633747 0.06555252 0.05309754 0.04480805 0.0388993\n",
      " 0.03447893 0.0310512  0.02831869 0.02609216 0.02424545 0.02269126\n",
      " 0.02136722 0.02022764 0.01923824 0.01837285 0.01761113 0.01693702\n",
      " 0.01633771 0.01580284 0.01532397 0.01489412 0.01450753 0.01415935\n",
      " 0.01384551 0.01356259 0.01330766 0.01307821 0.01287213 0.01268759\n",
      " 0.01252301 0.01237705 0.01224857 0.01213658 0.01204026 0.01195891\n",
      " 0.01189195 0.01183892 0.01179945 0.01177329 0.01176025]\n",
      "num_paired_subset_sizes = 42\n",
      "weight_left = 0.7981830466727807\n",
      "np.sum(w_aug) = 85.0\n",
      "np.sum(self.kernelWeights) = 1.0\n",
      "phi = [0.         0.         0.         0.         0.00370587 0.03650261\n",
      " 0.01422428 0.00676588 0.00447439 0.         0.         0.14329455\n",
      " 0.15241379 0.         0.         0.         0.00701223 0.\n",
      " 0.         0.         0.00302775 0.         0.         0.00631661\n",
      " 0.         0.00124054 0.         0.01028584 0.         0.\n",
      " 0.         0.         0.         0.         0.         0.\n",
      " 0.         0.         0.         0.         0.         0.\n",
      " 0.06490474 0.         0.         0.         0.         0.\n",
      " 0.         0.         0.         0.         0.         0.\n",
      " 0.         0.         0.         0.         0.         0.00266756\n",
      " 0.         0.00262668 0.         0.         0.         0.\n",
      " 0.         0.         0.         0.         0.00184546 0.\n",
      " 0.01377867 0.         0.         0.0244669  0.         0.\n",
      " 0.         0.         0.00525676 0.01080518 0.         0.00755643\n",
      " 0.        ]\n",
      " 40%|████      | 2/5 [00:05<00:08,  2.67s/it]num_full_subsets = 1\n",
      "remaining_weight_vector = [0.12794589 0.08633747 0.06555252 0.05309754 0.04480805 0.0388993\n",
      " 0.03447893 0.0310512  0.02831869 0.02609216 0.02424545 0.02269126\n",
      " 0.02136722 0.02022764 0.01923824 0.01837285 0.01761113 0.01693702\n",
      " 0.01633771 0.01580284 0.01532397 0.01489412 0.01450753 0.01415935\n",
      " 0.01384551 0.01356259 0.01330766 0.01307821 0.01287213 0.01268759\n",
      " 0.01252301 0.01237705 0.01224857 0.01213658 0.01204026 0.01195891\n",
      " 0.01189195 0.01183892 0.01179945 0.01177329 0.01176025]\n",
      "num_paired_subset_sizes = 42\n",
      "weight_left = 0.7981830466727807\n",
      "np.sum(w_aug) = 85.0\n",
      "np.sum(self.kernelWeights) = 1.0\n",
      "phi = [-0.00470588 -0.00320322 -0.01383423  0.          0.         -0.00570727\n",
      "  0.00696928  0.          0.005465    0.         -0.02726057  0.11323736\n",
      " -0.03438902  0.         -0.0376251   0.         -0.0489948   0.\n",
      " -0.00592018  0.          0.          0.          0.         -0.0126488\n",
      "  0.          0.          0.          0.00702402  0.          0.\n",
      "  0.          0.          0.          0.          0.          0.\n",
      "  0.          0.          0.          0.          0.          0.\n",
      "  0.          0.          0.          0.          0.          0.02768868\n",
      "  0.          0.          0.          0.          0.          0.\n",
      "  0.          0.          0.          0.          0.          0.\n",
      "  0.          0.          0.          0.          0.          0.\n",
      "  0.          0.06121655  0.          0.          0.          0.\n",
      "  0.00433489  0.          0.         -0.00552789  0.          0.\n",
      " -0.01838805  0.          0.01451954  0.01637695  0.          0.\n",
      "  0.        ]\n",
      " 60%|██████    | 3/5 [00:07<00:05,  2.50s/it]num_full_subsets = 1\n",
      "remaining_weight_vector = [0.12794589 0.08633747 0.06555252 0.05309754 0.04480805 0.0388993\n",
      " 0.03447893 0.0310512  0.02831869 0.02609216 0.02424545 0.02269126\n",
      " 0.02136722 0.02022764 0.01923824 0.01837285 0.01761113 0.01693702\n",
      " 0.01633771 0.01580284 0.01532397 0.01489412 0.01450753 0.01415935\n",
      " 0.01384551 0.01356259 0.01330766 0.01307821 0.01287213 0.01268759\n",
      " 0.01252301 0.01237705 0.01224857 0.01213658 0.01204026 0.01195891\n",
      " 0.01189195 0.01183892 0.01179945 0.01177329 0.01176025]\n",
      "num_paired_subset_sizes = 42\n",
      "weight_left = 0.7981830466727807\n",
      "np.sum(w_aug) = 85.0\n",
      "np.sum(self.kernelWeights) = 1.0\n",
      "phi = [ 0.          0.          0.          0.          0.          0.\n",
      "  0.00508765  0.          0.00358534  0.          0.00299115  0.12455056\n",
      "  0.          0.          0.14319602  0.          0.          0.\n",
      "  0.          0.          0.          0.          0.          0.\n",
      "  0.          0.00185867  0.          0.00253138  0.          0.\n",
      "  0.          0.          0.          0.          0.          0.\n",
      "  0.          0.          0.          0.          0.          0.\n",
      "  0.          0.          0.          0.          0.          0.\n",
      "  0.          0.          0.          0.          0.          0.\n",
      "  0.          0.          0.          0.          0.          0.\n",
      "  0.          0.          0.          0.          0.          0.\n",
      "  0.          0.          0.          0.          0.          0.\n",
      "  0.00289992 -0.03525086  0.          0.          0.          0.03355626\n",
      "  0.01472351  0.00420128  0.01597709  0.03729212  0.01617685  0.01343216\n",
      "  0.        ]\n",
      " 80%|████████  | 4/5 [00:10<00:02,  2.67s/it]num_full_subsets = 1\n",
      "remaining_weight_vector = [0.12794589 0.08633747 0.06555252 0.05309754 0.04480805 0.0388993\n",
      " 0.03447893 0.0310512  0.02831869 0.02609216 0.02424545 0.02269126\n",
      " 0.02136722 0.02022764 0.01923824 0.01837285 0.01761113 0.01693702\n",
      " 0.01633771 0.01580284 0.01532397 0.01489412 0.01450753 0.01415935\n",
      " 0.01384551 0.01356259 0.01330766 0.01307821 0.01287213 0.01268759\n",
      " 0.01252301 0.01237705 0.01224857 0.01213658 0.01204026 0.01195891\n",
      " 0.01189195 0.01183892 0.01179945 0.01177329 0.01176025]\n",
      "num_paired_subset_sizes = 42\n",
      "weight_left = 0.7981830466727807\n",
      "np.sum(w_aug) = 85.0\n",
      "np.sum(self.kernelWeights) = 1.0\n",
      "phi = [ 0.          0.05047186  0.          0.          0.          0.\n",
      "  0.00646355  0.00156854  0.0053281   0.00286448  0.          0.134752\n",
      " -0.01952288  0.         -0.02214336  0.01792     0.00143934  0.\n",
      "  0.00956539 -0.00670197  0.          0.          0.          0.00411783\n",
      "  0.          0.00274716  0.          0.01002032  0.          0.\n",
      "  0.          0.          0.01605667  0.          0.00409812  0.\n",
      "  0.          0.          0.          0.          0.          0.\n",
      "  0.          0.          0.          0.          0.          0.\n",
      "  0.          0.          0.          0.          0.          0.\n",
      "  0.          0.          0.          0.00046539  0.          0.\n",
      "  0.          0.00276093  0.          0.          0.          0.00122178\n",
      "  0.          0.          0.          0.         -0.01519198  0.\n",
      "  0.00356389  0.          0.          0.          0.          0.\n",
      "  0.00472982  0.01070581  0.01883467  0.06885613  0.00477688 -0.01477754\n",
      "  0.        ]\n",
      "100%|██████████| 5/5 [00:12<00:00,  2.60s/it]\n",
      "Generating mini dash\n",
      "Generated mini dash\n"
     ]
    },
    {
     "data": {
      "text/html": [
       "<!-- http://127.0.0.1:7001/2441637758720/ -->\n",
       "<iframe src=\"http://127.0.0.1:7001/2441637758720/\" width=100% height=800 frameBorder=\"0\"></iframe>"
      ]
     },
     "metadata": {},
     "output_type": "display_data"
    },
    {
     "name": "stderr",
     "output_type": "stream",
     "text": [
      "No overall plot to display: -1|ShapKernel_3\n",
      "No overall plot to display: -1|ShapKernel_3\n",
      "No overall plot to display: -1|ShapKernel_3\n"
     ]
    }
   ],
   "source": [
    "shap_local = shap.explain_local(pd.DataFrame(xt)[:5], pd.DataFrame(yt)[:5])\n",
    "\n",
    "show(shap_local)"
   ]
  },
  {
   "cell_type": "code",
   "execution_count": 39,
   "metadata": {},
   "outputs": [],
   "source": [
    "pdp = PartialDependence(predict_fn=writingForest.predict_proba, data=pd.DataFrame(x, columns=names))"
   ]
  },
  {
   "cell_type": "code",
   "execution_count": 40,
   "metadata": {},
   "outputs": [
    {
     "name": "stderr",
     "output_type": "stream",
     "text": [
      "Generating mini dash\n",
      "Generated mini dash\n"
     ]
    },
    {
     "data": {
      "text/html": [
       "<!-- http://127.0.0.1:7001/2441487644560/ -->\n",
       "<iframe src=\"http://127.0.0.1:7001/2441487644560/\" width=100% height=800 frameBorder=\"0\"></iframe>"
      ]
     },
     "metadata": {},
     "output_type": "display_data"
    },
    {
     "name": "stderr",
     "output_type": "stream",
     "text": [
      "No overall plot to display: -1|PartialDependence_0\n",
      "No overall plot to display: -1|PartialDependence_0\n",
      "No overall plot to display: -1|ShapKernel_3\n",
      "No overall plot to display: -1|PartialDependence_0\n"
     ]
    }
   ],
   "source": [
    "pdp_global = pdp.explain_global()\n",
    "\n",
    "show(pdp_global)"
   ]
  },
  {
   "cell_type": "code",
   "execution_count": 9,
   "metadata": {},
   "outputs": [
    {
     "name": "stdout",
     "output_type": "stream",
     "text": [
      "The KNN has an accuracy of : 0.7011642949547219\n",
      "\n"
     ]
    },
    {
     "name": "stderr",
     "output_type": "stream",
     "text": [
      "C:\\Users\\thejj\\anaconda3\\lib\\site-packages\\sklearn\\neighbors\\_classification.py:179: DataConversionWarning: A column-vector y was passed when a 1d array was expected. Please change the shape of y to (n_samples,), for example using ravel().\n",
      "  return self._fit(X, y)\n"
     ]
    }
   ],
   "source": [
    "from sklearn.neighbors import KNeighborsClassifier\n",
    "# Declare our classifier and its parameters\n",
    "model = KNeighborsClassifier(n_neighbors=10, metric='euclidean')\n",
    "# 'Fit' the model to the data\n",
    "reg = model.fit(x, y)\n",
    "# Generate predicted labels for our test data\n",
    "pred = reg.predict(xt)\n",
    "# Calculate accuracy score\n",
    "accuracy_score(pred, yt)\n",
    "print(\"The KNN has an accuracy of : %s\\n\" % str(accuracy_score(pred, yt)))"
   ]
  },
  {
   "cell_type": "code",
   "execution_count": 10,
   "metadata": {},
   "outputs": [
    {
     "name": "stdout",
     "output_type": "stream",
     "text": [
      "The LogisticRegression has an accuracy of : 0.7787839586028461\n",
      "\n"
     ]
    },
    {
     "name": "stderr",
     "output_type": "stream",
     "text": [
      "C:\\Users\\thejj\\anaconda3\\lib\\site-packages\\sklearn\\utils\\validation.py:63: DataConversionWarning: A column-vector y was passed when a 1d array was expected. Please change the shape of y to (n_samples, ), for example using ravel().\n",
      "  return f(*args, **kwargs)\n",
      "C:\\Users\\thejj\\anaconda3\\lib\\site-packages\\sklearn\\linear_model\\_logistic.py:763: ConvergenceWarning: lbfgs failed to converge (status=1):\n",
      "STOP: TOTAL NO. of ITERATIONS REACHED LIMIT.\n",
      "\n",
      "Increase the number of iterations (max_iter) or scale the data as shown in:\n",
      "    https://scikit-learn.org/stable/modules/preprocessing.html\n",
      "Please also refer to the documentation for alternative solver options:\n",
      "    https://scikit-learn.org/stable/modules/linear_model.html#logistic-regression\n",
      "  n_iter_i = _check_optimize_result(\n"
     ]
    }
   ],
   "source": [
    "# import the class\n",
    "from sklearn.linear_model import LogisticRegression\n",
    "# instantiate the model (using the default parameters)\n",
    "logreg = LogisticRegression()\n",
    "\n",
    "# fit the model with data\n",
    "logreg.fit(x,y)\n",
    "\n",
    "#\n",
    "y_logpred=logreg.predict(xt)\n",
    "#y_pred\n",
    "#accuracy_score(y_logpred, yt)\n",
    "print(\"The LogisticRegression has an accuracy of : %s\\n\" % str(accuracy_score(y_logpred, yt)))"
   ]
  },
  {
   "cell_type": "code",
   "execution_count": 11,
   "metadata": {},
   "outputs": [],
   "source": []
  },
  {
   "cell_type": "code",
   "execution_count": 12,
   "metadata": {},
   "outputs": [],
   "source": []
  },
  {
   "cell_type": "code",
   "execution_count": 45,
   "metadata": {},
   "outputs": [
    {
     "name": "stdout",
     "output_type": "stream",
     "text": [
      "[11:38:52] WARNING: C:/Users/Administrator/workspace/xgboost-win64_release_1.4.0/src/learner.cc:1095: Starting in XGBoost 1.3.0, the default evaluation metric used with the objective 'binary:logistic' was changed from 'error' to 'logloss'. Explicitly set eval_metric if you'd like to restore the old behavior.\n",
      "Accuracy0.8059508408796895\n"
     ]
    }
   ],
   "source": [
    "import xgboost as xgb\n",
    "\n",
    "dtrain = xgb.DMatrix(x, label=y, feature_names=names)\n",
    "dtest = xgb.DMatrix(xt, feature_names=names)\n",
    "\n",
    "params = {'max_depth':10,\n",
    "          'eta':0.5, # metric for reducing overfitting\n",
    "          'objective':'binary:logistic'}\n",
    "\n",
    "xmodel = xgb.train(params, dtrain,20) # 20 is the number of boosting rounds undertaken by the model\n",
    "\n",
    "xpreds = xmodel.predict(dtest)\n",
    "preds_bin = [int(i>0.5) for i in xpreds]\n",
    "print(f\"Accuracy{accuracy_score(yt, preds_bin)}\")"
   ]
  },
  {
   "cell_type": "code",
   "execution_count": 46,
   "metadata": {},
   "outputs": [
    {
     "data": {
      "image/png": "[encoded data removed]",
      "text/plain": [
       "<Figure size 576x468 with 3 Axes>"
      ]
     },
     "metadata": {},
     "output_type": "display_data"
    }
   ],
   "source": [
    "import shap \n",
    "from shap.plots._waterfall import waterfall_legacy\n",
    "\n",
    "# Parse our model to prep for explanation\n",
    "explainer = shap.TreeExplainer(xmodel)\n",
    "\n",
    "shap_values = explainer.shap_values(x)\n",
    "# Make the plot\n",
    "waterfall_legacy(explainer.expected_value, shap_values[1], x[0])"
   ]
  },
  {
   "cell_type": "code",
   "execution_count": 47,
   "metadata": {},
   "outputs": [
    {
     "data": {
      "image/png": "[encoded data removed]",
      "text/plain": [
       "<Figure size 432x288 with 1 Axes>"
      ]
     },
     "metadata": {
      "needs_background": "light"
     },
     "output_type": "display_data"
    }
   ],
   "source": [
    "from xgboost import plot_importance\n",
    "from matplotlib import pyplot\n",
    "\n",
    "# plot feature importance\n",
    "plot_importance(xmodel, max_num_features=10)\n",
    "pyplot.show()"
   ]
  },
  {
   "cell_type": "code",
   "execution_count": null,
   "metadata": {},
   "outputs": [],
   "source": []
  }
 ],
 "metadata": {
  "kernelspec": {
   "display_name": "Python 3",
   "language": "python",
   "name": "python3"
  },
  "language_info": {
   "codemirror_mode": {
    "name": "ipython",
    "version": 3
   },
   "file_extension": ".py",
   "mimetype": "text/x-python",
   "name": "python",
   "nbconvert_exporter": "python",
   "pygments_lexer": "ipython3",
   "version": "3.8.8"
  },
  "varInspector": {
   "cols": {
    "lenName": 16,
    "lenType": 16,
    "lenVar": 40
   },
   "kernels_config": {
    "python": {
     "delete_cmd_postfix": "",
     "delete_cmd_prefix": "del ",
     "library": "var_list.py",
     "varRefreshCmd": "print(var_dic_list())"
    },
    "r": {
     "delete_cmd_postfix": ") ",
     "delete_cmd_prefix": "rm(",
     "library": "var_list.r",
     "varRefreshCmd": "cat(var_dic_list()) "
    }
   },
   "types_to_exclude": [
    "module",
    "function",
    "builtin_function_or_method",
    "instance",
    "_Feature"
   ],
   "window_display": false
  }
 },
 "nbformat": 4,
 "nbformat_minor": 2
}
