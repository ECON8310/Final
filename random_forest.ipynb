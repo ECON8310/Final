{
 "cells": [
  {
   "cell_type": "code",
   "execution_count": 1,
   "metadata": {},
   "outputs": [],
   "source": [
    "import pandas as pd\n",
    "import numpy as np\n",
    "\n",
    "import patsy as pt\n",
    "from sklearn.model_selection import train_test_split\n",
    "from sklearn.metrics import accuracy_score\n",
    "from sklearn.ensemble import RandomForestClassifier\n",
    "\n",
    "import plotly.express as px\n",
    "\n",
    "from interpret import show\n",
    "from interpret.blackbox import ShapKernel, PartialDependence\n",
    "\n"
   ]
  },
  {
   "cell_type": "markdown",
   "metadata": {},
   "source": [
    "### Data Prep"
   ]
  },
  {
   "cell_type": "code",
   "execution_count": 2,
   "metadata": {},
   "outputs": [],
   "source": [
    "data = pd.read_csv('./DATA/pakistanClean2.csv')"
   ]
  },
  {
   "cell_type": "code",
   "execution_count": 3,
   "metadata": {},
   "outputs": [
    {
     "name": "stderr",
     "output_type": "stream",
     "text": [
      "Note: NumExpr detected 12 cores but \"NUMEXPR_MAX_THREADS\" not set, so enforcing safe limit of 8.\n",
      "NumExpr defaulting to 8 threads.\n"
     ]
    }
   ],
   "source": [
    "#valid_train_Values = ['0','1']\n",
    "#work_data = data[data.TTP.isin(valid_train_Values)] \n",
    "work_data = data[(data['TTP']==0) | (data['TTP'] ==1)].copy()\n",
    "test_data = data[pd.isna(data['TTP'])].copy()\n",
    "work_data = work_data.fillna(-99)"
   ]
  },
  {
   "cell_type": "code",
   "execution_count": 4,
   "metadata": {},
   "outputs": [],
   "source": [
    "# Create regression arrays\n",
    "Y, X = pt.dmatrices(\"TTP ~ C(iyear) + C(provstate) + multiple + success + suicide + C(attacktype1_txt) + C(targtype1_txt) + C(targsubtype1_txt) + C(weaptype1_txt) + C(weapsubtype1_txt) + nkill + nkillus + nkillter + nwound + nwoundus + nwoundte + C(Month)\", data = work_data, return_type='dataframe')"
   ]
  },
  {
   "cell_type": "code",
   "execution_count": 5,
   "metadata": {},
   "outputs": [],
   "source": [
    "names = X.columns\n",
    "names = [i.replace('[', '').replace(']', '').replace(' ', '').replace(',', '') for i in names]"
   ]
  },
  {
   "cell_type": "code",
   "execution_count": 6,
   "metadata": {},
   "outputs": [],
   "source": [
    "# Randomly create train and test data\n",
    "x, xt, y, yt = train_test_split(X, Y, test_size = 0.25,random_state=35)"
   ]
  },
  {
   "cell_type": "markdown",
   "metadata": {},
   "source": [
    "### Model"
   ]
  },
  {
   "cell_type": "code",
   "execution_count": 7,
   "metadata": {},
   "outputs": [
    {
     "name": "stderr",
     "output_type": "stream",
     "text": [
      "<ipython-input-7-4e61eff9e664>:4: DataConversionWarning: A column-vector y was passed when a 1d array was expected. Please change the shape of y to (n_samples,), for example using ravel().\n",
      "  fclf = writingForest.fit(x, y)\n"
     ]
    }
   ],
   "source": [
    "# Generate the random forest model\n",
    "writingForest = RandomForestClassifier(n_estimators=110, n_jobs = -1, random_state=35)\n",
    "# Fit the model to the training data\n",
    "fclf = writingForest.fit(x, y)"
   ]
  },
  {
   "cell_type": "markdown",
   "metadata": {},
   "source": [
    "### Generate predictions and evaluate"
   ]
  },
  {
   "cell_type": "code",
   "execution_count": 8,
   "metadata": {},
   "outputs": [
    {
     "name": "stdout",
     "output_type": "stream",
     "text": [
      "The random forest has an accuracy of : 0.8240620957309185\n",
      "\n"
     ]
    }
   ],
   "source": [
    "# Make predictions\n",
    "fpred = fclf.predict(xt)\n",
    "# Print the accuracy score of the fitted model\n",
    "print(\"The random forest has an accuracy of : %s\\n\" % str(accuracy_score(fpred, yt)))"
   ]
  },
  {
   "cell_type": "markdown",
   "metadata": {},
   "source": [
    "### Explain model"
   ]
  },
  {
   "cell_type": "markdown",
   "metadata": {},
   "source": [
    "#### Feature importances"
   ]
  },
  {
   "cell_type": "code",
   "execution_count": 9,
   "metadata": {},
   "outputs": [],
   "source": [
    "imp_df = pd.DataFrame({'Feature':names,'Importance':fclf.feature_importances_})\n",
    "imp_df.sort_values(by='Importance', ascending=False, inplace=True)"
   ]
  },
  {
   "cell_type": "code",
   "execution_count": 10,
   "metadata": {},
   "outputs": [
    {
     "data": {
      "application/vnd.plotly.v1+json": {
       "config": {
        "plotlyServerURL": "https://plot.ly"
       },
       "data": [
        {
         "alignmentgroup": "True",
         "hovertemplate": "Importance=%{x}<br>Feature=%{y}<extra></extra>",
         "legendgroup": "",
         "marker": {
          "color": "#636efa",
          "pattern": {
           "shape": ""
          }
         },
         "name": "",
         "offsetgroup": "",
         "orientation": "h",
         "showlegend": false,
         "textposition": "auto",
         "type": "bar",
         "x": [
          0.15392837967445994,
          0.055058600687378216,
          0.05410833583619788,
          0.05087886923307857,
          0.044471072002002746,
          0.02112666771013951,
          0.017157095284561826,
          0.016290469610933302,
          0.013188885201726832,
          0.012824659473407999,
          0.012537819343737919,
          0.011592806806144789,
          0.011229074697888227,
          0.011210426793908263,
          0.011197107187796875,
          0.011174282141512656,
          0.010886981686617402,
          0.01050293919446863,
          0.010242719638227022,
          0.010103417903684174
         ],
         "xaxis": "x",
         "y": [
          "C(provstate)T.Balochistan",
          "C(provstate)T.KhyberPakhtunkhwa",
          "nkill",
          "C(provstate)T.FederallyAdministeredTribalAreas",
          "nwound",
          "nkillter",
          "C(Month)T.Nov",
          "C(provstate)T.Sindh",
          "C(targsubtype1_txt)T.School/University/EducationalBuilding",
          "C(iyear)T.2010",
          "C(iyear)T.2014",
          "C(iyear)T.2013",
          "C(iyear)T.2015",
          "C(iyear)T.2016",
          "multiple",
          "C(Month)T.Jan",
          "C(iyear)T.2009",
          "C(targtype1_txt)T.Utilities",
          "C(Month)T.May",
          "C(iyear)T.2012"
         ],
         "yaxis": "y"
        }
       ],
       "layout": {
        "barmode": "relative",
        "legend": {
         "tracegroupgap": 0
        },
        "margin": {
         "t": 60
        },
        "template": {
         "data": {
          "bar": [
           {
            "error_x": {
             "color": "#2a3f5f"
            },
            "error_y": {
             "color": "#2a3f5f"
            },
            "marker": {
             "line": {
              "color": "#E5ECF6",
              "width": 0.5
             },
             "pattern": {
              "fillmode": "overlay",
              "size": 10,
              "solidity": 0.2
             }
            },
            "type": "bar"
           }
          ],
          "barpolar": [
           {
            "marker": {
             "line": {
              "color": "#E5ECF6",
              "width": 0.5
             },
             "pattern": {
              "fillmode": "overlay",
              "size": 10,
              "solidity": 0.2
             }
            },
            "type": "barpolar"
           }
          ],
          "carpet": [
           {
            "aaxis": {
             "endlinecolor": "#2a3f5f",
             "gridcolor": "white",
             "linecolor": "white",
             "minorgridcolor": "white",
             "startlinecolor": "#2a3f5f"
            },
            "baxis": {
             "endlinecolor": "#2a3f5f",
             "gridcolor": "white",
             "linecolor": "white",
             "minorgridcolor": "white",
             "startlinecolor": "#2a3f5f"
            },
            "type": "carpet"
           }
          ],
          "choropleth": [
           {
            "colorbar": {
             "outlinewidth": 0,
             "ticks": ""
            },
            "type": "choropleth"
           }
          ],
          "contour": [
           {
            "colorbar": {
             "outlinewidth": 0,
             "ticks": ""
            },
            "colorscale": [
             [
              0,
              "#0d0887"
             ],
             [
              0.1111111111111111,
              "#46039f"
             ],
             [
              0.2222222222222222,
              "#7201a8"
             ],
             [
              0.3333333333333333,
              "#9c179e"
             ],
             [
              0.4444444444444444,
              "#bd3786"
             ],
             [
              0.5555555555555556,
              "#d8576b"
             ],
             [
              0.6666666666666666,
              "#ed7953"
             ],
             [
              0.7777777777777778,
              "#fb9f3a"
             ],
             [
              0.8888888888888888,
              "#fdca26"
             ],
             [
              1,
              "#f0f921"
             ]
            ],
            "type": "contour"
           }
          ],
          "contourcarpet": [
           {
            "colorbar": {
             "outlinewidth": 0,
             "ticks": ""
            },
            "type": "contourcarpet"
           }
          ],
          "heatmap": [
           {
            "colorbar": {
             "outlinewidth": 0,
             "ticks": ""
            },
            "colorscale": [
             [
              0,
              "#0d0887"
             ],
             [
              0.1111111111111111,
              "#46039f"
             ],
             [
              0.2222222222222222,
              "#7201a8"
             ],
             [
              0.3333333333333333,
              "#9c179e"
             ],
             [
              0.4444444444444444,
              "#bd3786"
             ],
             [
              0.5555555555555556,
              "#d8576b"
             ],
             [
              0.6666666666666666,
              "#ed7953"
             ],
             [
              0.7777777777777778,
              "#fb9f3a"
             ],
             [
              0.8888888888888888,
              "#fdca26"
             ],
             [
              1,
              "#f0f921"
             ]
            ],
            "type": "heatmap"
           }
          ],
          "heatmapgl": [
           {
            "colorbar": {
             "outlinewidth": 0,
             "ticks": ""
            },
            "colorscale": [
             [
              0,
              "#0d0887"
             ],
             [
              0.1111111111111111,
              "#46039f"
             ],
             [
              0.2222222222222222,
              "#7201a8"
             ],
             [
              0.3333333333333333,
              "#9c179e"
             ],
             [
              0.4444444444444444,
              "#bd3786"
             ],
             [
              0.5555555555555556,
              "#d8576b"
             ],
             [
              0.6666666666666666,
              "#ed7953"
             ],
             [
              0.7777777777777778,
              "#fb9f3a"
             ],
             [
              0.8888888888888888,
              "#fdca26"
             ],
             [
              1,
              "#f0f921"
             ]
            ],
            "type": "heatmapgl"
           }
          ],
          "histogram": [
           {
            "marker": {
             "pattern": {
              "fillmode": "overlay",
              "size": 10,
              "solidity": 0.2
             }
            },
            "type": "histogram"
           }
          ],
          "histogram2d": [
           {
            "colorbar": {
             "outlinewidth": 0,
             "ticks": ""
            },
            "colorscale": [
             [
              0,
              "#0d0887"
             ],
             [
              0.1111111111111111,
              "#46039f"
             ],
             [
              0.2222222222222222,
              "#7201a8"
             ],
             [
              0.3333333333333333,
              "#9c179e"
             ],
             [
              0.4444444444444444,
              "#bd3786"
             ],
             [
              0.5555555555555556,
              "#d8576b"
             ],
             [
              0.6666666666666666,
              "#ed7953"
             ],
             [
              0.7777777777777778,
              "#fb9f3a"
             ],
             [
              0.8888888888888888,
              "#fdca26"
             ],
             [
              1,
              "#f0f921"
             ]
            ],
            "type": "histogram2d"
           }
          ],
          "histogram2dcontour": [
           {
            "colorbar": {
             "outlinewidth": 0,
             "ticks": ""
            },
            "colorscale": [
             [
              0,
              "#0d0887"
             ],
             [
              0.1111111111111111,
              "#46039f"
             ],
             [
              0.2222222222222222,
              "#7201a8"
             ],
             [
              0.3333333333333333,
              "#9c179e"
             ],
             [
              0.4444444444444444,
              "#bd3786"
             ],
             [
              0.5555555555555556,
              "#d8576b"
             ],
             [
              0.6666666666666666,
              "#ed7953"
             ],
             [
              0.7777777777777778,
              "#fb9f3a"
             ],
             [
              0.8888888888888888,
              "#fdca26"
             ],
             [
              1,
              "#f0f921"
             ]
            ],
            "type": "histogram2dcontour"
           }
          ],
          "mesh3d": [
           {
            "colorbar": {
             "outlinewidth": 0,
             "ticks": ""
            },
            "type": "mesh3d"
           }
          ],
          "parcoords": [
           {
            "line": {
             "colorbar": {
              "outlinewidth": 0,
              "ticks": ""
             }
            },
            "type": "parcoords"
           }
          ],
          "pie": [
           {
            "automargin": true,
            "type": "pie"
           }
          ],
          "scatter": [
           {
            "marker": {
             "colorbar": {
              "outlinewidth": 0,
              "ticks": ""
             }
            },
            "type": "scatter"
           }
          ],
          "scatter3d": [
           {
            "line": {
             "colorbar": {
              "outlinewidth": 0,
              "ticks": ""
             }
            },
            "marker": {
             "colorbar": {
              "outlinewidth": 0,
              "ticks": ""
             }
            },
            "type": "scatter3d"
           }
          ],
          "scattercarpet": [
           {
            "marker": {
             "colorbar": {
              "outlinewidth": 0,
              "ticks": ""
             }
            },
            "type": "scattercarpet"
           }
          ],
          "scattergeo": [
           {
            "marker": {
             "colorbar": {
              "outlinewidth": 0,
              "ticks": ""
             }
            },
            "type": "scattergeo"
           }
          ],
          "scattergl": [
           {
            "marker": {
             "colorbar": {
              "outlinewidth": 0,
              "ticks": ""
             }
            },
            "type": "scattergl"
           }
          ],
          "scattermapbox": [
           {
            "marker": {
             "colorbar": {
              "outlinewidth": 0,
              "ticks": ""
             }
            },
            "type": "scattermapbox"
           }
          ],
          "scatterpolar": [
           {
            "marker": {
             "colorbar": {
              "outlinewidth": 0,
              "ticks": ""
             }
            },
            "type": "scatterpolar"
           }
          ],
          "scatterpolargl": [
           {
            "marker": {
             "colorbar": {
              "outlinewidth": 0,
              "ticks": ""
             }
            },
            "type": "scatterpolargl"
           }
          ],
          "scatterternary": [
           {
            "marker": {
             "colorbar": {
              "outlinewidth": 0,
              "ticks": ""
             }
            },
            "type": "scatterternary"
           }
          ],
          "surface": [
           {
            "colorbar": {
             "outlinewidth": 0,
             "ticks": ""
            },
            "colorscale": [
             [
              0,
              "#0d0887"
             ],
             [
              0.1111111111111111,
              "#46039f"
             ],
             [
              0.2222222222222222,
              "#7201a8"
             ],
             [
              0.3333333333333333,
              "#9c179e"
             ],
             [
              0.4444444444444444,
              "#bd3786"
             ],
             [
              0.5555555555555556,
              "#d8576b"
             ],
             [
              0.6666666666666666,
              "#ed7953"
             ],
             [
              0.7777777777777778,
              "#fb9f3a"
             ],
             [
              0.8888888888888888,
              "#fdca26"
             ],
             [
              1,
              "#f0f921"
             ]
            ],
            "type": "surface"
           }
          ],
          "table": [
           {
            "cells": {
             "fill": {
              "color": "#EBF0F8"
             },
             "line": {
              "color": "white"
             }
            },
            "header": {
             "fill": {
              "color": "#C8D4E3"
             },
             "line": {
              "color": "white"
             }
            },
            "type": "table"
           }
          ]
         },
         "layout": {
          "annotationdefaults": {
           "arrowcolor": "#2a3f5f",
           "arrowhead": 0,
           "arrowwidth": 1
          },
          "autotypenumbers": "strict",
          "coloraxis": {
           "colorbar": {
            "outlinewidth": 0,
            "ticks": ""
           }
          },
          "colorscale": {
           "diverging": [
            [
             0,
             "#8e0152"
            ],
            [
             0.1,
             "#c51b7d"
            ],
            [
             0.2,
             "#de77ae"
            ],
            [
             0.3,
             "#f1b6da"
            ],
            [
             0.4,
             "#fde0ef"
            ],
            [
             0.5,
             "#f7f7f7"
            ],
            [
             0.6,
             "#e6f5d0"
            ],
            [
             0.7,
             "#b8e186"
            ],
            [
             0.8,
             "#7fbc41"
            ],
            [
             0.9,
             "#4d9221"
            ],
            [
             1,
             "#276419"
            ]
           ],
           "sequential": [
            [
             0,
             "#0d0887"
            ],
            [
             0.1111111111111111,
             "#46039f"
            ],
            [
             0.2222222222222222,
             "#7201a8"
            ],
            [
             0.3333333333333333,
             "#9c179e"
            ],
            [
             0.4444444444444444,
             "#bd3786"
            ],
            [
             0.5555555555555556,
             "#d8576b"
            ],
            [
             0.6666666666666666,
             "#ed7953"
            ],
            [
             0.7777777777777778,
             "#fb9f3a"
            ],
            [
             0.8888888888888888,
             "#fdca26"
            ],
            [
             1,
             "#f0f921"
            ]
           ],
           "sequentialminus": [
            [
             0,
             "#0d0887"
            ],
            [
             0.1111111111111111,
             "#46039f"
            ],
            [
             0.2222222222222222,
             "#7201a8"
            ],
            [
             0.3333333333333333,
             "#9c179e"
            ],
            [
             0.4444444444444444,
             "#bd3786"
            ],
            [
             0.5555555555555556,
             "#d8576b"
            ],
            [
             0.6666666666666666,
             "#ed7953"
            ],
            [
             0.7777777777777778,
             "#fb9f3a"
            ],
            [
             0.8888888888888888,
             "#fdca26"
            ],
            [
             1,
             "#f0f921"
            ]
           ]
          },
          "colorway": [
           "#636efa",
           "#EF553B",
           "#00cc96",
           "#ab63fa",
           "#FFA15A",
           "#19d3f3",
           "#FF6692",
           "#B6E880",
           "#FF97FF",
           "#FECB52"
          ],
          "font": {
           "color": "#2a3f5f"
          },
          "geo": {
           "bgcolor": "white",
           "lakecolor": "white",
           "landcolor": "#E5ECF6",
           "showlakes": true,
           "showland": true,
           "subunitcolor": "white"
          },
          "hoverlabel": {
           "align": "left"
          },
          "hovermode": "closest",
          "mapbox": {
           "style": "light"
          },
          "paper_bgcolor": "white",
          "plot_bgcolor": "#E5ECF6",
          "polar": {
           "angularaxis": {
            "gridcolor": "white",
            "linecolor": "white",
            "ticks": ""
           },
           "bgcolor": "#E5ECF6",
           "radialaxis": {
            "gridcolor": "white",
            "linecolor": "white",
            "ticks": ""
           }
          },
          "scene": {
           "xaxis": {
            "backgroundcolor": "#E5ECF6",
            "gridcolor": "white",
            "gridwidth": 2,
            "linecolor": "white",
            "showbackground": true,
            "ticks": "",
            "zerolinecolor": "white"
           },
           "yaxis": {
            "backgroundcolor": "#E5ECF6",
            "gridcolor": "white",
            "gridwidth": 2,
            "linecolor": "white",
            "showbackground": true,
            "ticks": "",
            "zerolinecolor": "white"
           },
           "zaxis": {
            "backgroundcolor": "#E5ECF6",
            "gridcolor": "white",
            "gridwidth": 2,
            "linecolor": "white",
            "showbackground": true,
            "ticks": "",
            "zerolinecolor": "white"
           }
          },
          "shapedefaults": {
           "line": {
            "color": "#2a3f5f"
           }
          },
          "ternary": {
           "aaxis": {
            "gridcolor": "white",
            "linecolor": "white",
            "ticks": ""
           },
           "baxis": {
            "gridcolor": "white",
            "linecolor": "white",
            "ticks": ""
           },
           "bgcolor": "#E5ECF6",
           "caxis": {
            "gridcolor": "white",
            "linecolor": "white",
            "ticks": ""
           }
          },
          "title": {
           "x": 0.05
          },
          "xaxis": {
           "automargin": true,
           "gridcolor": "white",
           "linecolor": "white",
           "ticks": "",
           "title": {
            "standoff": 15
           },
           "zerolinecolor": "white",
           "zerolinewidth": 2
          },
          "yaxis": {
           "automargin": true,
           "gridcolor": "white",
           "linecolor": "white",
           "ticks": "",
           "title": {
            "standoff": 15
           },
           "zerolinecolor": "white",
           "zerolinewidth": 2
          }
         }
        },
        "xaxis": {
         "anchor": "y",
         "domain": [
          0,
          1
         ],
         "title": {
          "text": "Importance"
         }
        },
        "yaxis": {
         "anchor": "x",
         "domain": [
          0,
          1
         ],
         "title": {
          "text": "Feature"
         }
        }
       }
      }
     },
     "metadata": {},
     "output_type": "display_data"
    }
   ],
   "source": [
    "px.bar(x='Importance', y='Feature', data_frame=imp_df.head(20), orientation='h')"
   ]
  },
  {
   "cell_type": "markdown",
   "metadata": {},
   "source": [
    "#### Shapley Values Intro\n",
    "\n",
    "Shapley values can help us understand what and how features contributed to our final prediction. The goal is to understand how a model got to the prediction it did. In the above plot we see that the number of terrorists killed, along with a couple location features, pushed our TTP probabibility over 50%. While there were other features that would lead us to believe it was not a TTP attack, they were not enough to bring us below 50%. "
   ]
  },
  {
   "cell_type": "code",
   "execution_count": 11,
   "metadata": {},
   "outputs": [],
   "source": [
    "shap = ShapKernel(predict_fn=writingForest.predict_proba, data=x[:100])"
   ]
  },
  {
   "cell_type": "code",
   "execution_count": 12,
   "metadata": {},
   "outputs": [
    {
     "name": "stderr",
     "output_type": "stream",
     "text": [
      "  0%|          | 0/25 [00:00<?, ?it/s]num_full_subsets = 1\n",
      "remaining_weight_vector = [0.12004298 0.08080563 0.06119838 0.04944344 0.0416149  0.03603022\n",
      " 0.03184814 0.0286013  0.02600931 0.02389372 0.02213558 0.02065256\n",
      " 0.01938582 0.01829226 0.01733954 0.01650293 0.01576322 0.01510523\n",
      " 0.01451683 0.0139882  0.01351133 0.01307959 0.01268747 0.01233034\n",
      " 0.0120043  0.01170602 0.01143266 0.01118179 0.01095129 0.01073933\n",
      " 0.01054432 0.01036486 0.01019973 0.01004786 0.00990831 0.00978023\n",
      " 0.0096629  0.00955566 0.00945793 0.00936921 0.00928904 0.00921703\n",
      " 0.00915284 0.00909615 0.00904672 0.00900431 0.00896873 0.00893983\n",
      " 0.00891748 0.00890158 0.00889207 0.00888891]\n",
      "num_paired_subset_sizes = 52\n",
      "weight_left = 0.8071930411864512\n",
      "np.sum(w_aug) = 106.00000000000001\n",
      "np.sum(self.kernelWeights) = 1.0\n",
      "phi = [ 0.         -0.00596636  0.          0.          0.          0.\n",
      "  0.          0.          0.005641    0.          0.          0.10665806\n",
      " -0.03179146  0.         -0.04049072  0.00594479  0.00311873  0.\n",
      "  0.          0.          0.          0.          0.          0.\n",
      "  0.          0.         -0.00785565  0.          0.01246251  0.00397941\n",
      "  0.          0.          0.          0.00495515  0.          0.\n",
      "  0.          0.          0.          0.          0.00443446  0.\n",
      "  0.          0.          0.          0.          0.          0.\n",
      "  0.          0.          0.          0.          0.          0.\n",
      "  0.          0.          0.         -0.02464346  0.          0.\n",
      "  0.          0.          0.          0.          0.          0.\n",
      "  0.          0.          0.          0.         -0.00492917 -0.01374264\n",
      "  0.          0.          0.          0.          0.          0.\n",
      "  0.          0.          0.          0.          0.          0.\n",
      " -0.003836    0.00501949 -0.0290575   0.          0.          0.\n",
      "  0.          0.          0.          0.          0.          0.\n",
      "  0.00907926  0.00232682  0.         -0.00522498  0.0086397   0.\n",
      "  0.05726785  0.07327777  0.0030758   0.        ]\n",
      "  4%|▍         | 1/25 [00:05<02:22,  5.94s/it]num_full_subsets = 1\n",
      "remaining_weight_vector = [0.12004298 0.08080563 0.06119838 0.04944344 0.0416149  0.03603022\n",
      " 0.03184814 0.0286013  0.02600931 0.02389372 0.02213558 0.02065256\n",
      " 0.01938582 0.01829226 0.01733954 0.01650293 0.01576322 0.01510523\n",
      " 0.01451683 0.0139882  0.01351133 0.01307959 0.01268747 0.01233034\n",
      " 0.0120043  0.01170602 0.01143266 0.01118179 0.01095129 0.01073933\n",
      " 0.01054432 0.01036486 0.01019973 0.01004786 0.00990831 0.00978023\n",
      " 0.0096629  0.00955566 0.00945793 0.00936921 0.00928904 0.00921703\n",
      " 0.00915284 0.00909615 0.00904672 0.00900431 0.00896873 0.00893983\n",
      " 0.00891748 0.00890158 0.00889207 0.00888891]\n",
      "num_paired_subset_sizes = 52\n",
      "weight_left = 0.8071930411864512\n",
      "np.sum(w_aug) = 106.00000000000001\n",
      "np.sum(self.kernelWeights) = 1.0\n",
      "phi = [0.         0.         0.         0.0012414  0.00095332 0.02416544\n",
      " 0.00811592 0.00210686 0.0040697  0.00030466 0.         0.13807721\n",
      " 0.13660241 0.         0.         0.         0.00554392 0.\n",
      " 0.         0.         0.00238402 0.00117288 0.         0.02740518\n",
      " 0.         0.         0.00374794 0.         0.         0.00171019\n",
      " 0.         0.00267258 0.         0.00927217 0.         0.\n",
      " 0.         0.         0.         0.         0.00224621 0.\n",
      " 0.         0.         0.         0.         0.0012797  0.\n",
      " 0.         0.         0.         0.         0.00112481 0.\n",
      " 0.         0.         0.         0.         0.         0.\n",
      " 0.         0.00120835 0.07380526 0.         0.         0.\n",
      " 0.00190889 0.         0.         0.         0.00791151 0.00930108\n",
      " 0.         0.         0.00054372 0.         0.         0.\n",
      " 0.00098232 0.         0.         0.         0.         0.00312077\n",
      " 0.         0.00558138 0.00335924 0.         0.         0.\n",
      " 0.         0.         0.0006044  0.         0.         0.\n",
      " 0.01231533 0.         0.         0.01298159 0.         0.00284521\n",
      " 0.00422314 0.00086052 0.00441181 0.        ]\n",
      "  8%|▊         | 2/25 [00:11<02:15,  5.90s/it]num_full_subsets = 1\n",
      "remaining_weight_vector = [0.12004298 0.08080563 0.06119838 0.04944344 0.0416149  0.03603022\n",
      " 0.03184814 0.0286013  0.02600931 0.02389372 0.02213558 0.02065256\n",
      " 0.01938582 0.01829226 0.01733954 0.01650293 0.01576322 0.01510523\n",
      " 0.01451683 0.0139882  0.01351133 0.01307959 0.01268747 0.01233034\n",
      " 0.0120043  0.01170602 0.01143266 0.01118179 0.01095129 0.01073933\n",
      " 0.01054432 0.01036486 0.01019973 0.01004786 0.00990831 0.00978023\n",
      " 0.0096629  0.00955566 0.00945793 0.00936921 0.00928904 0.00921703\n",
      " 0.00915284 0.00909615 0.00904672 0.00900431 0.00896873 0.00893983\n",
      " 0.00891748 0.00890158 0.00889207 0.00888891]\n",
      "num_paired_subset_sizes = 52\n",
      "weight_left = 0.8071930411864512\n",
      "np.sum(w_aug) = 106.00000000000001\n",
      "np.sum(self.kernelWeights) = 1.0000000000000002\n",
      "phi = [-0.00375372 -0.00328773 -0.01352336 -0.0017214   0.         -0.00652467\n",
      "  0.          0.          0.          0.         -0.01212998  0.08981354\n",
      " -0.04583498  0.         -0.04582334  0.         -0.04254302 -0.00416795\n",
      " -0.02057382  0.          0.          0.          0.         -0.00152553\n",
      " -0.00127518  0.          0.         -0.00230181 -0.00522639 -0.01393509\n",
      "  0.          0.          0.          0.00784277  0.          0.\n",
      "  0.         -0.00139971  0.          0.          0.          0.\n",
      "  0.          0.          0.          0.          0.         -0.00167227\n",
      "  0.          0.          0.          0.          0.         -0.00077437\n",
      " -0.00160503  0.          0.         -0.00076906 -0.00439577  0.\n",
      "  0.          0.         -0.00439766  0.         -0.00087673  0.\n",
      "  0.          0.04506398 -0.00196781 -0.00059402  0.          0.\n",
      " -0.00180207  0.         -0.00202482 -0.00120994 -0.00073107  0.\n",
      "  0.          0.          0.         -0.0009042   0.          0.\n",
      " -0.00083604 -0.00950908  0.         -0.00175192 -0.00121376  0.\n",
      " -0.00267344  0.04872039  0.         -0.00120082  0.         -0.0035843\n",
      "  0.00663803  0.          0.         -0.00476016  0.          0.\n",
      "  0.         -0.00503252 -0.01626492  0.        ]\n",
      " 12%|█▏        | 3/25 [00:17<02:07,  5.79s/it]num_full_subsets = 1\n",
      "remaining_weight_vector = [0.12004298 0.08080563 0.06119838 0.04944344 0.0416149  0.03603022\n",
      " 0.03184814 0.0286013  0.02600931 0.02389372 0.02213558 0.02065256\n",
      " 0.01938582 0.01829226 0.01733954 0.01650293 0.01576322 0.01510523\n",
      " 0.01451683 0.0139882  0.01351133 0.01307959 0.01268747 0.01233034\n",
      " 0.0120043  0.01170602 0.01143266 0.01118179 0.01095129 0.01073933\n",
      " 0.01054432 0.01036486 0.01019973 0.01004786 0.00990831 0.00978023\n",
      " 0.0096629  0.00955566 0.00945793 0.00936921 0.00928904 0.00921703\n",
      " 0.00915284 0.00909615 0.00904672 0.00900431 0.00896873 0.00893983\n",
      " 0.00891748 0.00890158 0.00889207 0.00888891]\n",
      "num_paired_subset_sizes = 52\n",
      "weight_left = 0.8071930411864512\n",
      "np.sum(w_aug) = 106.00000000000001\n",
      "np.sum(self.kernelWeights) = 1.0\n",
      "phi = [ 0.          0.          0.          0.          0.         -0.01376583\n",
      "  0.00263363  0.          0.00141204  0.          0.          0.12111914\n",
      " -0.01615572  0.          0.10726536  0.          0.0052052   0.01091911\n",
      "  0.          0.          0.          0.          0.          0.\n",
      "  0.          0.          0.          0.          0.          0.00200268\n",
      "  0.          0.00019112  0.          0.00624184  0.          0.\n",
      "  0.          0.          0.          0.          0.00297607  0.\n",
      "  0.          0.          0.          0.          0.00164458  0.\n",
      "  0.          0.          0.          0.          0.          0.\n",
      "  0.          0.          0.          0.          0.          0.\n",
      "  0.          0.          0.          0.          0.          0.\n",
      "  0.          0.          0.          0.          0.          0.00547183\n",
      "  0.          0.          0.          0.          0.          0.\n",
      "  0.          0.          0.          0.          0.          0.\n",
      "  0.02379765  0.00216777  0.          0.          0.          0.\n",
      "  0.          0.          0.          0.          0.          0.\n",
      "  0.00255853 -0.03847061  0.          0.          0.          0.02423683\n",
      "  0.04173017  0.01376955  0.00411917  0.        ]\n",
      " 16%|█▌        | 4/25 [00:23<02:00,  5.73s/it]num_full_subsets = 1\n",
      "remaining_weight_vector = [0.12004298 0.08080563 0.06119838 0.04944344 0.0416149  0.03603022\n",
      " 0.03184814 0.0286013  0.02600931 0.02389372 0.02213558 0.02065256\n",
      " 0.01938582 0.01829226 0.01733954 0.01650293 0.01576322 0.01510523\n",
      " 0.01451683 0.0139882  0.01351133 0.01307959 0.01268747 0.01233034\n",
      " 0.0120043  0.01170602 0.01143266 0.01118179 0.01095129 0.01073933\n",
      " 0.01054432 0.01036486 0.01019973 0.01004786 0.00990831 0.00978023\n",
      " 0.0096629  0.00955566 0.00945793 0.00936921 0.00928904 0.00921703\n",
      " 0.00915284 0.00909615 0.00904672 0.00900431 0.00896873 0.00893983\n",
      " 0.00891748 0.00890158 0.00889207 0.00888891]\n",
      "num_paired_subset_sizes = 52\n",
      "weight_left = 0.8071930411864512\n",
      "np.sum(w_aug) = 106.00000000000001\n",
      "np.sum(self.kernelWeights) = 1.0\n",
      "phi = [ 0.          0.0395821  -0.00513989  0.          0.          0.\n",
      "  0.00751916  0.          0.00323087  0.          0.          0.11918684\n",
      " -0.03183943  0.         -0.02572697  0.00880449  0.          0.\n",
      "  0.          0.          0.          0.          0.          0.\n",
      "  0.          0.          0.          0.          0.          0.0039619\n",
      "  0.          0.          0.          0.00321379  0.          0.\n",
      "  0.          0.          0.          0.          0.00487355  0.\n",
      "  0.          0.          0.          0.          0.          0.\n",
      "  0.          0.          0.          0.          0.          0.\n",
      "  0.          0.01053959  0.          0.00353283  0.          0.\n",
      "  0.          0.          0.          0.          0.          0.\n",
      "  0.          0.          0.          0.          0.          0.\n",
      "  0.          0.          0.          0.          0.          0.\n",
      "  0.          0.          0.         -0.00932857  0.          0.\n",
      "  0.          0.00305011  0.0050081   0.          0.          0.\n",
      "  0.          0.          0.          0.         -0.00640469  0.\n",
      "  0.0044788   0.          0.         -0.00489914  0.          0.\n",
      "  0.04752901  0.         -0.02455817  0.00900129]\n",
      " 20%|██        | 5/25 [00:28<01:52,  5.63s/it]num_full_subsets = 1\n",
      "remaining_weight_vector = [0.12004298 0.08080563 0.06119838 0.04944344 0.0416149  0.03603022\n",
      " 0.03184814 0.0286013  0.02600931 0.02389372 0.02213558 0.02065256\n",
      " 0.01938582 0.01829226 0.01733954 0.01650293 0.01576322 0.01510523\n",
      " 0.01451683 0.0139882  0.01351133 0.01307959 0.01268747 0.01233034\n",
      " 0.0120043  0.01170602 0.01143266 0.01118179 0.01095129 0.01073933\n",
      " 0.01054432 0.01036486 0.01019973 0.01004786 0.00990831 0.00978023\n",
      " 0.0096629  0.00955566 0.00945793 0.00936921 0.00928904 0.00921703\n",
      " 0.00915284 0.00909615 0.00904672 0.00900431 0.00896873 0.00893983\n",
      " 0.00891748 0.00890158 0.00889207 0.00888891]\n",
      "num_paired_subset_sizes = 52\n",
      "weight_left = 0.8071930411864512\n",
      "np.sum(w_aug) = 106.00000000000003\n",
      "np.sum(self.kernelWeights) = 1.0000000000000002\n",
      "phi = [ 0.10155911  0.          0.          0.          0.          0.\n",
      "  0.00544085  0.          0.          0.          0.          0.09443888\n",
      " -0.02906468  0.          0.066943    0.          0.00309511  0.\n",
      "  0.01177537  0.          0.          0.          0.          0.\n",
      "  0.          0.          0.          0.          0.          0.\n",
      " -0.01149931  0.          0.          0.          0.          0.\n",
      "  0.          0.          0.          0.          0.00464855  0.\n",
      "  0.          0.          0.          0.          0.          0.\n",
      "  0.          0.          0.          0.          0.          0.\n",
      "  0.          0.          0.          0.00556195  0.          0.\n",
      "  0.          0.          0.          0.          0.         -0.0260214\n",
      "  0.          0.          0.          0.          0.          0.\n",
      "  0.          0.         -0.01887109  0.          0.          0.\n",
      "  0.          0.          0.          0.          0.          0.\n",
      "  0.          0.00434271  0.          0.          0.          0.\n",
      "  0.          0.          0.          0.          0.          0.\n",
      "  0.00712294 -0.01424883  0.          0.          0.          0.\n",
      " -0.02142575  0.          0.          0.        ]\n",
      " 24%|██▍       | 6/25 [00:34<01:51,  5.88s/it]num_full_subsets = 1\n",
      "remaining_weight_vector = [0.12004298 0.08080563 0.06119838 0.04944344 0.0416149  0.03603022\n",
      " 0.03184814 0.0286013  0.02600931 0.02389372 0.02213558 0.02065256\n",
      " 0.01938582 0.01829226 0.01733954 0.01650293 0.01576322 0.01510523\n",
      " 0.01451683 0.0139882  0.01351133 0.01307959 0.01268747 0.01233034\n",
      " 0.0120043  0.01170602 0.01143266 0.01118179 0.01095129 0.01073933\n",
      " 0.01054432 0.01036486 0.01019973 0.01004786 0.00990831 0.00978023\n",
      " 0.0096629  0.00955566 0.00945793 0.00936921 0.00928904 0.00921703\n",
      " 0.00915284 0.00909615 0.00904672 0.00900431 0.00896873 0.00893983\n",
      " 0.00891748 0.00890158 0.00889207 0.00888891]\n",
      "num_paired_subset_sizes = 52\n",
      "weight_left = 0.8071930411864512\n",
      "np.sum(w_aug) = 106.00000000000001\n",
      "np.sum(self.kernelWeights) = 1.0000000000000002\n",
      "phi = [ 0.         -0.0064724  -0.00882424 -0.00204964 -0.0016573   0.\n",
      "  0.         -0.00385285  0.          0.          0.         -0.21997846\n",
      " -0.03588668  0.         -0.05164293 -0.00313182 -0.00537295  0.\n",
      "  0.          0.          0.          0.          0.         -0.00139535\n",
      "  0.          0.         -0.00369375 -0.00262817 -0.00625869  0.\n",
      " -0.00159508  0.          0.          0.          0.          0.\n",
      "  0.          0.          0.          0.          0.          0.\n",
      "  0.          0.          0.         -0.00232197  0.         -0.00306919\n",
      " -0.01149492  0.          0.          0.          0.          0.\n",
      "  0.          0.          0.          0.          0.          0.\n",
      "  0.          0.          0.          0.          0.          0.\n",
      "  0.          0.          0.          0.          0.          0.\n",
      "  0.          0.          0.          0.          0.          0.\n",
      "  0.          0.          0.         -0.00249356  0.          0.\n",
      " -0.00610795  0.         -0.00245112 -0.00145764  0.          0.\n",
      "  0.          0.          0.          0.         -0.00274381  0.\n",
      "  0.          0.         -0.00046486 -0.00470125  0.         -0.00583879\n",
      "  0.          0.03571984 -0.01161634 -0.00635709]\n",
      " 28%|██▊       | 7/25 [00:42<01:58,  6.57s/it]num_full_subsets = 1\n",
      "remaining_weight_vector = [0.12004298 0.08080563 0.06119838 0.04944344 0.0416149  0.03603022\n",
      " 0.03184814 0.0286013  0.02600931 0.02389372 0.02213558 0.02065256\n",
      " 0.01938582 0.01829226 0.01733954 0.01650293 0.01576322 0.01510523\n",
      " 0.01451683 0.0139882  0.01351133 0.01307959 0.01268747 0.01233034\n",
      " 0.0120043  0.01170602 0.01143266 0.01118179 0.01095129 0.01073933\n",
      " 0.01054432 0.01036486 0.01019973 0.01004786 0.00990831 0.00978023\n",
      " 0.0096629  0.00955566 0.00945793 0.00936921 0.00928904 0.00921703\n",
      " 0.00915284 0.00909615 0.00904672 0.00900431 0.00896873 0.00893983\n",
      " 0.00891748 0.00890158 0.00889207 0.00888891]\n",
      "num_paired_subset_sizes = 52\n",
      "weight_left = 0.8071930411864512\n",
      "np.sum(w_aug) = 106.00000000000001\n",
      "np.sum(self.kernelWeights) = 1.0000000000000002\n",
      "phi = [ 0.          0.06893852  0.          0.          0.002453    0.\n",
      "  0.          0.          0.00299119  0.          0.00129166  0.09817275\n",
      " -0.01599795  0.          0.09527095  0.          0.00680911  0.\n",
      "  0.01017751  0.         -0.01055642  0.          0.          0.\n",
      "  0.          0.          0.0023324   0.07604588  0.          0.00766567\n",
      "  0.          0.          0.          0.00316626  0.          0.\n",
      "  0.          0.          0.          0.          0.00414558  0.\n",
      "  0.02367716  0.          0.          0.          0.          0.\n",
      "  0.          0.          0.          0.          0.          0.\n",
      "  0.          0.          0.          0.          0.          0.\n",
      "  0.          0.          0.          0.          0.          0.\n",
      "  0.          0.00244302  0.          0.          0.         -0.01137134\n",
      "  0.          0.          0.          0.          0.          0.\n",
      "  0.          0.          0.          0.          0.          0.\n",
      "  0.          0.00577132  0.          0.          0.          0.\n",
      "  0.          0.          0.          0.          0.          0.\n",
      "  0.00812937  0.00260512 -0.02244648  0.          0.          0.\n",
      " -0.03246231  0.          0.          0.        ]\n",
      " 32%|███▏      | 8/25 [00:50<01:56,  6.88s/it]num_full_subsets = 1\n",
      "remaining_weight_vector = [0.12004298 0.08080563 0.06119838 0.04944344 0.0416149  0.03603022\n",
      " 0.03184814 0.0286013  0.02600931 0.02389372 0.02213558 0.02065256\n",
      " 0.01938582 0.01829226 0.01733954 0.01650293 0.01576322 0.01510523\n",
      " 0.01451683 0.0139882  0.01351133 0.01307959 0.01268747 0.01233034\n",
      " 0.0120043  0.01170602 0.01143266 0.01118179 0.01095129 0.01073933\n",
      " 0.01054432 0.01036486 0.01019973 0.01004786 0.00990831 0.00978023\n",
      " 0.0096629  0.00955566 0.00945793 0.00936921 0.00928904 0.00921703\n",
      " 0.00915284 0.00909615 0.00904672 0.00900431 0.00896873 0.00893983\n",
      " 0.00891748 0.00890158 0.00889207 0.00888891]\n",
      "num_paired_subset_sizes = 52\n",
      "weight_left = 0.8071930411864512\n",
      "np.sum(w_aug) = 106.0\n",
      "np.sum(self.kernelWeights) = 0.9999999999999999\n",
      "phi = [-0.00856528 -0.00821774 -0.0060379  -0.11655652  0.         -0.01072269\n",
      "  0.          0.         -0.00400606  0.         -0.00635618  0.09165039\n",
      " -0.01257439  0.          0.05046093  0.          0.          0.\n",
      " -0.01515299  0.          0.          0.          0.          0.\n",
      " -0.00731621  0.          0.          0.         -0.00499986 -0.00367068\n",
      "  0.          0.         -0.00602901  0.          0.          0.\n",
      "  0.          0.          0.          0.         -0.00129013  0.\n",
      "  0.          0.          0.          0.          0.          0.\n",
      "  0.          0.          0.          0.          0.          0.\n",
      "  0.          0.          0.          0.          0.          0.\n",
      "  0.          0.          0.03104079  0.          0.          0.\n",
      "  0.          0.          0.          0.          0.          0.\n",
      " -0.0018455  -0.00359489  0.          0.          0.          0.\n",
      "  0.          0.          0.         -0.00418464  0.          0.\n",
      "  0.         -0.07971324  0.         -0.00312925  0.         -0.00602299\n",
      " -0.00588668  0.          0.         -0.00347416 -0.00373836  0.\n",
      " -0.18984927  0.          0.          0.01640952  0.         -0.00553663\n",
      " -0.0221707  -0.00484503 -0.01482272  0.        ]\n",
      " 36%|███▌      | 9/25 [00:57<01:50,  6.90s/it]num_full_subsets = 1\n",
      "remaining_weight_vector = [0.12004298 0.08080563 0.06119838 0.04944344 0.0416149  0.03603022\n",
      " 0.03184814 0.0286013  0.02600931 0.02389372 0.02213558 0.02065256\n",
      " 0.01938582 0.01829226 0.01733954 0.01650293 0.01576322 0.01510523\n",
      " 0.01451683 0.0139882  0.01351133 0.01307959 0.01268747 0.01233034\n",
      " 0.0120043  0.01170602 0.01143266 0.01118179 0.01095129 0.01073933\n",
      " 0.01054432 0.01036486 0.01019973 0.01004786 0.00990831 0.00978023\n",
      " 0.0096629  0.00955566 0.00945793 0.00936921 0.00928904 0.00921703\n",
      " 0.00915284 0.00909615 0.00904672 0.00900431 0.00896873 0.00893983\n",
      " 0.00891748 0.00890158 0.00889207 0.00888891]\n",
      "num_paired_subset_sizes = 52\n",
      "weight_left = 0.8071930411864512\n",
      "np.sum(w_aug) = 106.00000000000003\n",
      "np.sum(self.kernelWeights) = 1.0000000000000002\n",
      "phi = [-5.09213167e-03 -6.67845567e-03 -8.26216002e-03 -8.65374997e-04\n",
      " -1.90046649e-03  0.00000000e+00 -1.44508842e-02  0.00000000e+00\n",
      " -1.22599253e-03  0.00000000e+00  0.00000000e+00 -1.77634289e-01\n",
      " -3.91661032e-02  0.00000000e+00 -4.18349005e-02 -2.10026555e-03\n",
      " -2.53524712e-03 -2.53325301e-03 -1.37887097e-02  0.00000000e+00\n",
      " -2.36145645e-03  0.00000000e+00  0.00000000e+00 -3.42180759e-03\n",
      " -1.04679967e-05  0.00000000e+00  0.00000000e+00 -2.35019458e-03\n",
      " -2.84999716e-03  0.00000000e+00 -2.29442333e-03  0.00000000e+00\n",
      "  0.00000000e+00  0.00000000e+00  0.00000000e+00  0.00000000e+00\n",
      "  0.00000000e+00  0.00000000e+00  0.00000000e+00  0.00000000e+00\n",
      "  0.00000000e+00  0.00000000e+00 -1.17869938e-03 -1.31861493e-03\n",
      "  0.00000000e+00  0.00000000e+00  0.00000000e+00 -7.81483727e-04\n",
      "  0.00000000e+00 -2.97529444e-03  0.00000000e+00  0.00000000e+00\n",
      "  0.00000000e+00  0.00000000e+00  0.00000000e+00  0.00000000e+00\n",
      " -4.29960672e-04  0.00000000e+00 -1.04774154e-03  0.00000000e+00\n",
      "  0.00000000e+00  0.00000000e+00 -5.40619131e-03  0.00000000e+00\n",
      " -6.70249445e-04  0.00000000e+00  0.00000000e+00  0.00000000e+00\n",
      "  0.00000000e+00  0.00000000e+00 -3.17832117e-03 -4.64579674e-03\n",
      " -1.52596534e-03  0.00000000e+00  0.00000000e+00  0.00000000e+00\n",
      "  0.00000000e+00  0.00000000e+00  0.00000000e+00  0.00000000e+00\n",
      " -8.01363925e-04 -1.43641982e-03 -7.30568865e-03  0.00000000e+00\n",
      " -4.59573138e-03  0.00000000e+00 -6.07157868e-03  0.00000000e+00\n",
      "  0.00000000e+00  0.00000000e+00  0.00000000e+00 -1.87742836e-03\n",
      "  0.00000000e+00 -1.09882625e-03  0.00000000e+00 -1.80048076e-03\n",
      " -3.16541877e-02  0.00000000e+00  0.00000000e+00 -3.60470535e-03\n",
      "  0.00000000e+00 -8.03650697e-03 -2.76790391e-02 -8.34264217e-03\n",
      " -2.83764387e-03  0.00000000e+00]\n",
      " 40%|████      | 10/25 [01:03<01:40,  6.68s/it]num_full_subsets = 1\n",
      "remaining_weight_vector = [0.12004298 0.08080563 0.06119838 0.04944344 0.0416149  0.03603022\n",
      " 0.03184814 0.0286013  0.02600931 0.02389372 0.02213558 0.02065256\n",
      " 0.01938582 0.01829226 0.01733954 0.01650293 0.01576322 0.01510523\n",
      " 0.01451683 0.0139882  0.01351133 0.01307959 0.01268747 0.01233034\n",
      " 0.0120043  0.01170602 0.01143266 0.01118179 0.01095129 0.01073933\n",
      " 0.01054432 0.01036486 0.01019973 0.01004786 0.00990831 0.00978023\n",
      " 0.0096629  0.00955566 0.00945793 0.00936921 0.00928904 0.00921703\n",
      " 0.00915284 0.00909615 0.00904672 0.00900431 0.00896873 0.00893983\n",
      " 0.00891748 0.00890158 0.00889207 0.00888891]\n",
      "num_paired_subset_sizes = 52\n",
      "weight_left = 0.8071930411864512\n",
      "np.sum(w_aug) = 106.00000000000001\n",
      "np.sum(self.kernelWeights) = 0.9999999999999999\n",
      "phi = [-0.00420499 -0.01106359 -0.00350624 -0.08715776 -0.00255081 -0.00445653\n",
      "  0.         -0.00210775  0.          0.         -0.00147492  0.08299693\n",
      " -0.018345    0.          0.07834942  0.          0.         -0.00426693\n",
      "  0.          0.          0.          0.          0.          0.\n",
      "  0.          0.          0.          0.         -0.00346435  0.\n",
      "  0.          0.          0.          0.          0.          0.\n",
      "  0.          0.          0.         -0.00095191  0.          0.\n",
      " -0.00071554  0.          0.         -0.00116238  0.         -0.00193442\n",
      "  0.          0.          0.          0.          0.          0.\n",
      "  0.          0.          0.03097304  0.          0.          0.\n",
      "  0.          0.         -0.00320091  0.          0.         -0.00122648\n",
      "  0.          0.          0.          0.          0.         -0.01162511\n",
      "  0.          0.          0.         -0.00497827 -0.00107981  0.\n",
      "  0.         -0.00130362 -0.00111367 -0.00696699  0.         -0.00059653\n",
      " -0.00448262  0.         -0.01066243  0.         -0.00080035  0.\n",
      " -0.00218686 -0.00363795 -0.00123766 -0.00070067  0.         -0.00685739\n",
      " -0.14815868  0.          0.         -0.00387981  0.          0.\n",
      " -0.04156199 -0.00386949 -0.01012251  0.        ]\n",
      " 44%|████▍     | 11/25 [01:09<01:30,  6.49s/it]num_full_subsets = 1\n",
      "remaining_weight_vector = [0.11947654 0.08040961 0.06088708 0.04918258 0.0413873  0.03582606\n",
      " 0.03166128 0.02842764 0.02584595 0.02373854 0.021987   0.02050933\n",
      " 0.01924698 0.01815701 0.01720722 0.016373   0.0156352  0.01497873\n",
      " 0.01439149 0.01386373 0.01338743 0.01295602 0.012564   0.01220676\n",
      " 0.01188041 0.01158163 0.0113076  0.01105588 0.01082437 0.01061124\n",
      " 0.0104149  0.01023395 0.01006718 0.00991351 0.009772   0.00964181\n",
      " 0.00952219 0.0094125  0.00931214 0.00922061 0.00913746 0.00906226\n",
      " 0.00899468 0.0089344  0.00888115 0.00883468 0.0087948  0.00876134\n",
      " 0.00873415 0.00871312 0.00869815 0.0086892  0.00868622]\n",
      "num_paired_subset_sizes = 53\n",
      "weight_left = 0.8079159893252132\n",
      "np.sum(w_aug) = 108.00000000000003\n",
      "np.sum(self.kernelWeights) = 1.0000000000000002\n",
      "phi = [ 0.         -0.01270492 -0.01002     0.01087853  0.          0.\n",
      "  0.01116367  0.          0.00556547  0.          0.          0.11088189\n",
      " -0.03346201  0.          0.13359056  0.          0.00333406  0.\n",
      "  0.          0.          0.          0.          0.          0.\n",
      "  0.          0.          0.          0.          0.          0.00489478\n",
      " -0.03070202  0.          0.          0.          0.00301641  0.\n",
      "  0.          0.          0.          0.          0.          0.004882\n",
      "  0.          0.          0.          0.          0.          0.\n",
      "  0.          0.          0.          0.          0.          0.\n",
      "  0.          0.         -0.01692199  0.          0.          0.00347907\n",
      "  0.          0.          0.          0.          0.          0.\n",
      "  0.          0.          0.          0.          0.          0.\n",
      "  0.00818633  0.00347705  0.          0.          0.          0.\n",
      "  0.          0.          0.          0.          0.          0.0375064\n",
      "  0.          0.          0.          0.01153041  0.          0.\n",
      "  0.          0.          0.          0.          0.          0.\n",
      " -0.01481133  0.          0.01289696  0.          0.          0.\n",
      "  0.          0.         -0.02650029  0.          0.          0.        ]\n",
      " 48%|████▊     | 12/25 [01:15<01:22,  6.33s/it]num_full_subsets = 1\n",
      "remaining_weight_vector = [0.12004298 0.08080563 0.06119838 0.04944344 0.0416149  0.03603022\n",
      " 0.03184814 0.0286013  0.02600931 0.02389372 0.02213558 0.02065256\n",
      " 0.01938582 0.01829226 0.01733954 0.01650293 0.01576322 0.01510523\n",
      " 0.01451683 0.0139882  0.01351133 0.01307959 0.01268747 0.01233034\n",
      " 0.0120043  0.01170602 0.01143266 0.01118179 0.01095129 0.01073933\n",
      " 0.01054432 0.01036486 0.01019973 0.01004786 0.00990831 0.00978023\n",
      " 0.0096629  0.00955566 0.00945793 0.00936921 0.00928904 0.00921703\n",
      " 0.00915284 0.00909615 0.00904672 0.00900431 0.00896873 0.00893983\n",
      " 0.00891748 0.00890158 0.00889207 0.00888891]\n",
      "num_paired_subset_sizes = 52\n",
      "weight_left = 0.8071930411864512\n",
      "np.sum(w_aug) = 106.00000000000001\n",
      "np.sum(self.kernelWeights) = 1.0\n",
      "phi = [0.         0.         0.         0.         0.         0.\n",
      " 0.0053641  0.         0.         0.         0.         0.11097946\n",
      " 0.         0.         0.12241515 0.         0.00050715 0.\n",
      " 0.         0.         0.         0.00075799 0.         0.\n",
      " 0.         0.         0.0017975  0.         0.02458107 0.\n",
      " 0.         0.         0.         0.00332082 0.         0.\n",
      " 0.         0.00168728 0.         0.         0.00155205 0.\n",
      " 0.         0.         0.         0.         0.         0.\n",
      " 0.00223398 0.         0.00111286 0.         0.         0.\n",
      " 0.         0.         0.         0.00117198 0.         0.\n",
      " 0.         0.         0.         0.         0.         0.\n",
      " 0.         0.         0.         0.         0.00646301 0.\n",
      " 0.         0.         0.00150898 0.         0.         0.\n",
      " 0.         0.         0.         0.         0.         0.\n",
      " 0.         0.01123947 0.         0.         0.         0.\n",
      " 0.         0.         0.         0.         0.         0.01357263\n",
      " 0.00638359 0.         0.00221526 0.02109856 0.00170962 0.\n",
      " 0.00879396 0.         0.05102571 0.00048704]\n",
      " 52%|█████▏    | 13/25 [01:21<01:15,  6.29s/it]num_full_subsets = 1\n",
      "remaining_weight_vector = [0.12004298 0.08080563 0.06119838 0.04944344 0.0416149  0.03603022\n",
      " 0.03184814 0.0286013  0.02600931 0.02389372 0.02213558 0.02065256\n",
      " 0.01938582 0.01829226 0.01733954 0.01650293 0.01576322 0.01510523\n",
      " 0.01451683 0.0139882  0.01351133 0.01307959 0.01268747 0.01233034\n",
      " 0.0120043  0.01170602 0.01143266 0.01118179 0.01095129 0.01073933\n",
      " 0.01054432 0.01036486 0.01019973 0.01004786 0.00990831 0.00978023\n",
      " 0.0096629  0.00955566 0.00945793 0.00936921 0.00928904 0.00921703\n",
      " 0.00915284 0.00909615 0.00904672 0.00900431 0.00896873 0.00893983\n",
      " 0.00891748 0.00890158 0.00889207 0.00888891]\n",
      "num_paired_subset_sizes = 52\n",
      "weight_left = 0.8071930411864512\n",
      "np.sum(w_aug) = 106.00000000000003\n",
      "np.sum(self.kernelWeights) = 0.9999999999999999\n",
      "phi = [-0.00374682  0.06401135  0.          0.          0.          0.\n",
      "  0.         -0.00101212  0.          0.         -0.00413628 -0.23109935\n",
      " -0.04872623  0.         -0.07000619  0.         -0.00290306 -0.00142679\n",
      "  0.          0.         -0.0037903   0.         -0.01717083  0.\n",
      "  0.          0.          0.         -0.00489895  0.          0.\n",
      "  0.         -0.00055969  0.          0.          0.         -0.01835941\n",
      "  0.          0.          0.          0.          0.          0.\n",
      " -0.00165433  0.          0.          0.          0.          0.\n",
      "  0.          0.          0.          0.          0.          0.\n",
      "  0.         -0.00177807  0.          0.          0.          0.\n",
      "  0.          0.         -0.00208267  0.         -0.00157767  0.\n",
      "  0.          0.          0.         -0.00059265 -0.00468257 -0.00322355\n",
      " -0.0021458   0.          0.          0.          0.          0.\n",
      "  0.          0.          0.          0.          0.          0.\n",
      " -0.00405707  0.         -0.00932114  0.         -0.00258762  0.\n",
      " -0.00192024  0.          0.          0.          0.         -0.00222031\n",
      "  0.          0.          0.          0.          0.         -0.00130922\n",
      "  0.         -0.00595228  0.          0.        ]\n",
      " 56%|█████▌    | 14/25 [01:27<01:07,  6.17s/it]num_full_subsets = 1\n",
      "remaining_weight_vector = [0.12004298 0.08080563 0.06119838 0.04944344 0.0416149  0.03603022\n",
      " 0.03184814 0.0286013  0.02600931 0.02389372 0.02213558 0.02065256\n",
      " 0.01938582 0.01829226 0.01733954 0.01650293 0.01576322 0.01510523\n",
      " 0.01451683 0.0139882  0.01351133 0.01307959 0.01268747 0.01233034\n",
      " 0.0120043  0.01170602 0.01143266 0.01118179 0.01095129 0.01073933\n",
      " 0.01054432 0.01036486 0.01019973 0.01004786 0.00990831 0.00978023\n",
      " 0.0096629  0.00955566 0.00945793 0.00936921 0.00928904 0.00921703\n",
      " 0.00915284 0.00909615 0.00904672 0.00900431 0.00896873 0.00893983\n",
      " 0.00891748 0.00890158 0.00889207 0.00888891]\n",
      "num_paired_subset_sizes = 52\n",
      "weight_left = 0.8071930411864512\n",
      "np.sum(w_aug) = 106.00000000000001\n",
      "np.sum(self.kernelWeights) = 1.0000000000000002\n",
      "phi = [ 0.          0.11533838  0.          0.          0.          0.\n",
      "  0.          0.          0.          0.          0.          0.13059216\n",
      " -0.02627273  0.          0.10963355  0.          0.         -0.00574764\n",
      "  0.01224101  0.          0.          0.          0.          0.\n",
      "  0.          0.          0.          0.          0.         -0.00939002\n",
      "  0.          0.          0.          0.          0.          0.\n",
      "  0.          0.          0.          0.          0.          0.\n",
      "  0.          0.          0.          0.          0.          0.\n",
      "  0.          0.          0.          0.          0.          0.\n",
      "  0.          0.          0.          0.          0.          0.\n",
      "  0.          0.          0.          0.          0.          0.\n",
      "  0.          0.          0.         -0.00768616  0.         -0.01431383\n",
      "  0.          0.          0.          0.          0.          0.\n",
      "  0.          0.          0.          0.          0.          0.\n",
      "  0.          0.01294582  0.          0.          0.          0.\n",
      "  0.          0.          0.          0.          0.          0.\n",
      "  0.01119165  0.          0.          0.         -0.0197926   0.\n",
      " -0.03403309  0.          0.          0.        ]\n",
      " 60%|██████    | 15/25 [01:33<01:01,  6.15s/it]num_full_subsets = 1\n",
      "remaining_weight_vector = [0.12004298 0.08080563 0.06119838 0.04944344 0.0416149  0.03603022\n",
      " 0.03184814 0.0286013  0.02600931 0.02389372 0.02213558 0.02065256\n",
      " 0.01938582 0.01829226 0.01733954 0.01650293 0.01576322 0.01510523\n",
      " 0.01451683 0.0139882  0.01351133 0.01307959 0.01268747 0.01233034\n",
      " 0.0120043  0.01170602 0.01143266 0.01118179 0.01095129 0.01073933\n",
      " 0.01054432 0.01036486 0.01019973 0.01004786 0.00990831 0.00978023\n",
      " 0.0096629  0.00955566 0.00945793 0.00936921 0.00928904 0.00921703\n",
      " 0.00915284 0.00909615 0.00904672 0.00900431 0.00896873 0.00893983\n",
      " 0.00891748 0.00890158 0.00889207 0.00888891]\n",
      "num_paired_subset_sizes = 52\n",
      "weight_left = 0.8071930411864512\n",
      "np.sum(w_aug) = 106.00000000000001\n",
      "np.sum(self.kernelWeights) = 1.0\n",
      "phi = [ 0.          0.03861017 -0.00407349 -0.0020944   0.          0.\n",
      "  0.          0.          0.          0.          0.         -0.17778391\n",
      " -0.04258236  0.         -0.04963022 -0.00194465  0.          0.\n",
      " -0.00816352  0.         -0.00273081 -0.00130715 -0.00046163 -0.0026905\n",
      "  0.         -0.00199928  0.         -0.00308416 -0.00284479  0.\n",
      "  0.          0.          0.         -0.06590697  0.          0.\n",
      "  0.          0.          0.          0.         -0.06417254  0.\n",
      " -0.0008973  -0.0014752   0.          0.          0.         -0.00253553\n",
      "  0.          0.          0.          0.          0.          0.\n",
      "  0.          0.          0.          0.          0.          0.\n",
      "  0.          0.         -0.00338452  0.          0.          0.\n",
      "  0.         -0.00141337  0.          0.          0.          0.\n",
      "  0.          0.          0.          0.          0.          0.\n",
      "  0.          0.          0.          0.          0.          0.\n",
      " -0.00486745 -0.02072395 -0.00162409  0.         -0.00258878  0.\n",
      "  0.          0.          0.          0.          0.          0.\n",
      "  0.          0.          0.          0.          0.         -0.00542306\n",
      " -0.02429869 -0.00643995 -0.00221592  0.        ]\n",
      " 64%|██████▍   | 16/25 [01:39<00:54,  6.10s/it]num_full_subsets = 1\n",
      "remaining_weight_vector = [0.12004298 0.08080563 0.06119838 0.04944344 0.0416149  0.03603022\n",
      " 0.03184814 0.0286013  0.02600931 0.02389372 0.02213558 0.02065256\n",
      " 0.01938582 0.01829226 0.01733954 0.01650293 0.01576322 0.01510523\n",
      " 0.01451683 0.0139882  0.01351133 0.01307959 0.01268747 0.01233034\n",
      " 0.0120043  0.01170602 0.01143266 0.01118179 0.01095129 0.01073933\n",
      " 0.01054432 0.01036486 0.01019973 0.01004786 0.00990831 0.00978023\n",
      " 0.0096629  0.00955566 0.00945793 0.00936921 0.00928904 0.00921703\n",
      " 0.00915284 0.00909615 0.00904672 0.00900431 0.00896873 0.00893983\n",
      " 0.00891748 0.00890158 0.00889207 0.00888891]\n",
      "num_paired_subset_sizes = 52\n",
      "weight_left = 0.8071930411864512\n",
      "np.sum(w_aug) = 106.00000000000001\n",
      "np.sum(self.kernelWeights) = 1.0000000000000002\n",
      "phi = [ 0.          0.          0.          0.00172396  0.          0.\n",
      "  0.          0.         -0.03350097  0.00133885  0.          0.13363237\n",
      "  0.16640708  0.          0.          0.          0.00188379  0.\n",
      "  0.00810484  0.          0.01032322  0.          0.          0.\n",
      "  0.          0.          0.0127186   0.          0.          0.00747037\n",
      "  0.          0.          0.          0.00813568  0.          0.\n",
      "  0.          0.          0.00167323  0.          0.00406225  0.\n",
      "  0.          0.00157656  0.          0.          0.          0.\n",
      "  0.          0.          0.          0.          0.          0.\n",
      "  0.          0.          0.          0.          0.          0.\n",
      "  0.          0.          0.          0.          0.          0.\n",
      "  0.00210689  0.          0.          0.          0.          0.\n",
      "  0.          0.          0.0021703   0.          0.          0.\n",
      " -0.0004556   0.          0.          0.          0.          0.\n",
      "  0.          0.          0.00120835  0.00187186  0.          0.\n",
      "  0.          0.          0.          0.02310902  0.          0.\n",
      "  0.01064728  0.          0.          0.03966986  0.          0.\n",
      "  0.01168939  0.00335929  0.00832546  0.        ]\n",
      " 68%|██████▊   | 17/25 [01:45<00:48,  6.05s/it]num_full_subsets = 1\n",
      "remaining_weight_vector = [0.12004298 0.08080563 0.06119838 0.04944344 0.0416149  0.03603022\n",
      " 0.03184814 0.0286013  0.02600931 0.02389372 0.02213558 0.02065256\n",
      " 0.01938582 0.01829226 0.01733954 0.01650293 0.01576322 0.01510523\n",
      " 0.01451683 0.0139882  0.01351133 0.01307959 0.01268747 0.01233034\n",
      " 0.0120043  0.01170602 0.01143266 0.01118179 0.01095129 0.01073933\n",
      " 0.01054432 0.01036486 0.01019973 0.01004786 0.00990831 0.00978023\n",
      " 0.0096629  0.00955566 0.00945793 0.00936921 0.00928904 0.00921703\n",
      " 0.00915284 0.00909615 0.00904672 0.00900431 0.00896873 0.00893983\n",
      " 0.00891748 0.00890158 0.00889207 0.00888891]\n",
      "num_paired_subset_sizes = 52\n",
      "weight_left = 0.8071930411864512\n",
      "np.sum(w_aug) = 106.00000000000003\n",
      "np.sum(self.kernelWeights) = 0.9999999999999999\n",
      "phi = [-0.00343969 -0.00561591 -0.00517923  0.          0.          0.\n",
      "  0.          0.          0.         -0.0107468  -0.00223017 -0.18967049\n",
      " -0.04970116  0.         -0.06299872  0.         -0.00414897  0.\n",
      " -0.00456006  0.         -0.00280489  0.          0.          0.\n",
      "  0.          0.          0.         -0.00222647  0.01721659  0.\n",
      "  0.          0.          0.          0.          0.          0.\n",
      "  0.          0.          0.          0.          0.          0.\n",
      "  0.          0.          0.          0.          0.          0.\n",
      "  0.         -0.00173365  0.          0.          0.          0.\n",
      "  0.          0.          0.06335291  0.          0.          0.\n",
      "  0.          0.         -0.00346725  0.          0.          0.\n",
      "  0.          0.          0.          0.          0.          0.\n",
      "  0.          0.          0.          0.          0.          0.\n",
      "  0.          0.         -0.00220844  0.          0.          0.\n",
      " -0.00287473  0.          0.          0.          0.          0.\n",
      "  0.          0.          0.          0.          0.          0.02879526\n",
      "  0.          0.          0.          0.          0.         -0.00512304\n",
      " -0.04865585  0.          0.          0.        ]\n",
      " 72%|███████▏  | 18/25 [01:51<00:42,  6.10s/it]num_full_subsets = 1\n",
      "remaining_weight_vector = [0.12004298 0.08080563 0.06119838 0.04944344 0.0416149  0.03603022\n",
      " 0.03184814 0.0286013  0.02600931 0.02389372 0.02213558 0.02065256\n",
      " 0.01938582 0.01829226 0.01733954 0.01650293 0.01576322 0.01510523\n",
      " 0.01451683 0.0139882  0.01351133 0.01307959 0.01268747 0.01233034\n",
      " 0.0120043  0.01170602 0.01143266 0.01118179 0.01095129 0.01073933\n",
      " 0.01054432 0.01036486 0.01019973 0.01004786 0.00990831 0.00978023\n",
      " 0.0096629  0.00955566 0.00945793 0.00936921 0.00928904 0.00921703\n",
      " 0.00915284 0.00909615 0.00904672 0.00900431 0.00896873 0.00893983\n",
      " 0.00891748 0.00890158 0.00889207 0.00888891]\n",
      "num_paired_subset_sizes = 52\n",
      "weight_left = 0.8071930411864512\n",
      "np.sum(w_aug) = 106.00000000000001\n",
      "np.sum(self.kernelWeights) = 1.0000000000000002\n",
      "phi = [ 6.41680699e-02  0.00000000e+00  0.00000000e+00  2.07857555e-03\n",
      "  0.00000000e+00  0.00000000e+00  6.41551398e-03  0.00000000e+00\n",
      "  8.89147431e-03  2.22409944e-03  0.00000000e+00  1.36197257e-01\n",
      "  1.78390829e-01  0.00000000e+00  0.00000000e+00  0.00000000e+00\n",
      "  3.77349096e-03  0.00000000e+00  7.33263433e-03  0.00000000e+00\n",
      "  0.00000000e+00  0.00000000e+00  0.00000000e+00  0.00000000e+00\n",
      "  0.00000000e+00  0.00000000e+00  0.00000000e+00  0.00000000e+00\n",
      "  0.00000000e+00  0.00000000e+00  0.00000000e+00  3.82181802e-03\n",
      "  0.00000000e+00  5.66780017e-03  0.00000000e+00  0.00000000e+00\n",
      "  0.00000000e+00  0.00000000e+00  0.00000000e+00  0.00000000e+00\n",
      "  1.49593790e-03  0.00000000e+00  0.00000000e+00  3.21920153e-03\n",
      "  0.00000000e+00  0.00000000e+00  0.00000000e+00  0.00000000e+00\n",
      "  0.00000000e+00  0.00000000e+00  0.00000000e+00  0.00000000e+00\n",
      "  0.00000000e+00  0.00000000e+00  0.00000000e+00  0.00000000e+00\n",
      "  0.00000000e+00  0.00000000e+00  0.00000000e+00  0.00000000e+00\n",
      "  0.00000000e+00  0.00000000e+00  0.00000000e+00  0.00000000e+00\n",
      "  0.00000000e+00  0.00000000e+00  0.00000000e+00  2.27724502e-02\n",
      "  0.00000000e+00  0.00000000e+00  0.00000000e+00  0.00000000e+00\n",
      "  0.00000000e+00  0.00000000e+00  0.00000000e+00  0.00000000e+00\n",
      "  0.00000000e+00  0.00000000e+00  0.00000000e+00  0.00000000e+00\n",
      "  0.00000000e+00  0.00000000e+00  0.00000000e+00  0.00000000e+00\n",
      "  0.00000000e+00  0.00000000e+00  0.00000000e+00  0.00000000e+00\n",
      "  2.01697384e-03  1.90758836e-02  0.00000000e+00  1.53066317e-03\n",
      " -5.41678933e-05  0.00000000e+00  2.74134903e-03  0.00000000e+00\n",
      "  7.95444327e-03  1.83404629e-03  2.66870077e-03  0.00000000e+00\n",
      "  0.00000000e+00  0.00000000e+00  1.66719663e-02  2.71440045e-04\n",
      "  3.60028915e-03  2.48783449e-04]\n",
      " 76%|███████▌  | 19/25 [01:57<00:36,  6.04s/it]num_full_subsets = 1\n",
      "remaining_weight_vector = [0.12004298 0.08080563 0.06119838 0.04944344 0.0416149  0.03603022\n",
      " 0.03184814 0.0286013  0.02600931 0.02389372 0.02213558 0.02065256\n",
      " 0.01938582 0.01829226 0.01733954 0.01650293 0.01576322 0.01510523\n",
      " 0.01451683 0.0139882  0.01351133 0.01307959 0.01268747 0.01233034\n",
      " 0.0120043  0.01170602 0.01143266 0.01118179 0.01095129 0.01073933\n",
      " 0.01054432 0.01036486 0.01019973 0.01004786 0.00990831 0.00978023\n",
      " 0.0096629  0.00955566 0.00945793 0.00936921 0.00928904 0.00921703\n",
      " 0.00915284 0.00909615 0.00904672 0.00900431 0.00896873 0.00893983\n",
      " 0.00891748 0.00890158 0.00889207 0.00888891]\n",
      "num_paired_subset_sizes = 52\n",
      "weight_left = 0.8071930411864512\n",
      "np.sum(w_aug) = 106.00000000000003\n",
      "np.sum(self.kernelWeights) = 1.0000000000000002\n",
      "phi = [-0.00256322 -0.00392344 -0.00849799  0.          0.          0.\n",
      " -0.01099799  0.          0.          0.         -0.00075087 -0.17123139\n",
      " -0.04803537  0.         -0.05232674 -0.00125942  0.         -0.00240715\n",
      " -0.01023103  0.         -0.00320949  0.          0.         -0.00175842\n",
      "  0.          0.         -0.00141663 -0.00230638 -0.00111214  0.\n",
      "  0.          0.          0.         -0.04817779 -0.00128406  0.\n",
      "  0.          0.         -0.00915268  0.          0.          0.\n",
      " -0.00024459  0.          0.         -0.00150249  0.          0.\n",
      "  0.         -0.00268087  0.          0.          0.          0.\n",
      " -0.00113234  0.          0.          0.         -0.00190961  0.\n",
      "  0.          0.         -0.00354894  0.          0.          0.\n",
      "  0.          0.          0.         -0.00031104  0.         -0.00233789\n",
      " -0.0012318   0.          0.         -0.0021926   0.          0.\n",
      "  0.          0.          0.         -0.00111926  0.          0.\n",
      " -0.00297208 -0.01604452 -0.00351722  0.         -0.00132531  0.\n",
      "  0.         -0.00079302  0.          0.         -0.00478886  0.\n",
      "  0.          0.          0.          0.          0.         -0.0049463\n",
      " -0.0301189  -0.01041677 -0.00606235  0.        ]\n",
      " 80%|████████  | 20/25 [02:03<00:30,  6.03s/it]num_full_subsets = 1\n",
      "remaining_weight_vector = [0.12004298 0.08080563 0.06119838 0.04944344 0.0416149  0.03603022\n",
      " 0.03184814 0.0286013  0.02600931 0.02389372 0.02213558 0.02065256\n",
      " 0.01938582 0.01829226 0.01733954 0.01650293 0.01576322 0.01510523\n",
      " 0.01451683 0.0139882  0.01351133 0.01307959 0.01268747 0.01233034\n",
      " 0.0120043  0.01170602 0.01143266 0.01118179 0.01095129 0.01073933\n",
      " 0.01054432 0.01036486 0.01019973 0.01004786 0.00990831 0.00978023\n",
      " 0.0096629  0.00955566 0.00945793 0.00936921 0.00928904 0.00921703\n",
      " 0.00915284 0.00909615 0.00904672 0.00900431 0.00896873 0.00893983\n",
      " 0.00891748 0.00890158 0.00889207 0.00888891]\n",
      "num_paired_subset_sizes = 52\n",
      "weight_left = 0.8071930411864512\n",
      "np.sum(w_aug) = 106.00000000000003\n",
      "np.sum(self.kernelWeights) = 1.0000000000000002\n",
      "phi = [-0.00408145 -0.00946026 -0.00715421  0.          0.          0.\n",
      " -0.0291572   0.          0.          0.          0.          0.0968115\n",
      " -0.04435069  0.         -0.05869733 -0.00288984 -0.06909053 -0.00230946\n",
      "  0.01722783  0.         -0.00274808  0.         -0.00170259  0.\n",
      "  0.          0.         -0.01029736  0.         -0.00837095 -0.00253076\n",
      " -0.0057334   0.         -0.00322181  0.0074185  -0.00245489  0.\n",
      "  0.          0.          0.          0.          0.         -0.00171712\n",
      " -0.0021436   0.          0.          0.          0.          0.\n",
      "  0.          0.          0.          0.          0.          0.00728634\n",
      "  0.          0.          0.         -0.02996568 -0.00271878  0.00507781\n",
      "  0.          0.         -0.00705403 -0.00372759 -0.00365501  0.\n",
      "  0.00528697 -0.00147803  0.         -0.004314   -0.01354489 -0.00495652\n",
      "  0.          0.         -0.00267027  0.          0.         -0.0023556\n",
      "  0.          0.          0.          0.          0.          0.\n",
      "  0.          0.          0.          0.         -0.00862744  0.\n",
      " -0.00883065 -0.00494699  0.          0.03872989  0.         -0.00265509\n",
      "  0.01026734  0.0062862   0.         -0.01147141  0.          0.\n",
      " -0.01298458 -0.0050654   0.00672033  0.        ]\n",
      " 84%|████████▍ | 21/25 [02:09<00:24,  6.06s/it]num_full_subsets = 1\n",
      "remaining_weight_vector = [0.12028616 0.08096184 0.06131091 0.0495296  0.04168332 0.03608585\n",
      " 0.03189406 0.02863956 0.02604133 0.02392054 0.02215798 0.02067111\n",
      " 0.01940099 0.01830442 0.01734897 0.01650987 0.01576785 0.01510771\n",
      " 0.0145173  0.01398676 0.01350807 0.01307458 0.01268077 0.012322\n",
      " 0.01199435 0.01169449 0.01141957 0.01116715 0.01093511 0.0107216\n",
      " 0.01052504 0.01034402 0.01017731 0.01002385 0.00988267 0.00975293\n",
      " 0.0096339  0.00952492 0.00942541 0.00933485 0.00925278 0.00917881\n",
      " 0.00911259 0.0090538  0.00900217 0.00895748 0.00891952 0.00888814\n",
      " 0.00886319 0.00884457 0.0088322  0.00882603]\n",
      "num_paired_subset_sizes = 53\n",
      "weight_left = 0.8075569398054265\n",
      "np.sum(w_aug) = 107.00000000000003\n",
      "np.sum(self.kernelWeights) = 1.0000000000000002\n",
      "phi = [ 0.          0.          0.06326842  0.          0.          0.\n",
      "  0.00607486  0.          0.00379625  0.          0.          0.11915214\n",
      "  0.08126316  0.          0.          0.          0.          0.\n",
      "  0.          0.          0.          0.          0.          0.\n",
      "  0.          0.          0.          0.          0.          0.\n",
      "  0.          0.          0.          0.00373154  0.          0.\n",
      "  0.          0.          0.          0.          0.          0.\n",
      "  0.          0.          0.          0.          0.          0.\n",
      "  0.          0.          0.          0.          0.          0.\n",
      "  0.          0.          0.          0.          0.          0.\n",
      " -0.17699295  0.          0.          0.          0.          0.\n",
      "  0.          0.          0.          0.          0.          0.\n",
      "  0.          0.          0.02625331  0.          0.          0.\n",
      "  0.          0.          0.03162274  0.          0.          0.\n",
      "  0.          0.          0.          0.          0.          0.\n",
      "  0.          0.          0.          0.          0.          0.\n",
      "  0.          0.00744613  0.          0.          0.          0.\n",
      "  0.          0.          0.          0.          0.        ]\n",
      " 88%|████████▊ | 22/25 [02:15<00:17,  5.99s/it]num_full_subsets = 1\n",
      "remaining_weight_vector = [0.11947654 0.08040961 0.06088708 0.04918258 0.0413873  0.03582606\n",
      " 0.03166128 0.02842764 0.02584595 0.02373854 0.021987   0.02050933\n",
      " 0.01924698 0.01815701 0.01720722 0.016373   0.0156352  0.01497873\n",
      " 0.01439149 0.01386373 0.01338743 0.01295602 0.012564   0.01220676\n",
      " 0.01188041 0.01158163 0.0113076  0.01105588 0.01082437 0.01061124\n",
      " 0.0104149  0.01023395 0.01006718 0.00991351 0.009772   0.00964181\n",
      " 0.00952219 0.0094125  0.00931214 0.00922061 0.00913746 0.00906226\n",
      " 0.00899468 0.0089344  0.00888115 0.00883468 0.0087948  0.00876134\n",
      " 0.00873415 0.00871312 0.00869815 0.0086892  0.00868622]\n",
      "num_paired_subset_sizes = 53\n",
      "weight_left = 0.8079159893252132\n",
      "np.sum(w_aug) = 108.00000000000003\n",
      "np.sum(self.kernelWeights) = 1.0000000000000002\n",
      "phi = [ 0.         -0.00482362 -0.00368357  0.          0.          0.\n",
      " -0.00226397  0.          0.          0.          0.         -0.17628859\n",
      " -0.03063847  0.         -0.04556595  0.         -0.00603251  0.\n",
      "  0.         -0.01229989  0.          0.          0.          0.\n",
      "  0.          0.          0.01156725 -0.00412461  0.          0.\n",
      "  0.          0.          0.          0.          0.          0.\n",
      "  0.          0.          0.          0.          0.          0.\n",
      "  0.          0.          0.          0.          0.          0.\n",
      "  0.          0.14635339  0.          0.          0.          0.\n",
      "  0.          0.          0.          0.          0.          0.\n",
      "  0.          0.          0.          0.          0.          0.\n",
      "  0.          0.          0.          0.         -0.00895054 -0.01456903\n",
      "  0.          0.          0.          0.          0.          0.\n",
      "  0.          0.          0.          0.          0.          0.\n",
      " -0.00505576  0.         -0.00722045  0.          0.          0.01433235\n",
      "  0.          0.          0.          0.          0.          0.\n",
      "  0.01170143  0.          0.          0.          0.         -0.00479371\n",
      "  0.          0.         -0.00319466 -0.00701533  0.          0.        ]\n",
      " 92%|█████████▏| 23/25 [02:21<00:11,  5.99s/it]num_full_subsets = 1\n",
      "remaining_weight_vector = [0.12004298 0.08080563 0.06119838 0.04944344 0.0416149  0.03603022\n",
      " 0.03184814 0.0286013  0.02600931 0.02389372 0.02213558 0.02065256\n",
      " 0.01938582 0.01829226 0.01733954 0.01650293 0.01576322 0.01510523\n",
      " 0.01451683 0.0139882  0.01351133 0.01307959 0.01268747 0.01233034\n",
      " 0.0120043  0.01170602 0.01143266 0.01118179 0.01095129 0.01073933\n",
      " 0.01054432 0.01036486 0.01019973 0.01004786 0.00990831 0.00978023\n",
      " 0.0096629  0.00955566 0.00945793 0.00936921 0.00928904 0.00921703\n",
      " 0.00915284 0.00909615 0.00904672 0.00900431 0.00896873 0.00893983\n",
      " 0.00891748 0.00890158 0.00889207 0.00888891]\n",
      "num_paired_subset_sizes = 52\n",
      "weight_left = 0.8071930411864512\n",
      "np.sum(w_aug) = 106.0\n",
      "np.sum(self.kernelWeights) = 1.0\n",
      "phi = [ 0.         -0.0067257   0.0501668   0.          0.          0.\n",
      "  0.          0.          0.          0.          0.          0.06386582\n",
      " -0.03651642  0.         -0.05265874  0.         -0.08202991 -0.00772798\n",
      " -0.01930565  0.          0.          0.          0.         -0.00326557\n",
      "  0.          0.          0.          0.          0.          0.\n",
      "  0.         -0.10457756  0.          0.          0.          0.\n",
      "  0.          0.          0.          0.          0.          0.\n",
      "  0.          0.          0.          0.          0.          0.\n",
      "  0.          0.          0.          0.         -0.00051106  0.\n",
      "  0.          0.          0.          0.         -0.00291053  0.\n",
      "  0.          0.         -0.0044444   0.         -0.00236769  0.\n",
      " -0.13085735 -0.00282607  0.          0.          0.         -0.00484721\n",
      "  0.          0.          0.          0.          0.         -0.00163655\n",
      "  0.         -0.00468314  0.          0.          0.          0.\n",
      " -0.00276045  0.         -0.00348876  0.          0.          0.\n",
      " -0.0029514   0.          0.         -0.00557579  0.         -0.00490989\n",
      " -0.03854843  0.          0.          0.          0.         -0.00461173\n",
      " -0.03070004 -0.00516083  0.          0.        ]\n",
      " 96%|█████████▌| 24/25 [02:27<00:05,  5.93s/it]num_full_subsets = 1\n",
      "remaining_weight_vector = [0.12004298 0.08080563 0.06119838 0.04944344 0.0416149  0.03603022\n",
      " 0.03184814 0.0286013  0.02600931 0.02389372 0.02213558 0.02065256\n",
      " 0.01938582 0.01829226 0.01733954 0.01650293 0.01576322 0.01510523\n",
      " 0.01451683 0.0139882  0.01351133 0.01307959 0.01268747 0.01233034\n",
      " 0.0120043  0.01170602 0.01143266 0.01118179 0.01095129 0.01073933\n",
      " 0.01054432 0.01036486 0.01019973 0.01004786 0.00990831 0.00978023\n",
      " 0.0096629  0.00955566 0.00945793 0.00936921 0.00928904 0.00921703\n",
      " 0.00915284 0.00909615 0.00904672 0.00900431 0.00896873 0.00893983\n",
      " 0.00891748 0.00890158 0.00889207 0.00888891]\n",
      "num_paired_subset_sizes = 52\n",
      "weight_left = 0.8071930411864512\n",
      "np.sum(w_aug) = 106.00000000000003\n",
      "np.sum(self.kernelWeights) = 1.0\n",
      "phi = [ 0.05148095  0.          0.          0.          0.00283574  0.\n",
      "  0.00366879  0.00475306  0.00594509  0.00086673  0.0035259   0.12030435\n",
      "  0.13064673  0.         -0.0232997   0.          0.00494368  0.\n",
      "  0.01150305  0.          0.01359155  0.          0.          0.\n",
      "  0.00369091  0.          0.          0.          0.          0.0016251\n",
      "  0.          0.          0.00105003  0.00838286  0.00189255  0.\n",
      "  0.          0.          0.          0.          0.00352322  0.\n",
      "  0.          0.          0.          0.          0.          0.\n",
      "  0.          0.          0.          0.          0.00172897  0.\n",
      "  0.          0.          0.          0.00306172  0.          0.\n",
      "  0.          0.          0.          0.          0.          0.\n",
      "  0.00196492  0.          0.          0.          0.          0.00564596\n",
      "  0.          0.          0.          0.          0.          0.\n",
      "  0.          0.          0.          0.          0.          0.\n",
      "  0.          0.0030478   0.00415636  0.00182819  0.          0.\n",
      "  0.          0.          0.          0.          0.00362542  0.0184618\n",
      "  0.01164084  0.00209133  0.00288625  0.          0.          0.\n",
      "  0.          0.          0.          0.        ]\n",
      "100%|██████████| 25/25 [02:33<00:00,  6.15s/it]\n",
      "Detected non-cloud environment.\n",
      "\n",
      "The dash_html_components package is deprecated. Please replace\n",
      "`import dash_html_components as html` with `from dash import html`\n",
      "\n",
      "The dash_core_components package is deprecated. Please replace\n",
      "`import dash_core_components as dcc` with `from dash import dcc`\n",
      "\n",
      "The dash_table package is deprecated. Please replace\n",
      "`import dash_table` with `from dash import dash_table`\n",
      "\n",
      "Also, if you're using any of the table format helpers (e.g. Group), replace \n",
      "`from dash_table.Format import Group` with \n",
      "`from dash.dash_table.Format import Group`\n",
      "Generating mini dash\n",
      "Generated mini dash\n"
     ]
    },
    {
     "data": {
      "text/html": [
       "<!-- http://127.0.0.1:7001/3251414596480/ -->\n",
       "<iframe src=\"http://127.0.0.1:7001/3251414596480/\" width=100% height=800 frameBorder=\"0\"></iframe>"
      ]
     },
     "metadata": {},
     "output_type": "display_data"
    }
   ],
   "source": [
    "shap_local = shap.explain_local(pd.DataFrame(xt)[:25], pd.DataFrame(yt)[:25])\n",
    "\n",
    "show(shap_local)"
   ]
  },
  {
   "cell_type": "markdown",
   "metadata": {},
   "source": [
    "#### Partial Dependence Plot Intro\n",
    "Partial dependence plots reveal the dependence between our target variable and any given feature.  "
   ]
  },
  {
   "cell_type": "code",
   "execution_count": 13,
   "metadata": {},
   "outputs": [],
   "source": [
    "pdp = PartialDependence(predict_fn=writingForest.predict_proba, data=x, num_points=200)"
   ]
  },
  {
   "cell_type": "code",
   "execution_count": 14,
   "metadata": {},
   "outputs": [
    {
     "name": "stderr",
     "output_type": "stream",
     "text": [
      "No overall plot to display: -1|ShapKernel_0\n",
      "Generating mini dash\n",
      "Generated mini dash\n"
     ]
    },
    {
     "data": {
      "text/html": [
       "<!-- http://127.0.0.1:7001/3251416148912/ -->\n",
       "<iframe src=\"http://127.0.0.1:7001/3251416148912/\" width=100% height=800 frameBorder=\"0\"></iframe>"
      ]
     },
     "metadata": {},
     "output_type": "display_data"
    }
   ],
   "source": [
    "pdp_global = pdp.explain_global()\n",
    "\n",
    "show(pdp_global)"
   ]
  },
  {
   "cell_type": "markdown",
   "metadata": {},
   "source": [
    "### Generate predictions on true test dataset"
   ]
  },
  {
   "cell_type": "code",
   "execution_count": 15,
   "metadata": {},
   "outputs": [],
   "source": [
    "test_data.fillna(-99, inplace=True)"
   ]
  },
  {
   "cell_type": "code",
   "execution_count": 16,
   "metadata": {},
   "outputs": [],
   "source": [
    "# Create regression arrays\n",
    "_, Xtest = pt.dmatrices(\"TTP ~ C(iyear) + C(provstate) + multiple + success + suicide + attacktype1 + C(targtype1) + C(targsubtype1) + weaptype1 + weapsubtype1 + nkill + nkillus + nkillter + nwound + nwoundus + nwoundte + C(Month)\", data = test_data, return_type='dataframe')"
   ]
  },
  {
   "cell_type": "code",
   "execution_count": 17,
   "metadata": {},
   "outputs": [],
   "source": [
    "remove_cols = set(Xtest.columns) - set(X.columns)\n",
    "add_cols = set(X.columns) - set(Xtest.columns)"
   ]
  },
  {
   "cell_type": "code",
   "execution_count": 18,
   "metadata": {},
   "outputs": [],
   "source": [
    "for col in remove_cols:\n",
    "    del Xtest[col]\n",
    "for col in add_cols:\n",
    "    Xtest[col] = 0"
   ]
  },
  {
   "cell_type": "code",
   "execution_count": 19,
   "metadata": {},
   "outputs": [],
   "source": [
    "# Make predictions\n",
    "fpred = fclf.predict(Xtest)"
   ]
  },
  {
   "cell_type": "code",
   "execution_count": 20,
   "metadata": {},
   "outputs": [
    {
     "data": {
      "text/html": [
       "<div><div id=e6ca0bec-f22d-4125-a061-add76e80daca style=\"display:none; background-color:#9D6CFF; color:white; width:200px; height:30px; padding-left:5px; border-radius:4px; flex-direction:row; justify-content:space-around; align-items:center;\" onmouseover=\"this.style.backgroundColor='#BA9BF8'\" onmouseout=\"this.style.backgroundColor='#9D6CFF'\" onclick=\"window.commands?.execute('create-mitosheet-from-dataframe-output');\">See Full Dataframe in Mito</div> <script> if (window.commands.hasCommand('create-mitosheet-from-dataframe-output')) document.getElementById('e6ca0bec-f22d-4125-a061-add76e80daca').style.display = 'flex' </script> <table border=\"1\" class=\"dataframe\">\n",
       "  <thead>\n",
       "    <tr style=\"text-align: right;\">\n",
       "      <th></th>\n",
       "      <th>eventid</th>\n",
       "      <th>TTP</th>\n",
       "    </tr>\n",
       "  </thead>\n",
       "  <tbody>\n",
       "    <tr>\n",
       "      <th>0</th>\n",
       "      <td>200712030005</td>\n",
       "      <td>0.0</td>\n",
       "    </tr>\n",
       "    <tr>\n",
       "      <th>1</th>\n",
       "      <td>200712040005</td>\n",
       "      <td>0.0</td>\n",
       "    </tr>\n",
       "    <tr>\n",
       "      <th>3</th>\n",
       "      <td>200712080003</td>\n",
       "      <td>0.0</td>\n",
       "    </tr>\n",
       "    <tr>\n",
       "      <th>4</th>\n",
       "      <td>200712090002</td>\n",
       "      <td>0.0</td>\n",
       "    </tr>\n",
       "    <tr>\n",
       "      <th>5</th>\n",
       "      <td>200712090004</td>\n",
       "      <td>1.0</td>\n",
       "    </tr>\n",
       "  </tbody>\n",
       "</table></div>"
      ],
      "text/plain": [
       "        eventid  TTP\n",
       "0  200712030005  0.0\n",
       "1  200712040005  0.0\n",
       "3  200712080003  0.0\n",
       "4  200712090002  0.0\n",
       "5  200712090004  1.0"
      ]
     },
     "execution_count": 20,
     "metadata": {},
     "output_type": "execute_result"
    }
   ],
   "source": [
    "pred_df = pd.DataFrame({'eventid':test_data['eventid'], 'TTP':fpred})\n",
    "pred_df.head()"
   ]
  },
  {
   "cell_type": "code",
   "execution_count": 21,
   "metadata": {},
   "outputs": [],
   "source": [
    "pred_df.to_csv('test_preds.csv')"
   ]
  },
  {
   "cell_type": "code",
   "execution_count": 22,
   "metadata": {},
   "outputs": [
    {
     "data": {
      "text/plain": [
       "0.5810013117621338"
      ]
     },
     "execution_count": 22,
     "metadata": {},
     "output_type": "execute_result"
    }
   ],
   "source": [
    "pred_df['TTP'].mean()"
   ]
  },
  {
   "cell_type": "code",
   "execution_count": 23,
   "metadata": {},
   "outputs": [
    {
     "name": "stderr",
     "output_type": "stream",
     "text": [
      "  0%|          | 0/25 [00:00<?, ?it/s]num_full_subsets = 1\n",
      "remaining_weight_vector = [0.12004298 0.08080563 0.06119838 0.04944344 0.0416149  0.03603022\n",
      " 0.03184814 0.0286013  0.02600931 0.02389372 0.02213558 0.02065256\n",
      " 0.01938582 0.01829226 0.01733954 0.01650293 0.01576322 0.01510523\n",
      " 0.01451683 0.0139882  0.01351133 0.01307959 0.01268747 0.01233034\n",
      " 0.0120043  0.01170602 0.01143266 0.01118179 0.01095129 0.01073933\n",
      " 0.01054432 0.01036486 0.01019973 0.01004786 0.00990831 0.00978023\n",
      " 0.0096629  0.00955566 0.00945793 0.00936921 0.00928904 0.00921703\n",
      " 0.00915284 0.00909615 0.00904672 0.00900431 0.00896873 0.00893983\n",
      " 0.00891748 0.00890158 0.00889207 0.00888891]\n",
      "num_paired_subset_sizes = 52\n",
      "weight_left = 0.8071930411864512\n",
      "np.sum(w_aug) = 106.00000000000001\n",
      "np.sum(self.kernelWeights) = 1.0000000000000002\n",
      "phi = [-0.00449654 -0.00653066 -0.00474183 -0.00301625  0.          0.\n",
      "  0.          0.         -0.00174202  0.         -0.00104422 -0.21762143\n",
      " -0.04858524  0.         -0.04415678 -0.00383358 -0.00500148 -0.00232979\n",
      " -0.00370344  0.          0.          0.          0.         -0.00224055\n",
      "  0.         -0.00196204 -0.00083605 -0.00102346  0.          0.\n",
      " -0.00065946  0.          0.          0.         -0.00165355  0.\n",
      "  0.          0.          0.          0.          0.          0.\n",
      "  0.          0.          0.         -0.00084138  0.          0.\n",
      "  0.         -0.00289777  0.          0.          0.          0.\n",
      "  0.          0.         -0.00027743  0.         -0.00179455  0.\n",
      "  0.          0.         -0.00377944  0.          0.          0.\n",
      "  0.          0.          0.          0.          0.          0.\n",
      " -0.00096746  0.          0.         -0.00185072  0.          0.\n",
      "  0.          0.          0.         -0.00090241  0.          0.\n",
      " -0.00514188  0.         -0.00413827  0.          0.          0.\n",
      "  0.         -0.00128546  0.          0.          0.         -0.00185708\n",
      "  0.          0.          0.         -0.00166646 -0.00524392 -0.00647131\n",
      " -0.02748928 -0.00611954 -0.00648171  0.        ]\n",
      "  4%|▍         | 1/25 [00:02<01:03,  2.65s/it]num_full_subsets = 1\n",
      "remaining_weight_vector = [0.11947654 0.08040961 0.06088708 0.04918258 0.0413873  0.03582606\n",
      " 0.03166128 0.02842764 0.02584595 0.02373854 0.021987   0.02050933\n",
      " 0.01924698 0.01815701 0.01720722 0.016373   0.0156352  0.01497873\n",
      " 0.01439149 0.01386373 0.01338743 0.01295602 0.012564   0.01220676\n",
      " 0.01188041 0.01158163 0.0113076  0.01105588 0.01082437 0.01061124\n",
      " 0.0104149  0.01023395 0.01006718 0.00991351 0.009772   0.00964181\n",
      " 0.00952219 0.0094125  0.00931214 0.00922061 0.00913746 0.00906226\n",
      " 0.00899468 0.0089344  0.00888115 0.00883468 0.0087948  0.00876134\n",
      " 0.00873415 0.00871312 0.00869815 0.0086892  0.00868622]\n",
      "num_paired_subset_sizes = 53\n",
      "weight_left = 0.8079159893252132\n",
      "np.sum(w_aug) = 108.00000000000003\n",
      "np.sum(self.kernelWeights) = 1.0000000000000002\n",
      "phi = [-0.00550242 -0.01131108 -0.00867911 -0.00209235  0.         -0.00236915\n",
      "  0.00714509  0.          0.00478908  0.          0.00297266  0.11134406\n",
      " -0.02923848  0.          0.0846976  -0.00276552  0.         -0.00710105\n",
      " -0.02016199  0.          0.          0.         -0.00146034  0.\n",
      "  0.          0.00520154  0.         -0.02283141  0.          0.\n",
      "  0.          0.          0.          0.          0.          0.00489806\n",
      "  0.          0.          0.          0.          0.          0.\n",
      "  0.00436912  0.          0.          0.          0.          0.\n",
      "  0.          0.          0.          0.          0.          0.\n",
      "  0.          0.          0.          0.          0.          0.00441174\n",
      " -0.00195809  0.          0.          0.         -0.00512575  0.\n",
      "  0.         -0.00222915  0.          0.          0.          0.\n",
      "  0.00699624  0.         -0.00186718  0.          0.         -0.00193469\n",
      "  0.          0.          0.          0.          0.          0.\n",
      "  0.00261082  0.         -0.00517688  0.01300392 -0.00719717  0.\n",
      " -0.00261629  0.          0.          0.          0.         -0.00304546\n",
      "  0.00318073 -0.0021092   0.00993084  0.00243562  0.         -0.00498376\n",
      " -0.04581401 -0.00671665 -0.0469049   0.         -0.00572489  0.        ]\n",
      "  8%|▊         | 2/25 [00:05<01:02,  2.71s/it]num_full_subsets = 1\n",
      "remaining_weight_vector = [0.12004298 0.08080563 0.06119838 0.04944344 0.0416149  0.03603022\n",
      " 0.03184814 0.0286013  0.02600931 0.02389372 0.02213558 0.02065256\n",
      " 0.01938582 0.01829226 0.01733954 0.01650293 0.01576322 0.01510523\n",
      " 0.01451683 0.0139882  0.01351133 0.01307959 0.01268747 0.01233034\n",
      " 0.0120043  0.01170602 0.01143266 0.01118179 0.01095129 0.01073933\n",
      " 0.01054432 0.01036486 0.01019973 0.01004786 0.00990831 0.00978023\n",
      " 0.0096629  0.00955566 0.00945793 0.00936921 0.00928904 0.00921703\n",
      " 0.00915284 0.00909615 0.00904672 0.00900431 0.00896873 0.00893983\n",
      " 0.00891748 0.00890158 0.00889207 0.00888891]\n",
      "num_paired_subset_sizes = 52\n",
      "weight_left = 0.8071930411864512\n",
      "np.sum(w_aug) = 106.00000000000003\n",
      "np.sum(self.kernelWeights) = 1.0000000000000002\n",
      "phi = [-4.44628268e-03 -7.95699954e-03 -7.03768147e-03 -2.43148961e-03\n",
      " -9.42639464e-04 -2.32128480e-03  0.00000000e+00  0.00000000e+00\n",
      "  0.00000000e+00  0.00000000e+00  0.00000000e+00 -2.32548719e-01\n",
      " -5.17112134e-02  0.00000000e+00 -4.81577518e-02 -3.00900123e-03\n",
      " -1.92215171e-03 -3.72781762e-03 -6.73559772e-03  0.00000000e+00\n",
      " -3.63215346e-03  0.00000000e+00  0.00000000e+00 -2.31428894e-03\n",
      "  0.00000000e+00 -3.62222904e-04  0.00000000e+00 -2.02593168e-03\n",
      " -3.87457504e-03  0.00000000e+00 -1.07722413e-03  0.00000000e+00\n",
      "  0.00000000e+00  0.00000000e+00  0.00000000e+00  0.00000000e+00\n",
      " -3.90551374e-04  1.84146040e-04  0.00000000e+00  0.00000000e+00\n",
      "  0.00000000e+00  0.00000000e+00  0.00000000e+00 -7.33608700e-04\n",
      "  0.00000000e+00 -1.38570409e-03  0.00000000e+00  0.00000000e+00\n",
      "  0.00000000e+00 -3.98113321e-03  0.00000000e+00  0.00000000e+00\n",
      "  0.00000000e+00  0.00000000e+00  0.00000000e+00  0.00000000e+00\n",
      "  0.00000000e+00  0.00000000e+00 -1.89618044e-03  0.00000000e+00\n",
      "  0.00000000e+00  0.00000000e+00 -4.71207014e-03  0.00000000e+00\n",
      " -9.26419155e-04  0.00000000e+00  0.00000000e+00 -8.09012925e-04\n",
      "  0.00000000e+00  0.00000000e+00  0.00000000e+00 -6.58846823e-04\n",
      " -1.57672584e-03  0.00000000e+00  0.00000000e+00 -2.23660572e-03\n",
      " -6.93149948e-04 -9.68623649e-04  0.00000000e+00  0.00000000e+00\n",
      " -8.45285050e-04 -3.13186584e-03  0.00000000e+00 -8.75228015e-04\n",
      " -4.66642271e-03  0.00000000e+00 -2.44642848e-03  0.00000000e+00\n",
      " -1.89315157e-03  0.00000000e+00 -1.53175820e-03 -2.68072520e-03\n",
      "  0.00000000e+00 -8.67361519e-04  0.00000000e+00 -2.50086029e-03\n",
      "  0.00000000e+00  0.00000000e+00  0.00000000e+00 -2.07319759e-03\n",
      " -3.33739875e-03 -5.65743688e-03 -2.12125871e-02 -6.78291418e-03\n",
      " -3.22591829e-03  0.00000000e+00]\n",
      " 12%|█▏        | 3/25 [00:08<00:59,  2.71s/it]num_full_subsets = 1\n",
      "remaining_weight_vector = [0.12004298 0.08080563 0.06119838 0.04944344 0.0416149  0.03603022\n",
      " 0.03184814 0.0286013  0.02600931 0.02389372 0.02213558 0.02065256\n",
      " 0.01938582 0.01829226 0.01733954 0.01650293 0.01576322 0.01510523\n",
      " 0.01451683 0.0139882  0.01351133 0.01307959 0.01268747 0.01233034\n",
      " 0.0120043  0.01170602 0.01143266 0.01118179 0.01095129 0.01073933\n",
      " 0.01054432 0.01036486 0.01019973 0.01004786 0.00990831 0.00978023\n",
      " 0.0096629  0.00955566 0.00945793 0.00936921 0.00928904 0.00921703\n",
      " 0.00915284 0.00909615 0.00904672 0.00900431 0.00896873 0.00893983\n",
      " 0.00891748 0.00890158 0.00889207 0.00888891]\n",
      "num_paired_subset_sizes = 52\n",
      "weight_left = 0.8071930411864512\n",
      "np.sum(w_aug) = 106.00000000000003\n",
      "np.sum(self.kernelWeights) = 1.0000000000000002\n",
      "phi = [-4.83986620e-03 -6.68369423e-03 -5.05980726e-03 -1.93303090e-03\n",
      "  0.00000000e+00  0.00000000e+00  0.00000000e+00  0.00000000e+00\n",
      " -1.98201266e-03  0.00000000e+00 -2.19882815e-03 -2.16438252e-01\n",
      " -4.74689760e-02  0.00000000e+00 -4.48077233e-02 -2.21725556e-03\n",
      " -5.98084451e-03 -2.70538593e-03 -3.37963643e-03  0.00000000e+00\n",
      " -1.26816619e-03  0.00000000e+00  0.00000000e+00 -2.64311939e-03\n",
      "  0.00000000e+00 -1.75967235e-03 -1.06351727e-03 -1.69903384e-03\n",
      "  0.00000000e+00  0.00000000e+00  0.00000000e+00  0.00000000e+00\n",
      "  0.00000000e+00  0.00000000e+00  0.00000000e+00  0.00000000e+00\n",
      "  0.00000000e+00  0.00000000e+00  0.00000000e+00  0.00000000e+00\n",
      "  0.00000000e+00  0.00000000e+00 -8.30685071e-04  0.00000000e+00\n",
      "  0.00000000e+00 -1.60894708e-03  0.00000000e+00  0.00000000e+00\n",
      " -1.09709497e-03 -2.29709006e-03  0.00000000e+00  0.00000000e+00\n",
      "  0.00000000e+00  0.00000000e+00  0.00000000e+00  0.00000000e+00\n",
      "  0.00000000e+00  0.00000000e+00 -9.09876544e-04  0.00000000e+00\n",
      "  0.00000000e+00  0.00000000e+00 -3.84287419e-03  0.00000000e+00\n",
      "  0.00000000e+00  0.00000000e+00  0.00000000e+00 -3.01829237e-04\n",
      "  0.00000000e+00  0.00000000e+00  0.00000000e+00  0.00000000e+00\n",
      " -1.02594234e-03  1.22140756e-04  0.00000000e+00 -1.00892779e-03\n",
      "  0.00000000e+00 -6.93509835e-04  0.00000000e+00 -8.54127513e-04\n",
      "  0.00000000e+00 -1.72862023e-03  0.00000000e+00  0.00000000e+00\n",
      " -4.83835451e-03  0.00000000e+00 -2.78271302e-03  0.00000000e+00\n",
      " -9.87766974e-04  0.00000000e+00 -1.38973022e-03 -7.54740271e-04\n",
      "  0.00000000e+00  0.00000000e+00  0.00000000e+00 -1.62061568e-03\n",
      "  0.00000000e+00  0.00000000e+00  0.00000000e+00 -1.66073103e-03\n",
      " -4.01769939e-03 -4.17152188e-03 -2.83666977e-02 -6.94451303e-03\n",
      " -6.64312599e-03  0.00000000e+00]\n",
      " 16%|█▌        | 4/25 [00:10<00:54,  2.58s/it]num_full_subsets = 1\n",
      "remaining_weight_vector = [0.12004298 0.08080563 0.06119838 0.04944344 0.0416149  0.03603022\n",
      " 0.03184814 0.0286013  0.02600931 0.02389372 0.02213558 0.02065256\n",
      " 0.01938582 0.01829226 0.01733954 0.01650293 0.01576322 0.01510523\n",
      " 0.01451683 0.0139882  0.01351133 0.01307959 0.01268747 0.01233034\n",
      " 0.0120043  0.01170602 0.01143266 0.01118179 0.01095129 0.01073933\n",
      " 0.01054432 0.01036486 0.01019973 0.01004786 0.00990831 0.00978023\n",
      " 0.0096629  0.00955566 0.00945793 0.00936921 0.00928904 0.00921703\n",
      " 0.00915284 0.00909615 0.00904672 0.00900431 0.00896873 0.00893983\n",
      " 0.00891748 0.00890158 0.00889207 0.00888891]\n",
      "num_paired_subset_sizes = 52\n",
      "weight_left = 0.8071930411864512\n",
      "np.sum(w_aug) = 106.00000000000003\n",
      "np.sum(self.kernelWeights) = 1.0000000000000002\n",
      "phi = [-0.00562497 -0.01117786 -0.00856476  0.          0.          0.\n",
      "  0.00662704 -0.00237808  0.00532037  0.          0.          0.11991424\n",
      " -0.02974583  0.          0.10063083  0.          0.00577283 -0.00731729\n",
      " -0.01931493  0.          0.          0.          0.          0.\n",
      "  0.          0.00630927  0.         -0.00245919 -0.00356447  0.\n",
      "  0.          0.          0.          0.00436254  0.          0.\n",
      " -0.00259951  0.          0.          0.          0.00429456  0.\n",
      "  0.          0.          0.          0.          0.0046003   0.\n",
      "  0.          0.         -0.0036461   0.          0.          0.\n",
      "  0.          0.          0.          0.00665057 -0.00311067  0.\n",
      "  0.          0.         -0.00405598  0.          0.          0.\n",
      "  0.          0.          0.         -0.002198    0.          0.00746185\n",
      "  0.          0.          0.         -0.00252429  0.          0.\n",
      "  0.          0.          0.          0.          0.          0.\n",
      " -0.00289931  0.01221324 -0.00521813  0.          0.          0.\n",
      "  0.          0.          0.          0.          0.          0.\n",
      "  0.01047899  0.          0.         -0.00548933 -0.06427666 -0.00369805\n",
      " -0.03986009  0.         -0.00838846  0.        ]\n",
      " 20%|██        | 5/25 [00:12<00:50,  2.52s/it]num_full_subsets = 1\n",
      "remaining_weight_vector = [0.11947654 0.08040961 0.06088708 0.04918258 0.0413873  0.03582606\n",
      " 0.03166128 0.02842764 0.02584595 0.02373854 0.021987   0.02050933\n",
      " 0.01924698 0.01815701 0.01720722 0.016373   0.0156352  0.01497873\n",
      " 0.01439149 0.01386373 0.01338743 0.01295602 0.012564   0.01220676\n",
      " 0.01188041 0.01158163 0.0113076  0.01105588 0.01082437 0.01061124\n",
      " 0.0104149  0.01023395 0.01006718 0.00991351 0.009772   0.00964181\n",
      " 0.00952219 0.0094125  0.00931214 0.00922061 0.00913746 0.00906226\n",
      " 0.00899468 0.0089344  0.00888115 0.00883468 0.0087948  0.00876134\n",
      " 0.00873415 0.00871312 0.00869815 0.0086892  0.00868622]\n",
      "num_paired_subset_sizes = 53\n",
      "weight_left = 0.8079159893252132\n",
      "np.sum(w_aug) = 108.00000000000003\n",
      "np.sum(self.kernelWeights) = 1.0000000000000002\n",
      "phi = [-0.00372919 -0.00992106 -0.00602282  0.          0.          0.\n",
      "  0.00662878 -0.00311416  0.          0.          0.          0.11090854\n",
      " -0.02956455  0.          0.07971468  0.          0.         -0.00810645\n",
      " -0.01570474  0.          0.          0.          0.         -0.002485\n",
      "  0.          0.          0.         -0.02615289  0.          0.\n",
      "  0.          0.          0.          0.          0.          0.00793627\n",
      "  0.          0.          0.          0.          0.          0.\n",
      "  0.00498609  0.         -0.00183735  0.          0.          0.\n",
      "  0.          0.          0.         -0.00222376  0.          0.\n",
      "  0.          0.          0.          0.          0.          0.00510845\n",
      " -0.00274883  0.          0.00430174  0.         -0.00714979  0.\n",
      "  0.          0.          0.          0.          0.          0.\n",
      "  0.00519805  0.          0.          0.          0.          0.\n",
      "  0.          0.          0.          0.          0.          0.\n",
      "  0.          0.         -0.00310424  0.01024456 -0.00852826  0.\n",
      "  0.          0.          0.          0.          0.          0.\n",
      "  0.          0.          0.00754542  0.          0.         -0.00834475\n",
      " -0.04173128 -0.0037363  -0.05248435 -0.00189833 -0.01109617  0.        ]\n",
      " 24%|██▍       | 6/25 [00:15<00:47,  2.50s/it]num_full_subsets = 1\n",
      "remaining_weight_vector = [0.11947654 0.08040961 0.06088708 0.04918258 0.0413873  0.03582606\n",
      " 0.03166128 0.02842764 0.02584595 0.02373854 0.021987   0.02050933\n",
      " 0.01924698 0.01815701 0.01720722 0.016373   0.0156352  0.01497873\n",
      " 0.01439149 0.01386373 0.01338743 0.01295602 0.012564   0.01220676\n",
      " 0.01188041 0.01158163 0.0113076  0.01105588 0.01082437 0.01061124\n",
      " 0.0104149  0.01023395 0.01006718 0.00991351 0.009772   0.00964181\n",
      " 0.00952219 0.0094125  0.00931214 0.00922061 0.00913746 0.00906226\n",
      " 0.00899468 0.0089344  0.00888115 0.00883468 0.0087948  0.00876134\n",
      " 0.00873415 0.00871312 0.00869815 0.0086892  0.00868622]\n",
      "num_paired_subset_sizes = 53\n",
      "weight_left = 0.8079159893252132\n",
      "np.sum(w_aug) = 108.00000000000003\n",
      "np.sum(self.kernelWeights) = 1.0000000000000002\n",
      "phi = [-0.00441204 -0.01086687 -0.00951348  0.          0.         -0.00249333\n",
      "  0.0050929   0.          0.0051607   0.          0.00494996  0.11144897\n",
      " -0.02966344  0.          0.08643894 -0.00255825  0.         -0.00710889\n",
      " -0.01853017  0.          0.          0.          0.         -0.00412183\n",
      "  0.          0.          0.         -0.02538611  0.          0.\n",
      "  0.          0.          0.          0.          0.          0.\n",
      "  0.          0.          0.          0.          0.          0.\n",
      "  0.         -0.00240921  0.          0.         -0.00183912  0.\n",
      "  0.          0.          0.          0.          0.          0.\n",
      "  0.          0.          0.          0.          0.          0.00511386\n",
      " -0.00180111  0.          0.          0.         -0.00311306  0.\n",
      "  0.          0.          0.          0.          0.          0.\n",
      "  0.00549956  0.00503216 -0.00148972  0.          0.          0.\n",
      "  0.          0.          0.          0.          0.          0.\n",
      "  0.          0.         -0.00309792  0.01315854 -0.00459492  0.\n",
      "  0.          0.          0.          0.          0.          0.\n",
      "  0.          0.          0.01111346  0.          0.         -0.00442973\n",
      " -0.04668993 -0.00463661 -0.04614742  0.         -0.00703576  0.        ]\n",
      " 28%|██▊       | 7/25 [00:17<00:45,  2.51s/it]num_full_subsets = 1\n",
      "remaining_weight_vector = [0.11947654 0.08040961 0.06088708 0.04918258 0.0413873  0.03582606\n",
      " 0.03166128 0.02842764 0.02584595 0.02373854 0.021987   0.02050933\n",
      " 0.01924698 0.01815701 0.01720722 0.016373   0.0156352  0.01497873\n",
      " 0.01439149 0.01386373 0.01338743 0.01295602 0.012564   0.01220676\n",
      " 0.01188041 0.01158163 0.0113076  0.01105588 0.01082437 0.01061124\n",
      " 0.0104149  0.01023395 0.01006718 0.00991351 0.009772   0.00964181\n",
      " 0.00952219 0.0094125  0.00931214 0.00922061 0.00913746 0.00906226\n",
      " 0.00899468 0.0089344  0.00888115 0.00883468 0.0087948  0.00876134\n",
      " 0.00873415 0.00871312 0.00869815 0.0086892  0.00868622]\n",
      "num_paired_subset_sizes = 53\n",
      "weight_left = 0.8079159893252132\n",
      "np.sum(w_aug) = 108.00000000000003\n",
      "np.sum(self.kernelWeights) = 1.0000000000000002\n",
      "phi = [ 0.         -0.01223957 -0.00656988  0.          0.          0.\n",
      "  0.00538209  0.          0.          0.          0.          0.12580616\n",
      " -0.03317893  0.         -0.01866117  0.06934718  0.00362377  0.\n",
      " -0.01030792  0.          0.          0.          0.          0.\n",
      "  0.         -0.01799055  0.          0.          0.          0.\n",
      "  0.          0.          0.          0.00250464  0.          0.00546717\n",
      "  0.          0.          0.          0.          0.          0.\n",
      "  0.          0.          0.          0.          0.          0.\n",
      "  0.          0.          0.          0.          0.          0.\n",
      "  0.          0.          0.          0.          0.          0.\n",
      "  0.          0.          0.0032755   0.          0.          0.\n",
      "  0.          0.          0.0038537   0.          0.          0.\n",
      "  0.          0.00472742  0.          0.          0.          0.\n",
      "  0.          0.          0.          0.          0.          0.\n",
      "  0.          0.          0.          0.00856018  0.          0.\n",
      "  0.          0.          0.          0.          0.          0.\n",
      "  0.00416681  0.          0.01187248  0.          0.          0.\n",
      "  0.00540829  0.         -0.01676824 -0.00510555  0.00516925  0.        ]\n",
      " 32%|███▏      | 8/25 [00:20<00:42,  2.49s/it]num_full_subsets = 1\n",
      "remaining_weight_vector = [0.11947654 0.08040961 0.06088708 0.04918258 0.0413873  0.03582606\n",
      " 0.03166128 0.02842764 0.02584595 0.02373854 0.021987   0.02050933\n",
      " 0.01924698 0.01815701 0.01720722 0.016373   0.0156352  0.01497873\n",
      " 0.01439149 0.01386373 0.01338743 0.01295602 0.012564   0.01220676\n",
      " 0.01188041 0.01158163 0.0113076  0.01105588 0.01082437 0.01061124\n",
      " 0.0104149  0.01023395 0.01006718 0.00991351 0.009772   0.00964181\n",
      " 0.00952219 0.0094125  0.00931214 0.00922061 0.00913746 0.00906226\n",
      " 0.00899468 0.0089344  0.00888115 0.00883468 0.0087948  0.00876134\n",
      " 0.00873415 0.00871312 0.00869815 0.0086892  0.00868622]\n",
      "num_paired_subset_sizes = 53\n",
      "weight_left = 0.8079159893252132\n",
      "np.sum(w_aug) = 108.00000000000003\n",
      "np.sum(self.kernelWeights) = 1.0000000000000002\n",
      "phi = [-0.00628027 -0.01006641 -0.00913432 -0.00344765  0.          0.\n",
      "  0.0058692   0.          0.00386028  0.          0.          0.11202873\n",
      " -0.0314444   0.          0.08626115  0.          0.00384726 -0.00887014\n",
      " -0.01751563  0.          0.          0.          0.         -0.00335186\n",
      "  0.          0.00451991  0.         -0.02531995  0.          0.\n",
      "  0.          0.          0.          0.          0.          0.00519891\n",
      "  0.          0.          0.          0.          0.          0.\n",
      "  0.00387033  0.         -0.00240837  0.          0.          0.\n",
      "  0.          0.          0.         -0.00338555  0.          0.\n",
      "  0.          0.          0.          0.          0.          0.00647073\n",
      " -0.00228563  0.          0.          0.         -0.00429273  0.\n",
      "  0.          0.          0.          0.          0.          0.\n",
      "  0.00647894  0.00356351 -0.00145417  0.          0.         -0.00168457\n",
      "  0.          0.          0.          0.          0.          0.\n",
      "  0.          0.         -0.00384015  0.01184086 -0.0064362   0.\n",
      "  0.          0.          0.          0.         -0.00212507  0.\n",
      "  0.          0.          0.00955743  0.          0.         -0.00581056\n",
      " -0.04250345 -0.00434861 -0.04606936 -0.00192223 -0.00829984  0.        ]\n",
      " 36%|███▌      | 9/25 [00:22<00:39,  2.44s/it]num_full_subsets = 1\n",
      "remaining_weight_vector = [0.11947654 0.08040961 0.06088708 0.04918258 0.0413873  0.03582606\n",
      " 0.03166128 0.02842764 0.02584595 0.02373854 0.021987   0.02050933\n",
      " 0.01924698 0.01815701 0.01720722 0.016373   0.0156352  0.01497873\n",
      " 0.01439149 0.01386373 0.01338743 0.01295602 0.012564   0.01220676\n",
      " 0.01188041 0.01158163 0.0113076  0.01105588 0.01082437 0.01061124\n",
      " 0.0104149  0.01023395 0.01006718 0.00991351 0.009772   0.00964181\n",
      " 0.00952219 0.0094125  0.00931214 0.00922061 0.00913746 0.00906226\n",
      " 0.00899468 0.0089344  0.00888115 0.00883468 0.0087948  0.00876134\n",
      " 0.00873415 0.00871312 0.00869815 0.0086892  0.00868622]\n",
      "num_paired_subset_sizes = 53\n",
      "weight_left = 0.8079159893252132\n",
      "np.sum(w_aug) = 108.00000000000003\n",
      "np.sum(self.kernelWeights) = 1.0000000000000002\n",
      "phi = [-0.00432813 -0.00900624 -0.00685258  0.          0.          0.\n",
      "  0.006451    0.00326483  0.00650981  0.          0.          0.12592087\n",
      " -0.0313974   0.         -0.01674644  0.06817712  0.00369763 -0.00372534\n",
      " -0.00902963  0.          0.          0.          0.          0.\n",
      "  0.         -0.01873111  0.          0.         -0.00316324  0.\n",
      "  0.00277199  0.          0.          0.          0.          0.00789036\n",
      "  0.          0.          0.          0.          0.          0.\n",
      "  0.00383632  0.          0.          0.          0.          0.\n",
      "  0.          0.          0.          0.          0.          0.\n",
      "  0.          0.          0.          0.          0.          0.00496856\n",
      "  0.          0.          0.          0.         -0.00565019  0.\n",
      "  0.          0.          0.00233582  0.          0.          0.\n",
      " -0.00174431  0.00564448  0.          0.          0.          0.\n",
      "  0.          0.          0.          0.          0.         -0.00427203\n",
      "  0.          0.          0.          0.01074498 -0.00443188  0.\n",
      "  0.          0.00377543  0.         -0.00312459  0.          0.\n",
      "  0.0045596  -0.00360128  0.01177989  0.0038358   0.         -0.00267144\n",
      "  0.0065951  -0.00413558 -0.01586491 -0.00268621  0.00674576  0.        ]\n",
      " 40%|████      | 10/25 [00:25<00:36,  2.45s/it]num_full_subsets = 1\n",
      "remaining_weight_vector = [0.12004298 0.08080563 0.06119838 0.04944344 0.0416149  0.03603022\n",
      " 0.03184814 0.0286013  0.02600931 0.02389372 0.02213558 0.02065256\n",
      " 0.01938582 0.01829226 0.01733954 0.01650293 0.01576322 0.01510523\n",
      " 0.01451683 0.0139882  0.01351133 0.01307959 0.01268747 0.01233034\n",
      " 0.0120043  0.01170602 0.01143266 0.01118179 0.01095129 0.01073933\n",
      " 0.01054432 0.01036486 0.01019973 0.01004786 0.00990831 0.00978023\n",
      " 0.0096629  0.00955566 0.00945793 0.00936921 0.00928904 0.00921703\n",
      " 0.00915284 0.00909615 0.00904672 0.00900431 0.00896873 0.00893983\n",
      " 0.00891748 0.00890158 0.00889207 0.00888891]\n",
      "num_paired_subset_sizes = 52\n",
      "weight_left = 0.8071930411864512\n",
      "np.sum(w_aug) = 106.00000000000003\n",
      "np.sum(self.kernelWeights) = 1.0000000000000002\n",
      "phi = [-0.00584739 -0.01168234 -0.00886237  0.          0.          0.\n",
      "  0.00608948 -0.00332206  0.00450781  0.          0.          0.11115926\n",
      " -0.03166383  0.          0.0876254  -0.0037704   0.         -0.01034362\n",
      " -0.01957189  0.          0.          0.          0.         -0.00344856\n",
      "  0.          0.00405505 -0.02504585  0.          0.          0.\n",
      "  0.          0.          0.          0.00462826  0.          0.\n",
      "  0.          0.          0.          0.          0.00435668  0.\n",
      "  0.          0.          0.          0.          0.         -0.00125931\n",
      "  0.         -0.00260465  0.          0.          0.          0.\n",
      "  0.          0.          0.          0.00490617 -0.00246318  0.\n",
      "  0.          0.         -0.00318166  0.          0.          0.\n",
      "  0.          0.          0.          0.          0.00709995  0.0038399\n",
      " -0.0026238   0.          0.          0.          0.          0.\n",
      "  0.00257771  0.          0.         -0.00229533  0.          0.\n",
      " -0.00291431  0.01198256 -0.00658997  0.          0.          0.\n",
      "  0.          0.          0.          0.          0.          0.\n",
      "  0.01128956  0.0024884   0.         -0.00786087 -0.04424271 -0.00516972\n",
      " -0.0453067   0.         -0.00546554  0.        ]\n",
      " 44%|████▍     | 11/25 [00:27<00:34,  2.44s/it]num_full_subsets = 1\n",
      "remaining_weight_vector = [0.11947654 0.08040961 0.06088708 0.04918258 0.0413873  0.03582606\n",
      " 0.03166128 0.02842764 0.02584595 0.02373854 0.021987   0.02050933\n",
      " 0.01924698 0.01815701 0.01720722 0.016373   0.0156352  0.01497873\n",
      " 0.01439149 0.01386373 0.01338743 0.01295602 0.012564   0.01220676\n",
      " 0.01188041 0.01158163 0.0113076  0.01105588 0.01082437 0.01061124\n",
      " 0.0104149  0.01023395 0.01006718 0.00991351 0.009772   0.00964181\n",
      " 0.00952219 0.0094125  0.00931214 0.00922061 0.00913746 0.00906226\n",
      " 0.00899468 0.0089344  0.00888115 0.00883468 0.0087948  0.00876134\n",
      " 0.00873415 0.00871312 0.00869815 0.0086892  0.00868622]\n",
      "num_paired_subset_sizes = 53\n",
      "weight_left = 0.8079159893252132\n",
      "np.sum(w_aug) = 108.00000000000003\n",
      "np.sum(self.kernelWeights) = 1.0\n",
      "phi = [ 0.         -0.00744594 -0.00658723  0.          0.          0.\n",
      "  0.0113878   0.          0.          0.          0.          0.11693452\n",
      "  0.15694097  0.         -0.01451156  0.          0.          0.\n",
      " -0.01525426  0.          0.          0.          0.          0.\n",
      "  0.         -0.01756168 -0.00479894  0.          0.          0.\n",
      "  0.          0.          0.          0.          0.          0.00714452\n",
      "  0.          0.          0.          0.          0.          0.\n",
      "  0.          0.          0.          0.          0.          0.\n",
      "  0.          0.          0.          0.          0.          0.\n",
      "  0.          0.          0.          0.          0.          0.\n",
      "  0.          0.          0.          0.          0.          0.\n",
      "  0.          0.          0.          0.          0.          0.\n",
      "  0.          0.          0.          0.          0.          0.\n",
      "  0.          0.          0.          0.          0.         -0.00311504\n",
      "  0.          0.          0.          0.          0.          0.\n",
      "  0.          0.          0.          0.          0.          0.\n",
      "  0.          0.          0.01513103  0.          0.         -0.00810131\n",
      " -0.0205259   0.         -0.01674867  0.          0.          0.        ]\n",
      " 48%|████▊     | 12/25 [00:30<00:33,  2.61s/it]No overall plot to display: -1|PartialDependence_0\n",
      "num_full_subsets = 1\n",
      "remaining_weight_vector = [0.12004298 0.08080563 0.06119838 0.04944344 0.0416149  0.03603022\n",
      " 0.03184814 0.0286013  0.02600931 0.02389372 0.02213558 0.02065256\n",
      " 0.01938582 0.01829226 0.01733954 0.01650293 0.01576322 0.01510523\n",
      " 0.01451683 0.0139882  0.01351133 0.01307959 0.01268747 0.01233034\n",
      " 0.0120043  0.01170602 0.01143266 0.01118179 0.01095129 0.01073933\n",
      " 0.01054432 0.01036486 0.01019973 0.01004786 0.00990831 0.00978023\n",
      " 0.0096629  0.00955566 0.00945793 0.00936921 0.00928904 0.00921703\n",
      " 0.00915284 0.00909615 0.00904672 0.00900431 0.00896873 0.00893983\n",
      " 0.00891748 0.00890158 0.00889207 0.00888891]\n",
      "num_paired_subset_sizes = 52\n",
      "weight_left = 0.8071930411864512\n",
      "np.sum(w_aug) = 106.00000000000001\n",
      "np.sum(self.kernelWeights) = 1.0\n",
      "phi = [ 0.         -0.00914383 -0.00787519  0.          0.          0.\n",
      "  0.01059897  0.          0.0049056   0.          0.          0.11749529\n",
      "  0.15517793  0.         -0.02074601  0.          0.00555369 -0.00604307\n",
      " -0.01432482  0.          0.          0.          0.          0.\n",
      "  0.         -0.02086435  0.          0.          0.00575579  0.\n",
      "  0.          0.          0.          0.00836243  0.          0.\n",
      "  0.          0.          0.          0.          0.          0.\n",
      "  0.          0.          0.          0.          0.          0.\n",
      "  0.          0.          0.          0.          0.          0.\n",
      "  0.          0.          0.          0.          0.          0.\n",
      "  0.          0.         -0.00463342  0.          0.          0.\n",
      "  0.0053577   0.          0.          0.         -0.00571535  0.\n",
      "  0.          0.          0.          0.          0.          0.\n",
      "  0.          0.          0.          0.          0.          0.\n",
      "  0.          0.00477084  0.          0.          0.          0.\n",
      "  0.          0.          0.          0.          0.          0.\n",
      "  0.01278233  0.          0.         -0.00661122 -0.0290368   0.\n",
      " -0.0171829   0.          0.00430469  0.        ]\n",
      " 52%|█████▏    | 13/25 [00:33<00:33,  2.81s/it]num_full_subsets = 1\n",
      "remaining_weight_vector = [0.12004298 0.08080563 0.06119838 0.04944344 0.0416149  0.03603022\n",
      " 0.03184814 0.0286013  0.02600931 0.02389372 0.02213558 0.02065256\n",
      " 0.01938582 0.01829226 0.01733954 0.01650293 0.01576322 0.01510523\n",
      " 0.01451683 0.0139882  0.01351133 0.01307959 0.01268747 0.01233034\n",
      " 0.0120043  0.01170602 0.01143266 0.01118179 0.01095129 0.01073933\n",
      " 0.01054432 0.01036486 0.01019973 0.01004786 0.00990831 0.00978023\n",
      " 0.0096629  0.00955566 0.00945793 0.00936921 0.00928904 0.00921703\n",
      " 0.00915284 0.00909615 0.00904672 0.00900431 0.00896873 0.00893983\n",
      " 0.00891748 0.00890158 0.00889207 0.00888891]\n",
      "num_paired_subset_sizes = 52\n",
      "weight_left = 0.8071930411864512\n",
      "np.sum(w_aug) = 106.00000000000001\n",
      "np.sum(self.kernelWeights) = 0.9999999999999999\n",
      "phi = [-0.00519218 -0.00833503 -0.00774367 -0.00170913 -0.0033514  -0.00493327\n",
      "  0.00686733  0.0043346   0.00479918  0.          0.          0.10669108\n",
      " -0.03848151  0.         -0.03120978 -0.00150694 -0.02920832 -0.00638408\n",
      " -0.03384014  0.          0.          0.          0.         -0.00230473\n",
      "  0.          0.          0.01105287  0.         -0.00556181  0.\n",
      "  0.          0.          0.          0.00745453  0.          0.\n",
      "  0.          0.          0.          0.          0.00402176 -0.00106224\n",
      " -0.00178094  0.          0.          0.          0.          0.\n",
      "  0.         -0.00179622  0.          0.          0.          0.\n",
      "  0.          0.          0.          0.         -0.00329405  0.\n",
      "  0.          0.         -0.00658218  0.         -0.00232322  0.\n",
      "  0.          0.          0.          0.          0.         -0.00195072\n",
      "  0.          0.          0.         -0.00199317  0.          0.\n",
      "  0.          0.          0.         -0.00301375  0.          0.\n",
      " -0.00379409  0.00708817 -0.00453474  0.         -0.00212806  0.\n",
      " -0.00272985 -0.0024488   0.         -0.00145824  0.         -0.00254345\n",
      "  0.00866538  0.00440675  0.         -0.00622423  0.00695957 -0.00310281\n",
      " -0.04882596 -0.00719508  0.          0.        ]\n",
      " 56%|█████▌    | 14/25 [00:36<00:30,  2.79s/it]num_full_subsets = 1\n",
      "remaining_weight_vector = [0.12004298 0.08080563 0.06119838 0.04944344 0.0416149  0.03603022\n",
      " 0.03184814 0.0286013  0.02600931 0.02389372 0.02213558 0.02065256\n",
      " 0.01938582 0.01829226 0.01733954 0.01650293 0.01576322 0.01510523\n",
      " 0.01451683 0.0139882  0.01351133 0.01307959 0.01268747 0.01233034\n",
      " 0.0120043  0.01170602 0.01143266 0.01118179 0.01095129 0.01073933\n",
      " 0.01054432 0.01036486 0.01019973 0.01004786 0.00990831 0.00978023\n",
      " 0.0096629  0.00955566 0.00945793 0.00936921 0.00928904 0.00921703\n",
      " 0.00915284 0.00909615 0.00904672 0.00900431 0.00896873 0.00893983\n",
      " 0.00891748 0.00890158 0.00889207 0.00888891]\n",
      "num_paired_subset_sizes = 52\n",
      "weight_left = 0.8071930411864512\n",
      "np.sum(w_aug) = 106.00000000000003\n",
      "np.sum(self.kernelWeights) = 0.9999999999999999\n",
      "phi = [-0.00411596 -0.0082264  -0.00772462 -0.00110702  0.         -0.00188256\n",
      "  0.00594178  0.          0.00329482  0.          0.          0.13277985\n",
      " -0.04164848  0.         -0.03412635 -0.00200692  0.00294294 -0.00583114\n",
      " -0.01358824  0.         -0.00115144  0.          0.         -0.00315356\n",
      "  0.         -0.00701338  0.         -0.00176122  0.00734302  0.00318346\n",
      "  0.          0.00286335  0.          0.00659096  0.          0.\n",
      "  0.          0.          0.          0.          0.00310836  0.\n",
      "  0.          0.          0.          0.          0.          0.\n",
      "  0.         -0.00219019  0.          0.          0.          0.\n",
      "  0.          0.          0.          0.00421241 -0.001601    0.\n",
      "  0.          0.         -0.00565356  0.          0.          0.\n",
      "  0.          0.          0.          0.         -0.00241274  0.00478698\n",
      " -0.00132415 -0.00114521  0.         -0.00171029  0.         -0.00104961\n",
      "  0.          0.          0.         -0.00308897 -0.00033392  0.\n",
      " -0.00370965  0.00528925 -0.00411391  0.          0.          0.\n",
      "  0.         -0.00146845  0.          0.          0.00265623 -0.00310236\n",
      "  0.00951518  0.00217641  0.         -0.0051004  -0.00453401 -0.00522281\n",
      " -0.02789796 -0.00389116  0.          0.        ]\n",
      " 60%|██████    | 15/25 [00:39<00:27,  2.72s/it]num_full_subsets = 1\n",
      "remaining_weight_vector = [0.11947654 0.08040961 0.06088708 0.04918258 0.0413873  0.03582606\n",
      " 0.03166128 0.02842764 0.02584595 0.02373854 0.021987   0.02050933\n",
      " 0.01924698 0.01815701 0.01720722 0.016373   0.0156352  0.01497873\n",
      " 0.01439149 0.01386373 0.01338743 0.01295602 0.012564   0.01220676\n",
      " 0.01188041 0.01158163 0.0113076  0.01105588 0.01082437 0.01061124\n",
      " 0.0104149  0.01023395 0.01006718 0.00991351 0.009772   0.00964181\n",
      " 0.00952219 0.0094125  0.00931214 0.00922061 0.00913746 0.00906226\n",
      " 0.00899468 0.0089344  0.00888115 0.00883468 0.0087948  0.00876134\n",
      " 0.00873415 0.00871312 0.00869815 0.0086892  0.00868622]\n",
      "num_paired_subset_sizes = 53\n",
      "weight_left = 0.8079159893252132\n",
      "np.sum(w_aug) = 108.00000000000003\n",
      "np.sum(self.kernelWeights) = 1.0000000000000002\n",
      "phi = [-0.00448111 -0.00714996 -0.00641754 -0.00277846  0.          0.\n",
      "  0.          0.         -0.00157417  0.         -0.0016768  -0.21762441\n",
      " -0.04760866  0.         -0.04451879 -0.00326537 -0.00533396 -0.00373665\n",
      " -0.00441071  0.         -0.00148155  0.          0.         -0.00292481\n",
      "  0.         -0.00194343  0.          0.         -0.00213528  0.\n",
      "  0.          0.          0.          0.          0.          0.\n",
      "  0.          0.          0.          0.          0.          0.\n",
      "  0.          0.         -0.00163564  0.          0.          0.\n",
      "  0.          0.          0.         -0.00306735  0.          0.\n",
      "  0.          0.          0.          0.          0.          0.\n",
      " -0.00158254  0.          0.          0.         -0.00403416  0.\n",
      "  0.          0.          0.          0.          0.          0.\n",
      "  0.          0.          0.          0.          0.          0.\n",
      "  0.          0.          0.          0.          0.          0.\n",
      "  0.          0.         -0.00546807  0.         -0.00302536 -0.00047798\n",
      "  0.          0.          0.          0.         -0.00161112  0.\n",
      "  0.         -0.00092836  0.          0.          0.         -0.0029139\n",
      " -0.00528344 -0.00433793 -0.02889676 -0.00770457 -0.00435558  0.        ]\n",
      " 64%|██████▍   | 16/25 [00:41<00:23,  2.65s/it]num_full_subsets = 1\n",
      "remaining_weight_vector = [0.11947654 0.08040961 0.06088708 0.04918258 0.0413873  0.03582606\n",
      " 0.03166128 0.02842764 0.02584595 0.02373854 0.021987   0.02050933\n",
      " 0.01924698 0.01815701 0.01720722 0.016373   0.0156352  0.01497873\n",
      " 0.01439149 0.01386373 0.01338743 0.01295602 0.012564   0.01220676\n",
      " 0.01188041 0.01158163 0.0113076  0.01105588 0.01082437 0.01061124\n",
      " 0.0104149  0.01023395 0.01006718 0.00991351 0.009772   0.00964181\n",
      " 0.00952219 0.0094125  0.00931214 0.00922061 0.00913746 0.00906226\n",
      " 0.00899468 0.0089344  0.00888115 0.00883468 0.0087948  0.00876134\n",
      " 0.00873415 0.00871312 0.00869815 0.0086892  0.00868622]\n",
      "num_paired_subset_sizes = 53\n",
      "weight_left = 0.8079159893252132\n",
      "np.sum(w_aug) = 108.00000000000003\n",
      "np.sum(self.kernelWeights) = 1.0000000000000002\n",
      "phi = [-0.00591686 -0.01023324 -0.00803794  0.          0.          0.\n",
      "  0.00485067  0.          0.00508826 -0.00092448  0.          0.11208936\n",
      " -0.03039217  0.          0.0863674   0.          0.         -0.00513845\n",
      " -0.01970474  0.          0.          0.          0.         -0.00394545\n",
      " -0.0010052   0.00399679  0.         -0.02372959  0.          0.\n",
      "  0.         -0.00116817  0.          0.          0.          0.00737117\n",
      "  0.          0.00321295  0.          0.          0.          0.\n",
      "  0.          0.          0.          0.          0.          0.\n",
      "  0.          0.          0.         -0.00202007  0.          0.\n",
      "  0.         -0.00164575  0.          0.          0.          0.00634329\n",
      " -0.00234017  0.          0.          0.         -0.0041652   0.\n",
      "  0.          0.          0.0038683   0.          0.         -0.00089175\n",
      "  0.00719013  0.00340464 -0.00272956  0.          0.         -0.00137409\n",
      "  0.          0.          0.         -0.00105729  0.          0.\n",
      "  0.          0.         -0.00333811  0.01195434 -0.00495787  0.\n",
      "  0.          0.          0.         -0.00306343 -0.00239963 -0.00177372\n",
      "  0.         -0.00161787  0.01009518  0.          0.         -0.00627649\n",
      " -0.04471715 -0.00466747 -0.04686735  0.         -0.00866309  0.        ]\n",
      " 68%|██████▊   | 17/25 [00:44<00:20,  2.58s/it]num_full_subsets = 1\n",
      "remaining_weight_vector = [0.11947654 0.08040961 0.06088708 0.04918258 0.0413873  0.03582606\n",
      " 0.03166128 0.02842764 0.02584595 0.02373854 0.021987   0.02050933\n",
      " 0.01924698 0.01815701 0.01720722 0.016373   0.0156352  0.01497873\n",
      " 0.01439149 0.01386373 0.01338743 0.01295602 0.012564   0.01220676\n",
      " 0.01188041 0.01158163 0.0113076  0.01105588 0.01082437 0.01061124\n",
      " 0.0104149  0.01023395 0.01006718 0.00991351 0.009772   0.00964181\n",
      " 0.00952219 0.0094125  0.00931214 0.00922061 0.00913746 0.00906226\n",
      " 0.00899468 0.0089344  0.00888115 0.00883468 0.0087948  0.00876134\n",
      " 0.00873415 0.00871312 0.00869815 0.0086892  0.00868622]\n",
      "num_paired_subset_sizes = 53\n",
      "weight_left = 0.8079159893252132\n",
      "np.sum(w_aug) = 108.00000000000001\n",
      "np.sum(self.kernelWeights) = 1.0\n",
      "phi = [-0.00468771 -0.01028683 -0.00852905  0.          0.          0.\n",
      "  0.00424656 -0.00170771  0.00558144 -0.00224577  0.          0.11268462\n",
      " -0.03103619  0.          0.08562426 -0.00294425  0.00344203 -0.00658557\n",
      " -0.0208927   0.          0.          0.          0.         -0.00303603\n",
      "  0.          0.00482143  0.         -0.02347881  0.          0.00292383\n",
      "  0.          0.         -0.00143891  0.          0.          0.00598136\n",
      "  0.          0.          0.          0.          0.          0.\n",
      "  0.00367557  0.          0.          0.          0.          0.\n",
      "  0.         -0.00185485  0.         -0.00292528  0.          0.\n",
      "  0.          0.          0.          0.          0.          0.00396377\n",
      " -0.00295156  0.          0.          0.         -0.00619072  0.\n",
      "  0.          0.          0.          0.          0.          0.\n",
      "  0.00643251  0.          0.          0.          0.          0.\n",
      "  0.          0.          0.          0.          0.          0.\n",
      "  0.          0.         -0.00372947  0.01220866 -0.00597022  0.\n",
      "  0.          0.          0.          0.          0.          0.\n",
      "  0.         -0.00197308  0.00914877  0.00481199  0.         -0.00663811\n",
      " -0.04354125 -0.00531416 -0.04720645 -0.00254993 -0.00676206  0.        ]\n",
      " 72%|███████▏  | 18/25 [00:46<00:17,  2.54s/it]num_full_subsets = 1\n",
      "remaining_weight_vector = [0.12004298 0.08080563 0.06119838 0.04944344 0.0416149  0.03603022\n",
      " 0.03184814 0.0286013  0.02600931 0.02389372 0.02213558 0.02065256\n",
      " 0.01938582 0.01829226 0.01733954 0.01650293 0.01576322 0.01510523\n",
      " 0.01451683 0.0139882  0.01351133 0.01307959 0.01268747 0.01233034\n",
      " 0.0120043  0.01170602 0.01143266 0.01118179 0.01095129 0.01073933\n",
      " 0.01054432 0.01036486 0.01019973 0.01004786 0.00990831 0.00978023\n",
      " 0.0096629  0.00955566 0.00945793 0.00936921 0.00928904 0.00921703\n",
      " 0.00915284 0.00909615 0.00904672 0.00900431 0.00896873 0.00893983\n",
      " 0.00891748 0.00890158 0.00889207 0.00888891]\n",
      "num_paired_subset_sizes = 52\n",
      "weight_left = 0.8071930411864512\n",
      "np.sum(w_aug) = 106.00000000000003\n",
      "np.sum(self.kernelWeights) = 1.0000000000000002\n",
      "phi = [ 0.         -0.01040729 -0.00936656  0.          0.          0.\n",
      "  0.01001074  0.          0.          0.          0.          0.1184299\n",
      "  0.15579604  0.         -0.02065307  0.          0.00719299 -0.00476681\n",
      " -0.01476219  0.          0.          0.          0.          0.\n",
      "  0.         -0.01858833  0.          0.          0.          0.\n",
      "  0.          0.          0.          0.00832159  0.          0.\n",
      "  0.          0.          0.          0.          0.          0.\n",
      "  0.          0.          0.          0.          0.          0.\n",
      "  0.          0.          0.          0.          0.          0.\n",
      "  0.          0.          0.          0.          0.          0.\n",
      "  0.          0.          0.          0.          0.          0.\n",
      "  0.          0.          0.          0.          0.          0.\n",
      "  0.          0.          0.          0.          0.          0.\n",
      "  0.          0.          0.         -0.00461529  0.          0.\n",
      "  0.          0.          0.          0.          0.          0.\n",
      "  0.          0.          0.          0.          0.          0.\n",
      "  0.01450803  0.00531322  0.         -0.00760452 -0.02030418 -0.00371621\n",
      " -0.02099066  0.          0.          0.        ]\n",
      " 76%|███████▌  | 19/25 [00:49<00:15,  2.55s/it]num_full_subsets = 1\n",
      "remaining_weight_vector = [0.11947654 0.08040961 0.06088708 0.04918258 0.0413873  0.03582606\n",
      " 0.03166128 0.02842764 0.02584595 0.02373854 0.021987   0.02050933\n",
      " 0.01924698 0.01815701 0.01720722 0.016373   0.0156352  0.01497873\n",
      " 0.01439149 0.01386373 0.01338743 0.01295602 0.012564   0.01220676\n",
      " 0.01188041 0.01158163 0.0113076  0.01105588 0.01082437 0.01061124\n",
      " 0.0104149  0.01023395 0.01006718 0.00991351 0.009772   0.00964181\n",
      " 0.00952219 0.0094125  0.00931214 0.00922061 0.00913746 0.00906226\n",
      " 0.00899468 0.0089344  0.00888115 0.00883468 0.0087948  0.00876134\n",
      " 0.00873415 0.00871312 0.00869815 0.0086892  0.00868622]\n",
      "num_paired_subset_sizes = 53\n",
      "weight_left = 0.8079159893252132\n",
      "np.sum(w_aug) = 108.00000000000003\n",
      "np.sum(self.kernelWeights) = 1.0\n",
      "phi = [-0.00414924 -0.00998267 -0.00613342  0.          0.          0.\n",
      "  0.0075746   0.          0.         -0.00195922  0.          0.11025197\n",
      " -0.02989014  0.          0.08090654 -0.00137784  0.         -0.00650934\n",
      " -0.0155799   0.          0.          0.          0.          0.\n",
      "  0.          0.          0.         -0.02563551  0.          0.\n",
      "  0.          0.          0.          0.          0.          0.0057561\n",
      "  0.          0.          0.          0.          0.          0.\n",
      "  0.          0.          0.          0.          0.          0.\n",
      "  0.          0.          0.          0.          0.          0.\n",
      "  0.          0.          0.          0.          0.          0.00623328\n",
      "  0.          0.          0.         -0.00135558 -0.00319958  0.\n",
      "  0.          0.          0.          0.          0.          0.\n",
      "  0.0066491   0.          0.          0.          0.         -0.00407947\n",
      "  0.          0.          0.          0.          0.          0.\n",
      "  0.          0.         -0.00281319  0.00773257 -0.00791091 -0.00399005\n",
      " -0.00152084  0.         -0.00163673  0.          0.          0.\n",
      "  0.          0.          0.01081561  0.          0.         -0.00677389\n",
      " -0.04206857 -0.00549335 -0.05063559  0.         -0.01033642  0.        ]\n",
      " 80%|████████  | 20/25 [00:51<00:12,  2.51s/it]num_full_subsets = 1\n",
      "remaining_weight_vector = [0.11947654 0.08040961 0.06088708 0.04918258 0.0413873  0.03582606\n",
      " 0.03166128 0.02842764 0.02584595 0.02373854 0.021987   0.02050933\n",
      " 0.01924698 0.01815701 0.01720722 0.016373   0.0156352  0.01497873\n",
      " 0.01439149 0.01386373 0.01338743 0.01295602 0.012564   0.01220676\n",
      " 0.01188041 0.01158163 0.0113076  0.01105588 0.01082437 0.01061124\n",
      " 0.0104149  0.01023395 0.01006718 0.00991351 0.009772   0.00964181\n",
      " 0.00952219 0.0094125  0.00931214 0.00922061 0.00913746 0.00906226\n",
      " 0.00899468 0.0089344  0.00888115 0.00883468 0.0087948  0.00876134\n",
      " 0.00873415 0.00871312 0.00869815 0.0086892  0.00868622]\n",
      "num_paired_subset_sizes = 53\n",
      "weight_left = 0.8079159893252132\n",
      "np.sum(w_aug) = 108.00000000000003\n",
      "np.sum(self.kernelWeights) = 1.0000000000000002\n",
      "phi = [-0.00634228 -0.01101885 -0.00478575  0.          0.00289421  0.\n",
      "  0.00691692 -0.00145985  0.00435052 -0.00167116  0.00433192  0.10946195\n",
      " -0.03104496  0.          0.08138577 -0.00274444  0.         -0.00736403\n",
      " -0.0165703   0.          0.          0.          0.         -0.00254938\n",
      "  0.          0.00623929  0.         -0.02702624 -0.00063682  0.\n",
      "  0.          0.          0.          0.          0.          0.00583152\n",
      "  0.          0.          0.         -0.00171259  0.          0.\n",
      "  0.00406156  0.          0.          0.          0.          0.\n",
      "  0.00355107  0.          0.         -0.00346135  0.         -0.00161201\n",
      " -0.00122944  0.          0.          0.          0.          0.0061838\n",
      " -0.00396574  0.          0.          0.         -0.00501483  0.\n",
      "  0.          0.          0.          0.          0.          0.\n",
      "  0.00600005  0.          0.          0.          0.         -0.00310404\n",
      "  0.          0.          0.          0.          0.         -0.00201238\n",
      "  0.          0.         -0.00198876  0.01033249 -0.00768402  0.\n",
      "  0.          0.         -0.00276062  0.          0.         -0.0020519\n",
      "  0.         -0.0027023   0.00996337  0.00266329  0.         -0.0055114\n",
      " -0.04248957 -0.00461705 -0.0506017  -0.00253959 -0.0130061   0.        ]\n",
      " 84%|████████▍ | 21/25 [00:53<00:09,  2.48s/it]num_full_subsets = 1\n",
      "remaining_weight_vector = [0.12028616 0.08096184 0.06131091 0.0495296  0.04168332 0.03608585\n",
      " 0.03189406 0.02863956 0.02604133 0.02392054 0.02215798 0.02067111\n",
      " 0.01940099 0.01830442 0.01734897 0.01650987 0.01576785 0.01510771\n",
      " 0.0145173  0.01398676 0.01350807 0.01307458 0.01268077 0.012322\n",
      " 0.01199435 0.01169449 0.01141957 0.01116715 0.01093511 0.0107216\n",
      " 0.01052504 0.01034402 0.01017731 0.01002385 0.00988267 0.00975293\n",
      " 0.0096339  0.00952492 0.00942541 0.00933485 0.00925278 0.00917881\n",
      " 0.00911259 0.0090538  0.00900217 0.00895748 0.00891952 0.00888814\n",
      " 0.00886319 0.00884457 0.0088322  0.00882603]\n",
      "num_paired_subset_sizes = 53\n",
      "weight_left = 0.8075569398054265\n",
      "np.sum(w_aug) = 107.00000000000001\n",
      "np.sum(self.kernelWeights) = 1.0\n",
      "phi = [ 0.04907332  0.          0.          0.          0.          0.\n",
      "  0.          0.          0.          0.          0.          0.12584724\n",
      "  0.12633088  0.         -0.02442728  0.          0.          0.\n",
      "  0.          0.          0.          0.          0.          0.\n",
      "  0.          0.         -0.03718401  0.          0.          0.\n",
      "  0.          0.          0.          0.          0.0077161   0.\n",
      "  0.          0.          0.          0.          0.          0.\n",
      "  0.          0.          0.          0.          0.          0.\n",
      "  0.          0.          0.          0.          0.          0.\n",
      "  0.          0.          0.          0.          0.          0.\n",
      "  0.          0.          0.          0.          0.          0.\n",
      "  0.          0.          0.          0.          0.          0.\n",
      "  0.          0.          0.          0.          0.          0.\n",
      "  0.          0.          0.          0.          0.          0.\n",
      "  0.          0.          0.          0.          0.          0.\n",
      "  0.          0.          0.          0.          0.          0.\n",
      "  0.          0.00819871  0.          0.          0.         -0.01415752\n",
      "  0.         -0.01669093  0.          0.          0.        ]\n",
      " 88%|████████▊ | 22/25 [00:56<00:07,  2.47s/it]num_full_subsets = 1\n",
      "remaining_weight_vector = [0.12028616 0.08096184 0.06131091 0.0495296  0.04168332 0.03608585\n",
      " 0.03189406 0.02863956 0.02604133 0.02392054 0.02215798 0.02067111\n",
      " 0.01940099 0.01830442 0.01734897 0.01650987 0.01576785 0.01510771\n",
      " 0.0145173  0.01398676 0.01350807 0.01307458 0.01268077 0.012322\n",
      " 0.01199435 0.01169449 0.01141957 0.01116715 0.01093511 0.0107216\n",
      " 0.01052504 0.01034402 0.01017731 0.01002385 0.00988267 0.00975293\n",
      " 0.0096339  0.00952492 0.00942541 0.00933485 0.00925278 0.00917881\n",
      " 0.00911259 0.0090538  0.00900217 0.00895748 0.00891952 0.00888814\n",
      " 0.00886319 0.00884457 0.0088322  0.00882603]\n",
      "num_paired_subset_sizes = 53\n",
      "weight_left = 0.8075569398054265\n",
      "np.sum(w_aug) = 107.00000000000003\n",
      "np.sum(self.kernelWeights) = 1.0\n",
      "phi = [ 0.11141096  0.          0.          0.          0.          0.\n",
      "  0.00760785  0.          0.00513283  0.          0.          0.12409265\n",
      " -0.02170323  0.          0.13279067  0.          0.          0.\n",
      "  0.01267889  0.          0.          0.          0.          0.\n",
      "  0.          0.          0.          0.00332091  0.          0.\n",
      "  0.          0.          0.          0.          0.00359128  0.\n",
      "  0.          0.          0.          0.          0.          0.\n",
      "  0.          0.          0.          0.          0.          0.\n",
      "  0.          0.          0.          0.          0.          0.\n",
      "  0.          0.          0.          0.          0.00415989  0.\n",
      "  0.          0.          0.          0.          0.          0.\n",
      "  0.          0.00388949  0.          0.          0.          0.\n",
      "  0.00910906  0.          0.          0.          0.          0.\n",
      "  0.          0.          0.          0.          0.          0.\n",
      "  0.          0.          0.00717286  0.          0.          0.\n",
      "  0.          0.          0.          0.          0.          0.\n",
      "  0.          0.00685394  0.          0.          0.         -0.02454762\n",
      "  0.         -0.01994486  0.          0.          0.        ]\n",
      " 92%|█████████▏| 23/25 [00:58<00:05,  2.50s/it]num_full_subsets = 1\n",
      "remaining_weight_vector = [0.12028616 0.08096184 0.06131091 0.0495296  0.04168332 0.03608585\n",
      " 0.03189406 0.02863956 0.02604133 0.02392054 0.02215798 0.02067111\n",
      " 0.01940099 0.01830442 0.01734897 0.01650987 0.01576785 0.01510771\n",
      " 0.0145173  0.01398676 0.01350807 0.01307458 0.01268077 0.012322\n",
      " 0.01199435 0.01169449 0.01141957 0.01116715 0.01093511 0.0107216\n",
      " 0.01052504 0.01034402 0.01017731 0.01002385 0.00988267 0.00975293\n",
      " 0.0096339  0.00952492 0.00942541 0.00933485 0.00925278 0.00917881\n",
      " 0.00911259 0.0090538  0.00900217 0.00895748 0.00891952 0.00888814\n",
      " 0.00886319 0.00884457 0.0088322  0.00882603]\n",
      "num_paired_subset_sizes = 53\n",
      "weight_left = 0.8075569398054265\n",
      "np.sum(w_aug) = 107.00000000000001\n",
      "np.sum(self.kernelWeights) = 1.0\n",
      "phi = [ 0.11414504  0.          0.          0.          0.          0.\n",
      "  0.00882956  0.          0.00539982  0.          0.          0.12427116\n",
      " -0.02092452  0.          0.13017327  0.          0.          0.\n",
      "  0.01427035  0.          0.          0.          0.          0.\n",
      "  0.          0.         -0.01269563  0.          0.          0.\n",
      "  0.0067516   0.          0.          0.          0.00794266  0.\n",
      "  0.          0.          0.          0.          0.          0.\n",
      "  0.          0.          0.          0.          0.          0.\n",
      "  0.          0.          0.          0.          0.          0.\n",
      "  0.          0.          0.          0.          0.00507968  0.\n",
      "  0.          0.          0.          0.          0.          0.\n",
      "  0.          0.          0.          0.          0.          0.\n",
      "  0.01185321  0.          0.          0.          0.          0.\n",
      "  0.          0.          0.          0.          0.          0.\n",
      "  0.          0.          0.0080225   0.          0.          0.\n",
      "  0.          0.          0.          0.          0.          0.\n",
      "  0.          0.00684124  0.          0.          0.         -0.02320206\n",
      "  0.         -0.02114229  0.          0.          0.        ]\n",
      " 96%|█████████▌| 24/25 [01:01<00:02,  2.50s/it]num_full_subsets = 1\n",
      "remaining_weight_vector = [0.12028616 0.08096184 0.06131091 0.0495296  0.04168332 0.03608585\n",
      " 0.03189406 0.02863956 0.02604133 0.02392054 0.02215798 0.02067111\n",
      " 0.01940099 0.01830442 0.01734897 0.01650987 0.01576785 0.01510771\n",
      " 0.0145173  0.01398676 0.01350807 0.01307458 0.01268077 0.012322\n",
      " 0.01199435 0.01169449 0.01141957 0.01116715 0.01093511 0.0107216\n",
      " 0.01052504 0.01034402 0.01017731 0.01002385 0.00988267 0.00975293\n",
      " 0.0096339  0.00952492 0.00942541 0.00933485 0.00925278 0.00917881\n",
      " 0.00911259 0.0090538  0.00900217 0.00895748 0.00891952 0.00888814\n",
      " 0.00886319 0.00884457 0.0088322  0.00882603]\n",
      "num_paired_subset_sizes = 53\n",
      "weight_left = 0.8075569398054265\n",
      "np.sum(w_aug) = 107.00000000000003\n",
      "np.sum(self.kernelWeights) = 1.0000000000000002\n",
      "phi = [ 0.0460295  -0.00893163 -0.00636432  0.          0.          0.\n",
      "  0.00838362  0.          0.          0.          0.          0.12485988\n",
      "  0.12299512  0.         -0.02544697  0.          0.          0.\n",
      "  0.          0.          0.          0.          0.          0.\n",
      "  0.          0.         -0.0379574   0.          0.          0.\n",
      "  0.          0.          0.          0.          0.0106974   0.\n",
      "  0.          0.          0.          0.          0.          0.\n",
      "  0.          0.          0.          0.          0.          0.\n",
      "  0.          0.          0.          0.          0.          0.\n",
      "  0.          0.          0.          0.          0.          0.\n",
      "  0.          0.          0.         -0.00567405  0.          0.\n",
      "  0.          0.          0.          0.          0.          0.\n",
      " -0.00471238  0.          0.          0.          0.          0.\n",
      "  0.          0.          0.          0.          0.          0.\n",
      "  0.          0.          0.00795929  0.          0.          0.\n",
      "  0.          0.          0.          0.          0.          0.\n",
      " -0.0049484   0.0105695   0.          0.         -0.00544951 -0.00842309\n",
      "  0.         -0.01567372  0.          0.00770275  0.        ]\n",
      "100%|██████████| 25/25 [01:03<00:00,  2.55s/it]\n",
      "Generating mini dash\n",
      "Generated mini dash\n"
     ]
    },
    {
     "data": {
      "text/html": [
       "<!-- http://127.0.0.1:7001/3251396456512/ -->\n",
       "<iframe src=\"http://127.0.0.1:7001/3251396456512/\" width=100% height=800 frameBorder=\"0\"></iframe>"
      ]
     },
     "metadata": {},
     "output_type": "display_data"
    },
    {
     "name": "stderr",
     "output_type": "stream",
     "text": [
      "No overall plot to display: -1|PartialDependence_0\n",
      "No overall plot to display: -1|ShapKernel_1\n"
     ]
    }
   ],
   "source": [
    "shap_local = shap.explain_local(pd.DataFrame(Xtest)[:25])\n",
    "\n",
    "show(shap_local)"
   ]
  },
  {
   "cell_type": "code",
   "execution_count": null,
   "metadata": {},
   "outputs": [],
   "source": []
  }
 ],
 "metadata": {
  "interpreter": {
   "hash": "456d2a7118d35350561e2a2cece57887a28d81f04d055278ed4a029d882f7171"
  },
  "kernelspec": {
   "display_name": "Python 3.8.8 64-bit ('base': conda)",
   "language": "python",
   "name": "python3"
  },
  "language_info": {
   "codemirror_mode": {
    "name": "ipython",
    "version": 3
   },
   "file_extension": ".py",
   "mimetype": "text/x-python",
   "name": "python",
   "nbconvert_exporter": "python",
   "pygments_lexer": "ipython3",
   "version": "3.8.8"
  },
  "orig_nbformat": 4
 },
 "nbformat": 4,
 "nbformat_minor": 2
}
