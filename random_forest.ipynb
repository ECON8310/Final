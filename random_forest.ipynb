{
 "cells": [
  {
   "cell_type": "code",
   "execution_count": 1,
   "metadata": {},
   "outputs": [],
   "source": [
    "import pandas as pd\n",
    "import numpy as np\n",
    "\n",
    "import patsy as pt\n",
    "from sklearn.model_selection import train_test_split\n",
    "from sklearn.metrics import accuracy_score\n",
    "from sklearn.ensemble import RandomForestClassifier\n",
    "\n",
    "import plotly.express as px\n",
    "\n",
    "from interpret import show\n",
    "from interpret.blackbox import ShapKernel, PartialDependence\n",
    "\n"
   ]
  },
  {
   "cell_type": "markdown",
   "metadata": {},
   "source": [
    "### Data Prep"
   ]
  },
  {
   "cell_type": "code",
   "execution_count": 2,
   "metadata": {},
   "outputs": [],
   "source": [
    "data = pd.read_csv('./DATA/pakistanClean2.csv')"
   ]
  },
  {
   "cell_type": "code",
   "execution_count": 3,
   "metadata": {},
   "outputs": [
    {
     "name": "stderr",
     "output_type": "stream",
     "text": [
      "Note: NumExpr detected 12 cores but \"NUMEXPR_MAX_THREADS\" not set, so enforcing safe limit of 8.\n",
      "NumExpr defaulting to 8 threads.\n"
     ]
    }
   ],
   "source": [
    "#valid_train_Values = ['0','1']\n",
    "#work_data = data[data.TTP.isin(valid_train_Values)] \n",
    "work_data = data[(data['TTP']==0) | (data['TTP'] ==1)].copy()\n",
    "test_data = data[pd.isna(data['TTP'])].copy()\n",
    "work_data = work_data.fillna(-99)"
   ]
  },
  {
   "cell_type": "code",
   "execution_count": 4,
   "metadata": {},
   "outputs": [],
   "source": [
    "# Create regression arrays\n",
    "Y, X = pt.dmatrices(\"TTP ~ C(iyear) + C(provstate) + multiple + success + suicide + attacktype1 + C(targtype1) + C(targsubtype1) + weaptype1 + weapsubtype1 + nkill + nkillus + nkillter + nwound + nwoundus + nwoundte + C(Month)\", data = work_data)"
   ]
  },
  {
   "cell_type": "code",
   "execution_count": 5,
   "metadata": {},
   "outputs": [],
   "source": [
    "names = X.design_info.column_names\n",
    "names = [i.replace('[', '').replace(']', '').replace(' ', '').replace(',', '') for i in names]"
   ]
  },
  {
   "cell_type": "code",
   "execution_count": 6,
   "metadata": {},
   "outputs": [],
   "source": [
    "# Randomly create train and test data\n",
    "x, xt, y, yt = train_test_split(X, Y, test_size = 0.25,random_state=35)"
   ]
  },
  {
   "cell_type": "markdown",
   "metadata": {},
   "source": [
    "### Model"
   ]
  },
  {
   "cell_type": "code",
   "execution_count": 7,
   "metadata": {},
   "outputs": [
    {
     "name": "stderr",
     "output_type": "stream",
     "text": [
      "<ipython-input-7-4e61eff9e664>:4: DataConversionWarning: A column-vector y was passed when a 1d array was expected. Please change the shape of y to (n_samples,), for example using ravel().\n",
      "  fclf = writingForest.fit(x, y)\n"
     ]
    }
   ],
   "source": [
    "# Generate the random forest model\n",
    "writingForest = RandomForestClassifier(n_estimators=110, n_jobs = -1, random_state=35)\n",
    "# Fit the model to the training data\n",
    "fclf = writingForest.fit(x, y)"
   ]
  },
  {
   "cell_type": "markdown",
   "metadata": {},
   "source": [
    "### Generate predictions and evaluate"
   ]
  },
  {
   "cell_type": "code",
   "execution_count": 55,
   "metadata": {},
   "outputs": [
    {
     "name": "stdout",
     "output_type": "stream",
     "text": [
      "The random forest has an accuracy of : 0.8175937904269082\n",
      "\n"
     ]
    }
   ],
   "source": [
    "# Make predictions\n",
    "fpred = fclf.predict(xt)\n",
    "# Print the accuracy score of the fitted model\n",
    "print(\"The random forest has an accuracy of : %s\\n\" % str(accuracy_score(fpred, yt)))"
   ]
  },
  {
   "cell_type": "markdown",
   "metadata": {},
   "source": [
    "### Explain model"
   ]
  },
  {
   "cell_type": "markdown",
   "metadata": {},
   "source": [
    "#### Feature importances"
   ]
  },
  {
   "cell_type": "code",
   "execution_count": 9,
   "metadata": {},
   "outputs": [],
   "source": [
    "imp_df = pd.DataFrame({'Feature':names,'Importance':fclf.feature_importances_})\n",
    "imp_df.sort_values(by='Importance', ascending=False, inplace=True)"
   ]
  },
  {
   "cell_type": "code",
   "execution_count": 10,
   "metadata": {},
   "outputs": [
    {
     "data": {
      "application/vnd.plotly.v1+json": {
       "config": {
        "plotlyServerURL": "https://plot.ly"
       },
       "data": [
        {
         "alignmentgroup": "True",
         "hovertemplate": "Importance=%{x}<br>Feature=%{y}<extra></extra>",
         "legendgroup": "",
         "marker": {
          "color": "#636efa",
          "pattern": {
           "shape": ""
          }
         },
         "name": "",
         "offsetgroup": "",
         "orientation": "h",
         "showlegend": false,
         "textposition": "auto",
         "type": "bar",
         "x": [
          0.16377936375055643,
          0.0542827248775175,
          0.053622755066064114,
          0.04938046938714151,
          0.047827857908150945,
          0.04629584006315441,
          0.026302645706037898,
          0.022626389707813346,
          0.01692459838018845,
          0.016170994238882425,
          0.01513583939606882,
          0.01497812990542885,
          0.014579739687051415,
          0.01325555583678348,
          0.01170738287148765,
          0.011654787399047005,
          0.011649075704447636,
          0.011577623151503104,
          0.011172347121384945,
          0.010933383475958592
         ],
         "xaxis": "x",
         "y": [
          "C(provstate)T.Balochistan",
          "nkill",
          "C(provstate)T.KhyberPakhtunkhwa",
          "C(provstate)T.FederallyAdministeredTribalAreas",
          "weapsubtype1",
          "nwound",
          "attacktype1",
          "nkillter",
          "C(Month)T.Nov",
          "weaptype1",
          "C(targsubtype1)T.49.0",
          "C(provstate)T.Sindh",
          "C(iyear)T.2010",
          "C(iyear)T.2014",
          "C(iyear)T.2013",
          "C(iyear)T.2015",
          "multiple",
          "C(iyear)T.2016",
          "C(targtype1)T.21",
          "C(Month)T.Jan"
         ],
         "yaxis": "y"
        }
       ],
       "layout": {
        "barmode": "relative",
        "legend": {
         "tracegroupgap": 0
        },
        "margin": {
         "t": 60
        },
        "template": {
         "data": {
          "bar": [
           {
            "error_x": {
             "color": "#2a3f5f"
            },
            "error_y": {
             "color": "#2a3f5f"
            },
            "marker": {
             "line": {
              "color": "#E5ECF6",
              "width": 0.5
             },
             "pattern": {
              "fillmode": "overlay",
              "size": 10,
              "solidity": 0.2
             }
            },
            "type": "bar"
           }
          ],
          "barpolar": [
           {
            "marker": {
             "line": {
              "color": "#E5ECF6",
              "width": 0.5
             },
             "pattern": {
              "fillmode": "overlay",
              "size": 10,
              "solidity": 0.2
             }
            },
            "type": "barpolar"
           }
          ],
          "carpet": [
           {
            "aaxis": {
             "endlinecolor": "#2a3f5f",
             "gridcolor": "white",
             "linecolor": "white",
             "minorgridcolor": "white",
             "startlinecolor": "#2a3f5f"
            },
            "baxis": {
             "endlinecolor": "#2a3f5f",
             "gridcolor": "white",
             "linecolor": "white",
             "minorgridcolor": "white",
             "startlinecolor": "#2a3f5f"
            },
            "type": "carpet"
           }
          ],
          "choropleth": [
           {
            "colorbar": {
             "outlinewidth": 0,
             "ticks": ""
            },
            "type": "choropleth"
           }
          ],
          "contour": [
           {
            "colorbar": {
             "outlinewidth": 0,
             "ticks": ""
            },
            "colorscale": [
             [
              0,
              "#0d0887"
             ],
             [
              0.1111111111111111,
              "#46039f"
             ],
             [
              0.2222222222222222,
              "#7201a8"
             ],
             [
              0.3333333333333333,
              "#9c179e"
             ],
             [
              0.4444444444444444,
              "#bd3786"
             ],
             [
              0.5555555555555556,
              "#d8576b"
             ],
             [
              0.6666666666666666,
              "#ed7953"
             ],
             [
              0.7777777777777778,
              "#fb9f3a"
             ],
             [
              0.8888888888888888,
              "#fdca26"
             ],
             [
              1,
              "#f0f921"
             ]
            ],
            "type": "contour"
           }
          ],
          "contourcarpet": [
           {
            "colorbar": {
             "outlinewidth": 0,
             "ticks": ""
            },
            "type": "contourcarpet"
           }
          ],
          "heatmap": [
           {
            "colorbar": {
             "outlinewidth": 0,
             "ticks": ""
            },
            "colorscale": [
             [
              0,
              "#0d0887"
             ],
             [
              0.1111111111111111,
              "#46039f"
             ],
             [
              0.2222222222222222,
              "#7201a8"
             ],
             [
              0.3333333333333333,
              "#9c179e"
             ],
             [
              0.4444444444444444,
              "#bd3786"
             ],
             [
              0.5555555555555556,
              "#d8576b"
             ],
             [
              0.6666666666666666,
              "#ed7953"
             ],
             [
              0.7777777777777778,
              "#fb9f3a"
             ],
             [
              0.8888888888888888,
              "#fdca26"
             ],
             [
              1,
              "#f0f921"
             ]
            ],
            "type": "heatmap"
           }
          ],
          "heatmapgl": [
           {
            "colorbar": {
             "outlinewidth": 0,
             "ticks": ""
            },
            "colorscale": [
             [
              0,
              "#0d0887"
             ],
             [
              0.1111111111111111,
              "#46039f"
             ],
             [
              0.2222222222222222,
              "#7201a8"
             ],
             [
              0.3333333333333333,
              "#9c179e"
             ],
             [
              0.4444444444444444,
              "#bd3786"
             ],
             [
              0.5555555555555556,
              "#d8576b"
             ],
             [
              0.6666666666666666,
              "#ed7953"
             ],
             [
              0.7777777777777778,
              "#fb9f3a"
             ],
             [
              0.8888888888888888,
              "#fdca26"
             ],
             [
              1,
              "#f0f921"
             ]
            ],
            "type": "heatmapgl"
           }
          ],
          "histogram": [
           {
            "marker": {
             "pattern": {
              "fillmode": "overlay",
              "size": 10,
              "solidity": 0.2
             }
            },
            "type": "histogram"
           }
          ],
          "histogram2d": [
           {
            "colorbar": {
             "outlinewidth": 0,
             "ticks": ""
            },
            "colorscale": [
             [
              0,
              "#0d0887"
             ],
             [
              0.1111111111111111,
              "#46039f"
             ],
             [
              0.2222222222222222,
              "#7201a8"
             ],
             [
              0.3333333333333333,
              "#9c179e"
             ],
             [
              0.4444444444444444,
              "#bd3786"
             ],
             [
              0.5555555555555556,
              "#d8576b"
             ],
             [
              0.6666666666666666,
              "#ed7953"
             ],
             [
              0.7777777777777778,
              "#fb9f3a"
             ],
             [
              0.8888888888888888,
              "#fdca26"
             ],
             [
              1,
              "#f0f921"
             ]
            ],
            "type": "histogram2d"
           }
          ],
          "histogram2dcontour": [
           {
            "colorbar": {
             "outlinewidth": 0,
             "ticks": ""
            },
            "colorscale": [
             [
              0,
              "#0d0887"
             ],
             [
              0.1111111111111111,
              "#46039f"
             ],
             [
              0.2222222222222222,
              "#7201a8"
             ],
             [
              0.3333333333333333,
              "#9c179e"
             ],
             [
              0.4444444444444444,
              "#bd3786"
             ],
             [
              0.5555555555555556,
              "#d8576b"
             ],
             [
              0.6666666666666666,
              "#ed7953"
             ],
             [
              0.7777777777777778,
              "#fb9f3a"
             ],
             [
              0.8888888888888888,
              "#fdca26"
             ],
             [
              1,
              "#f0f921"
             ]
            ],
            "type": "histogram2dcontour"
           }
          ],
          "mesh3d": [
           {
            "colorbar": {
             "outlinewidth": 0,
             "ticks": ""
            },
            "type": "mesh3d"
           }
          ],
          "parcoords": [
           {
            "line": {
             "colorbar": {
              "outlinewidth": 0,
              "ticks": ""
             }
            },
            "type": "parcoords"
           }
          ],
          "pie": [
           {
            "automargin": true,
            "type": "pie"
           }
          ],
          "scatter": [
           {
            "marker": {
             "colorbar": {
              "outlinewidth": 0,
              "ticks": ""
             }
            },
            "type": "scatter"
           }
          ],
          "scatter3d": [
           {
            "line": {
             "colorbar": {
              "outlinewidth": 0,
              "ticks": ""
             }
            },
            "marker": {
             "colorbar": {
              "outlinewidth": 0,
              "ticks": ""
             }
            },
            "type": "scatter3d"
           }
          ],
          "scattercarpet": [
           {
            "marker": {
             "colorbar": {
              "outlinewidth": 0,
              "ticks": ""
             }
            },
            "type": "scattercarpet"
           }
          ],
          "scattergeo": [
           {
            "marker": {
             "colorbar": {
              "outlinewidth": 0,
              "ticks": ""
             }
            },
            "type": "scattergeo"
           }
          ],
          "scattergl": [
           {
            "marker": {
             "colorbar": {
              "outlinewidth": 0,
              "ticks": ""
             }
            },
            "type": "scattergl"
           }
          ],
          "scattermapbox": [
           {
            "marker": {
             "colorbar": {
              "outlinewidth": 0,
              "ticks": ""
             }
            },
            "type": "scattermapbox"
           }
          ],
          "scatterpolar": [
           {
            "marker": {
             "colorbar": {
              "outlinewidth": 0,
              "ticks": ""
             }
            },
            "type": "scatterpolar"
           }
          ],
          "scatterpolargl": [
           {
            "marker": {
             "colorbar": {
              "outlinewidth": 0,
              "ticks": ""
             }
            },
            "type": "scatterpolargl"
           }
          ],
          "scatterternary": [
           {
            "marker": {
             "colorbar": {
              "outlinewidth": 0,
              "ticks": ""
             }
            },
            "type": "scatterternary"
           }
          ],
          "surface": [
           {
            "colorbar": {
             "outlinewidth": 0,
             "ticks": ""
            },
            "colorscale": [
             [
              0,
              "#0d0887"
             ],
             [
              0.1111111111111111,
              "#46039f"
             ],
             [
              0.2222222222222222,
              "#7201a8"
             ],
             [
              0.3333333333333333,
              "#9c179e"
             ],
             [
              0.4444444444444444,
              "#bd3786"
             ],
             [
              0.5555555555555556,
              "#d8576b"
             ],
             [
              0.6666666666666666,
              "#ed7953"
             ],
             [
              0.7777777777777778,
              "#fb9f3a"
             ],
             [
              0.8888888888888888,
              "#fdca26"
             ],
             [
              1,
              "#f0f921"
             ]
            ],
            "type": "surface"
           }
          ],
          "table": [
           {
            "cells": {
             "fill": {
              "color": "#EBF0F8"
             },
             "line": {
              "color": "white"
             }
            },
            "header": {
             "fill": {
              "color": "#C8D4E3"
             },
             "line": {
              "color": "white"
             }
            },
            "type": "table"
           }
          ]
         },
         "layout": {
          "annotationdefaults": {
           "arrowcolor": "#2a3f5f",
           "arrowhead": 0,
           "arrowwidth": 1
          },
          "autotypenumbers": "strict",
          "coloraxis": {
           "colorbar": {
            "outlinewidth": 0,
            "ticks": ""
           }
          },
          "colorscale": {
           "diverging": [
            [
             0,
             "#8e0152"
            ],
            [
             0.1,
             "#c51b7d"
            ],
            [
             0.2,
             "#de77ae"
            ],
            [
             0.3,
             "#f1b6da"
            ],
            [
             0.4,
             "#fde0ef"
            ],
            [
             0.5,
             "#f7f7f7"
            ],
            [
             0.6,
             "#e6f5d0"
            ],
            [
             0.7,
             "#b8e186"
            ],
            [
             0.8,
             "#7fbc41"
            ],
            [
             0.9,
             "#4d9221"
            ],
            [
             1,
             "#276419"
            ]
           ],
           "sequential": [
            [
             0,
             "#0d0887"
            ],
            [
             0.1111111111111111,
             "#46039f"
            ],
            [
             0.2222222222222222,
             "#7201a8"
            ],
            [
             0.3333333333333333,
             "#9c179e"
            ],
            [
             0.4444444444444444,
             "#bd3786"
            ],
            [
             0.5555555555555556,
             "#d8576b"
            ],
            [
             0.6666666666666666,
             "#ed7953"
            ],
            [
             0.7777777777777778,
             "#fb9f3a"
            ],
            [
             0.8888888888888888,
             "#fdca26"
            ],
            [
             1,
             "#f0f921"
            ]
           ],
           "sequentialminus": [
            [
             0,
             "#0d0887"
            ],
            [
             0.1111111111111111,
             "#46039f"
            ],
            [
             0.2222222222222222,
             "#7201a8"
            ],
            [
             0.3333333333333333,
             "#9c179e"
            ],
            [
             0.4444444444444444,
             "#bd3786"
            ],
            [
             0.5555555555555556,
             "#d8576b"
            ],
            [
             0.6666666666666666,
             "#ed7953"
            ],
            [
             0.7777777777777778,
             "#fb9f3a"
            ],
            [
             0.8888888888888888,
             "#fdca26"
            ],
            [
             1,
             "#f0f921"
            ]
           ]
          },
          "colorway": [
           "#636efa",
           "#EF553B",
           "#00cc96",
           "#ab63fa",
           "#FFA15A",
           "#19d3f3",
           "#FF6692",
           "#B6E880",
           "#FF97FF",
           "#FECB52"
          ],
          "font": {
           "color": "#2a3f5f"
          },
          "geo": {
           "bgcolor": "white",
           "lakecolor": "white",
           "landcolor": "#E5ECF6",
           "showlakes": true,
           "showland": true,
           "subunitcolor": "white"
          },
          "hoverlabel": {
           "align": "left"
          },
          "hovermode": "closest",
          "mapbox": {
           "style": "light"
          },
          "paper_bgcolor": "white",
          "plot_bgcolor": "#E5ECF6",
          "polar": {
           "angularaxis": {
            "gridcolor": "white",
            "linecolor": "white",
            "ticks": ""
           },
           "bgcolor": "#E5ECF6",
           "radialaxis": {
            "gridcolor": "white",
            "linecolor": "white",
            "ticks": ""
           }
          },
          "scene": {
           "xaxis": {
            "backgroundcolor": "#E5ECF6",
            "gridcolor": "white",
            "gridwidth": 2,
            "linecolor": "white",
            "showbackground": true,
            "ticks": "",
            "zerolinecolor": "white"
           },
           "yaxis": {
            "backgroundcolor": "#E5ECF6",
            "gridcolor": "white",
            "gridwidth": 2,
            "linecolor": "white",
            "showbackground": true,
            "ticks": "",
            "zerolinecolor": "white"
           },
           "zaxis": {
            "backgroundcolor": "#E5ECF6",
            "gridcolor": "white",
            "gridwidth": 2,
            "linecolor": "white",
            "showbackground": true,
            "ticks": "",
            "zerolinecolor": "white"
           }
          },
          "shapedefaults": {
           "line": {
            "color": "#2a3f5f"
           }
          },
          "ternary": {
           "aaxis": {
            "gridcolor": "white",
            "linecolor": "white",
            "ticks": ""
           },
           "baxis": {
            "gridcolor": "white",
            "linecolor": "white",
            "ticks": ""
           },
           "bgcolor": "#E5ECF6",
           "caxis": {
            "gridcolor": "white",
            "linecolor": "white",
            "ticks": ""
           }
          },
          "title": {
           "x": 0.05
          },
          "xaxis": {
           "automargin": true,
           "gridcolor": "white",
           "linecolor": "white",
           "ticks": "",
           "title": {
            "standoff": 15
           },
           "zerolinecolor": "white",
           "zerolinewidth": 2
          },
          "yaxis": {
           "automargin": true,
           "gridcolor": "white",
           "linecolor": "white",
           "ticks": "",
           "title": {
            "standoff": 15
           },
           "zerolinecolor": "white",
           "zerolinewidth": 2
          }
         }
        },
        "xaxis": {
         "anchor": "y",
         "domain": [
          0,
          1
         ],
         "title": {
          "text": "Importance"
         }
        },
        "yaxis": {
         "anchor": "x",
         "domain": [
          0,
          1
         ],
         "title": {
          "text": "Feature"
         }
        }
       }
      }
     },
     "metadata": {},
     "output_type": "display_data"
    }
   ],
   "source": [
    "px.bar(x='Importance', y='Feature', data_frame=imp_df.head(20), orientation='h')"
   ]
  },
  {
   "cell_type": "markdown",
   "metadata": {},
   "source": [
    "#### Shapley Values Intro\n",
    "\n",
    "Shapley values can help us understand what and how features contributed to our final prediction. The goal is to understand how a model got to the prediction it did. In the above plot we see that the number of terrorists killed, along with a couple location features, pushed our TTP probabibility over 50%. While there were other features that would lead us to believe it was not a TTP attack, they were not enough to bring us below 50%. "
   ]
  },
  {
   "cell_type": "code",
   "execution_count": 11,
   "metadata": {},
   "outputs": [],
   "source": [
    "shap = ShapKernel(predict_fn=writingForest.predict_proba, data=pd.DataFrame(x, columns=names)[:100])"
   ]
  },
  {
   "cell_type": "code",
   "execution_count": 12,
   "metadata": {},
   "outputs": [
    {
     "name": "stderr",
     "output_type": "stream",
     "text": [
      "  0%|          | 0/25 [00:00<?, ?it/s]num_full_subsets = 1\n",
      "remaining_weight_vector = [0.12794589 0.08633747 0.06555252 0.05309754 0.04480805 0.0388993\n",
      " 0.03447893 0.0310512  0.02831869 0.02609216 0.02424545 0.02269126\n",
      " 0.02136722 0.02022764 0.01923824 0.01837285 0.01761113 0.01693702\n",
      " 0.01633771 0.01580284 0.01532397 0.01489412 0.01450753 0.01415935\n",
      " 0.01384551 0.01356259 0.01330766 0.01307821 0.01287213 0.01268759\n",
      " 0.01252301 0.01237705 0.01224857 0.01213658 0.01204026 0.01195891\n",
      " 0.01189195 0.01183892 0.01179945 0.01177329 0.01176025]\n",
      "num_paired_subset_sizes = 42\n",
      "weight_left = 0.7981830466727807\n",
      "np.sum(w_aug) = 85.0\n",
      "np.sum(self.kernelWeights) = 1.0\n",
      "phi = [-0.00166906 -0.00574216  0.          0.          0.          0.\n",
      "  0.00584561  0.          0.00463003 -0.00821259  0.          0.11158735\n",
      " -0.02883515  0.         -0.03385862  0.          0.          0.\n",
      "  0.00924385 -0.00803031  0.          0.          0.          0.00324659\n",
      "  0.          0.          0.          0.00765626  0.          0.\n",
      "  0.          0.          0.          0.         -0.01115235  0.\n",
      "  0.          0.          0.          0.          0.          0.\n",
      "  0.          0.          0.          0.          0.          0.\n",
      "  0.          0.          0.          0.          0.          0.\n",
      "  0.          0.         -0.00181513  0.          0.          0.\n",
      "  0.          0.00415409  0.          0.         -0.00317842  0.\n",
      "  0.          0.          0.          0.          0.         -0.00256857\n",
      "  0.01010359  0.          0.         -0.00549694 -0.00741555 -0.00237177\n",
      " -0.00841986 -0.02438362 -0.01929399  0.05650279  0.06446486  0.\n",
      "  0.        ]\n",
      "  4%|▍         | 1/25 [00:10<04:13, 10.56s/it]num_full_subsets = 1\n",
      "remaining_weight_vector = [0.12794589 0.08633747 0.06555252 0.05309754 0.04480805 0.0388993\n",
      " 0.03447893 0.0310512  0.02831869 0.02609216 0.02424545 0.02269126\n",
      " 0.02136722 0.02022764 0.01923824 0.01837285 0.01761113 0.01693702\n",
      " 0.01633771 0.01580284 0.01532397 0.01489412 0.01450753 0.01415935\n",
      " 0.01384551 0.01356259 0.01330766 0.01307821 0.01287213 0.01268759\n",
      " 0.01252301 0.01237705 0.01224857 0.01213658 0.01204026 0.01195891\n",
      " 0.01189195 0.01183892 0.01179945 0.01177329 0.01176025]\n",
      "num_paired_subset_sizes = 42\n",
      "weight_left = 0.7981830466727807\n",
      "np.sum(w_aug) = 84.99999999999999\n",
      "np.sum(self.kernelWeights) = 1.0\n",
      "phi = [0.         0.         0.         0.         0.00347999 0.03613109\n",
      " 0.01172422 0.00824594 0.00730884 0.         0.         0.14071251\n",
      " 0.15489013 0.         0.         0.         0.00696964 0.\n",
      " 0.         0.         0.00546761 0.         0.         0.00354177\n",
      " 0.         0.00404372 0.         0.00752291 0.         0.\n",
      " 0.         0.         0.         0.         0.         0.\n",
      " 0.         0.         0.00067528 0.         0.         0.\n",
      " 0.06539948 0.         0.         0.00154307 0.         0.\n",
      " 0.         0.         0.         0.         0.         0.\n",
      " 0.         0.         0.         0.         0.         0.00183828\n",
      " 0.         0.0007873  0.         0.         0.         0.\n",
      " 0.         0.         0.         0.         0.         0.\n",
      " 0.01189045 0.002286   0.         0.02440775 0.         0.\n",
      " 0.         0.         0.00388592 0.01119984 0.00161223 0.00760877\n",
      " 0.        ]\n",
      "  8%|▊         | 2/25 [00:20<03:59, 10.42s/it]num_full_subsets = 1\n",
      "remaining_weight_vector = [0.12794589 0.08633747 0.06555252 0.05309754 0.04480805 0.0388993\n",
      " 0.03447893 0.0310512  0.02831869 0.02609216 0.02424545 0.02269126\n",
      " 0.02136722 0.02022764 0.01923824 0.01837285 0.01761113 0.01693702\n",
      " 0.01633771 0.01580284 0.01532397 0.01489412 0.01450753 0.01415935\n",
      " 0.01384551 0.01356259 0.01330766 0.01307821 0.01287213 0.01268759\n",
      " 0.01252301 0.01237705 0.01224857 0.01213658 0.01204026 0.01195891\n",
      " 0.01189195 0.01183892 0.01179945 0.01177329 0.01176025]\n",
      "num_paired_subset_sizes = 42\n",
      "weight_left = 0.7981830466727807\n",
      "np.sum(w_aug) = 85.0\n",
      "np.sum(self.kernelWeights) = 1.0\n",
      "phi = [-0.00444235 -0.00502267 -0.01500721  0.          0.         -0.00385952\n",
      "  0.00696859  0.          0.00588476  0.         -0.02596149  0.11237112\n",
      " -0.03434066  0.         -0.03646402  0.         -0.04816964  0.\n",
      " -0.00396856  0.          0.          0.         -0.00136971 -0.01414189\n",
      "  0.          0.00379469  0.          0.00827954  0.         -0.0022045\n",
      "  0.          0.         -0.00111571  0.          0.          0.\n",
      "  0.          0.          0.          0.          0.          0.\n",
      "  0.          0.          0.          0.          0.          0.02595677\n",
      "  0.          0.          0.          0.          0.          0.\n",
      "  0.          0.          0.          0.          0.          0.\n",
      "  0.          0.          0.          0.         -0.00332747  0.\n",
      " -0.00211527  0.06162592  0.         -0.00266185  0.          0.\n",
      "  0.00449636  0.00329683  0.         -0.0064134   0.          0.\n",
      " -0.01854316  0.00279257  0.01526429  0.01702492  0.          0.\n",
      "  0.        ]\n",
      " 12%|█▏        | 3/25 [00:30<03:44, 10.21s/it]num_full_subsets = 1\n",
      "remaining_weight_vector = [0.12794589 0.08633747 0.06555252 0.05309754 0.04480805 0.0388993\n",
      " 0.03447893 0.0310512  0.02831869 0.02609216 0.02424545 0.02269126\n",
      " 0.02136722 0.02022764 0.01923824 0.01837285 0.01761113 0.01693702\n",
      " 0.01633771 0.01580284 0.01532397 0.01489412 0.01450753 0.01415935\n",
      " 0.01384551 0.01356259 0.01330766 0.01307821 0.01287213 0.01268759\n",
      " 0.01252301 0.01237705 0.01224857 0.01213658 0.01204026 0.01195891\n",
      " 0.01189195 0.01183892 0.01179945 0.01177329 0.01176025]\n",
      "num_paired_subset_sizes = 42\n",
      "weight_left = 0.7981830466727807\n",
      "np.sum(w_aug) = 85.0\n",
      "np.sum(self.kernelWeights) = 1.0\n",
      "phi = [ 0.          0.          0.          0.          0.          0.\n",
      "  0.0038834   0.          0.0040949   0.          0.          0.12574789\n",
      "  0.          0.          0.14477254  0.          0.00301872  0.\n",
      "  0.          0.          0.          0.          0.          0.\n",
      "  0.          0.          0.          0.          0.          0.\n",
      "  0.          0.          0.          0.          0.          0.\n",
      "  0.          0.          0.          0.          0.          0.\n",
      "  0.          0.          0.          0.          0.          0.\n",
      "  0.          0.00255417  0.          0.          0.          0.\n",
      "  0.          0.          0.          0.          0.          0.\n",
      "  0.          0.          0.          0.          0.          0.\n",
      "  0.          0.          0.          0.          0.          0.\n",
      "  0.         -0.03412983  0.          0.          0.          0.0342678\n",
      "  0.01270377  0.00307828  0.01799336  0.03591953  0.01850563  0.01252323\n",
      "  0.00187568]\n",
      " 16%|█▌        | 4/25 [00:40<03:31, 10.06s/it]num_full_subsets = 1\n",
      "remaining_weight_vector = [0.12794589 0.08633747 0.06555252 0.05309754 0.04480805 0.0388993\n",
      " 0.03447893 0.0310512  0.02831869 0.02609216 0.02424545 0.02269126\n",
      " 0.02136722 0.02022764 0.01923824 0.01837285 0.01761113 0.01693702\n",
      " 0.01633771 0.01580284 0.01532397 0.01489412 0.01450753 0.01415935\n",
      " 0.01384551 0.01356259 0.01330766 0.01307821 0.01287213 0.01268759\n",
      " 0.01252301 0.01237705 0.01224857 0.01213658 0.01204026 0.01195891\n",
      " 0.01189195 0.01183892 0.01179945 0.01177329 0.01176025]\n",
      "num_paired_subset_sizes = 42\n",
      "weight_left = 0.7981830466727807\n",
      "np.sum(w_aug) = 85.0\n",
      "np.sum(self.kernelWeights) = 0.9999999999999999\n",
      "phi = [ 0.          0.05161925  0.          0.          0.          0.\n",
      "  0.00770972  0.          0.00273544  0.00287681  0.          0.13334773\n",
      " -0.02075141  0.         -0.0237059   0.01666813  0.          0.\n",
      "  0.009579    0.          0.          0.          0.          0.00329266\n",
      "  0.          0.0028161   0.          0.00870484  0.          0.\n",
      "  0.          0.          0.01689347  0.          0.00341697  0.\n",
      "  0.          0.          0.          0.          0.          0.\n",
      "  0.          0.          0.          0.          0.          0.\n",
      "  0.          0.          0.          0.          0.          0.\n",
      "  0.          0.          0.          0.          0.          0.00355519\n",
      "  0.          0.00350125  0.          0.          0.          0.\n",
      "  0.          0.          0.          0.         -0.01614183  0.\n",
      "  0.00174606  0.          0.          0.          0.0011908   0.\n",
      "  0.00604235  0.01051711  0.01947435  0.06917607  0.0046012  -0.01387445\n",
      "  0.        ]\n",
      " 20%|██        | 5/25 [00:50<03:16,  9.81s/it]num_full_subsets = 1\n",
      "remaining_weight_vector = [0.12794589 0.08633747 0.06555252 0.05309754 0.04480805 0.0388993\n",
      " 0.03447893 0.0310512  0.02831869 0.02609216 0.02424545 0.02269126\n",
      " 0.02136722 0.02022764 0.01923824 0.01837285 0.01761113 0.01693702\n",
      " 0.01633771 0.01580284 0.01532397 0.01489412 0.01450753 0.01415935\n",
      " 0.01384551 0.01356259 0.01330766 0.01307821 0.01287213 0.01268759\n",
      " 0.01252301 0.01237705 0.01224857 0.01213658 0.01204026 0.01195891\n",
      " 0.01189195 0.01183892 0.01179945 0.01177329 0.01176025]\n",
      "num_paired_subset_sizes = 42\n",
      "weight_left = 0.7981830466727807\n",
      "np.sum(w_aug) = 85.0\n",
      "np.sum(self.kernelWeights) = 0.9999999999999999\n",
      "phi = [ 0.13250264  0.          0.00497055  0.          0.00484668  0.\n",
      "  0.00878432  0.          0.00268396  0.          0.          0.10278557\n",
      " -0.02398958  0.          0.06991811  0.          0.00535149  0.\n",
      "  0.          0.005125    0.          0.          0.          0.00566577\n",
      "  0.          0.          0.          0.00833694  0.          0.\n",
      "  0.          0.          0.          0.          0.00334638  0.\n",
      "  0.          0.          0.          0.          0.          0.\n",
      "  0.          0.          0.          0.          0.          0.\n",
      "  0.          0.          0.          0.          0.          0.\n",
      "  0.          0.          0.         -0.00941783  0.          0.\n",
      "  0.          0.00321783  0.          0.00201674  0.          0.00379796\n",
      "  0.          0.          0.          0.          0.0029738   0.\n",
      "  0.0068484  -0.01235111  0.          0.00499925  0.          0.\n",
      "  0.00362465  0.0246517  -0.02253601 -0.01498045  0.          0.\n",
      "  0.        ]\n",
      " 24%|██▍       | 6/25 [00:59<03:01,  9.57s/it]num_full_subsets = 1\n",
      "remaining_weight_vector = [0.12794589 0.08633747 0.06555252 0.05309754 0.04480805 0.0388993\n",
      " 0.03447893 0.0310512  0.02831869 0.02609216 0.02424545 0.02269126\n",
      " 0.02136722 0.02022764 0.01923824 0.01837285 0.01761113 0.01693702\n",
      " 0.01633771 0.01580284 0.01532397 0.01489412 0.01450753 0.01415935\n",
      " 0.01384551 0.01356259 0.01330766 0.01307821 0.01287213 0.01268759\n",
      " 0.01252301 0.01237705 0.01224857 0.01213658 0.01204026 0.01195891\n",
      " 0.01189195 0.01183892 0.01179945 0.01177329 0.01176025]\n",
      "num_paired_subset_sizes = 42\n",
      "weight_left = 0.7981830466727807\n",
      "np.sum(w_aug) = 85.0\n",
      "np.sum(self.kernelWeights) = 1.0\n",
      "phi = [-1.66519967e-03 -4.27966295e-03 -1.04934132e-02 -2.78799481e-03\n",
      "  0.00000000e+00  0.00000000e+00  0.00000000e+00 -6.50803824e-03\n",
      "  0.00000000e+00  0.00000000e+00  0.00000000e+00 -2.44168034e-01\n",
      " -2.98165564e-02  0.00000000e+00 -5.24878350e-02  0.00000000e+00\n",
      " -3.81967592e-03 -1.36220356e-03 -5.92159608e-03 -1.35722148e-03\n",
      "  0.00000000e+00  0.00000000e+00 -1.67124907e-03  0.00000000e+00\n",
      "  0.00000000e+00  0.00000000e+00  0.00000000e+00  0.00000000e+00\n",
      "  0.00000000e+00  0.00000000e+00  0.00000000e+00  0.00000000e+00\n",
      "  0.00000000e+00  0.00000000e+00  0.00000000e+00 -2.60252505e-03\n",
      " -1.08207229e-02 -8.03045319e-04  0.00000000e+00 -2.28842167e-03\n",
      "  0.00000000e+00  0.00000000e+00 -7.87739471e-04  0.00000000e+00\n",
      "  0.00000000e+00  0.00000000e+00 -1.40294084e-03  0.00000000e+00\n",
      "  0.00000000e+00  0.00000000e+00  0.00000000e+00  0.00000000e+00\n",
      "  0.00000000e+00  0.00000000e+00  0.00000000e+00 -4.15684259e-05\n",
      " -1.63402229e-03  0.00000000e+00  0.00000000e+00  0.00000000e+00\n",
      " -3.97980223e-04  0.00000000e+00  0.00000000e+00  0.00000000e+00\n",
      " -2.75471836e-03  0.00000000e+00 -1.89586814e-03  0.00000000e+00\n",
      "  0.00000000e+00  0.00000000e+00  0.00000000e+00 -2.48885055e-03\n",
      "  0.00000000e+00  0.00000000e+00  0.00000000e+00 -4.11462933e-03\n",
      "  0.00000000e+00 -1.01841283e-02 -3.86246207e-03  0.00000000e+00\n",
      " -3.66949252e-03 -2.50437802e-03  2.76546339e-02 -1.52806858e-02\n",
      " -6.97268319e-03]\n",
      " 28%|██▊       | 7/25 [01:08<02:49,  9.43s/it]num_full_subsets = 1\n",
      "remaining_weight_vector = [0.12794589 0.08633747 0.06555252 0.05309754 0.04480805 0.0388993\n",
      " 0.03447893 0.0310512  0.02831869 0.02609216 0.02424545 0.02269126\n",
      " 0.02136722 0.02022764 0.01923824 0.01837285 0.01761113 0.01693702\n",
      " 0.01633771 0.01580284 0.01532397 0.01489412 0.01450753 0.01415935\n",
      " 0.01384551 0.01356259 0.01330766 0.01307821 0.01287213 0.01268759\n",
      " 0.01252301 0.01237705 0.01224857 0.01213658 0.01204026 0.01195891\n",
      " 0.01189195 0.01183892 0.01179945 0.01177329 0.01176025]\n",
      "num_paired_subset_sizes = 42\n",
      "weight_left = 0.7981830466727807\n",
      "np.sum(w_aug) = 85.0\n",
      "np.sum(self.kernelWeights) = 1.0\n",
      "phi = [ 0.          0.06574562  0.          0.          0.00543453  0.\n",
      "  0.01080302  0.          0.00328066  0.00278996  0.0033115   0.10122934\n",
      " -0.01546326  0.          0.12632622  0.          0.00778026  0.\n",
      "  0.          0.          0.          0.          0.05361706  0.00788998\n",
      "  0.          0.          0.          0.          0.          0.\n",
      "  0.          0.          0.          0.          0.00570847  0.\n",
      "  0.          0.          0.          0.          0.          0.\n",
      "  0.          0.          0.          0.          0.02398425  0.\n",
      "  0.          0.          0.          0.          0.          0.\n",
      "  0.          0.          0.          0.          0.          0.\n",
      "  0.          0.00332657  0.          0.          0.          0.\n",
      "  0.          0.          0.          0.          0.          0.\n",
      "  0.01030524  0.         -0.04123845  0.          0.00344321  0.\n",
      "  0.          0.          0.         -0.02782874  0.          0.\n",
      "  0.        ]\n",
      " 32%|███▏      | 8/25 [01:17<02:40,  9.42s/it]num_full_subsets = 1\n",
      "remaining_weight_vector = [0.12794589 0.08633747 0.06555252 0.05309754 0.04480805 0.0388993\n",
      " 0.03447893 0.0310512  0.02831869 0.02609216 0.02424545 0.02269126\n",
      " 0.02136722 0.02022764 0.01923824 0.01837285 0.01761113 0.01693702\n",
      " 0.01633771 0.01580284 0.01532397 0.01489412 0.01450753 0.01415935\n",
      " 0.01384551 0.01356259 0.01330766 0.01307821 0.01287213 0.01268759\n",
      " 0.01252301 0.01237705 0.01224857 0.01213658 0.01204026 0.01195891\n",
      " 0.01189195 0.01183892 0.01179945 0.01177329 0.01176025]\n",
      "num_paired_subset_sizes = 42\n",
      "weight_left = 0.7981830466727807\n",
      "np.sum(w_aug) = 85.0\n",
      "np.sum(self.kernelWeights) = 1.0\n",
      "phi = [ 0.         -0.00808168 -0.01074016 -0.11831483  0.         -0.00516177\n",
      "  0.         -0.00132325 -0.01027124 -0.00261567  0.          0.08687936\n",
      " -0.02077483  0.          0.05405728  0.          0.          0.\n",
      "  0.          0.          0.          0.         -0.00520606  0.\n",
      "  0.          0.          0.          0.          0.          0.\n",
      "  0.          0.          0.          0.          0.          0.\n",
      " -0.00297932  0.          0.          0.         -0.00403915 -0.0024826\n",
      "  0.          0.          0.          0.          0.          0.\n",
      "  0.          0.          0.          0.         -0.00482197  0.\n",
      "  0.          0.          0.          0.          0.          0.\n",
      " -0.00137754  0.         -0.00432533  0.          0.          0.\n",
      " -0.00706328 -0.00693584 -0.00232916 -0.00320772  0.          0.\n",
      " -0.19355055 -0.00376505  0.          0.03100897  0.         -0.00394475\n",
      " -0.00785454 -0.00692669 -0.02314945 -0.02649308 -0.00684533 -0.00873749\n",
      "  0.        ]\n",
      " 36%|███▌      | 9/25 [01:26<02:29,  9.34s/it]num_full_subsets = 1\n",
      "remaining_weight_vector = [0.12794589 0.08633747 0.06555252 0.05309754 0.04480805 0.0388993\n",
      " 0.03447893 0.0310512  0.02831869 0.02609216 0.02424545 0.02269126\n",
      " 0.02136722 0.02022764 0.01923824 0.01837285 0.01761113 0.01693702\n",
      " 0.01633771 0.01580284 0.01532397 0.01489412 0.01450753 0.01415935\n",
      " 0.01384551 0.01356259 0.01330766 0.01307821 0.01287213 0.01268759\n",
      " 0.01252301 0.01237705 0.01224857 0.01213658 0.01204026 0.01195891\n",
      " 0.01189195 0.01183892 0.01179945 0.01177329 0.01176025]\n",
      "num_paired_subset_sizes = 42\n",
      "weight_left = 0.7981830466727807\n",
      "np.sum(w_aug) = 84.99999999999997\n",
      "np.sum(self.kernelWeights) = 1.0\n",
      "phi = [-0.00488647 -0.00740346 -0.01184787 -0.00095477 -0.0004775   0.\n",
      " -0.0198103  -0.00121595 -0.00168388  0.         -0.00099254 -0.18746817\n",
      " -0.03674293  0.         -0.03214167 -0.00197637  0.          0.\n",
      " -0.0017606   0.         -0.00191522  0.         -0.00267802  0.\n",
      " -0.00117178  0.          0.          0.          0.         -0.00047695\n",
      "  0.          0.          0.          0.          0.          0.\n",
      "  0.          0.          0.         -0.0031335   0.          0.\n",
      " -0.00371651  0.         -0.00105086  0.         -0.00153664 -0.00073876\n",
      "  0.          0.          0.          0.          0.          0.\n",
      " -0.0006371   0.         -0.00053867 -0.00084724  0.          0.\n",
      " -0.00072659  0.          0.          0.         -0.00136167  0.\n",
      " -0.00279578 -0.0025423   0.         -0.00230636  0.         -0.00237157\n",
      " -0.0372633   0.          0.         -0.00511497  0.         -0.00948871\n",
      " -0.01740198 -0.00535089 -0.01520939 -0.03444994 -0.00937083 -0.00326925\n",
      "  0.        ]\n",
      " 40%|████      | 10/25 [01:36<02:19,  9.31s/it]num_full_subsets = 1\n",
      "remaining_weight_vector = [0.12794589 0.08633747 0.06555252 0.05309754 0.04480805 0.0388993\n",
      " 0.03447893 0.0310512  0.02831869 0.02609216 0.02424545 0.02269126\n",
      " 0.02136722 0.02022764 0.01923824 0.01837285 0.01761113 0.01693702\n",
      " 0.01633771 0.01580284 0.01532397 0.01489412 0.01450753 0.01415935\n",
      " 0.01384551 0.01356259 0.01330766 0.01307821 0.01287213 0.01268759\n",
      " 0.01252301 0.01237705 0.01224857 0.01213658 0.01204026 0.01195891\n",
      " 0.01189195 0.01183892 0.01179945 0.01177329 0.01176025]\n",
      "num_paired_subset_sizes = 42\n",
      "weight_left = 0.7981830466727807\n",
      "np.sum(w_aug) = 85.0\n",
      "np.sum(self.kernelWeights) = 1.0\n",
      "phi = [-0.00550374 -0.01116481 -0.00654099 -0.08638386  0.          0.\n",
      "  0.          0.         -0.00345833  0.          0.          0.08797675\n",
      " -0.01804171  0.          0.07925892  0.          0.          0.\n",
      "  0.          0.          0.          0.         -0.00300762 -0.00171897\n",
      "  0.          0.          0.          0.          0.          0.\n",
      "  0.          0.          0.          0.02614071  0.          0.\n",
      "  0.         -0.0027132   0.          0.          0.          0.\n",
      " -0.00295783  0.          0.         -0.00254659  0.          0.\n",
      "  0.          0.          0.          0.          0.          0.\n",
      "  0.         -0.00290387  0.          0.          0.          0.\n",
      "  0.          0.          0.          0.          0.          0.\n",
      " -0.0074137   0.          0.         -0.00368875  0.          0.\n",
      " -0.16722029  0.          0.         -0.0059138   0.         -0.00516563\n",
      "  0.          0.         -0.01568308 -0.03926484  0.         -0.01527567\n",
      "  0.        ]\n",
      " 44%|████▍     | 11/25 [01:44<02:08,  9.16s/it]num_full_subsets = 1\n",
      "remaining_weight_vector = [0.12712321 0.08575772 0.06509321 0.05270962 0.04446697 0.03859097\n",
      " 0.03419453 0.03078482 0.02806616 0.02585041 0.02401216 0.0224646\n",
      " 0.02114574 0.02001013 0.01902372 0.01816046 0.01740012 0.01672674\n",
      " 0.01612757 0.01559231 0.01511255 0.01468135 0.01429295 0.01394255\n",
      " 0.01362607 0.01334009 0.01308169 0.01284836 0.01263798 0.0124487\n",
      " 0.01227895 0.01212735 0.01199276 0.01187415 0.01177067 0.01168159\n",
      " 0.01160631 0.01154431 0.01149518 0.01145861 0.01143436 0.01142228]\n",
      "num_paired_subset_sizes = 43\n",
      "weight_left = 0.7991752082777535\n",
      "np.sum(w_aug) = 86.99999999999997\n",
      "np.sum(self.kernelWeights) = 0.9999999999999996\n",
      "phi = [ 0.         -0.01067146  0.          0.          0.00626566  0.\n",
      "  0.02308192  0.          0.          0.          0.          0.1181878\n",
      " -0.02885204  0.          0.11839414  0.          0.00941148  0.\n",
      "  0.          0.          0.          0.          0.          0.\n",
      " -0.03108805  0.          0.          0.          0.          0.\n",
      "  0.          0.          0.          0.          0.          0.\n",
      "  0.          0.          0.          0.          0.          0.\n",
      "  0.          0.          0.          0.          0.          0.\n",
      "  0.          0.          0.          0.          0.          0.\n",
      "  0.          0.          0.          0.         -0.0120057   0.\n",
      "  0.          0.          0.          0.00515574  0.          0.\n",
      "  0.          0.          0.          0.          0.          0.\n",
      "  0.          0.          0.01631755  0.          0.          0.\n",
      "  0.00356316 -0.00743253  0.          0.          0.05989381 -0.03795786\n",
      "  0.          0.          0.        ]\n",
      " 48%|████▊     | 12/25 [01:52<01:53,  8.74s/it]num_full_subsets = 1\n",
      "remaining_weight_vector = [0.12794589 0.08633747 0.06555252 0.05309754 0.04480805 0.0388993\n",
      " 0.03447893 0.0310512  0.02831869 0.02609216 0.02424545 0.02269126\n",
      " 0.02136722 0.02022764 0.01923824 0.01837285 0.01761113 0.01693702\n",
      " 0.01633771 0.01580284 0.01532397 0.01489412 0.01450753 0.01415935\n",
      " 0.01384551 0.01356259 0.01330766 0.01307821 0.01287213 0.01268759\n",
      " 0.01252301 0.01237705 0.01224857 0.01213658 0.01204026 0.01195891\n",
      " 0.01189195 0.01183892 0.01179945 0.01177329 0.01176025]\n",
      "num_paired_subset_sizes = 42\n",
      "weight_left = 0.7981830466727807\n",
      "np.sum(w_aug) = 85.0\n",
      "np.sum(self.kernelWeights) = 1.0\n",
      "phi = [ 0.          0.          0.          0.          0.          0.\n",
      "  0.00703824  0.         -0.04526145  0.          0.          0.12648656\n",
      " -0.02329134  0.          0.10941637  0.          0.00321005  0.\n",
      "  0.01644537  0.00248523  0.          0.          0.          0.\n",
      "  0.          0.          0.          0.00667627  0.          0.\n",
      "  0.          0.          0.          0.          0.          0.\n",
      "  0.          0.          0.          0.          0.          0.\n",
      "  0.          0.          0.          0.          0.          0.\n",
      "  0.          0.00253198  0.          0.00214636  0.          0.\n",
      "  0.          0.          0.          0.          0.          0.00224017\n",
      "  0.          0.00394696  0.          0.          0.          0.\n",
      "  0.          0.          0.          0.          0.          0.02039033\n",
      "  0.          0.          0.          0.01947834  0.          0.\n",
      "  0.          0.00457429  0.01011355  0.          0.          0.\n",
      "  0.        ]\n",
      " 52%|█████▏    | 13/25 [02:02<01:48,  9.07s/it]num_full_subsets = 1\n",
      "remaining_weight_vector = [0.12794589 0.08633747 0.06555252 0.05309754 0.04480805 0.0388993\n",
      " 0.03447893 0.0310512  0.02831869 0.02609216 0.02424545 0.02269126\n",
      " 0.02136722 0.02022764 0.01923824 0.01837285 0.01761113 0.01693702\n",
      " 0.01633771 0.01580284 0.01532397 0.01489412 0.01450753 0.01415935\n",
      " 0.01384551 0.01356259 0.01330766 0.01307821 0.01287213 0.01268759\n",
      " 0.01252301 0.01237705 0.01224857 0.01213658 0.01204026 0.01195891\n",
      " 0.01189195 0.01183892 0.01179945 0.01177329 0.01176025]\n",
      "num_paired_subset_sizes = 42\n",
      "weight_left = 0.7981830466727807\n",
      "np.sum(w_aug) = 85.0\n",
      "np.sum(self.kernelWeights) = 1.0\n",
      "phi = [-0.00317475  0.04756514 -0.00593801 -0.00335595  0.          0.\n",
      "  0.          0.          0.          0.         -0.0035041  -0.25364492\n",
      " -0.04347164  0.         -0.06654004 -0.00237611  0.          0.\n",
      " -0.00527189 -0.00625766  0.          0.          0.          0.\n",
      "  0.          0.          0.          0.         -0.01695329  0.\n",
      "  0.          0.          0.          0.          0.          0.\n",
      "  0.          0.          0.         -0.00274918  0.          0.\n",
      " -0.00352428  0.          0.          0.          0.          0.\n",
      "  0.          0.          0.          0.          0.          0.\n",
      "  0.          0.          0.          0.          0.          0.\n",
      "  0.          0.          0.          0.         -0.00232591  0.\n",
      " -0.00184134  0.0266559   0.          0.          0.          0.\n",
      "  0.          0.          0.         -0.00227334  0.         -0.00688907\n",
      "  0.         -0.00997911 -0.005122    0.         -0.00585574  0.\n",
      "  0.        ]\n",
      " 56%|█████▌    | 14/25 [02:11<01:39,  9.00s/it]num_full_subsets = 1\n",
      "remaining_weight_vector = [0.12794589 0.08633747 0.06555252 0.05309754 0.04480805 0.0388993\n",
      " 0.03447893 0.0310512  0.02831869 0.02609216 0.02424545 0.02269126\n",
      " 0.02136722 0.02022764 0.01923824 0.01837285 0.01761113 0.01693702\n",
      " 0.01633771 0.01580284 0.01532397 0.01489412 0.01450753 0.01415935\n",
      " 0.01384551 0.01356259 0.01330766 0.01307821 0.01287213 0.01268759\n",
      " 0.01252301 0.01237705 0.01224857 0.01213658 0.01204026 0.01195891\n",
      " 0.01189195 0.01183892 0.01179945 0.01177329 0.01176025]\n",
      "num_paired_subset_sizes = 42\n",
      "weight_left = 0.7981830466727807\n",
      "np.sum(w_aug) = 85.0\n",
      "np.sum(self.kernelWeights) = 1.0\n",
      "phi = [ 0.          0.09923158  0.          0.          0.          0.\n",
      "  0.01589311  0.          0.00683378  0.          0.          0.1425718\n",
      " -0.019415    0.          0.12203457  0.          0.00571153  0.\n",
      "  0.          0.00567774  0.          0.          0.          0.\n",
      "  0.          0.          0.          0.          0.          0.\n",
      "  0.          0.          0.          0.          0.00356884  0.\n",
      "  0.          0.          0.          0.          0.          0.\n",
      "  0.          0.          0.          0.          0.          0.\n",
      "  0.          0.          0.          0.         -0.01403561  0.\n",
      "  0.          0.          0.          0.          0.          0.\n",
      "  0.          0.00558901  0.          0.          0.          0.00536521\n",
      "  0.          0.          0.          0.          0.0041183   0.\n",
      "  0.01100338  0.          0.          0.         -0.02589551  0.\n",
      "  0.00966072  0.          0.         -0.02746802  0.          0.\n",
      "  0.        ]\n",
      " 60%|██████    | 15/25 [02:19<01:27,  8.80s/it]num_full_subsets = 1\n",
      "remaining_weight_vector = [0.12794589 0.08633747 0.06555252 0.05309754 0.04480805 0.0388993\n",
      " 0.03447893 0.0310512  0.02831869 0.02609216 0.02424545 0.02269126\n",
      " 0.02136722 0.02022764 0.01923824 0.01837285 0.01761113 0.01693702\n",
      " 0.01633771 0.01580284 0.01532397 0.01489412 0.01450753 0.01415935\n",
      " 0.01384551 0.01356259 0.01330766 0.01307821 0.01287213 0.01268759\n",
      " 0.01252301 0.01237705 0.01224857 0.01213658 0.01204026 0.01195891\n",
      " 0.01189195 0.01183892 0.01179945 0.01177329 0.01176025]\n",
      "num_paired_subset_sizes = 42\n",
      "weight_left = 0.7981830466727807\n",
      "np.sum(w_aug) = 85.0\n",
      "np.sum(self.kernelWeights) = 0.9999999999999999\n",
      "phi = [ 0.00000000e+00  3.37374048e-02 -5.00214619e-03  0.00000000e+00\n",
      "  0.00000000e+00  0.00000000e+00  0.00000000e+00  0.00000000e+00\n",
      "  0.00000000e+00  0.00000000e+00  0.00000000e+00 -1.91282869e-01\n",
      " -4.37201098e-02  0.00000000e+00 -6.22292261e-02  0.00000000e+00\n",
      "  0.00000000e+00  0.00000000e+00 -4.95621368e-03 -5.15851313e-03\n",
      "  0.00000000e+00  0.00000000e+00 -2.01218301e-03  0.00000000e+00\n",
      "  0.00000000e+00  0.00000000e+00  0.00000000e+00 -6.68749674e-02\n",
      "  0.00000000e+00  0.00000000e+00  0.00000000e+00  0.00000000e+00\n",
      "  0.00000000e+00  0.00000000e+00  0.00000000e+00  0.00000000e+00\n",
      "  0.00000000e+00  0.00000000e+00  0.00000000e+00  0.00000000e+00\n",
      "  0.00000000e+00  0.00000000e+00 -3.37193091e-03  0.00000000e+00\n",
      "  0.00000000e+00  0.00000000e+00 -1.84159505e-03  0.00000000e+00\n",
      "  0.00000000e+00  0.00000000e+00  0.00000000e+00  0.00000000e+00\n",
      "  0.00000000e+00  0.00000000e+00  0.00000000e+00  0.00000000e+00\n",
      "  0.00000000e+00  1.29910408e-05  0.00000000e+00  0.00000000e+00\n",
      "  0.00000000e+00 -5.49600775e-02  0.00000000e+00  0.00000000e+00\n",
      " -2.24950976e-03  0.00000000e+00  0.00000000e+00  0.00000000e+00\n",
      "  0.00000000e+00  0.00000000e+00  0.00000000e+00 -1.02134568e-03\n",
      "  0.00000000e+00  0.00000000e+00  0.00000000e+00 -2.42542644e-03\n",
      "  0.00000000e+00 -5.01141940e-03 -7.35058956e-03 -1.34711496e-03\n",
      " -1.20289552e-02 -2.19885372e-02 -4.33520576e-03 -2.31882340e-03\n",
      "  0.00000000e+00]\n",
      " 64%|██████▍   | 16/25 [02:27<01:17,  8.63s/it]num_full_subsets = 1\n",
      "remaining_weight_vector = [0.12794589 0.08633747 0.06555252 0.05309754 0.04480805 0.0388993\n",
      " 0.03447893 0.0310512  0.02831869 0.02609216 0.02424545 0.02269126\n",
      " 0.02136722 0.02022764 0.01923824 0.01837285 0.01761113 0.01693702\n",
      " 0.01633771 0.01580284 0.01532397 0.01489412 0.01450753 0.01415935\n",
      " 0.01384551 0.01356259 0.01330766 0.01307821 0.01287213 0.01268759\n",
      " 0.01252301 0.01237705 0.01224857 0.01213658 0.01204026 0.01195891\n",
      " 0.01189195 0.01183892 0.01179945 0.01177329 0.01176025]\n",
      "num_paired_subset_sizes = 42\n",
      "weight_left = 0.7981830466727807\n",
      "np.sum(w_aug) = 85.0\n",
      "np.sum(self.kernelWeights) = 1.0\n",
      "phi = [ 0.          0.          0.          0.00349798  0.00163657  0.\n",
      "  0.00546308  0.00530141 -0.02524183  0.00197854  0.00366718  0.14729524\n",
      "  0.15939566  0.          0.          0.          0.00580384  0.\n",
      "  0.          0.01999724  0.          0.          0.          0.01115202\n",
      "  0.          0.0030219   0.          0.01145166  0.          0.\n",
      "  0.          0.          0.          0.          0.00297183  0.\n",
      "  0.          0.          0.          0.          0.          0.\n",
      "  0.          0.          0.          0.          0.          0.\n",
      "  0.          0.00256039  0.          0.          0.          0.\n",
      "  0.          0.          0.          0.          0.          0.\n",
      "  0.          0.          0.          0.          0.          0.00268962\n",
      "  0.          0.          0.          0.02280342  0.          0.\n",
      "  0.01587911  0.00382254  0.00180925  0.04483275  0.          0.\n",
      "  0.00516416  0.00438362  0.00263402  0.011933    0.00253131  0.00837358\n",
      "  0.        ]\n",
      " 68%|██████▊   | 17/25 [02:37<01:10,  8.80s/it]num_full_subsets = 1\n",
      "remaining_weight_vector = [0.12794589 0.08633747 0.06555252 0.05309754 0.04480805 0.0388993\n",
      " 0.03447893 0.0310512  0.02831869 0.02609216 0.02424545 0.02269126\n",
      " 0.02136722 0.02022764 0.01923824 0.01837285 0.01761113 0.01693702\n",
      " 0.01633771 0.01580284 0.01532397 0.01489412 0.01450753 0.01415935\n",
      " 0.01384551 0.01356259 0.01330766 0.01307821 0.01287213 0.01268759\n",
      " 0.01252301 0.01237705 0.01224857 0.01213658 0.01204026 0.01195891\n",
      " 0.01189195 0.01183892 0.01179945 0.01177329 0.01176025]\n",
      "num_paired_subset_sizes = 42\n",
      "weight_left = 0.7981830466727807\n",
      "np.sum(w_aug) = 85.0\n",
      "np.sum(self.kernelWeights) = 1.0\n",
      "phi = [ 0.         -0.00221269 -0.00462083  0.          0.          0.\n",
      "  0.01307698  0.          0.         -0.00706212 -0.00366282 -0.20428933\n",
      " -0.04406789  0.         -0.04742591  0.          0.          0.\n",
      "  0.03806894  0.          0.          0.         -0.00388634  0.\n",
      "  0.          0.          0.          0.          0.          0.\n",
      "  0.          0.          0.          0.069483    0.          0.\n",
      "  0.          0.          0.         -0.00230319  0.          0.\n",
      " -0.00193891  0.          0.          0.          0.          0.\n",
      "  0.          0.          0.          0.          0.          0.\n",
      "  0.          0.          0.          0.          0.          0.\n",
      "  0.          0.          0.          0.          0.          0.\n",
      " -0.00302645  0.          0.          0.          0.          0.04744385\n",
      "  0.          0.          0.          0.          0.         -0.0042764\n",
      " -0.00413943  0.         -0.00328051 -0.04287799 -0.0033528  -0.00793099\n",
      "  0.        ]\n",
      " 72%|███████▏  | 18/25 [02:46<01:02,  8.94s/it]num_full_subsets = 1\n",
      "remaining_weight_vector = [0.12794589 0.08633747 0.06555252 0.05309754 0.04480805 0.0388993\n",
      " 0.03447893 0.0310512  0.02831869 0.02609216 0.02424545 0.02269126\n",
      " 0.02136722 0.02022764 0.01923824 0.01837285 0.01761113 0.01693702\n",
      " 0.01633771 0.01580284 0.01532397 0.01489412 0.01450753 0.01415935\n",
      " 0.01384551 0.01356259 0.01330766 0.01307821 0.01287213 0.01268759\n",
      " 0.01252301 0.01237705 0.01224857 0.01213658 0.01204026 0.01195891\n",
      " 0.01189195 0.01183892 0.01179945 0.01177329 0.01176025]\n",
      "num_paired_subset_sizes = 42\n",
      "weight_left = 0.7981830466727807\n",
      "np.sum(w_aug) = 85.0\n",
      "np.sum(self.kernelWeights) = 1.0\n",
      "phi = [0.04677986 0.         0.00090002 0.         0.         0.\n",
      " 0.0126528  0.         0.00752127 0.00336103 0.00315408 0.14652449\n",
      " 0.15625128 0.         0.         0.         0.00261081 0.\n",
      " 0.         0.         0.00153922 0.         0.         0.\n",
      " 0.         0.00156284 0.         0.00863626 0.         0.\n",
      " 0.         0.         0.         0.         0.001895   0.\n",
      " 0.00124901 0.         0.         0.         0.         0.\n",
      " 0.         0.         0.         0.00039901 0.         0.03714873\n",
      " 0.         0.         0.         0.         0.         0.\n",
      " 0.         0.         0.         0.         0.         0.\n",
      " 0.         0.00263285 0.         0.         0.         0.02590344\n",
      " 0.00235589 0.         0.00249341 0.         0.         0.\n",
      " 0.00610111 0.         0.00211749 0.         0.         0.\n",
      " 0.00155353 0.         0.         0.0084512  0.00303815 0.00587323\n",
      " 0.00167882]\n",
      " 76%|███████▌  | 19/25 [02:54<00:52,  8.71s/it]num_full_subsets = 1\n",
      "remaining_weight_vector = [0.12794589 0.08633747 0.06555252 0.05309754 0.04480805 0.0388993\n",
      " 0.03447893 0.0310512  0.02831869 0.02609216 0.02424545 0.02269126\n",
      " 0.02136722 0.02022764 0.01923824 0.01837285 0.01761113 0.01693702\n",
      " 0.01633771 0.01580284 0.01532397 0.01489412 0.01450753 0.01415935\n",
      " 0.01384551 0.01356259 0.01330766 0.01307821 0.01287213 0.01268759\n",
      " 0.01252301 0.01237705 0.01224857 0.01213658 0.01204026 0.01195891\n",
      " 0.01189195 0.01183892 0.01179945 0.01177329 0.01176025]\n",
      "num_paired_subset_sizes = 42\n",
      "weight_left = 0.7981830466727807\n",
      "np.sum(w_aug) = 85.0\n",
      "np.sum(self.kernelWeights) = 1.0\n",
      "phi = [-0.00212425 -0.00631245 -0.00741321  0.          0.          0.\n",
      " -0.01789133  0.          0.          0.          0.         -0.16919225\n",
      " -0.04417209  0.         -0.06116993  0.          0.          0.\n",
      " -0.00262257 -0.00159395 -0.00249056 -0.00108595 -0.003119    0.\n",
      "  0.          0.         -0.00131776 -0.05812979  0.          0.\n",
      "  0.          0.          0.          0.          0.         -0.00068558\n",
      "  0.         -0.00128244  0.         -0.00274244 -0.00067973  0.\n",
      " -0.00277511  0.          0.          0.         -0.00143447  0.\n",
      "  0.          0.          0.          0.          0.          0.\n",
      "  0.          0.          0.          0.          0.          0.\n",
      "  0.          0.         -0.0069518   0.         -0.00199009  0.\n",
      "  0.         -0.00233517  0.         -0.00163334 -0.00374266  0.\n",
      "  0.          0.          0.          0.          0.         -0.00604991\n",
      " -0.01232525 -0.00386203 -0.01077735 -0.02827914 -0.00649651 -0.00387078\n",
      " -0.00027838]\n",
      " 80%|████████  | 20/25 [03:03<00:43,  8.63s/it]num_full_subsets = 1\n",
      "remaining_weight_vector = [0.12794589 0.08633747 0.06555252 0.05309754 0.04480805 0.0388993\n",
      " 0.03447893 0.0310512  0.02831869 0.02609216 0.02424545 0.02269126\n",
      " 0.02136722 0.02022764 0.01923824 0.01837285 0.01761113 0.01693702\n",
      " 0.01633771 0.01580284 0.01532397 0.01489412 0.01450753 0.01415935\n",
      " 0.01384551 0.01356259 0.01330766 0.01307821 0.01287213 0.01268759\n",
      " 0.01252301 0.01237705 0.01224857 0.01213658 0.01204026 0.01195891\n",
      " 0.01189195 0.01183892 0.01179945 0.01177329 0.01176025]\n",
      "num_paired_subset_sizes = 42\n",
      "weight_left = 0.7981830466727807\n",
      "np.sum(w_aug) = 85.0\n",
      "np.sum(self.kernelWeights) = 1.0\n",
      "phi = [ 0.         -0.00791511 -0.00309069  0.         -0.00272162  0.\n",
      " -0.04723436 -0.00275081  0.          0.          0.          0.1071567\n",
      " -0.04028355  0.         -0.05113865 -0.00233153 -0.04344485  0.\n",
      " -0.01738217 -0.01250192 -0.00573253  0.         -0.0014994  -0.00275802\n",
      "  0.          0.          0.          0.          0.          0.\n",
      "  0.          0.          0.         -0.00393279 -0.03652108  0.\n",
      "  0.          0.          0.          0.         -0.00224527 -0.00362158\n",
      "  0.          0.          0.          0.          0.          0.\n",
      "  0.          0.          0.         -0.00230001 -0.00194962  0.\n",
      "  0.          0.         -0.00459941  0.         -0.0014133   0.\n",
      " -0.00497433  0.          0.          0.         -0.00721631  0.\n",
      " -0.0027062  -0.00590799  0.          0.03321425  0.          0.\n",
      "  0.          0.          0.         -0.00465881  0.         -0.00318551\n",
      " -0.00497656 -0.03136988 -0.00464869 -0.01442489 -0.00661816  0.01038187\n",
      " -0.00316085]\n",
      " 84%|████████▍ | 21/25 [03:11<00:34,  8.70s/it]num_full_subsets = 1\n",
      "remaining_weight_vector = [0.12679607 0.08554916 0.06494433 0.05259689 0.04437863 0.03852033\n",
      " 0.0341374  0.03073844 0.02802861 0.02582029 0.02398845 0.02244651\n",
      " 0.02113268 0.02000163 0.01901941 0.01816005 0.01740338 0.0167335\n",
      " 0.01613768 0.01560567 0.01512908 0.01470099 0.01431569 0.01396835\n",
      " 0.01365496 0.01337209 0.01311684 0.01288672 0.01267961 0.01249369\n",
      " 0.0123274  0.01217938 0.0120485  0.01193375 0.0118343  0.01174944\n",
      " 0.01167859 0.01162124 0.01157703 0.01154566 0.01152692 0.01152068]\n",
      "num_paired_subset_sizes = 42\n",
      "weight_left = 0.7986833459821002\n",
      "np.sum(w_aug) = 86.0\n",
      "np.sum(self.kernelWeights) = 1.0\n",
      "phi = [ 0.          0.          0.06120717  0.          0.00360746  0.\n",
      "  0.00506021  0.          0.          0.          0.          0.11105033\n",
      "  0.07489668  0.         -0.020425    0.          0.          0.\n",
      "  0.00079805  0.          0.          0.          0.          0.\n",
      "  0.          0.0017877   0.          0.00632966  0.          0.\n",
      "  0.          0.          0.          0.          0.00475702  0.\n",
      "  0.00099048  0.          0.          0.          0.          0.\n",
      "  0.          0.          0.          0.          0.          0.\n",
      "  0.          0.         -0.19100138  0.          0.          0.\n",
      "  0.          0.          0.          0.          0.          0.\n",
      "  0.          0.          0.00585875  0.          0.          0.\n",
      "  0.          0.          0.          0.          0.          0.\n",
      "  0.          0.          0.          0.          0.          0.\n",
      "  0.          0.00868739  0.00757539  0.06017466  0.          0.\n",
      "  0.          0.        ]\n",
      " 88%|████████▊ | 22/25 [03:20<00:25,  8.59s/it]num_full_subsets = 1\n",
      "remaining_weight_vector = [0.12712321 0.08575772 0.06509321 0.05270962 0.04446697 0.03859097\n",
      " 0.03419453 0.03078482 0.02806616 0.02585041 0.02401216 0.0224646\n",
      " 0.02114574 0.02001013 0.01902372 0.01816046 0.01740012 0.01672674\n",
      " 0.01612757 0.01559231 0.01511255 0.01468135 0.01429295 0.01394255\n",
      " 0.01362607 0.01334009 0.01308169 0.01284836 0.01263798 0.0124487\n",
      " 0.01227895 0.01212735 0.01199276 0.01187415 0.01177067 0.01168159\n",
      " 0.01160631 0.01154431 0.01149518 0.01145861 0.01143436 0.01142228]\n",
      "num_paired_subset_sizes = 43\n",
      "weight_left = 0.7991752082777535\n",
      "np.sum(w_aug) = 86.99999999999996\n",
      "np.sum(self.kernelWeights) = 0.9999999999999996\n",
      "phi = [ 0.         -0.00357126 -0.00951175  0.          0.          0.\n",
      "  0.          0.          0.          0.          0.         -0.19432767\n",
      " -0.02635364  0.         -0.03630435  0.          0.          0.\n",
      " -0.00331914  0.01500692  0.          0.          0.          0.\n",
      "  0.          0.          0.          0.00666334  0.          0.\n",
      "  0.          0.          0.          0.          0.00466266  0.\n",
      "  0.          0.          0.          0.12429395  0.          0.\n",
      " -0.0037068   0.          0.          0.          0.          0.\n",
      "  0.          0.          0.          0.          0.          0.\n",
      "  0.          0.          0.          0.          0.          0.\n",
      "  0.          0.          0.          0.          0.          0.01735242\n",
      "  0.          0.          0.          0.          0.          0.\n",
      "  0.01296705  0.          0.          0.          0.         -0.00671795\n",
      "  0.         -0.02104677 -0.00927044 -0.00938309  0.          0.\n",
      " -0.00698802  0.          0.        ]\n",
      " 92%|█████████▏| 23/25 [03:28<00:17,  8.56s/it]num_full_subsets = 1\n",
      "remaining_weight_vector = [0.12794589 0.08633747 0.06555252 0.05309754 0.04480805 0.0388993\n",
      " 0.03447893 0.0310512  0.02831869 0.02609216 0.02424545 0.02269126\n",
      " 0.02136722 0.02022764 0.01923824 0.01837285 0.01761113 0.01693702\n",
      " 0.01633771 0.01580284 0.01532397 0.01489412 0.01450753 0.01415935\n",
      " 0.01384551 0.01356259 0.01330766 0.01307821 0.01287213 0.01268759\n",
      " 0.01252301 0.01237705 0.01224857 0.01213658 0.01204026 0.01195891\n",
      " 0.01189195 0.01183892 0.01179945 0.01177329 0.01176025]\n",
      "num_paired_subset_sizes = 42\n",
      "weight_left = 0.7981830466727807\n",
      "np.sum(w_aug) = 85.0\n",
      "np.sum(self.kernelWeights) = 1.0\n",
      "phi = [ 0.         -0.00757051  0.08511937  0.          0.          0.\n",
      "  0.          0.          0.          0.          0.          0.07201592\n",
      " -0.03740875  0.         -0.0467838   0.         -0.08111394  0.\n",
      "  0.         -0.00368759 -0.00594019  0.          0.          0.\n",
      "  0.         -0.1021855   0.          0.          0.          0.\n",
      "  0.          0.          0.          0.          0.          0.\n",
      "  0.          0.          0.          0.          0.          0.\n",
      "  0.          0.          0.          0.          0.         -0.00319424\n",
      " -0.00206072  0.          0.          0.          0.          0.\n",
      "  0.          0.          0.          0.          0.         -0.14585528\n",
      "  0.          0.          0.          0.         -0.00489077  0.\n",
      " -0.00430959  0.          0.          0.          0.          0.\n",
      " -0.03576224  0.          0.          0.          0.          0.\n",
      " -0.01466176 -0.00369267  0.         -0.03859272 -0.00534321  0.\n",
      "  0.        ]\n",
      " 96%|█████████▌| 24/25 [03:37<00:08,  8.76s/it]num_full_subsets = 1\n",
      "remaining_weight_vector = [0.12794589 0.08633747 0.06555252 0.05309754 0.04480805 0.0388993\n",
      " 0.03447893 0.0310512  0.02831869 0.02609216 0.02424545 0.02269126\n",
      " 0.02136722 0.02022764 0.01923824 0.01837285 0.01761113 0.01693702\n",
      " 0.01633771 0.01580284 0.01532397 0.01489412 0.01450753 0.01415935\n",
      " 0.01384551 0.01356259 0.01330766 0.01307821 0.01287213 0.01268759\n",
      " 0.01252301 0.01237705 0.01224857 0.01213658 0.01204026 0.01195891\n",
      " 0.01189195 0.01183892 0.01179945 0.01177329 0.01176025]\n",
      "num_paired_subset_sizes = 42\n",
      "weight_left = 0.7981830466727807\n",
      "np.sum(w_aug) = 85.0\n",
      "np.sum(self.kernelWeights) = 1.0\n",
      "phi = [0.05880171 0.         0.         0.         0.         0.\n",
      " 0.00246132 0.0044765  0.00568864 0.         0.00078435 0.11881621\n",
      " 0.11877546 0.         0.         0.         0.00393666 0.\n",
      " 0.         0.         0.         0.         0.         0.0030706\n",
      " 0.         0.00174335 0.0008525  0.00600188 0.         0.\n",
      " 0.         0.00617444 0.         0.         0.0033304  0.\n",
      " 0.         0.         0.         0.         0.         0.\n",
      " 0.         0.         0.         0.         0.         0.\n",
      " 0.         0.         0.         0.         0.         0.\n",
      " 0.         0.         0.         0.         0.         0.00251058\n",
      " 0.         0.00173029 0.00151746 0.         0.         0.00079251\n",
      " 0.         0.         0.         0.         0.00133469 0.02254656\n",
      " 0.00394351 0.         0.00352938 0.         0.         0.\n",
      " 0.01418104 0.01799088 0.         0.         0.         0.\n",
      " 0.        ]\n",
      "100%|██████████| 25/25 [03:46<00:00,  9.05s/it]\n",
      "Detected non-cloud environment.\n",
      "\n",
      "The dash_html_components package is deprecated. Please replace\n",
      "`import dash_html_components as html` with `from dash import html`\n",
      "\n",
      "The dash_core_components package is deprecated. Please replace\n",
      "`import dash_core_components as dcc` with `from dash import dcc`\n",
      "\n",
      "The dash_table package is deprecated. Please replace\n",
      "`import dash_table` with `from dash import dash_table`\n",
      "\n",
      "Also, if you're using any of the table format helpers (e.g. Group), replace \n",
      "`from dash_table.Format import Group` with \n",
      "`from dash.dash_table.Format import Group`\n",
      "Generating mini dash\n",
      "Generated mini dash\n"
     ]
    },
    {
     "data": {
      "text/html": [
       "<!-- http://127.0.0.1:7001/2741326989296/ -->\n",
       "<iframe src=\"http://127.0.0.1:7001/2741326989296/\" width=100% height=800 frameBorder=\"0\"></iframe>"
      ]
     },
     "metadata": {},
     "output_type": "display_data"
    }
   ],
   "source": [
    "shap_local = shap.explain_local(pd.DataFrame(xt)[:25], pd.DataFrame(yt)[:25])\n",
    "\n",
    "show(shap_local)"
   ]
  },
  {
   "cell_type": "markdown",
   "metadata": {},
   "source": [
    "#### Partial Dependence Plot Intro\n",
    "Partial dependence plots reveal the dependence between our target variable and any given feature.  "
   ]
  },
  {
   "cell_type": "code",
   "execution_count": 13,
   "metadata": {},
   "outputs": [],
   "source": [
    "pdp = PartialDependence(predict_fn=writingForest.predict_proba, data=pd.DataFrame(x, columns=names), num_points=100)"
   ]
  },
  {
   "cell_type": "code",
   "execution_count": 14,
   "metadata": {},
   "outputs": [
    {
     "name": "stderr",
     "output_type": "stream",
     "text": [
      "Generating mini dash\n",
      "Generated mini dash\n"
     ]
    },
    {
     "data": {
      "text/html": [
       "<!-- http://127.0.0.1:7001/2741335558320/ -->\n",
       "<iframe src=\"http://127.0.0.1:7001/2741335558320/\" width=100% height=800 frameBorder=\"0\"></iframe>"
      ]
     },
     "metadata": {},
     "output_type": "display_data"
    }
   ],
   "source": [
    "pdp_global = pdp.explain_global()\n",
    "\n",
    "show(pdp_global)"
   ]
  },
  {
   "cell_type": "markdown",
   "metadata": {},
   "source": [
    "### Generate predictions on true test dataset"
   ]
  },
  {
   "cell_type": "code",
   "execution_count": 24,
   "metadata": {},
   "outputs": [],
   "source": [
    "test_data.fillna(-99, inplace=True)"
   ]
  },
  {
   "cell_type": "code",
   "execution_count": 63,
   "metadata": {},
   "outputs": [],
   "source": [
    "# Create regression arrays\n",
    "_, Xtest = pt.dmatrices(\"TTP ~ C(iyear) + C(provstate) + multiple + success + suicide + attacktype1 + C(targtype1) + C(targsubtype1) + weaptype1 + weapsubtype1 + nkill + nkillus + nkillter + nwound + nwoundus + nwoundte + C(Month)\", data = test_data, return_type='dataframe')"
   ]
  },
  {
   "cell_type": "code",
   "execution_count": 48,
   "metadata": {},
   "outputs": [],
   "source": [
    "remove_cols = set(Xtest.columns) - set(names)\n",
    "add_cols = set(names) - set(Xtest.columns)"
   ]
  },
  {
   "cell_type": "code",
   "execution_count": 49,
   "metadata": {},
   "outputs": [],
   "source": [
    "for col in remove_cols:\n",
    "    del Xtest[col]\n",
    "for col in add_cols:\n",
    "    Xtest[col] = 0"
   ]
  },
  {
   "cell_type": "code",
   "execution_count": 58,
   "metadata": {},
   "outputs": [],
   "source": [
    "# Make predictions\n",
    "fpred = fclf.predict(Xtest)"
   ]
  },
  {
   "cell_type": "code",
   "execution_count": 59,
   "metadata": {},
   "outputs": [
    {
     "data": {
      "text/html": [
       "<div><div id=bbf0f54f-2026-4cd5-ab81-d02a2cc7c191 style=\"display:none; background-color:#9D6CFF; color:white; width:200px; height:30px; padding-left:5px; border-radius:4px; flex-direction:row; justify-content:space-around; align-items:center;\" onmouseover=\"this.style.backgroundColor='#BA9BF8'\" onmouseout=\"this.style.backgroundColor='#9D6CFF'\" onclick=\"window.commands?.execute('create-mitosheet-from-dataframe-output');\">See Full Dataframe in Mito</div> <script> if (window.commands.hasCommand('create-mitosheet-from-dataframe-output')) document.getElementById('bbf0f54f-2026-4cd5-ab81-d02a2cc7c191').style.display = 'flex' </script> <table border=\"1\" class=\"dataframe\">\n",
       "  <thead>\n",
       "    <tr style=\"text-align: right;\">\n",
       "      <th></th>\n",
       "      <th>eventid</th>\n",
       "      <th>TTP</th>\n",
       "    </tr>\n",
       "  </thead>\n",
       "  <tbody>\n",
       "    <tr>\n",
       "      <th>0</th>\n",
       "      <td>200712030005</td>\n",
       "      <td>1.0</td>\n",
       "    </tr>\n",
       "    <tr>\n",
       "      <th>1</th>\n",
       "      <td>200712040005</td>\n",
       "      <td>1.0</td>\n",
       "    </tr>\n",
       "    <tr>\n",
       "      <th>3</th>\n",
       "      <td>200712080003</td>\n",
       "      <td>1.0</td>\n",
       "    </tr>\n",
       "    <tr>\n",
       "      <th>4</th>\n",
       "      <td>200712090002</td>\n",
       "      <td>1.0</td>\n",
       "    </tr>\n",
       "    <tr>\n",
       "      <th>5</th>\n",
       "      <td>200712090004</td>\n",
       "      <td>1.0</td>\n",
       "    </tr>\n",
       "  </tbody>\n",
       "</table></div>"
      ],
      "text/plain": [
       "        eventid  TTP\n",
       "0  200712030005  1.0\n",
       "1  200712040005  1.0\n",
       "3  200712080003  1.0\n",
       "4  200712090002  1.0\n",
       "5  200712090004  1.0"
      ]
     },
     "execution_count": 59,
     "metadata": {},
     "output_type": "execute_result"
    }
   ],
   "source": [
    "pred_df = pd.DataFrame({'eventid':test_data['eventid'], 'TTP':fpred})\n",
    "pred_df.head()"
   ]
  },
  {
   "cell_type": "code",
   "execution_count": 60,
   "metadata": {},
   "outputs": [
    {
     "data": {
      "text/plain": [
       "0.9814167031045037"
      ]
     },
     "execution_count": 60,
     "metadata": {},
     "output_type": "execute_result"
    }
   ],
   "source": [
    "pred_df['TTP'].mean()"
   ]
  },
  {
   "cell_type": "code",
   "execution_count": 62,
   "metadata": {},
   "outputs": [
    {
     "name": "stderr",
     "output_type": "stream",
     "text": [
      "  0%|          | 0/25 [00:00<?, ?it/s]num_full_subsets = 1\n",
      "remaining_weight_vector = [0.12794589 0.08633747 0.06555252 0.05309754 0.04480805 0.0388993\n",
      " 0.03447893 0.0310512  0.02831869 0.02609216 0.02424545 0.02269126\n",
      " 0.02136722 0.02022764 0.01923824 0.01837285 0.01761113 0.01693702\n",
      " 0.01633771 0.01580284 0.01532397 0.01489412 0.01450753 0.01415935\n",
      " 0.01384551 0.01356259 0.01330766 0.01307821 0.01287213 0.01268759\n",
      " 0.01252301 0.01237705 0.01224857 0.01213658 0.01204026 0.01195891\n",
      " 0.01189195 0.01183892 0.01179945 0.01177329 0.01176025]\n",
      "num_paired_subset_sizes = 42\n",
      "weight_left = 0.7981830466727807\n",
      "np.sum(w_aug) = 85.0\n",
      "np.sum(self.kernelWeights) = 1.0\n",
      "phi = [ 0.          0.0474882  -0.00358359 -0.00358902  0.          0.02143533\n",
      " -0.0334779   0.          0.         -0.01997582  0.          0.14311526\n",
      " -0.03502283  0.         -0.04040655 -0.00252698  0.          0.\n",
      "  0.          0.          0.          0.          0.          0.\n",
      "  0.          0.          0.          0.00769948  0.          0.\n",
      "  0.          0.          0.          0.          0.00462455  0.\n",
      "  0.          0.          0.         -0.00255448  0.          0.\n",
      "  0.          0.          0.          0.          0.          0.\n",
      "  0.          0.          0.          0.          0.          0.\n",
      "  0.          0.          0.          0.          0.          0.\n",
      "  0.          0.          0.          0.          0.          0.\n",
      "  0.         -0.00391176  0.          0.          0.          0.\n",
      "  0.00828531  0.          0.         -0.00546696 -0.00937676 -0.00355641\n",
      "  0.02684885  0.          0.         -0.02742064  0.          0.\n",
      "  0.        ]\n",
      "  4%|▍         | 1/25 [00:06<02:32,  6.34s/it]num_full_subsets = 1\n",
      "remaining_weight_vector = [0.12794589 0.08633747 0.06555252 0.05309754 0.04480805 0.0388993\n",
      " 0.03447893 0.0310512  0.02831869 0.02609216 0.02424545 0.02269126\n",
      " 0.02136722 0.02022764 0.01923824 0.01837285 0.01761113 0.01693702\n",
      " 0.01633771 0.01580284 0.01532397 0.01489412 0.01450753 0.01415935\n",
      " 0.01384551 0.01356259 0.01330766 0.01307821 0.01287213 0.01268759\n",
      " 0.01252301 0.01237705 0.01224857 0.01213658 0.01204026 0.01195891\n",
      " 0.01189195 0.01183892 0.01179945 0.01177329 0.01176025]\n",
      "num_paired_subset_sizes = 42\n",
      "weight_left = 0.7981830466727807\n",
      "np.sum(w_aug) = 85.0\n",
      "np.sum(self.kernelWeights) = 1.0\n",
      "phi = [ 0.          0.04143478  0.05259602 -0.0050996   0.          0.01693081\n",
      " -0.02970936  0.         -0.03305695  0.          0.          0.14266593\n",
      " -0.03044877  0.         -0.02350425  0.          0.          0.\n",
      "  0.          0.          0.          0.          0.         -0.00395079\n",
      "  0.          0.00431488  0.          0.00967853  0.          0.\n",
      "  0.          0.          0.          0.          0.00732873  0.\n",
      "  0.          0.          0.          0.          0.          0.\n",
      " -0.00393789  0.          0.          0.          0.          0.\n",
      "  0.          0.          0.          0.          0.          0.\n",
      "  0.          0.         -0.00159288  0.          0.          0.\n",
      "  0.          0.0047946   0.          0.          0.          0.\n",
      "  0.          0.          0.         -0.00277071  0.         -0.00415557\n",
      "  0.00539876  0.00308349  0.         -0.00256919 -0.01168406 -0.00420932\n",
      "  0.01894201 -0.00401491 -0.00958511 -0.02279737  0.          0.\n",
      "  0.        ]\n",
      "  8%|▊         | 2/25 [00:11<02:12,  5.75s/it]num_full_subsets = 1\n",
      "remaining_weight_vector = [0.12794589 0.08633747 0.06555252 0.05309754 0.04480805 0.0388993\n",
      " 0.03447893 0.0310512  0.02831869 0.02609216 0.02424545 0.02269126\n",
      " 0.02136722 0.02022764 0.01923824 0.01837285 0.01761113 0.01693702\n",
      " 0.01633771 0.01580284 0.01532397 0.01489412 0.01450753 0.01415935\n",
      " 0.01384551 0.01356259 0.01330766 0.01307821 0.01287213 0.01268759\n",
      " 0.01252301 0.01237705 0.01224857 0.01213658 0.01204026 0.01195891\n",
      " 0.01189195 0.01183892 0.01179945 0.01177329 0.01176025]\n",
      "num_paired_subset_sizes = 42\n",
      "weight_left = 0.7981830466727807\n",
      "np.sum(w_aug) = 84.99999999999999\n",
      "np.sum(self.kernelWeights) = 1.0\n",
      "phi = [ 0.          0.          0.          0.          0.          0.02830659\n",
      "  0.0143623   0.          0.          0.          0.          0.15860339\n",
      " -0.02917665  0.         -0.01691645  0.          0.          0.\n",
      "  0.          0.          0.          0.          0.          0.\n",
      "  0.          0.          0.          0.00726399  0.          0.\n",
      "  0.          0.          0.          0.          0.00382031  0.\n",
      "  0.          0.          0.          0.          0.          0.\n",
      "  0.          0.          0.          0.          0.          0.\n",
      "  0.          0.          0.          0.          0.          0.\n",
      "  0.          0.          0.          0.          0.          0.\n",
      "  0.          0.00240297  0.          0.          0.          0.\n",
      "  0.          0.          0.          0.          0.          0.\n",
      "  0.0142751   0.00300731  0.          0.          0.          0.\n",
      "  0.02909217  0.          0.00756079 -0.02670182  0.          0.\n",
      "  0.        ]\n",
      " 12%|█▏        | 3/25 [00:18<02:12,  6.04s/it]num_full_subsets = 1\n",
      "remaining_weight_vector = [0.12794589 0.08633747 0.06555252 0.05309754 0.04480805 0.0388993\n",
      " 0.03447893 0.0310512  0.02831869 0.02609216 0.02424545 0.02269126\n",
      " 0.02136722 0.02022764 0.01923824 0.01837285 0.01761113 0.01693702\n",
      " 0.01633771 0.01580284 0.01532397 0.01489412 0.01450753 0.01415935\n",
      " 0.01384551 0.01356259 0.01330766 0.01307821 0.01287213 0.01268759\n",
      " 0.01252301 0.01237705 0.01224857 0.01213658 0.01204026 0.01195891\n",
      " 0.01189195 0.01183892 0.01179945 0.01177329 0.01176025]\n",
      "num_paired_subset_sizes = 42\n",
      "weight_left = 0.7981830466727807\n",
      "np.sum(w_aug) = 85.0\n",
      "np.sum(self.kernelWeights) = 1.0\n",
      "phi = [-0.00378509  0.0471528  -0.00468561 -0.00291632  0.          0.02095716\n",
      " -0.03275471  0.          0.         -0.01782165  0.          0.14222619\n",
      " -0.03505035  0.         -0.03893672  0.          0.          0.\n",
      "  0.         -0.00199393  0.          0.         -0.0017916  -0.00399757\n",
      "  0.          0.003477    0.          0.00860567  0.          0.\n",
      "  0.          0.          0.          0.          0.00468362  0.\n",
      "  0.          0.          0.         -0.00358514  0.          0.\n",
      " -0.00388954  0.          0.          0.          0.          0.\n",
      "  0.          0.          0.          0.          0.          0.\n",
      "  0.          0.          0.          0.          0.          0.0038164\n",
      "  0.          0.          0.          0.          0.          0.\n",
      "  0.         -0.00175277  0.          0.          0.         -0.00319934\n",
      "  0.00777242  0.          0.         -0.00570282 -0.00901298 -0.0020465\n",
      "  0.02797237  0.          0.         -0.02740702 -0.00215683  0.00445013\n",
      "  0.        ]\n",
      " 16%|█▌        | 4/25 [00:23<02:03,  5.87s/it]num_full_subsets = 1\n",
      "remaining_weight_vector = [0.12794589 0.08633747 0.06555252 0.05309754 0.04480805 0.0388993\n",
      " 0.03447893 0.0310512  0.02831869 0.02609216 0.02424545 0.02269126\n",
      " 0.02136722 0.02022764 0.01923824 0.01837285 0.01761113 0.01693702\n",
      " 0.01633771 0.01580284 0.01532397 0.01489412 0.01450753 0.01415935\n",
      " 0.01384551 0.01356259 0.01330766 0.01307821 0.01287213 0.01268759\n",
      " 0.01252301 0.01237705 0.01224857 0.01213658 0.01204026 0.01195891\n",
      " 0.01189195 0.01183892 0.01179945 0.01177329 0.01176025]\n",
      "num_paired_subset_sizes = 42\n",
      "weight_left = 0.7981830466727807\n",
      "np.sum(w_aug) = 85.0\n",
      "np.sum(self.kernelWeights) = 0.9999999999999999\n",
      "phi = [ 0.          0.02975248  0.         -0.01015586  0.          0.01119917\n",
      "  0.0117439   0.          0.00243722  0.          0.00372935  0.15947007\n",
      " -0.0306104   0.         -0.03493045  0.          0.          0.\n",
      "  0.          0.          0.          0.          0.          0.\n",
      "  0.          0.          0.          0.00695999  0.          0.\n",
      "  0.          0.          0.          0.          0.00334979  0.\n",
      "  0.          0.          0.          0.          0.          0.\n",
      "  0.          0.          0.          0.          0.          0.\n",
      "  0.          0.          0.          0.          0.          0.\n",
      "  0.          0.          0.          0.          0.          0.\n",
      "  0.          0.00390601  0.          0.          0.          0.\n",
      "  0.          0.          0.          0.          0.          0.\n",
      "  0.00886295  0.          0.          0.         -0.00595859  0.\n",
      "  0.01736516  0.          0.00350256 -0.02544241  0.          0.00435542\n",
      "  0.        ]\n",
      " 20%|██        | 5/25 [00:29<02:00,  6.01s/it]num_full_subsets = 1\n",
      "remaining_weight_vector = [0.12794589 0.08633747 0.06555252 0.05309754 0.04480805 0.0388993\n",
      " 0.03447893 0.0310512  0.02831869 0.02609216 0.02424545 0.02269126\n",
      " 0.02136722 0.02022764 0.01923824 0.01837285 0.01761113 0.01693702\n",
      " 0.01633771 0.01580284 0.01532397 0.01489412 0.01450753 0.01415935\n",
      " 0.01384551 0.01356259 0.01330766 0.01307821 0.01287213 0.01268759\n",
      " 0.01252301 0.01237705 0.01224857 0.01213658 0.01204026 0.01195891\n",
      " 0.01189195 0.01183892 0.01179945 0.01177329 0.01176025]\n",
      "num_paired_subset_sizes = 42\n",
      "weight_left = 0.7981830466727807\n",
      "np.sum(w_aug) = 85.0\n",
      "np.sum(self.kernelWeights) = 1.0\n",
      "phi = [ 0.          0.04331242  0.05240328 -0.00611722  0.          0.01850722\n",
      " -0.02419097  0.         -0.03015294 -0.01492229  0.          0.13959423\n",
      " -0.03185124  0.         -0.02821825  0.          0.          0.\n",
      "  0.          0.          0.          0.          0.         -0.00305982\n",
      "  0.          0.          0.          0.00744212  0.          0.\n",
      "  0.          0.          0.          0.          0.00892831  0.\n",
      "  0.          0.          0.          0.          0.          0.\n",
      " -0.00290266  0.          0.          0.          0.          0.\n",
      "  0.          0.          0.          0.          0.          0.\n",
      "  0.         -0.00079685  0.          0.          0.          0.\n",
      "  0.          0.          0.          0.          0.          0.\n",
      "  0.          0.          0.         -0.00261091  0.         -0.00370366\n",
      "  0.00478267  0.          0.          0.         -0.01138012 -0.00395352\n",
      "  0.01988842 -0.00400159 -0.00876496 -0.02233166  0.          0.\n",
      "  0.        ]\n",
      " 24%|██▍       | 6/25 [00:36<01:56,  6.13s/it]num_full_subsets = 1\n",
      "remaining_weight_vector = [0.12794589 0.08633747 0.06555252 0.05309754 0.04480805 0.0388993\n",
      " 0.03447893 0.0310512  0.02831869 0.02609216 0.02424545 0.02269126\n",
      " 0.02136722 0.02022764 0.01923824 0.01837285 0.01761113 0.01693702\n",
      " 0.01633771 0.01580284 0.01532397 0.01489412 0.01450753 0.01415935\n",
      " 0.01384551 0.01356259 0.01330766 0.01307821 0.01287213 0.01268759\n",
      " 0.01252301 0.01237705 0.01224857 0.01213658 0.01204026 0.01195891\n",
      " 0.01189195 0.01183892 0.01179945 0.01177329 0.01176025]\n",
      "num_paired_subset_sizes = 42\n",
      "weight_left = 0.7981830466727807\n",
      "np.sum(w_aug) = 85.0\n",
      "np.sum(self.kernelWeights) = 1.0\n",
      "phi = [ 0.          0.04312794  0.05117458 -0.00607677  0.          0.01787139\n",
      " -0.0296132   0.         -0.03257295  0.          0.          0.14096094\n",
      " -0.03101153  0.         -0.0242603   0.          0.          0.\n",
      "  0.         -0.0036435   0.          0.          0.         -0.00409495\n",
      "  0.          0.          0.          0.00848931  0.          0.\n",
      "  0.          0.          0.          0.          0.00874277  0.\n",
      "  0.          0.          0.         -0.0015176   0.          0.\n",
      " -0.00450896  0.          0.          0.          0.          0.\n",
      "  0.          0.          0.          0.          0.          0.\n",
      "  0.          0.          0.          0.          0.          0.\n",
      "  0.          0.00320176  0.          0.          0.          0.\n",
      "  0.          0.          0.          0.          0.          0.\n",
      "  0.00693201  0.          0.          0.         -0.01031236 -0.00492908\n",
      "  0.01872804 -0.00240345 -0.00813689 -0.02206539  0.          0.\n",
      "  0.        ]\n",
      " 28%|██▊       | 7/25 [00:42<01:48,  6.02s/it]num_full_subsets = 1\n",
      "remaining_weight_vector = [0.12794589 0.08633747 0.06555252 0.05309754 0.04480805 0.0388993\n",
      " 0.03447893 0.0310512  0.02831869 0.02609216 0.02424545 0.02269126\n",
      " 0.02136722 0.02022764 0.01923824 0.01837285 0.01761113 0.01693702\n",
      " 0.01633771 0.01580284 0.01532397 0.01489412 0.01450753 0.01415935\n",
      " 0.01384551 0.01356259 0.01330766 0.01307821 0.01287213 0.01268759\n",
      " 0.01252301 0.01237705 0.01224857 0.01213658 0.01204026 0.01195891\n",
      " 0.01189195 0.01183892 0.01179945 0.01177329 0.01176025]\n",
      "num_paired_subset_sizes = 42\n",
      "weight_left = 0.7981830466727807\n",
      "np.sum(w_aug) = 85.0\n",
      "np.sum(self.kernelWeights) = 1.0\n",
      "phi = [-0.00241159  0.04513467  0.05329846 -0.00550238  0.          0.018636\n",
      " -0.02452655  0.         -0.03021738 -0.01531957  0.          0.13758799\n",
      " -0.03195632  0.         -0.02633689  0.          0.          0.\n",
      "  0.         -0.00270743  0.          0.          0.         -0.00504197\n",
      "  0.          0.          0.          0.00804931  0.          0.\n",
      "  0.          0.          0.          0.          0.00699592  0.\n",
      "  0.          0.          0.          0.          0.          0.\n",
      " -0.00231146  0.          0.          0.          0.          0.\n",
      "  0.          0.          0.          0.          0.          0.\n",
      "  0.          0.          0.          0.          0.          0.\n",
      "  0.          0.          0.          0.          0.          0.\n",
      "  0.         -0.00214866  0.          0.          0.         -0.00255507\n",
      "  0.00439009  0.          0.         -0.00300163 -0.01258048  0.\n",
      "  0.01861924  0.         -0.008778   -0.02141631  0.          0.\n",
      "  0.        ]\n",
      " 32%|███▏      | 8/25 [00:48<01:45,  6.23s/it]num_full_subsets = 1\n",
      "remaining_weight_vector = [0.12794589 0.08633747 0.06555252 0.05309754 0.04480805 0.0388993\n",
      " 0.03447893 0.0310512  0.02831869 0.02609216 0.02424545 0.02269126\n",
      " 0.02136722 0.02022764 0.01923824 0.01837285 0.01761113 0.01693702\n",
      " 0.01633771 0.01580284 0.01532397 0.01489412 0.01450753 0.01415935\n",
      " 0.01384551 0.01356259 0.01330766 0.01307821 0.01287213 0.01268759\n",
      " 0.01252301 0.01237705 0.01224857 0.01213658 0.01204026 0.01195891\n",
      " 0.01189195 0.01183892 0.01179945 0.01177329 0.01176025]\n",
      "num_paired_subset_sizes = 42\n",
      "weight_left = 0.7981830466727807\n",
      "np.sum(w_aug) = 85.0\n",
      "np.sum(self.kernelWeights) = 1.0\n",
      "phi = [ 0.          0.04177379  0.0511074  -0.00650805  0.          0.01911071\n",
      " -0.03028264  0.         -0.03198183  0.          0.          0.14147102\n",
      " -0.02916949  0.         -0.02423179  0.          0.          0.\n",
      "  0.         -0.00343738  0.          0.          0.         -0.00375871\n",
      "  0.          0.          0.          0.00879533  0.          0.\n",
      "  0.          0.          0.          0.          0.0082524   0.\n",
      "  0.          0.          0.          0.          0.          0.\n",
      "  0.          0.          0.          0.          0.          0.\n",
      "  0.          0.          0.          0.          0.          0.\n",
      "  0.          0.          0.          0.          0.          0.\n",
      "  0.          0.          0.          0.          0.          0.\n",
      "  0.         -0.00258394  0.          0.          0.         -0.00281122\n",
      "  0.00648236  0.          0.          0.         -0.00970936 -0.00324883\n",
      "  0.01891315 -0.00377613 -0.00752314 -0.02280182  0.          0.\n",
      "  0.        ]\n",
      " 36%|███▌      | 9/25 [00:54<01:38,  6.14s/it]num_full_subsets = 1\n",
      "remaining_weight_vector = [0.12794589 0.08633747 0.06555252 0.05309754 0.04480805 0.0388993\n",
      " 0.03447893 0.0310512  0.02831869 0.02609216 0.02424545 0.02269126\n",
      " 0.02136722 0.02022764 0.01923824 0.01837285 0.01761113 0.01693702\n",
      " 0.01633771 0.01580284 0.01532397 0.01489412 0.01450753 0.01415935\n",
      " 0.01384551 0.01356259 0.01330766 0.01307821 0.01287213 0.01268759\n",
      " 0.01252301 0.01237705 0.01224857 0.01213658 0.01204026 0.01195891\n",
      " 0.01189195 0.01183892 0.01179945 0.01177329 0.01176025]\n",
      "num_paired_subset_sizes = 42\n",
      "weight_left = 0.7981830466727807\n",
      "np.sum(w_aug) = 85.0\n",
      "np.sum(self.kernelWeights) = 1.0\n",
      "phi = [-0.002747    0.04416553  0.05310282 -0.00472234  0.          0.02029391\n",
      " -0.02335516  0.         -0.02964574 -0.01531288  0.          0.13853411\n",
      " -0.03236648  0.         -0.02678652  0.          0.          0.\n",
      "  0.         -0.00214984  0.          0.         -0.00193411 -0.00340887\n",
      "  0.          0.          0.          0.00913615  0.          0.\n",
      "  0.          0.          0.          0.          0.00947397  0.\n",
      "  0.          0.          0.          0.          0.          0.\n",
      " -0.00308676  0.          0.          0.          0.          0.\n",
      "  0.          0.          0.          0.          0.          0.\n",
      "  0.          0.          0.          0.          0.          0.\n",
      "  0.          0.          0.          0.          0.          0.\n",
      "  0.          0.          0.          0.          0.         -0.00252755\n",
      "  0.          0.          0.         -0.0028533  -0.01032692 -0.00363133\n",
      "  0.01939658 -0.00430508 -0.0079631  -0.02108012  0.          0.\n",
      "  0.        ]\n",
      " 40%|████      | 10/25 [01:00<01:31,  6.09s/it]num_full_subsets = 1\n",
      "remaining_weight_vector = [0.12794589 0.08633747 0.06555252 0.05309754 0.04480805 0.0388993\n",
      " 0.03447893 0.0310512  0.02831869 0.02609216 0.02424545 0.02269126\n",
      " 0.02136722 0.02022764 0.01923824 0.01837285 0.01761113 0.01693702\n",
      " 0.01633771 0.01580284 0.01532397 0.01489412 0.01450753 0.01415935\n",
      " 0.01384551 0.01356259 0.01330766 0.01307821 0.01287213 0.01268759\n",
      " 0.01252301 0.01237705 0.01224857 0.01213658 0.01204026 0.01195891\n",
      " 0.01189195 0.01183892 0.01179945 0.01177329 0.01176025]\n",
      "num_paired_subset_sizes = 42\n",
      "weight_left = 0.7981830466727807\n",
      "np.sum(w_aug) = 85.0\n",
      "np.sum(self.kernelWeights) = 1.0\n",
      "phi = [-0.00314722  0.04219208 -0.00429444 -0.00877444  0.          0.02139475\n",
      " -0.03969947  0.          0.          0.          0.          0.14746103\n",
      " -0.03199177  0.         -0.03607961  0.          0.          0.\n",
      "  0.         -0.00200518  0.          0.          0.         -0.0043616\n",
      "  0.          0.00579726  0.          0.01088239  0.          0.\n",
      "  0.          0.          0.          0.          0.0039172   0.\n",
      "  0.          0.          0.          0.          0.          0.\n",
      " -0.00352918  0.          0.          0.          0.          0.\n",
      "  0.          0.          0.          0.          0.          0.\n",
      "  0.          0.          0.          0.          0.          0.\n",
      "  0.          0.          0.          0.         -0.00238119  0.\n",
      "  0.         -0.00374116  0.         -0.00262353  0.00388256  0.\n",
      "  0.01104718  0.          0.         -0.00571224 -0.00942489 -0.00399612\n",
      "  0.02728386  0.          0.         -0.02698609 -0.0024441   0.00414302\n",
      "  0.        ]\n",
      " 44%|████▍     | 11/25 [01:06<01:25,  6.12s/it]num_full_subsets = 1\n",
      "remaining_weight_vector = [0.12794589 0.08633747 0.06555252 0.05309754 0.04480805 0.0388993\n",
      " 0.03447893 0.0310512  0.02831869 0.02609216 0.02424545 0.02269126\n",
      " 0.02136722 0.02022764 0.01923824 0.01837285 0.01761113 0.01693702\n",
      " 0.01633771 0.01580284 0.01532397 0.01489412 0.01450753 0.01415935\n",
      " 0.01384551 0.01356259 0.01330766 0.01307821 0.01287213 0.01268759\n",
      " 0.01252301 0.01237705 0.01224857 0.01213658 0.01204026 0.01195891\n",
      " 0.01189195 0.01183892 0.01179945 0.01177329 0.01176025]\n",
      "num_paired_subset_sizes = 42\n",
      "weight_left = 0.7981830466727807\n",
      "np.sum(w_aug) = 85.0\n",
      "np.sum(self.kernelWeights) = 1.0\n",
      "phi = [-0.00235431  0.04959167 -0.00633422 -0.00269196  0.          0.02403649\n",
      " -0.02729205  0.         -0.03377431 -0.01737916  0.          0.13811243\n",
      " -0.03502152  0.         -0.03606492  0.          0.          0.\n",
      " -0.00222701 -0.00143968  0.         -0.00134747 -0.00102705 -0.00225263\n",
      "  0.          0.00296645  0.          0.00745233  0.          0.\n",
      "  0.          0.          0.          0.          0.00517513 -0.0019658\n",
      "  0.          0.          0.         -0.00232753  0.          0.\n",
      " -0.00314891  0.         -0.00170307  0.          0.          0.\n",
      "  0.          0.          0.          0.          0.          0.\n",
      "  0.          0.         -0.00192223  0.          0.          0.\n",
      "  0.          0.00417617  0.          0.         -0.00122259  0.\n",
      "  0.         -0.00214157  0.         -0.00223345  0.         -0.00290896\n",
      "  0.00672565  0.          0.         -0.00629399 -0.0072989  -0.00226244\n",
      "  0.02462565 -0.00108068 -0.00681529 -0.02427464 -0.0028829   0.\n",
      "  0.        ]\n",
      " 48%|████▊     | 12/25 [01:13<01:19,  6.14s/it]num_full_subsets = 1\n",
      "remaining_weight_vector = [0.12794589 0.08633747 0.06555252 0.05309754 0.04480805 0.0388993\n",
      " 0.03447893 0.0310512  0.02831869 0.02609216 0.02424545 0.02269126\n",
      " 0.02136722 0.02022764 0.01923824 0.01837285 0.01761113 0.01693702\n",
      " 0.01633771 0.01580284 0.01532397 0.01489412 0.01450753 0.01415935\n",
      " 0.01384551 0.01356259 0.01330766 0.01307821 0.01287213 0.01268759\n",
      " 0.01252301 0.01237705 0.01224857 0.01213658 0.01204026 0.01195891\n",
      " 0.01189195 0.01183892 0.01179945 0.01177329 0.01176025]\n",
      "num_paired_subset_sizes = 42\n",
      "weight_left = 0.7981830466727807\n",
      "np.sum(w_aug) = 85.0\n",
      "np.sum(self.kernelWeights) = 1.0\n",
      "phi = [ 0.          0.0355115   0.          0.          0.          0.0131575\n",
      "  0.00906613  0.          0.         -0.0299863   0.          0.15221516\n",
      " -0.03504904  0.         -0.03980483  0.          0.          0.\n",
      "  0.          0.          0.          0.          0.          0.\n",
      "  0.          0.          0.          0.00654306  0.          0.\n",
      "  0.          0.          0.          0.          0.0028537   0.\n",
      "  0.          0.          0.          0.          0.          0.\n",
      "  0.          0.          0.          0.          0.          0.\n",
      "  0.          0.          0.          0.          0.          0.\n",
      "  0.          0.          0.          0.          0.          0.\n",
      "  0.          0.          0.          0.          0.          0.\n",
      "  0.          0.          0.          0.          0.          0.\n",
      "  0.00564838  0.          0.          0.         -0.00809149  0.\n",
      "  0.01883411  0.          0.         -0.02278637  0.          0.00597031\n",
      "  0.        ]\n",
      " 52%|█████▏    | 13/25 [01:19<01:13,  6.15s/it]num_full_subsets = 1\n",
      "remaining_weight_vector = [0.12794589 0.08633747 0.06555252 0.05309754 0.04480805 0.0388993\n",
      " 0.03447893 0.0310512  0.02831869 0.02609216 0.02424545 0.02269126\n",
      " 0.02136722 0.02022764 0.01923824 0.01837285 0.01761113 0.01693702\n",
      " 0.01633771 0.01580284 0.01532397 0.01489412 0.01450753 0.01415935\n",
      " 0.01384551 0.01356259 0.01330766 0.01307821 0.01287213 0.01268759\n",
      " 0.01252301 0.01237705 0.01224857 0.01213658 0.01204026 0.01195891\n",
      " 0.01189195 0.01183892 0.01179945 0.01177329 0.01176025]\n",
      "num_paired_subset_sizes = 42\n",
      "weight_left = 0.7981830466727807\n",
      "np.sum(w_aug) = 85.0\n",
      "np.sum(self.kernelWeights) = 1.0\n",
      "phi = [-0.00514708  0.04056405 -0.00443292 -0.00787171  0.          0.01975834\n",
      " -0.04117831  0.          0.          0.00355368  0.          0.14675061\n",
      " -0.03424534  0.         -0.03356327  0.          0.          0.\n",
      "  0.          0.          0.          0.          0.         -0.0041366\n",
      "  0.          0.          0.00318316  0.01040326  0.          0.\n",
      "  0.          0.          0.          0.          0.00459993  0.\n",
      "  0.          0.          0.          0.          0.          0.\n",
      " -0.00336881  0.          0.          0.          0.          0.\n",
      "  0.          0.          0.          0.          0.          0.\n",
      "  0.          0.         -0.00324542  0.          0.          0.00420365\n",
      "  0.          0.00259876  0.          0.          0.          0.\n",
      "  0.         -0.00227612  0.          0.          0.         -0.00280783\n",
      "  0.00995495  0.00324037  0.         -0.0047097  -0.01124257 -0.00288948\n",
      "  0.0263752   0.          0.         -0.02789554 -0.00500255  0.00563638\n",
      "  0.        ]\n",
      " 56%|█████▌    | 14/25 [01:25<01:06,  6.07s/it]num_full_subsets = 1\n",
      "remaining_weight_vector = [0.12794589 0.08633747 0.06555252 0.05309754 0.04480805 0.0388993\n",
      " 0.03447893 0.0310512  0.02831869 0.02609216 0.02424545 0.02269126\n",
      " 0.02136722 0.02022764 0.01923824 0.01837285 0.01761113 0.01693702\n",
      " 0.01633771 0.01580284 0.01532397 0.01489412 0.01450753 0.01415935\n",
      " 0.01384551 0.01356259 0.01330766 0.01307821 0.01287213 0.01268759\n",
      " 0.01252301 0.01237705 0.01224857 0.01213658 0.01204026 0.01195891\n",
      " 0.01189195 0.01183892 0.01179945 0.01177329 0.01176025]\n",
      "num_paired_subset_sizes = 42\n",
      "weight_left = 0.7981830466727807\n",
      "np.sum(w_aug) = 85.0\n",
      "np.sum(self.kernelWeights) = 1.0\n",
      "phi = [-0.00324278  0.03820795 -0.00453504  0.          0.          0.01656684\n",
      "  0.00913051  0.          0.00401773 -0.02889974  0.          0.153535\n",
      " -0.0339134   0.         -0.03975864  0.          0.          0.\n",
      "  0.          0.          0.          0.          0.          0.\n",
      "  0.          0.00478055  0.          0.00771847  0.          0.\n",
      "  0.          0.          0.          0.          0.          0.\n",
      "  0.          0.          0.          0.          0.          0.\n",
      " -0.00405451  0.          0.          0.          0.          0.\n",
      "  0.          0.          0.          0.          0.          0.\n",
      "  0.          0.          0.          0.          0.          0.\n",
      "  0.          0.          0.          0.          0.          0.\n",
      "  0.          0.          0.          0.          0.          0.\n",
      "  0.00847638  0.          0.          0.         -0.00708857 -0.00355783\n",
      "  0.01917825 -0.0052615   0.         -0.02340424  0.          0.00618637\n",
      "  0.        ]\n",
      " 60%|██████    | 15/25 [01:31<01:02,  6.21s/it]num_full_subsets = 1\n",
      "remaining_weight_vector = [0.12794589 0.08633747 0.06555252 0.05309754 0.04480805 0.0388993\n",
      " 0.03447893 0.0310512  0.02831869 0.02609216 0.02424545 0.02269126\n",
      " 0.02136722 0.02022764 0.01923824 0.01837285 0.01761113 0.01693702\n",
      " 0.01633771 0.01580284 0.01532397 0.01489412 0.01450753 0.01415935\n",
      " 0.01384551 0.01356259 0.01330766 0.01307821 0.01287213 0.01268759\n",
      " 0.01252301 0.01237705 0.01224857 0.01213658 0.01204026 0.01195891\n",
      " 0.01189195 0.01183892 0.01179945 0.01177329 0.01176025]\n",
      "num_paired_subset_sizes = 42\n",
      "weight_left = 0.7981830466727807\n",
      "np.sum(w_aug) = 85.0\n",
      "np.sum(self.kernelWeights) = 1.0\n",
      "phi = [-0.00288355  0.04495524  0.05377236 -0.00581955  0.          0.01924735\n",
      " -0.02507898  0.         -0.0318425  -0.01565751  0.          0.13610996\n",
      " -0.03204298  0.         -0.02708189  0.          0.          0.\n",
      "  0.          0.          0.          0.          0.         -0.00433225\n",
      "  0.          0.          0.          0.00877658  0.          0.\n",
      "  0.          0.          0.          0.          0.00919632  0.\n",
      "  0.          0.          0.          0.          0.          0.\n",
      "  0.          0.          0.          0.          0.          0.\n",
      "  0.          0.          0.          0.          0.          0.\n",
      "  0.          0.         -0.00243313  0.          0.          0.\n",
      "  0.          0.          0.          0.          0.          0.\n",
      "  0.          0.          0.          0.          0.         -0.00264049\n",
      "  0.00398743  0.          0.          0.         -0.01273148 -0.00355247\n",
      "  0.02049809 -0.00517868 -0.00843003 -0.02093783  0.          0.\n",
      "  0.        ]\n",
      " 64%|██████▍   | 16/25 [01:37<00:54,  6.02s/it]num_full_subsets = 1\n",
      "remaining_weight_vector = [0.12794589 0.08633747 0.06555252 0.05309754 0.04480805 0.0388993\n",
      " 0.03447893 0.0310512  0.02831869 0.02609216 0.02424545 0.02269126\n",
      " 0.02136722 0.02022764 0.01923824 0.01837285 0.01761113 0.01693702\n",
      " 0.01633771 0.01580284 0.01532397 0.01489412 0.01450753 0.01415935\n",
      " 0.01384551 0.01356259 0.01330766 0.01307821 0.01287213 0.01268759\n",
      " 0.01252301 0.01237705 0.01224857 0.01213658 0.01204026 0.01195891\n",
      " 0.01189195 0.01183892 0.01179945 0.01177329 0.01176025]\n",
      "num_paired_subset_sizes = 42\n",
      "weight_left = 0.7981830466727807\n",
      "np.sum(w_aug) = 85.0\n",
      "np.sum(self.kernelWeights) = 1.0\n",
      "phi = [-0.00210257  0.0404013   0.0513872  -0.00727345  0.          0.01939129\n",
      " -0.02902204  0.         -0.03185506  0.          0.          0.14168283\n",
      " -0.0306795   0.         -0.02463759  0.          0.          0.\n",
      "  0.         -0.0035293   0.          0.         -0.00126597 -0.00295298\n",
      "  0.          0.00294482  0.          0.00901429  0.          0.\n",
      "  0.          0.          0.          0.          0.00866197  0.\n",
      "  0.          0.          0.         -0.00214287  0.          0.\n",
      " -0.00233349  0.          0.          0.          0.          0.\n",
      "  0.          0.          0.          0.          0.          0.\n",
      " -0.00235588  0.          0.          0.          0.          0.\n",
      "  0.          0.00307815  0.          0.          0.          0.\n",
      "  0.          0.          0.          0.          0.00520098 -0.00362398\n",
      "  0.00689033  0.00280999  0.         -0.00377866 -0.00980875 -0.00442579\n",
      "  0.01889442 -0.00292696 -0.00897726 -0.02258365  0.          0.\n",
      "  0.        ]\n",
      " 68%|██████▊   | 17/25 [01:41<00:44,  5.57s/it]num_full_subsets = 1\n",
      "remaining_weight_vector = [0.12794589 0.08633747 0.06555252 0.05309754 0.04480805 0.0388993\n",
      " 0.03447893 0.0310512  0.02831869 0.02609216 0.02424545 0.02269126\n",
      " 0.02136722 0.02022764 0.01923824 0.01837285 0.01761113 0.01693702\n",
      " 0.01633771 0.01580284 0.01532397 0.01489412 0.01450753 0.01415935\n",
      " 0.01384551 0.01356259 0.01330766 0.01307821 0.01287213 0.01268759\n",
      " 0.01252301 0.01237705 0.01224857 0.01213658 0.01204026 0.01195891\n",
      " 0.01189195 0.01183892 0.01179945 0.01177329 0.01176025]\n",
      "num_paired_subset_sizes = 42\n",
      "weight_left = 0.7981830466727807\n",
      "np.sum(w_aug) = 85.0\n",
      "np.sum(self.kernelWeights) = 1.0\n",
      "phi = [-0.0022271   0.04251203  0.05130608 -0.00627886  0.          0.01775343\n",
      " -0.02965077  0.         -0.03229315  0.          0.          0.14203383\n",
      " -0.0306524   0.         -0.02195055  0.          0.          0.\n",
      "  0.         -0.00235167  0.          0.          0.         -0.00445718\n",
      "  0.          0.00384507  0.          0.00879785  0.          0.\n",
      "  0.          0.          0.          0.          0.00680781  0.\n",
      "  0.          0.          0.          0.          0.          0.\n",
      " -0.0039652   0.          0.          0.          0.          0.\n",
      "  0.          0.          0.          0.          0.          0.\n",
      "  0.          0.         -0.00174832  0.          0.          0.\n",
      "  0.          0.00337274  0.          0.          0.          0.\n",
      " -0.00132486  0.          0.          0.          0.0045943  -0.00374556\n",
      "  0.00592333  0.          0.         -0.00260465 -0.01134926 -0.00372643\n",
      "  0.01932538 -0.00263327 -0.00813684 -0.02309398  0.          0.\n",
      "  0.        ]\n",
      " 72%|███████▏  | 18/25 [01:47<00:38,  5.49s/it]num_full_subsets = 1\n",
      "remaining_weight_vector = [0.12794589 0.08633747 0.06555252 0.05309754 0.04480805 0.0388993\n",
      " 0.03447893 0.0310512  0.02831869 0.02609216 0.02424545 0.02269126\n",
      " 0.02136722 0.02022764 0.01923824 0.01837285 0.01761113 0.01693702\n",
      " 0.01633771 0.01580284 0.01532397 0.01489412 0.01450753 0.01415935\n",
      " 0.01384551 0.01356259 0.01330766 0.01307821 0.01287213 0.01268759\n",
      " 0.01252301 0.01237705 0.01224857 0.01213658 0.01204026 0.01195891\n",
      " 0.01189195 0.01183892 0.01179945 0.01177329 0.01176025]\n",
      "num_paired_subset_sizes = 42\n",
      "weight_left = 0.7981830466727807\n",
      "np.sum(w_aug) = 84.99999999999999\n",
      "np.sum(self.kernelWeights) = 1.0\n",
      "phi = [ 0.          0.02912615 -0.00542395 -0.0103606   0.          0.01099876\n",
      "  0.01075945  0.          0.          0.          0.          0.1604626\n",
      " -0.03234673  0.         -0.03476519  0.          0.00131116  0.\n",
      "  0.          0.          0.          0.          0.          0.\n",
      "  0.          0.0035732   0.          0.00752571  0.          0.\n",
      "  0.          0.          0.          0.          0.00269684  0.\n",
      "  0.          0.          0.          0.          0.          0.\n",
      "  0.          0.          0.          0.          0.          0.\n",
      "  0.          0.          0.          0.          0.          0.\n",
      "  0.          0.          0.          0.          0.          0.\n",
      "  0.          0.          0.          0.          0.          0.\n",
      "  0.          0.          0.          0.          0.00185194  0.\n",
      "  0.00880404  0.00112663  0.          0.          0.          0.\n",
      "  0.02118729  0.          0.00280527 -0.02455887  0.          0.00476266\n",
      "  0.        ]\n",
      " 76%|███████▌  | 19/25 [01:54<00:36,  6.00s/it]num_full_subsets = 1\n",
      "remaining_weight_vector = [0.12794589 0.08633747 0.06555252 0.05309754 0.04480805 0.0388993\n",
      " 0.03447893 0.0310512  0.02831869 0.02609216 0.02424545 0.02269126\n",
      " 0.02136722 0.02022764 0.01923824 0.01837285 0.01761113 0.01693702\n",
      " 0.01633771 0.01580284 0.01532397 0.01489412 0.01450753 0.01415935\n",
      " 0.01384551 0.01356259 0.01330766 0.01307821 0.01287213 0.01268759\n",
      " 0.01252301 0.01237705 0.01224857 0.01213658 0.01204026 0.01195891\n",
      " 0.01189195 0.01183892 0.01179945 0.01177329 0.01176025]\n",
      "num_paired_subset_sizes = 42\n",
      "weight_left = 0.7981830466727807\n",
      "np.sum(w_aug) = 84.99999999999997\n",
      "np.sum(self.kernelWeights) = 1.0\n",
      "phi = [-0.00325128  0.04271878  0.05311134 -0.00507705  0.          0.01984601\n",
      " -0.02429213  0.         -0.03117516 -0.01488659  0.          0.13758027\n",
      " -0.03301555  0.         -0.02901294  0.          0.          0.\n",
      "  0.         -0.00317083  0.          0.          0.         -0.00407766\n",
      "  0.          0.          0.          0.00779392  0.          0.\n",
      "  0.          0.          0.          0.          0.00953706  0.\n",
      "  0.          0.          0.          0.          0.          0.\n",
      " -0.00327875  0.          0.          0.          0.          0.\n",
      "  0.          0.          0.          0.          0.          0.\n",
      "  0.          0.          0.          0.          0.          0.\n",
      "  0.          0.          0.          0.          0.          0.\n",
      "  0.          0.          0.          0.          0.         -0.00350393\n",
      "  0.00567977  0.00277812  0.         -0.00264901 -0.0131035   0.\n",
      "  0.0194408  -0.00322183 -0.00769289 -0.02117698  0.          0.\n",
      "  0.        ]\n",
      " 80%|████████  | 20/25 [01:59<00:28,  5.71s/it]num_full_subsets = 1\n",
      "remaining_weight_vector = [0.12794589 0.08633747 0.06555252 0.05309754 0.04480805 0.0388993\n",
      " 0.03447893 0.0310512  0.02831869 0.02609216 0.02424545 0.02269126\n",
      " 0.02136722 0.02022764 0.01923824 0.01837285 0.01761113 0.01693702\n",
      " 0.01633771 0.01580284 0.01532397 0.01489412 0.01450753 0.01415935\n",
      " 0.01384551 0.01356259 0.01330766 0.01307821 0.01287213 0.01268759\n",
      " 0.01252301 0.01237705 0.01224857 0.01213658 0.01204026 0.01195891\n",
      " 0.01189195 0.01183892 0.01179945 0.01177329 0.01176025]\n",
      "num_paired_subset_sizes = 42\n",
      "weight_left = 0.7981830466727807\n",
      "np.sum(w_aug) = 84.99999999999999\n",
      "np.sum(self.kernelWeights) = 1.0\n",
      "phi = [ 0.          0.04437489  0.05283016 -0.00536051  0.          0.01785135\n",
      " -0.02514678  0.         -0.03133694 -0.01453838  0.          0.1384257\n",
      " -0.03211374  0.         -0.02632768  0.          0.          0.\n",
      "  0.          0.          0.          0.          0.         -0.00305935\n",
      "  0.          0.          0.          0.00812378  0.          0.\n",
      "  0.         -0.00197746  0.          0.          0.00799762  0.\n",
      "  0.          0.          0.          0.          0.          0.\n",
      " -0.00252488  0.          0.          0.          0.          0.\n",
      "  0.          0.          0.          0.          0.          0.\n",
      "  0.          0.         -0.00248471  0.          0.          0.\n",
      "  0.          0.          0.          0.          0.          0.\n",
      " -0.0023831  -0.00233343  0.          0.          0.          0.\n",
      "  0.00540031  0.          0.         -0.0028674  -0.01131616 -0.00261394\n",
      "  0.02025678 -0.0041633  -0.00704019 -0.02177263  0.          0.\n",
      "  0.        ]\n",
      " 84%|████████▍ | 21/25 [02:04<00:22,  5.50s/it]num_full_subsets = 1\n",
      "remaining_weight_vector = [0.12794589 0.08633747 0.06555252 0.05309754 0.04480805 0.0388993\n",
      " 0.03447893 0.0310512  0.02831869 0.02609216 0.02424545 0.02269126\n",
      " 0.02136722 0.02022764 0.01923824 0.01837285 0.01761113 0.01693702\n",
      " 0.01633771 0.01580284 0.01532397 0.01489412 0.01450753 0.01415935\n",
      " 0.01384551 0.01356259 0.01330766 0.01307821 0.01287213 0.01268759\n",
      " 0.01252301 0.01237705 0.01224857 0.01213658 0.01204026 0.01195891\n",
      " 0.01189195 0.01183892 0.01179945 0.01177329 0.01176025]\n",
      "num_paired_subset_sizes = 42\n",
      "weight_left = 0.7981830466727807\n",
      "np.sum(w_aug) = 84.99999999999999\n",
      "np.sum(self.kernelWeights) = 1.0\n",
      "phi = [ 0.04971755  0.02299564 -0.00431385 -0.00582793  0.          0.01353358\n",
      " -0.03548606  0.          0.          0.          0.          0.15208836\n",
      " -0.02887255  0.         -0.03426427  0.          0.          0.\n",
      "  0.         -0.00267353  0.          0.          0.         -0.00312521\n",
      "  0.          0.          0.          0.00811967  0.          0.\n",
      "  0.          0.          0.          0.          0.00588429  0.\n",
      "  0.          0.          0.          0.          0.          0.\n",
      "  0.          0.          0.          0.          0.          0.\n",
      "  0.          0.          0.          0.          0.          0.\n",
      "  0.          0.          0.          0.          0.          0.\n",
      "  0.          0.00438747  0.          0.          0.          0.\n",
      "  0.          0.          0.          0.          0.00458029  0.\n",
      "  0.00713628  0.00354537  0.00227676 -0.00528463 -0.00819237 -0.00369626\n",
      "  0.02854144 -0.00369636 -0.00212707 -0.01943051  0.          0.00462935\n",
      "  0.        ]\n",
      " 88%|████████▊ | 22/25 [02:08<00:15,  5.05s/it]num_full_subsets = 1\n",
      "remaining_weight_vector = [0.12794589 0.08633747 0.06555252 0.05309754 0.04480805 0.0388993\n",
      " 0.03447893 0.0310512  0.02831869 0.02609216 0.02424545 0.02269126\n",
      " 0.02136722 0.02022764 0.01923824 0.01837285 0.01761113 0.01693702\n",
      " 0.01633771 0.01580284 0.01532397 0.01489412 0.01450753 0.01415935\n",
      " 0.01384551 0.01356259 0.01330766 0.01307821 0.01287213 0.01268759\n",
      " 0.01252301 0.01237705 0.01224857 0.01213658 0.01204026 0.01195891\n",
      " 0.01189195 0.01183892 0.01179945 0.01177329 0.01176025]\n",
      "num_paired_subset_sizes = 42\n",
      "weight_left = 0.7981830466727807\n",
      "np.sum(w_aug) = 85.0\n",
      "np.sum(self.kernelWeights) = 0.9999999999999999\n",
      "phi = [ 0.          0.02934017  0.         -0.01083175  0.          0.01446664\n",
      "  0.01061577  0.          0.00438848  0.          0.          0.15953914\n",
      " -0.02940871  0.         -0.03380433  0.          0.          0.\n",
      "  0.         -0.00445309  0.          0.          0.         -0.00417439\n",
      "  0.          0.00331663  0.          0.00683509  0.00270658  0.\n",
      "  0.          0.          0.          0.          0.00361136  0.\n",
      "  0.          0.          0.          0.          0.          0.\n",
      "  0.          0.          0.          0.          0.          0.\n",
      "  0.          0.          0.          0.          0.          0.\n",
      "  0.          0.          0.          0.00219934  0.          0.\n",
      "  0.          0.00464454  0.          0.          0.          0.\n",
      "  0.          0.          0.          0.          0.         -0.00335445\n",
      "  0.00939356  0.          0.          0.         -0.00572133  0.\n",
      "  0.02009939 -0.00552671  0.00460049 -0.02501336  0.          0.0060673\n",
      "  0.        ]\n",
      " 92%|█████████▏| 23/25 [02:12<00:09,  4.87s/it]num_full_subsets = 1\n",
      "remaining_weight_vector = [0.12794589 0.08633747 0.06555252 0.05309754 0.04480805 0.0388993\n",
      " 0.03447893 0.0310512  0.02831869 0.02609216 0.02424545 0.02269126\n",
      " 0.02136722 0.02022764 0.01923824 0.01837285 0.01761113 0.01693702\n",
      " 0.01633771 0.01580284 0.01532397 0.01489412 0.01450753 0.01415935\n",
      " 0.01384551 0.01356259 0.01330766 0.01307821 0.01287213 0.01268759\n",
      " 0.01252301 0.01237705 0.01224857 0.01213658 0.01204026 0.01195891\n",
      " 0.01189195 0.01183892 0.01179945 0.01177329 0.01176025]\n",
      "num_paired_subset_sizes = 42\n",
      "weight_left = 0.7981830466727807\n",
      "np.sum(w_aug) = 84.99999999999999\n",
      "np.sum(self.kernelWeights) = 1.0\n",
      "phi = [ 0.          0.02879469 -0.00669645 -0.01016386  0.          0.01317063\n",
      "  0.00956718  0.          0.          0.          0.          0.15947386\n",
      " -0.03190742  0.         -0.03491829  0.          0.          0.\n",
      "  0.          0.          0.          0.          0.          0.\n",
      "  0.          0.00464454  0.          0.00931249  0.          0.\n",
      "  0.          0.          0.          0.          0.0032069   0.\n",
      "  0.          0.          0.          0.          0.          0.\n",
      "  0.          0.          0.          0.          0.          0.\n",
      "  0.          0.00252054  0.          0.          0.          0.\n",
      "  0.          0.          0.          0.          0.          0.\n",
      "  0.          0.          0.          0.          0.          0.\n",
      "  0.          0.          0.          0.          0.          0.\n",
      "  0.00857811  0.00313574  0.          0.          0.          0.\n",
      "  0.0181955   0.          0.00378613 -0.02590159  0.          0.00473766\n",
      "  0.        ]\n",
      " 96%|█████████▌| 24/25 [02:17<00:04,  4.97s/it]num_full_subsets = 1\n",
      "remaining_weight_vector = [0.12794589 0.08633747 0.06555252 0.05309754 0.04480805 0.0388993\n",
      " 0.03447893 0.0310512  0.02831869 0.02609216 0.02424545 0.02269126\n",
      " 0.02136722 0.02022764 0.01923824 0.01837285 0.01761113 0.01693702\n",
      " 0.01633771 0.01580284 0.01532397 0.01489412 0.01450753 0.01415935\n",
      " 0.01384551 0.01356259 0.01330766 0.01307821 0.01287213 0.01268759\n",
      " 0.01252301 0.01237705 0.01224857 0.01213658 0.01204026 0.01195891\n",
      " 0.01189195 0.01183892 0.01179945 0.01177329 0.01176025]\n",
      "num_paired_subset_sizes = 42\n",
      "weight_left = 0.7981830466727807\n",
      "np.sum(w_aug) = 84.99999999999999\n",
      "np.sum(self.kernelWeights) = 1.0\n",
      "phi = [ 0.          0.04257918 -0.00416063 -0.00829197  0.          0.02048579\n",
      " -0.04120816  0.          0.00373642  0.          0.          0.14821058\n",
      " -0.03147148  0.         -0.03542805  0.          0.          0.\n",
      "  0.         -0.00342586  0.          0.          0.         -0.00587219\n",
      "  0.          0.00407155  0.          0.01067017  0.          0.\n",
      "  0.          0.          0.         -0.00112531  0.00424136  0.\n",
      "  0.          0.          0.         -0.00219051  0.          0.\n",
      " -0.00424821  0.          0.          0.          0.          0.\n",
      "  0.          0.          0.          0.         -0.00157281  0.\n",
      "  0.          0.          0.          0.          0.          0.00271769\n",
      "  0.          0.0040297   0.          0.          0.          0.\n",
      "  0.         -0.00343487  0.          0.          0.         -0.00286111\n",
      "  0.00830791  0.          0.         -0.00535046 -0.00883272 -0.00425964\n",
      "  0.02810533  0.         -0.00351688 -0.02792896  0.          0.00483324\n",
      "  0.        ]\n",
      "100%|██████████| 25/25 [02:22<00:00,  5.70s/it]\n",
      "Generating mini dash\n",
      "Generated mini dash\n"
     ]
    },
    {
     "data": {
      "text/html": [
       "<!-- http://127.0.0.1:7001/2741336940448/ -->\n",
       "<iframe src=\"http://127.0.0.1:7001/2741336940448/\" width=100% height=800 frameBorder=\"0\"></iframe>"
      ]
     },
     "metadata": {},
     "output_type": "display_data"
    },
    {
     "name": "stderr",
     "output_type": "stream",
     "text": [
      "No overall plot to display: -1|ShapKernel_2\n"
     ]
    }
   ],
   "source": [
    "shap_local = shap.explain_local(pd.DataFrame(Xtest)[:25])\n",
    "\n",
    "show(shap_local)"
   ]
  },
  {
   "cell_type": "code",
   "execution_count": null,
   "metadata": {},
   "outputs": [],
   "source": []
  }
 ],
 "metadata": {
  "interpreter": {
   "hash": "456d2a7118d35350561e2a2cece57887a28d81f04d055278ed4a029d882f7171"
  },
  "kernelspec": {
   "display_name": "Python 3.8.8 64-bit ('base': conda)",
   "language": "python",
   "name": "python3"
  },
  "language_info": {
   "codemirror_mode": {
    "name": "ipython",
    "version": 3
   },
   "file_extension": ".py",
   "mimetype": "text/x-python",
   "name": "python",
   "nbconvert_exporter": "python",
   "pygments_lexer": "ipython3",
   "version": "3.8.8"
  },
  "orig_nbformat": 4
 },
 "nbformat": 4,
 "nbformat_minor": 2
}
